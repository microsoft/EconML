{
 "cells": [
  {
   "cell_type": "markdown",
   "metadata": {},
   "source": [
    "<table border=\"0\">\n",
    "    <tr>\n",
    "        <td>\n",
    "            <img src=\"https://ictd2016.files.wordpress.com/2016/04/microsoft-research-logo-copy.jpg\" style=\"width 30px;\" />\n",
    "             </td>\n",
    "        <td>\n",
    "            <img src=\"https://www.microsoft.com/en-us/research/wp-content/uploads/2016/12/MSR-ALICE-HeaderGraphic-1920x720_1-800x550.jpg\" style=\"width 100px;\"/></td>\n",
    "        </tr>\n",
    "</table>"
   ]
  },
  {
   "cell_type": "markdown",
   "metadata": {},
   "source": [
    "# Double Machine Learning: Use Cases and Examples\n",
    "\n",
    "Double Machine Learning (DML) is an algorithm that applies arbitrary machine learning methods\n",
    "to fit the treatment and response, then uses a linear model to predict the response residuals\n",
    "from the treatment residuals.\n",
    "\n",
    "The EconML SDK implements the following DML classes:\n",
    "* DMLCateEstimator: suitable for estimating heterogeneous treatment effects.\n",
    "* SparseLinearDMLCateEstimator: suitable for the case when $W$ is high dimensional vector and both the first stage and second stage estimate are linear.\n",
    "\n",
    "In ths notebook, we show the performance of the DML on both synthetic data and observational data.\n",
    "\n",
    "**Notebook contents:**\n",
    "\n",
    "1. Example usage with single continuous treatment synthetic data\n",
    "2. Example usage with single binary treatment synthetic data\n",
    "3. Example usage with multiple continuous treatment synthetic data\n",
    "4. Example usage with single continuous treatment observational data\n",
    "5. Example usage with multiple continuous treatment, multiple outcome observational data"
   ]
  },
  {
   "cell_type": "code",
   "execution_count": 1,
   "metadata": {},
   "outputs": [],
   "source": [
    "%load_ext autoreload\n",
    "%autoreload 2"
   ]
  },
  {
   "cell_type": "code",
   "execution_count": 25,
   "metadata": {},
   "outputs": [],
   "source": [
    "import econml"
   ]
  },
  {
   "cell_type": "code",
   "execution_count": 26,
   "metadata": {},
   "outputs": [],
   "source": [
    "## Ignore warnings\n",
    "import warnings\n",
    "warnings.filterwarnings('ignore') "
   ]
  },
  {
   "cell_type": "code",
   "execution_count": 27,
   "metadata": {},
   "outputs": [],
   "source": [
    "# Main imports\n",
    "from econml.dml import LinearDMLCateEstimator,SparseLinearDMLCateEstimator  \n",
    "\n",
    "# Helper imports\n",
    "import numpy as np\n",
    "from itertools import product\n",
    "from sklearn.linear_model import Lasso, MultiTaskLasso, LassoCV, LogisticRegression, LogisticRegressionCV,LinearRegression,MultiTaskElasticNet,MultiTaskElasticNetCV\n",
    "from sklearn.ensemble import RandomForestRegressor,RandomForestClassifier,GradientBoostingRegressor\n",
    "from sklearn.preprocessing import PolynomialFeatures\n",
    "import matplotlib.pyplot as plt\n",
    "import matplotlib\n",
    "from sklearn.multioutput import MultiOutputRegressor\n",
    "\n",
    "%matplotlib inline"
   ]
  },
  {
   "cell_type": "code",
   "execution_count": 90,
   "metadata": {},
   "outputs": [
    {
     "data": {
      "image/png": "[encoded data removed]",
      "text/plain": [
       "<Figure size 1080x360 with 3 Axes>"
      ]
     },
     "metadata": {
      "needs_background": "light"
     },
     "output_type": "display_data"
    },
    {
     "data": {
      "image/png": "[encoded data removed]",
      "text/plain": [
       "<Figure size 1080x360 with 3 Axes>"
      ]
     },
     "metadata": {
      "needs_background": "light"
     },
     "output_type": "display_data"
    }
   ],
   "source": [
    "from econml.utilities import WeightedKFold\n",
    "import numpy as np\n",
    "def experiment():\n",
    "    weight_mass = []\n",
    "    len_mass = []\n",
    "    for _ in range(1):\n",
    "        n_samples= 1000\n",
    "        X = np.random.normal(0, 1, size=(n_samples,1))\n",
    "        y = np.random.normal(0, 1, size=(n_samples,))\n",
    "        sample_weight = np.random.choice(10, size=n_samples)\n",
    "        sample_weight = sample_weight\n",
    "        total_weight = np.sum(sample_weight)\n",
    "        n_splits = 3\n",
    "        wkf = WeightedKFold(n_splits=n_splits, tol=.1)\n",
    "        weight_mass.append([])\n",
    "        len_mass.append([])\n",
    "        for train_index, test_index in wkf.split(X, y, sample_weight=sample_weight):\n",
    "            len_mass[-1].append(len(test_index)/n_samples)\n",
    "            weight_mass[-1].append(np.sum(sample_weight[test_index])/total_weight)\n",
    "    \n",
    "    return weight_mass, len_mass\n",
    "\n",
    "weight_mass, len_mass = experiment()\n",
    "plt.figure(figsize=(15,5))\n",
    "for it in range(n_splits):\n",
    "    plt.subplot(1, n_splits, it+1)\n",
    "    plt.hist(np.array(len_mass)[:, it], label='{}'.format(it))\n",
    "    plt.title(\"{:.3f}\".format(np.mean(np.array(len_mass)[:, it])))\n",
    "plt.show()\n",
    "plt.figure(figsize=(15,5))\n",
    "for it in range(n_splits):\n",
    "    plt.subplot(1, n_splits, it+1)\n",
    "    plt.hist(np.array(weight_mass)[:, it], label='{}'.format(it))\n",
    "    plt.title(\"{:.3f}\".format(np.mean(np.array(weight_mass)[:, it])))\n",
    "plt.show()"
   ]
  },
  {
   "cell_type": "code",
   "execution_count": 91,
   "metadata": {},
   "outputs": [
    {
     "name": "stdout",
     "output_type": "stream",
     "text": [
      "[[1, []], [3, []], [7, []]]\n"
     ]
    }
   ],
   "source": [
    "kf = WeightedKFold()\n",
    "L = [[1, []], [2, []], [3, []], [7, []], [11, []]]\n",
    "kf._trim(L, .5)\n",
    "print(L)"
   ]
  },
  {
   "cell_type": "code",
   "execution_count": 93,
   "metadata": {},
   "outputs": [
    {
     "name": "stdout",
     "output_type": "stream",
     "text": [
      "         5695291 function calls in 52.368 seconds\n",
      "\n",
      "   Ordered by: standard name\n",
      "\n",
      "   ncalls  tottime  percall  cumtime  percall filename:lineno(function)\n",
      "        1    0.000    0.000   52.368   52.368 <ipython-input-90-e5acea873556>:3(experiment)\n",
      "        1    0.000    0.000   52.368   52.368 <string>:1(<module>)\n",
      "        2    0.000    0.000    0.000    0.000 __init__.py:489(cast)\n",
      "        2    0.000    0.000    0.000    0.000 _internal.py:257(__init__)\n",
      "        2    0.000    0.000    0.000    0.000 _internal.py:260(__array_interface__)\n",
      "        2    0.000    0.000    0.000    0.000 _internal.py:272(_get_void_ptr)\n",
      "        2    0.000    0.000    0.000    0.000 _internal.py:289(__init__)\n",
      "        2    0.000    0.000    0.000    0.000 _internal.py:338(data)\n",
      "       10    0.000    0.000    0.000    0.000 arraysetops.py:138(_unpack_tuple)\n",
      "       10    0.000    0.000    0.000    0.000 arraysetops.py:151(unique)\n",
      "       10    0.000    0.000    0.000    0.000 arraysetops.py:299(_unique1d)\n",
      "        5    0.000    0.000    0.000    0.000 arraysetops.py:484(in1d)\n",
      "        5    0.000    0.000    0.001    0.000 arraysetops.py:745(setdiff1d)\n",
      "        5    0.000    0.000    0.000    0.000 fromnumeric.py:1966(sum)\n",
      "        1    0.000    0.000    0.000    0.000 fromnumeric.py:2083(any)\n",
      "        1    0.000    0.000    0.000    0.000 fromnumeric.py:2664(prod)\n",
      "        7    0.000    0.000    0.000    0.000 fromnumeric.py:69(_wrapreduction)\n",
      "        7    0.000    0.000    0.000    0.000 fromnumeric.py:70(<dictcomp>)\n",
      "       12    0.000    0.000    0.000    0.000 numeric.py:469(asarray)\n",
      "       20    0.000    0.000    0.000    0.000 numeric.py:541(asanyarray)\n",
      "        1    0.000    0.000    0.000    0.000 utilities.py:899(__init__)\n",
      "     1642   31.456    0.019   32.649    0.020 utilities.py:905(_merge_sorted)\n",
      "        2    1.520    0.760   52.362   26.181 utilities.py:928(_approx_subset_sum)\n",
      "     1642    4.267    0.003    4.267    0.003 utilities.py:932(<listcomp>)\n",
      "        1    0.004    0.004   52.367   52.367 utilities.py:935(split)\n",
      "        2    0.000    0.000    0.000    0.000 {built-in method _ctypes.pointer}\n",
      "        1    0.000    0.000   52.368   52.368 {built-in method builtins.exec}\n",
      "        1    0.000    0.000    0.000    0.000 {built-in method builtins.getattr}\n",
      "        5    0.000    0.000    0.000    0.000 {built-in method builtins.isinstance}\n",
      "  3790092    0.266    0.000    0.266    0.000 {built-in method builtins.len}\n",
      "        2    0.000    0.000    0.000    0.000 {built-in method numpy.arange}\n",
      "     3318   14.557    0.004   14.557    0.004 {built-in method numpy.array}\n",
      "       10    0.000    0.000    0.000    0.000 {built-in method numpy.concatenate}\n",
      "       15    0.000    0.000    0.000    0.000 {built-in method numpy.empty}\n",
      "  1896752    0.164    0.000    0.164    0.000 {method 'append' of 'list' objects}\n",
      "        5    0.000    0.000    0.000    0.000 {method 'argsort' of 'numpy.ndarray' objects}\n",
      "     1642    0.133    0.000    0.133    0.000 {method 'binomial' of 'mtrand.RandomState' objects}\n",
      "        1    0.000    0.000    0.000    0.000 {method 'choice' of 'mtrand.RandomState' objects}\n",
      "        1    0.000    0.000    0.000    0.000 {method 'disable' of '_lsprof.Profiler' objects}\n",
      "       10    0.000    0.000    0.000    0.000 {method 'flatten' of 'numpy.ndarray' objects}\n",
      "        2    0.000    0.000    0.000    0.000 {method 'from_buffer' of '_ctypes.PyCArrayType' objects}\n",
      "        7    0.000    0.000    0.000    0.000 {method 'items' of 'dict' objects}\n",
      "        2    0.000    0.000    0.000    0.000 {method 'normal' of 'mtrand.RandomState' objects}\n",
      "       10    0.000    0.000    0.000    0.000 {method 'ravel' of 'numpy.ndarray' objects}\n",
      "        7    0.000    0.000    0.000    0.000 {method 'reduce' of 'numpy.ufunc' objects}\n",
      "        1    0.000    0.000    0.000    0.000 {method 'shuffle' of 'mtrand.RandomState' objects}\n",
      "       10    0.000    0.000    0.000    0.000 {method 'sort' of 'numpy.ndarray' objects}\n",
      "\n",
      "\n"
     ]
    }
   ],
   "source": [
    "import cProfile\n",
    "import re\n",
    "cProfile.run('experiment()')"
   ]
  },
  {
   "cell_type": "code",
   "execution_count": 80,
   "metadata": {},
   "outputs": [
    {
     "name": "stdout",
     "output_type": "stream",
     "text": [
      "         2707484 function calls in 8.224 seconds\n",
      "\n",
      "   Ordered by: standard name\n",
      "\n",
      "   ncalls  tottime  percall  cumtime  percall filename:lineno(function)\n",
      "        1    0.001    0.001    8.224    8.224 <ipython-input-76-97ef6e3f075a>:3(experiment)\n",
      "        1    0.000    0.000    8.224    8.224 <string>:1(<module>)\n",
      "      200    0.000    0.000    0.000    0.000 arraysetops.py:138(_unpack_tuple)\n",
      "      200    0.001    0.000    0.004    0.000 arraysetops.py:151(unique)\n",
      "      200    0.002    0.000    0.003    0.000 arraysetops.py:299(_unique1d)\n",
      "      100    0.001    0.000    0.003    0.000 arraysetops.py:484(in1d)\n",
      "      100    0.001    0.000    0.008    0.000 arraysetops.py:745(setdiff1d)\n",
      "      100    0.000    0.000    0.001    0.000 fromnumeric.py:1966(sum)\n",
      "       20    0.000    0.000    0.000    0.000 fromnumeric.py:2083(any)\n",
      "       20    0.000    0.000    0.000    0.000 fromnumeric.py:2664(prod)\n",
      "      140    0.000    0.000    0.001    0.000 fromnumeric.py:69(_wrapreduction)\n",
      "      140    0.000    0.000    0.000    0.000 fromnumeric.py:70(<dictcomp>)\n",
      "   772262    0.536    0.000    0.791    0.000 heapq.py:314(merge)\n",
      "      200    0.000    0.000    0.000    0.000 numeric.py:469(asarray)\n",
      "      400    0.000    0.000    0.000    0.000 numeric.py:541(asanyarray)\n",
      "       20    0.000    0.000    0.000    0.000 utilities.py:853(__init__)\n",
      "     3384    4.412    0.001    4.527    0.001 utilities.py:859(_trim)\n",
      "       40    0.239    0.006    8.207    0.205 utilities.py:868(_approx_subset_sum)\n",
      "     3384    2.649    0.001    2.649    0.001 utilities.py:873(<listcomp>)\n",
      "   764396    0.091    0.000    0.091    0.000 utilities.py:874(<lambda>)\n",
      "       20    0.006    0.000    8.221    0.411 utilities.py:878(split)\n",
      "     3384    0.004    0.000    0.004    0.000 {built-in method _heapq.heapify}\n",
      "     3384    0.001    0.000    0.001    0.000 {built-in method _heapq.heappop}\n",
      "   757628    0.157    0.000    0.157    0.000 {built-in method _heapq.heapreplace}\n",
      "        1    0.000    0.000    8.224    8.224 {built-in method builtins.exec}\n",
      "       20    0.000    0.000    0.000    0.000 {built-in method builtins.getattr}\n",
      "      100    0.000    0.000    0.000    0.000 {built-in method builtins.isinstance}\n",
      "    10792    0.002    0.000    0.002    0.000 {built-in method builtins.len}\n",
      "     3424    0.021    0.000    0.021    0.000 {built-in method numpy.arange}\n",
      "      640    0.001    0.000    0.001    0.000 {built-in method numpy.array}\n",
      "      200    0.001    0.000    0.001    0.000 {built-in method numpy.concatenate}\n",
      "      300    0.000    0.000    0.000    0.000 {built-in method numpy.empty}\n",
      "     7048    0.001    0.000    0.001    0.000 {method 'append' of 'list' objects}\n",
      "      100    0.001    0.000    0.001    0.000 {method 'argsort' of 'numpy.ndarray' objects}\n",
      "       20    0.001    0.000    0.001    0.000 {method 'choice' of 'mtrand.RandomState' objects}\n",
      "        1    0.000    0.000    0.000    0.000 {method 'disable' of '_lsprof.Profiler' objects}\n",
      "      200    0.000    0.000    0.000    0.000 {method 'flatten' of 'numpy.ndarray' objects}\n",
      "      140    0.000    0.000    0.000    0.000 {method 'items' of 'dict' objects}\n",
      "       40    0.001    0.000    0.001    0.000 {method 'normal' of 'mtrand.RandomState' objects}\n",
      "   374154    0.094    0.000    0.094    0.000 {method 'pop' of 'list' objects}\n",
      "      200    0.000    0.000    0.000    0.000 {method 'ravel' of 'numpy.ndarray' objects}\n",
      "      140    0.001    0.000    0.001    0.000 {method 'reduce' of 'numpy.ufunc' objects}\n",
      "      200    0.000    0.000    0.000    0.000 {method 'sort' of 'numpy.ndarray' objects}\n",
      "       40    0.000    0.000    0.000    0.000 {method 'uniform' of 'mtrand.RandomState' objects}\n",
      "\n",
      "\n"
     ]
    }
   ],
   "source": [
    "import cProfile\n",
    "import re\n",
    "cProfile.run('experiment()')"
   ]
  },
  {
   "cell_type": "code",
   "execution_count": 56,
   "metadata": {},
   "outputs": [
    {
     "ename": "ValueError",
     "evalue": "non-broadcastable output operand with shape (1,) doesn't match the broadcast shape (1,1)",
     "output_type": "error",
     "traceback": [
      "\u001b[1;31m---------------------------------------------------------------------------\u001b[0m",
      "\u001b[1;31mValueError\u001b[0m                                Traceback (most recent call last)",
      "\u001b[1;32m<ipython-input-56-7dfbeb10de6a>\u001b[0m in \u001b[0;36m<module>\u001b[1;34m\u001b[0m\n\u001b[0;32m      7\u001b[0m     \u001b[0madd_i\u001b[0m\u001b[1;33m[\u001b[0m\u001b[1;33m:\u001b[0m\u001b[1;33m,\u001b[0m \u001b[1;36m0\u001b[0m\u001b[1;33m]\u001b[0m \u001b[1;33m+=\u001b[0m \u001b[0mS\u001b[0m\u001b[1;33m[\u001b[0m\u001b[0mi\u001b[0m\u001b[1;33m]\u001b[0m\u001b[1;33m\u001b[0m\u001b[1;33m\u001b[0m\u001b[0m\n\u001b[0;32m      8\u001b[0m     \u001b[0madd_i\u001b[0m\u001b[1;33m[\u001b[0m\u001b[1;33m:\u001b[0m\u001b[1;33m,\u001b[0m \u001b[1;36m2\u001b[0m\u001b[1;33m]\u001b[0m \u001b[1;33m+=\u001b[0m \u001b[0mperS\u001b[0m\u001b[1;33m[\u001b[0m\u001b[0mi\u001b[0m\u001b[1;33m]\u001b[0m\u001b[1;33m\u001b[0m\u001b[1;33m\u001b[0m\u001b[0m\n\u001b[1;32m----> 9\u001b[1;33m     \u001b[0madd_i\u001b[0m\u001b[1;33m[\u001b[0m\u001b[1;33m:\u001b[0m\u001b[1;33m,\u001b[0m \u001b[1;36m1\u001b[0m\u001b[1;33m]\u001b[0m \u001b[1;33m+=\u001b[0m \u001b[0mnp\u001b[0m\u001b[1;33m.\u001b[0m\u001b[0marray\u001b[0m\u001b[1;33m(\u001b[0m\u001b[1;33m[\u001b[0m\u001b[1;33m[\u001b[0m\u001b[0mi\u001b[0m\u001b[1;33m]\u001b[0m\u001b[1;33m]\u001b[0m\u001b[1;33m*\u001b[0m\u001b[0mlen\u001b[0m\u001b[1;33m(\u001b[0m\u001b[0mLi\u001b[0m\u001b[1;33m)\u001b[0m\u001b[1;33m)\u001b[0m\u001b[1;33m\u001b[0m\u001b[1;33m\u001b[0m\u001b[0m\n\u001b[0m",
      "\u001b[1;31mValueError\u001b[0m: non-broadcastable output operand with shape (1,) doesn't match the broadcast shape (1,1)"
     ]
    }
   ],
   "source": [
    "S = np.arange(5)\n",
    "n = len(S)\n",
    "Li = np.array([(0, [], 0)])\n",
    "perS = S + np.random.uniform(-.5, .5, size=(len(S)))\n",
    "for i in range(n):\n",
    "    add_i = np.copy(Li)\n",
    "    add_i[:, 0] += S[i]\n",
    "    add_i[:, 2] += perS[i]\n",
    "    add_i[:, 1] += np.array([[i]]*len(Li))"
   ]
  },
  {
   "cell_type": "code",
   "execution_count": 71,
   "metadata": {},
   "outputs": [
    {
     "data": {
      "image/png": "[encoded data removed]",
      "text/plain": [
       "<Figure size 432x288 with 1 Axes>"
      ]
     },
     "metadata": {
      "needs_background": "light"
     },
     "output_type": "display_data"
    },
    {
     "data": {
      "image/png": "[encoded data removed]",
      "text/plain": [
       "<Figure size 720x432 with 1 Axes>"
      ]
     },
     "metadata": {
      "needs_background": "light"
     },
     "output_type": "display_data"
    }
   ],
   "source": [
    "# DGP constants\n",
    "from econml.tests.test_statsmodels import StatsModelsOLS\n",
    "from econml.utilities import StatsModelsLinearRegression\n",
    "np.random.seed(12)\n",
    "n=500\n",
    "n_x=5\n",
    "n_exp = 1000\n",
    "cov1, cov2 = 0, 0\n",
    "X_test = np.random.normal(size=(100, n_x))\n",
    "X_test[:, :2] = np.array(list(product(np.arange(0, 1, 0.1), repeat=2)))\n",
    "\n",
    "for _ in range(n_exp):\n",
    "    epsilon_sample=lambda n: np.random.uniform(-1,1,size=n)\n",
    "    eta_sample=lambda n: np.random.uniform(-1,1,size=n)\n",
    "    X=np.random.uniform(0, 1, size=(n,n_x))\n",
    "    Y=np.sum(X[:, :2], axis=1) + epsilon_sample(n)\n",
    "    est = StatsModelsLinearRegression(fit_args={'cov_type':'HC1'})\n",
    "    est.fit(X, Y)\n",
    "    te_pred = est.predict(X_test)\n",
    "    te_pred_int = est.predict_interval(X_test, alpha=0.05)\n",
    "    expected_te1 = np.sum(X_test[:, :2], axis=1)\n",
    "    cov1 += (expected_te1>=te_pred_int[0]) & (expected_te1<=te_pred_int[1])\n",
    "\n",
    "plt.figure()\n",
    "plt.plot(X_test, cov1/n_exp, '*', label='1')\n",
    "plt.show()\n",
    "\n",
    "plt.figure(figsize=(10,6))\n",
    "plt.plot(X_test, te_pred, label='DML estimate1')\n",
    "plt.fill_between(X_test[:,0], te_pred_int[0], te_pred_int[1], alpha=.6)\n",
    "plt.plot(X_test, expected_te1, '--', label='True effect1')\n",
    "plt.ylabel(\"Treatment Effect\")\n",
    "plt.xlabel(\"x\")\n",
    "plt.legend()\n",
    "plt.show()"
   ]
  },
  {
   "cell_type": "code",
   "execution_count": 92,
   "metadata": {},
   "outputs": [
    {
     "data": {
      "image/png": "[encoded data removed]",
      "text/plain": [
       "<Figure size 432x288 with 1 Axes>"
      ]
     },
     "metadata": {
      "needs_background": "light"
     },
     "output_type": "display_data"
    },
    {
     "data": {
      "image/png": "[encoded data removed]",
      "text/plain": [
       "<Figure size 720x432 with 1 Axes>"
      ]
     },
     "metadata": {
      "needs_background": "light"
     },
     "output_type": "display_data"
    }
   ],
   "source": [
    "# DGP constants\n",
    "from econml.tests.test_statsmodels import StatsModelsOLS\n",
    "from sklearn.linear_model import MultiTaskLassoCV\n",
    "np.random.seed(12)\n",
    "n=1000\n",
    "n_w=5\n",
    "support_size=1\n",
    "n_x=1\n",
    "n_exp = 100\n",
    "support_Y=np.random.choice(range(n_w),size=support_size,replace=False)\n",
    "coefs_Y=np.random.uniform(0,1,size=support_size)\n",
    "support_T=support_Y\n",
    "coefs_T=np.random.uniform(0,1,size=support_size)\n",
    "X_test = np.array(list(product(np.arange(0, 1, 0.01), repeat=n_x)))\n",
    "cov1, cov2 = 0, 0\n",
    "for _ in range(n_exp):\n",
    "    epsilon_sample=lambda n: np.random.uniform(-1,1,size=n)\n",
    "    eta_sample=lambda n: np.random.uniform(-1,1,size=n)\n",
    "    W=np.random.normal(0,1,size=(n,n_w))\n",
    "    X=np.random.uniform(0,1,size=(n,n_x))\n",
    "    TE1=np.array([x_i[0] for x_i in X])\n",
    "    TE2=np.array([2*x_i[0] for x_i in X])\n",
    "    T=np.dot(W[:,support_T],coefs_T)+eta_sample(n)\n",
    "    Y=TE1*T+TE2*T**2+np.dot(W[:,support_Y],coefs_Y)+epsilon_sample(n)\n",
    "    est = LinearDMLCateEstimator(model_y=RandomForestRegressor(n_estimators=100, min_samples_leaf=10), #LassoCV(cv=5, n_alphas=10), #LinearRegression(fit_intercept=True),\n",
    "                                 model_t=RandomForestRegressor(n_estimators=100, min_samples_leaf=10), #MultiTaskLassoCV(cv=5, n_alphas=10), #LinearRegression(fit_intercept=True),\n",
    "                                 n_splits=2,\n",
    "                                 linear_first_stages=False,\n",
    "                                 featurizer=PolynomialFeatures(degree=1, include_bias=True))\n",
    "    poly = PolynomialFeatures(degree=2, include_bias=False)\n",
    "    from econml.inference import StatsModelsInference\n",
    "    est.fit(Y, np.concatenate((T.reshape(-1,1), T.reshape(-1,1)**2), axis=1), X, W,\n",
    "            inference=StatsModelsInference(cov_type='HC1'))\n",
    "    te_pred=est.const_marginal_effect(X_test)\n",
    "    te_pred_int = est.const_marginal_effect_interval(X_test, alpha=.01)\n",
    "    cov1 += (expected_te1>=te_pred_int[0][:, 0]) & (expected_te1<=te_pred_int[1][:, 0])\n",
    "    cov2 += (expected_te2>=te_pred_int[0][:, 1]) & (expected_te2<=te_pred_int[1][:, 1])\n",
    "\n",
    "plt.figure()\n",
    "plt.plot(X_test, cov1/n_exp, label='1')\n",
    "plt.plot(X_test, cov2/n_exp, label='2')\n",
    "plt.show()\n",
    "\n",
    "plt.figure(figsize=(10,6))\n",
    "plt.plot(X_test, te_pred[:,0], label='DML estimate1')\n",
    "plt.fill_between(X_test[:,0], te_pred_int[0][:, 0], te_pred_int[1][:, 0], alpha=.6)\n",
    "plt.plot(X_test, te_pred[:,1], label='DML estimate2')\n",
    "plt.fill_between(X_test[:,0], te_pred_int[0][:, 1], te_pred_int[1][:, 1], alpha=.6)\n",
    "expected_te1 = np.array([x_i[0] for x_i in X_test])\n",
    "expected_te2=np.array([2*x_i[0] for x_i in X_test])\n",
    "plt.plot(X_test, expected_te1, '--', label='True effect1')\n",
    "plt.plot(X_test, expected_te2, '--', label='True effect2')\n",
    "plt.ylabel(\"Treatment Effect\")\n",
    "plt.xlabel(\"x\")\n",
    "plt.legend()\n",
    "plt.show()"
   ]
  },
  {
   "cell_type": "code",
   "execution_count": 99,
   "metadata": {},
   "outputs": [
    {
     "name": "stdout",
     "output_type": "stream",
     "text": [
      "[[0 1 1 1 1]\n",
      " [0 0 1 1 1]]\n",
      "[[0 1 1 1 1]\n",
      " [0 1 1 1 1]\n",
      " [0 0 1 1 1]\n",
      " [0 0 1 1 1]]\n"
     ]
    }
   ],
   "source": [
    "X = np.random.binomial(1, .5, size=(2, 5))\n",
    "print(X)\n",
    "print(np.repeat(X, 2, axis=0))"
   ]
  },
  {
   "cell_type": "code",
   "execution_count": 12,
   "metadata": {},
   "outputs": [
    {
     "name": "stderr",
     "output_type": "stream",
     "text": [
      "[Parallel(n_jobs=-1)]: Using backend ThreadingBackend with 8 concurrent workers.\n",
      "[Parallel(n_jobs=-1)]: Done  16 tasks      | elapsed:    1.5s\n",
      "[Parallel(n_jobs=-1)]: Done 100 out of 100 | elapsed:   10.5s finished\n",
      "[Parallel(n_jobs=-1)]: Using backend ThreadingBackend with 8 concurrent workers.\n"
     ]
    },
    {
     "ename": "ValueError",
     "evalue": "X shape does not match training shape",
     "output_type": "error",
     "traceback": [
      "\u001b[1;31m---------------------------------------------------------------------------\u001b[0m",
      "\u001b[1;31mValueError\u001b[0m                                Traceback (most recent call last)",
      "\u001b[1;32m<ipython-input-12-459185501f6e>\u001b[0m in \u001b[0;36m<module>\u001b[1;34m\u001b[0m\n\u001b[0;32m      8\u001b[0m est = LinearDMLCateEstimator(model_y=LinearRegression(), model_t=LinearRegression(),\n\u001b[0;32m      9\u001b[0m                              model_final=LinearRegression(fit_intercept=False)).fit(y, T, X, None, inference='bootstrap')\n\u001b[1;32m---> 10\u001b[1;33m \u001b[0mest\u001b[0m\u001b[1;33m.\u001b[0m\u001b[0mconst_marginal_effect_interval\u001b[0m\u001b[1;33m(\u001b[0m\u001b[1;33m)\u001b[0m\u001b[1;33m\u001b[0m\u001b[1;33m\u001b[0m\u001b[0m\n\u001b[0m",
      "\u001b[1;32mc:\\users\\vasy\\documents\\econml\\econml\\dml.py\u001b[0m in \u001b[0;36mconst_marginal_effect_interval\u001b[1;34m(self, X, alpha)\u001b[0m\n\u001b[0;32m    221\u001b[0m         \u001b[1;32mif\u001b[0m \u001b[0mX\u001b[0m \u001b[1;32mis\u001b[0m \u001b[1;32mNone\u001b[0m\u001b[1;33m:\u001b[0m\u001b[1;33m\u001b[0m\u001b[1;33m\u001b[0m\u001b[0m\n\u001b[0;32m    222\u001b[0m             \u001b[0mX\u001b[0m \u001b[1;33m=\u001b[0m \u001b[0mnp\u001b[0m\u001b[1;33m.\u001b[0m\u001b[0mones\u001b[0m\u001b[1;33m(\u001b[0m\u001b[1;33m(\u001b[0m\u001b[1;36m1\u001b[0m\u001b[1;33m,\u001b[0m \u001b[1;36m1\u001b[0m\u001b[1;33m)\u001b[0m\u001b[1;33m)\u001b[0m\u001b[1;33m\u001b[0m\u001b[1;33m\u001b[0m\u001b[0m\n\u001b[1;32m--> 223\u001b[1;33m         \u001b[1;32mreturn\u001b[0m \u001b[0msuper\u001b[0m\u001b[1;33m(\u001b[0m\u001b[1;33m)\u001b[0m\u001b[1;33m.\u001b[0m\u001b[0mconst_marginal_effect_interval\u001b[0m\u001b[1;33m(\u001b[0m\u001b[0mX\u001b[0m\u001b[1;33m,\u001b[0m \u001b[0malpha\u001b[0m\u001b[1;33m=\u001b[0m\u001b[0malpha\u001b[0m\u001b[1;33m)\u001b[0m\u001b[1;33m\u001b[0m\u001b[1;33m\u001b[0m\u001b[0m\n\u001b[0m\u001b[0;32m    224\u001b[0m \u001b[1;33m\u001b[0m\u001b[0m\n\u001b[0;32m    225\u001b[0m     \u001b[1;32mdef\u001b[0m \u001b[0mscore\u001b[0m\u001b[1;33m(\u001b[0m\u001b[0mself\u001b[0m\u001b[1;33m,\u001b[0m \u001b[0mY\u001b[0m\u001b[1;33m,\u001b[0m \u001b[0mT\u001b[0m\u001b[1;33m,\u001b[0m \u001b[0mX\u001b[0m\u001b[1;33m=\u001b[0m\u001b[1;32mNone\u001b[0m\u001b[1;33m,\u001b[0m \u001b[0mW\u001b[0m\u001b[1;33m=\u001b[0m\u001b[1;32mNone\u001b[0m\u001b[1;33m)\u001b[0m\u001b[1;33m:\u001b[0m\u001b[1;33m\u001b[0m\u001b[1;33m\u001b[0m\u001b[0m\n",
      "\u001b[1;32mc:\\users\\vasy\\documents\\econml\\econml\\cate_estimator.py\u001b[0m in \u001b[0;36mcall\u001b[1;34m(self, *args, **kwargs)\u001b[0m\n\u001b[0;32m    149\u001b[0m             \u001b[0mname\u001b[0m \u001b[1;33m=\u001b[0m \u001b[0mm\u001b[0m\u001b[1;33m.\u001b[0m\u001b[0m__name__\u001b[0m\u001b[1;33m\u001b[0m\u001b[1;33m\u001b[0m\u001b[0m\n\u001b[0;32m    150\u001b[0m             \u001b[1;32mif\u001b[0m \u001b[0mself\u001b[0m\u001b[1;33m.\u001b[0m\u001b[0m_inference\u001b[0m \u001b[1;32mis\u001b[0m \u001b[1;32mnot\u001b[0m \u001b[1;32mNone\u001b[0m\u001b[1;33m:\u001b[0m\u001b[1;33m\u001b[0m\u001b[1;33m\u001b[0m\u001b[0m\n\u001b[1;32m--> 151\u001b[1;33m                 \u001b[1;32mreturn\u001b[0m \u001b[0mgetattr\u001b[0m\u001b[1;33m(\u001b[0m\u001b[0mself\u001b[0m\u001b[1;33m.\u001b[0m\u001b[0m_inference\u001b[0m\u001b[1;33m,\u001b[0m \u001b[0mname\u001b[0m\u001b[1;33m)\u001b[0m\u001b[1;33m(\u001b[0m\u001b[1;33m*\u001b[0m\u001b[0margs\u001b[0m\u001b[1;33m,\u001b[0m \u001b[1;33m**\u001b[0m\u001b[0mkwargs\u001b[0m\u001b[1;33m)\u001b[0m\u001b[1;33m\u001b[0m\u001b[1;33m\u001b[0m\u001b[0m\n\u001b[0m\u001b[0;32m    152\u001b[0m             \u001b[1;32melse\u001b[0m\u001b[1;33m:\u001b[0m\u001b[1;33m\u001b[0m\u001b[1;33m\u001b[0m\u001b[0m\n\u001b[0;32m    153\u001b[0m                 \u001b[1;32mraise\u001b[0m \u001b[0mAttributeError\u001b[0m\u001b[1;33m(\u001b[0m\u001b[1;34m\"Can't call '%s' because 'inference' is None\"\u001b[0m \u001b[1;33m%\u001b[0m \u001b[0mname\u001b[0m\u001b[1;33m)\u001b[0m\u001b[1;33m\u001b[0m\u001b[1;33m\u001b[0m\u001b[0m\n",
      "\u001b[1;32mc:\\users\\vasy\\documents\\econml\\econml\\inference.py\u001b[0m in \u001b[0;36mwrapped\u001b[1;34m(alpha, *args, **kwargs)\u001b[0m\n\u001b[0;32m     57\u001b[0m \u001b[1;33m\u001b[0m\u001b[0m\n\u001b[0;32m     58\u001b[0m         \u001b[1;32mdef\u001b[0m \u001b[0mwrapped\u001b[0m\u001b[1;33m(\u001b[0m\u001b[1;33m*\u001b[0m\u001b[0margs\u001b[0m\u001b[1;33m,\u001b[0m \u001b[0malpha\u001b[0m\u001b[1;33m=\u001b[0m\u001b[1;36m0.1\u001b[0m\u001b[1;33m,\u001b[0m \u001b[1;33m**\u001b[0m\u001b[0mkwargs\u001b[0m\u001b[1;33m)\u001b[0m\u001b[1;33m:\u001b[0m\u001b[1;33m\u001b[0m\u001b[1;33m\u001b[0m\u001b[0m\n\u001b[1;32m---> 59\u001b[1;33m             \u001b[1;32mreturn\u001b[0m \u001b[0mm\u001b[0m\u001b[1;33m(\u001b[0m\u001b[1;33m*\u001b[0m\u001b[0margs\u001b[0m\u001b[1;33m,\u001b[0m \u001b[0mlower\u001b[0m\u001b[1;33m=\u001b[0m\u001b[1;36m100\u001b[0m \u001b[1;33m*\u001b[0m \u001b[0malpha\u001b[0m \u001b[1;33m/\u001b[0m \u001b[1;36m2\u001b[0m\u001b[1;33m,\u001b[0m \u001b[0mupper\u001b[0m\u001b[1;33m=\u001b[0m\u001b[1;36m100\u001b[0m \u001b[1;33m*\u001b[0m \u001b[1;33m(\u001b[0m\u001b[1;36m1\u001b[0m \u001b[1;33m-\u001b[0m \u001b[0malpha\u001b[0m \u001b[1;33m/\u001b[0m \u001b[1;36m2\u001b[0m\u001b[1;33m)\u001b[0m\u001b[1;33m,\u001b[0m \u001b[1;33m**\u001b[0m\u001b[0mkwargs\u001b[0m\u001b[1;33m)\u001b[0m\u001b[1;33m\u001b[0m\u001b[1;33m\u001b[0m\u001b[0m\n\u001b[0m\u001b[0;32m     60\u001b[0m         \u001b[1;32mreturn\u001b[0m \u001b[0mwrapped\u001b[0m\u001b[1;33m\u001b[0m\u001b[1;33m\u001b[0m\u001b[0m\n\u001b[0;32m     61\u001b[0m \u001b[1;33m\u001b[0m\u001b[0m\n",
      "\u001b[1;32mc:\\users\\vasy\\documents\\econml\\econml\\bootstrap.py\u001b[0m in \u001b[0;36mcall\u001b[1;34m(lower, upper, *args, **kwargs)\u001b[0m\n\u001b[0;32m    113\u001b[0m                 \u001b[1;31m# collect extra arguments and pass them through, if the wrapped attribute was callable\u001b[0m\u001b[1;33m\u001b[0m\u001b[1;33m\u001b[0m\u001b[1;33m\u001b[0m\u001b[0m\n\u001b[0;32m    114\u001b[0m                 \u001b[1;32mdef\u001b[0m \u001b[0mcall\u001b[0m\u001b[1;33m(\u001b[0m\u001b[1;33m*\u001b[0m\u001b[0margs\u001b[0m\u001b[1;33m,\u001b[0m \u001b[0mlower\u001b[0m\u001b[1;33m=\u001b[0m\u001b[1;36m5\u001b[0m\u001b[1;33m,\u001b[0m \u001b[0mupper\u001b[0m\u001b[1;33m=\u001b[0m\u001b[1;36m95\u001b[0m\u001b[1;33m,\u001b[0m \u001b[1;33m**\u001b[0m\u001b[0mkwargs\u001b[0m\u001b[1;33m)\u001b[0m\u001b[1;33m:\u001b[0m\u001b[1;33m\u001b[0m\u001b[1;33m\u001b[0m\u001b[0m\n\u001b[1;32m--> 115\u001b[1;33m                     \u001b[1;32mreturn\u001b[0m \u001b[0mcall_with_bounds\u001b[0m\u001b[1;33m(\u001b[0m\u001b[0mcan_call\u001b[0m\u001b[1;33m,\u001b[0m \u001b[0mlower\u001b[0m\u001b[1;33m,\u001b[0m \u001b[0mupper\u001b[0m\u001b[1;33m)\u001b[0m\u001b[1;33m(\u001b[0m\u001b[1;33m*\u001b[0m\u001b[0margs\u001b[0m\u001b[1;33m,\u001b[0m \u001b[1;33m**\u001b[0m\u001b[0mkwargs\u001b[0m\u001b[1;33m)\u001b[0m\u001b[1;33m\u001b[0m\u001b[1;33m\u001b[0m\u001b[0m\n\u001b[0m\u001b[0;32m    116\u001b[0m                 \u001b[1;32mreturn\u001b[0m \u001b[0mcall\u001b[0m\u001b[1;33m\u001b[0m\u001b[1;33m\u001b[0m\u001b[0m\n\u001b[0;32m    117\u001b[0m             \u001b[1;32melse\u001b[0m\u001b[1;33m:\u001b[0m\u001b[1;33m\u001b[0m\u001b[1;33m\u001b[0m\u001b[0m\n",
      "\u001b[1;32mc:\\users\\vasy\\documents\\econml\\econml\\bootstrap.py\u001b[0m in \u001b[0;36mcall\u001b[1;34m(*args, **kwargs)\u001b[0m\n\u001b[0;32m     91\u001b[0m             \u001b[1;32mif\u001b[0m \u001b[0mmake_call\u001b[0m\u001b[1;33m:\u001b[0m\u001b[1;33m\u001b[0m\u001b[1;33m\u001b[0m\u001b[0m\n\u001b[0;32m     92\u001b[0m                 \u001b[1;32mdef\u001b[0m \u001b[0mcall\u001b[0m\u001b[1;33m(\u001b[0m\u001b[1;33m*\u001b[0m\u001b[0margs\u001b[0m\u001b[1;33m,\u001b[0m \u001b[1;33m**\u001b[0m\u001b[0mkwargs\u001b[0m\u001b[1;33m)\u001b[0m\u001b[1;33m:\u001b[0m\u001b[1;33m\u001b[0m\u001b[1;33m\u001b[0m\u001b[0m\n\u001b[1;32m---> 93\u001b[1;33m                     \u001b[1;32mreturn\u001b[0m \u001b[0msummarize_with\u001b[0m\u001b[1;33m(\u001b[0m\u001b[1;32mlambda\u001b[0m \u001b[0mobj\u001b[0m\u001b[1;33m,\u001b[0m \u001b[0mname\u001b[0m\u001b[1;33m:\u001b[0m \u001b[0mgetattr\u001b[0m\u001b[1;33m(\u001b[0m\u001b[0mobj\u001b[0m\u001b[1;33m,\u001b[0m \u001b[0mname\u001b[0m\u001b[1;33m)\u001b[0m\u001b[1;33m(\u001b[0m\u001b[1;33m*\u001b[0m\u001b[0margs\u001b[0m\u001b[1;33m,\u001b[0m \u001b[1;33m**\u001b[0m\u001b[0mkwargs\u001b[0m\u001b[1;33m)\u001b[0m\u001b[1;33m)\u001b[0m\u001b[1;33m\u001b[0m\u001b[1;33m\u001b[0m\u001b[0m\n\u001b[0m\u001b[0;32m     94\u001b[0m                 \u001b[1;32mreturn\u001b[0m \u001b[0mcall\u001b[0m\u001b[1;33m\u001b[0m\u001b[1;33m\u001b[0m\u001b[0m\n\u001b[0;32m     95\u001b[0m             \u001b[1;32melse\u001b[0m\u001b[1;33m:\u001b[0m\u001b[1;33m\u001b[0m\u001b[1;33m\u001b[0m\u001b[0m\n",
      "\u001b[1;32mc:\\users\\vasy\\documents\\econml\\econml\\bootstrap.py\u001b[0m in \u001b[0;36msummarize_with\u001b[1;34m(f)\u001b[0m\n\u001b[0;32m     88\u001b[0m             \u001b[1;32mdef\u001b[0m \u001b[0msummarize_with\u001b[0m\u001b[1;33m(\u001b[0m\u001b[0mf\u001b[0m\u001b[1;33m)\u001b[0m\u001b[1;33m:\u001b[0m\u001b[1;33m\u001b[0m\u001b[1;33m\u001b[0m\u001b[0m\n\u001b[0;32m     89\u001b[0m                 return summary(np.array(Parallel(n_jobs=self._n_jobs, prefer='threads', verbose=3)(\n\u001b[1;32m---> 90\u001b[1;33m                     (f, (obj, name), {}) for obj in self._instances)))\n\u001b[0m\u001b[0;32m     91\u001b[0m             \u001b[1;32mif\u001b[0m \u001b[0mmake_call\u001b[0m\u001b[1;33m:\u001b[0m\u001b[1;33m\u001b[0m\u001b[1;33m\u001b[0m\u001b[0m\n\u001b[0;32m     92\u001b[0m                 \u001b[1;32mdef\u001b[0m \u001b[0mcall\u001b[0m\u001b[1;33m(\u001b[0m\u001b[1;33m*\u001b[0m\u001b[0margs\u001b[0m\u001b[1;33m,\u001b[0m \u001b[1;33m**\u001b[0m\u001b[0mkwargs\u001b[0m\u001b[1;33m)\u001b[0m\u001b[1;33m:\u001b[0m\u001b[1;33m\u001b[0m\u001b[1;33m\u001b[0m\u001b[0m\n",
      "\u001b[1;32mC:\\ProgramData\\Anaconda3\\lib\\site-packages\\joblib\\parallel.py\u001b[0m in \u001b[0;36m__call__\u001b[1;34m(self, iterable)\u001b[0m\n\u001b[0;32m    932\u001b[0m \u001b[1;33m\u001b[0m\u001b[0m\n\u001b[0;32m    933\u001b[0m             \u001b[1;32mwith\u001b[0m \u001b[0mself\u001b[0m\u001b[1;33m.\u001b[0m\u001b[0m_backend\u001b[0m\u001b[1;33m.\u001b[0m\u001b[0mretrieval_context\u001b[0m\u001b[1;33m(\u001b[0m\u001b[1;33m)\u001b[0m\u001b[1;33m:\u001b[0m\u001b[1;33m\u001b[0m\u001b[1;33m\u001b[0m\u001b[0m\n\u001b[1;32m--> 934\u001b[1;33m                 \u001b[0mself\u001b[0m\u001b[1;33m.\u001b[0m\u001b[0mretrieve\u001b[0m\u001b[1;33m(\u001b[0m\u001b[1;33m)\u001b[0m\u001b[1;33m\u001b[0m\u001b[1;33m\u001b[0m\u001b[0m\n\u001b[0m\u001b[0;32m    935\u001b[0m             \u001b[1;31m# Make sure that we get a last message telling us we are done\u001b[0m\u001b[1;33m\u001b[0m\u001b[1;33m\u001b[0m\u001b[1;33m\u001b[0m\u001b[0m\n\u001b[0;32m    936\u001b[0m             \u001b[0melapsed_time\u001b[0m \u001b[1;33m=\u001b[0m \u001b[0mtime\u001b[0m\u001b[1;33m.\u001b[0m\u001b[0mtime\u001b[0m\u001b[1;33m(\u001b[0m\u001b[1;33m)\u001b[0m \u001b[1;33m-\u001b[0m \u001b[0mself\u001b[0m\u001b[1;33m.\u001b[0m\u001b[0m_start_time\u001b[0m\u001b[1;33m\u001b[0m\u001b[1;33m\u001b[0m\u001b[0m\n",
      "\u001b[1;32mC:\\ProgramData\\Anaconda3\\lib\\site-packages\\joblib\\parallel.py\u001b[0m in \u001b[0;36mretrieve\u001b[1;34m(self)\u001b[0m\n\u001b[0;32m    831\u001b[0m             \u001b[1;32mtry\u001b[0m\u001b[1;33m:\u001b[0m\u001b[1;33m\u001b[0m\u001b[1;33m\u001b[0m\u001b[0m\n\u001b[0;32m    832\u001b[0m                 \u001b[1;32mif\u001b[0m \u001b[0mgetattr\u001b[0m\u001b[1;33m(\u001b[0m\u001b[0mself\u001b[0m\u001b[1;33m.\u001b[0m\u001b[0m_backend\u001b[0m\u001b[1;33m,\u001b[0m \u001b[1;34m'supports_timeout'\u001b[0m\u001b[1;33m,\u001b[0m \u001b[1;32mFalse\u001b[0m\u001b[1;33m)\u001b[0m\u001b[1;33m:\u001b[0m\u001b[1;33m\u001b[0m\u001b[1;33m\u001b[0m\u001b[0m\n\u001b[1;32m--> 833\u001b[1;33m                     \u001b[0mself\u001b[0m\u001b[1;33m.\u001b[0m\u001b[0m_output\u001b[0m\u001b[1;33m.\u001b[0m\u001b[0mextend\u001b[0m\u001b[1;33m(\u001b[0m\u001b[0mjob\u001b[0m\u001b[1;33m.\u001b[0m\u001b[0mget\u001b[0m\u001b[1;33m(\u001b[0m\u001b[0mtimeout\u001b[0m\u001b[1;33m=\u001b[0m\u001b[0mself\u001b[0m\u001b[1;33m.\u001b[0m\u001b[0mtimeout\u001b[0m\u001b[1;33m)\u001b[0m\u001b[1;33m)\u001b[0m\u001b[1;33m\u001b[0m\u001b[1;33m\u001b[0m\u001b[0m\n\u001b[0m\u001b[0;32m    834\u001b[0m                 \u001b[1;32melse\u001b[0m\u001b[1;33m:\u001b[0m\u001b[1;33m\u001b[0m\u001b[1;33m\u001b[0m\u001b[0m\n\u001b[0;32m    835\u001b[0m                     \u001b[0mself\u001b[0m\u001b[1;33m.\u001b[0m\u001b[0m_output\u001b[0m\u001b[1;33m.\u001b[0m\u001b[0mextend\u001b[0m\u001b[1;33m(\u001b[0m\u001b[0mjob\u001b[0m\u001b[1;33m.\u001b[0m\u001b[0mget\u001b[0m\u001b[1;33m(\u001b[0m\u001b[1;33m)\u001b[0m\u001b[1;33m)\u001b[0m\u001b[1;33m\u001b[0m\u001b[1;33m\u001b[0m\u001b[0m\n",
      "\u001b[1;32mC:\\ProgramData\\Anaconda3\\lib\\multiprocessing\\pool.py\u001b[0m in \u001b[0;36mget\u001b[1;34m(self, timeout)\u001b[0m\n\u001b[0;32m    681\u001b[0m             \u001b[1;32mreturn\u001b[0m \u001b[0mself\u001b[0m\u001b[1;33m.\u001b[0m\u001b[0m_value\u001b[0m\u001b[1;33m\u001b[0m\u001b[1;33m\u001b[0m\u001b[0m\n\u001b[0;32m    682\u001b[0m         \u001b[1;32melse\u001b[0m\u001b[1;33m:\u001b[0m\u001b[1;33m\u001b[0m\u001b[1;33m\u001b[0m\u001b[0m\n\u001b[1;32m--> 683\u001b[1;33m             \u001b[1;32mraise\u001b[0m \u001b[0mself\u001b[0m\u001b[1;33m.\u001b[0m\u001b[0m_value\u001b[0m\u001b[1;33m\u001b[0m\u001b[1;33m\u001b[0m\u001b[0m\n\u001b[0m\u001b[0;32m    684\u001b[0m \u001b[1;33m\u001b[0m\u001b[0m\n\u001b[0;32m    685\u001b[0m     \u001b[1;32mdef\u001b[0m \u001b[0m_set\u001b[0m\u001b[1;33m(\u001b[0m\u001b[0mself\u001b[0m\u001b[1;33m,\u001b[0m \u001b[0mi\u001b[0m\u001b[1;33m,\u001b[0m \u001b[0mobj\u001b[0m\u001b[1;33m)\u001b[0m\u001b[1;33m:\u001b[0m\u001b[1;33m\u001b[0m\u001b[1;33m\u001b[0m\u001b[0m\n",
      "\u001b[1;32mC:\\ProgramData\\Anaconda3\\lib\\multiprocessing\\pool.py\u001b[0m in \u001b[0;36mworker\u001b[1;34m(inqueue, outqueue, initializer, initargs, maxtasks, wrap_exception)\u001b[0m\n\u001b[0;32m    119\u001b[0m         \u001b[0mjob\u001b[0m\u001b[1;33m,\u001b[0m \u001b[0mi\u001b[0m\u001b[1;33m,\u001b[0m \u001b[0mfunc\u001b[0m\u001b[1;33m,\u001b[0m \u001b[0margs\u001b[0m\u001b[1;33m,\u001b[0m \u001b[0mkwds\u001b[0m \u001b[1;33m=\u001b[0m \u001b[0mtask\u001b[0m\u001b[1;33m\u001b[0m\u001b[1;33m\u001b[0m\u001b[0m\n\u001b[0;32m    120\u001b[0m         \u001b[1;32mtry\u001b[0m\u001b[1;33m:\u001b[0m\u001b[1;33m\u001b[0m\u001b[1;33m\u001b[0m\u001b[0m\n\u001b[1;32m--> 121\u001b[1;33m             \u001b[0mresult\u001b[0m \u001b[1;33m=\u001b[0m \u001b[1;33m(\u001b[0m\u001b[1;32mTrue\u001b[0m\u001b[1;33m,\u001b[0m \u001b[0mfunc\u001b[0m\u001b[1;33m(\u001b[0m\u001b[1;33m*\u001b[0m\u001b[0margs\u001b[0m\u001b[1;33m,\u001b[0m \u001b[1;33m**\u001b[0m\u001b[0mkwds\u001b[0m\u001b[1;33m)\u001b[0m\u001b[1;33m)\u001b[0m\u001b[1;33m\u001b[0m\u001b[1;33m\u001b[0m\u001b[0m\n\u001b[0m\u001b[0;32m    122\u001b[0m         \u001b[1;32mexcept\u001b[0m \u001b[0mException\u001b[0m \u001b[1;32mas\u001b[0m \u001b[0me\u001b[0m\u001b[1;33m:\u001b[0m\u001b[1;33m\u001b[0m\u001b[1;33m\u001b[0m\u001b[0m\n\u001b[0;32m    123\u001b[0m             \u001b[1;32mif\u001b[0m \u001b[0mwrap_exception\u001b[0m \u001b[1;32mand\u001b[0m \u001b[0mfunc\u001b[0m \u001b[1;32mis\u001b[0m \u001b[1;32mnot\u001b[0m \u001b[0m_helper_reraises_exception\u001b[0m\u001b[1;33m:\u001b[0m\u001b[1;33m\u001b[0m\u001b[1;33m\u001b[0m\u001b[0m\n",
      "\u001b[1;32mC:\\ProgramData\\Anaconda3\\lib\\site-packages\\joblib\\_parallel_backends.py\u001b[0m in \u001b[0;36m__call__\u001b[1;34m(self, *args, **kwargs)\u001b[0m\n\u001b[0;32m    565\u001b[0m     \u001b[1;32mdef\u001b[0m \u001b[0m__call__\u001b[0m\u001b[1;33m(\u001b[0m\u001b[0mself\u001b[0m\u001b[1;33m,\u001b[0m \u001b[1;33m*\u001b[0m\u001b[0margs\u001b[0m\u001b[1;33m,\u001b[0m \u001b[1;33m**\u001b[0m\u001b[0mkwargs\u001b[0m\u001b[1;33m)\u001b[0m\u001b[1;33m:\u001b[0m\u001b[1;33m\u001b[0m\u001b[1;33m\u001b[0m\u001b[0m\n\u001b[0;32m    566\u001b[0m         \u001b[1;32mtry\u001b[0m\u001b[1;33m:\u001b[0m\u001b[1;33m\u001b[0m\u001b[1;33m\u001b[0m\u001b[0m\n\u001b[1;32m--> 567\u001b[1;33m             \u001b[1;32mreturn\u001b[0m \u001b[0mself\u001b[0m\u001b[1;33m.\u001b[0m\u001b[0mfunc\u001b[0m\u001b[1;33m(\u001b[0m\u001b[1;33m*\u001b[0m\u001b[0margs\u001b[0m\u001b[1;33m,\u001b[0m \u001b[1;33m**\u001b[0m\u001b[0mkwargs\u001b[0m\u001b[1;33m)\u001b[0m\u001b[1;33m\u001b[0m\u001b[1;33m\u001b[0m\u001b[0m\n\u001b[0m\u001b[0;32m    568\u001b[0m         \u001b[1;32mexcept\u001b[0m \u001b[0mKeyboardInterrupt\u001b[0m\u001b[1;33m:\u001b[0m\u001b[1;33m\u001b[0m\u001b[1;33m\u001b[0m\u001b[0m\n\u001b[0;32m    569\u001b[0m             \u001b[1;31m# We capture the KeyboardInterrupt and reraise it as\u001b[0m\u001b[1;33m\u001b[0m\u001b[1;33m\u001b[0m\u001b[1;33m\u001b[0m\u001b[0m\n",
      "\u001b[1;32mC:\\ProgramData\\Anaconda3\\lib\\site-packages\\joblib\\parallel.py\u001b[0m in \u001b[0;36m__call__\u001b[1;34m(self)\u001b[0m\n\u001b[0;32m    223\u001b[0m         \u001b[1;32mwith\u001b[0m \u001b[0mparallel_backend\u001b[0m\u001b[1;33m(\u001b[0m\u001b[0mself\u001b[0m\u001b[1;33m.\u001b[0m\u001b[0m_backend\u001b[0m\u001b[1;33m,\u001b[0m \u001b[0mn_jobs\u001b[0m\u001b[1;33m=\u001b[0m\u001b[0mself\u001b[0m\u001b[1;33m.\u001b[0m\u001b[0m_n_jobs\u001b[0m\u001b[1;33m)\u001b[0m\u001b[1;33m:\u001b[0m\u001b[1;33m\u001b[0m\u001b[1;33m\u001b[0m\u001b[0m\n\u001b[0;32m    224\u001b[0m             return [func(*args, **kwargs)\n\u001b[1;32m--> 225\u001b[1;33m                     for func, args, kwargs in self.items]\n\u001b[0m\u001b[0;32m    226\u001b[0m \u001b[1;33m\u001b[0m\u001b[0m\n\u001b[0;32m    227\u001b[0m     \u001b[1;32mdef\u001b[0m \u001b[0m__len__\u001b[0m\u001b[1;33m(\u001b[0m\u001b[0mself\u001b[0m\u001b[1;33m)\u001b[0m\u001b[1;33m:\u001b[0m\u001b[1;33m\u001b[0m\u001b[1;33m\u001b[0m\u001b[0m\n",
      "\u001b[1;32mC:\\ProgramData\\Anaconda3\\lib\\site-packages\\joblib\\parallel.py\u001b[0m in \u001b[0;36m<listcomp>\u001b[1;34m(.0)\u001b[0m\n\u001b[0;32m    223\u001b[0m         \u001b[1;32mwith\u001b[0m \u001b[0mparallel_backend\u001b[0m\u001b[1;33m(\u001b[0m\u001b[0mself\u001b[0m\u001b[1;33m.\u001b[0m\u001b[0m_backend\u001b[0m\u001b[1;33m,\u001b[0m \u001b[0mn_jobs\u001b[0m\u001b[1;33m=\u001b[0m\u001b[0mself\u001b[0m\u001b[1;33m.\u001b[0m\u001b[0m_n_jobs\u001b[0m\u001b[1;33m)\u001b[0m\u001b[1;33m:\u001b[0m\u001b[1;33m\u001b[0m\u001b[1;33m\u001b[0m\u001b[0m\n\u001b[0;32m    224\u001b[0m             return [func(*args, **kwargs)\n\u001b[1;32m--> 225\u001b[1;33m                     for func, args, kwargs in self.items]\n\u001b[0m\u001b[0;32m    226\u001b[0m \u001b[1;33m\u001b[0m\u001b[0m\n\u001b[0;32m    227\u001b[0m     \u001b[1;32mdef\u001b[0m \u001b[0m__len__\u001b[0m\u001b[1;33m(\u001b[0m\u001b[0mself\u001b[0m\u001b[1;33m)\u001b[0m\u001b[1;33m:\u001b[0m\u001b[1;33m\u001b[0m\u001b[1;33m\u001b[0m\u001b[0m\n",
      "\u001b[1;32mc:\\users\\vasy\\documents\\econml\\econml\\bootstrap.py\u001b[0m in \u001b[0;36m<lambda>\u001b[1;34m(obj, name)\u001b[0m\n\u001b[0;32m     91\u001b[0m             \u001b[1;32mif\u001b[0m \u001b[0mmake_call\u001b[0m\u001b[1;33m:\u001b[0m\u001b[1;33m\u001b[0m\u001b[1;33m\u001b[0m\u001b[0m\n\u001b[0;32m     92\u001b[0m                 \u001b[1;32mdef\u001b[0m \u001b[0mcall\u001b[0m\u001b[1;33m(\u001b[0m\u001b[1;33m*\u001b[0m\u001b[0margs\u001b[0m\u001b[1;33m,\u001b[0m \u001b[1;33m**\u001b[0m\u001b[0mkwargs\u001b[0m\u001b[1;33m)\u001b[0m\u001b[1;33m:\u001b[0m\u001b[1;33m\u001b[0m\u001b[1;33m\u001b[0m\u001b[0m\n\u001b[1;32m---> 93\u001b[1;33m                     \u001b[1;32mreturn\u001b[0m \u001b[0msummarize_with\u001b[0m\u001b[1;33m(\u001b[0m\u001b[1;32mlambda\u001b[0m \u001b[0mobj\u001b[0m\u001b[1;33m,\u001b[0m \u001b[0mname\u001b[0m\u001b[1;33m:\u001b[0m \u001b[0mgetattr\u001b[0m\u001b[1;33m(\u001b[0m\u001b[0mobj\u001b[0m\u001b[1;33m,\u001b[0m \u001b[0mname\u001b[0m\u001b[1;33m)\u001b[0m\u001b[1;33m(\u001b[0m\u001b[1;33m*\u001b[0m\u001b[0margs\u001b[0m\u001b[1;33m,\u001b[0m \u001b[1;33m**\u001b[0m\u001b[0mkwargs\u001b[0m\u001b[1;33m)\u001b[0m\u001b[1;33m)\u001b[0m\u001b[1;33m\u001b[0m\u001b[1;33m\u001b[0m\u001b[0m\n\u001b[0m\u001b[0;32m     94\u001b[0m                 \u001b[1;32mreturn\u001b[0m \u001b[0mcall\u001b[0m\u001b[1;33m\u001b[0m\u001b[1;33m\u001b[0m\u001b[0m\n\u001b[0;32m     95\u001b[0m             \u001b[1;32melse\u001b[0m\u001b[1;33m:\u001b[0m\u001b[1;33m\u001b[0m\u001b[1;33m\u001b[0m\u001b[0m\n",
      "\u001b[1;32mc:\\users\\vasy\\documents\\econml\\econml\\dml.py\u001b[0m in \u001b[0;36mconst_marginal_effect\u001b[1;34m(self, X)\u001b[0m\n\u001b[0;32m    216\u001b[0m         \u001b[1;32mif\u001b[0m \u001b[0mX\u001b[0m \u001b[1;32mis\u001b[0m \u001b[1;32mNone\u001b[0m\u001b[1;33m:\u001b[0m\u001b[1;33m\u001b[0m\u001b[1;33m\u001b[0m\u001b[0m\n\u001b[0;32m    217\u001b[0m             \u001b[0mX\u001b[0m \u001b[1;33m=\u001b[0m \u001b[0mnp\u001b[0m\u001b[1;33m.\u001b[0m\u001b[0mones\u001b[0m\u001b[1;33m(\u001b[0m\u001b[1;33m(\u001b[0m\u001b[1;36m1\u001b[0m\u001b[1;33m,\u001b[0m \u001b[1;36m1\u001b[0m\u001b[1;33m)\u001b[0m\u001b[1;33m)\u001b[0m\u001b[1;33m\u001b[0m\u001b[1;33m\u001b[0m\u001b[0m\n\u001b[1;32m--> 218\u001b[1;33m         \u001b[1;32mreturn\u001b[0m \u001b[0mself\u001b[0m\u001b[1;33m.\u001b[0m\u001b[0m_model_final\u001b[0m\u001b[1;33m.\u001b[0m\u001b[0mpredict\u001b[0m\u001b[1;33m(\u001b[0m\u001b[0mX\u001b[0m\u001b[1;33m)\u001b[0m\u001b[1;33m\u001b[0m\u001b[1;33m\u001b[0m\u001b[0m\n\u001b[0m\u001b[0;32m    219\u001b[0m \u001b[1;33m\u001b[0m\u001b[0m\n\u001b[0;32m    220\u001b[0m     \u001b[1;32mdef\u001b[0m \u001b[0mconst_marginal_effect_interval\u001b[0m\u001b[1;33m(\u001b[0m\u001b[0mself\u001b[0m\u001b[1;33m,\u001b[0m \u001b[0mX\u001b[0m\u001b[1;33m=\u001b[0m\u001b[1;32mNone\u001b[0m\u001b[1;33m,\u001b[0m \u001b[1;33m*\u001b[0m\u001b[1;33m,\u001b[0m \u001b[0malpha\u001b[0m\u001b[1;33m=\u001b[0m\u001b[1;36m0.1\u001b[0m\u001b[1;33m)\u001b[0m\u001b[1;33m:\u001b[0m\u001b[1;33m\u001b[0m\u001b[1;33m\u001b[0m\u001b[0m\n",
      "\u001b[1;32mc:\\users\\vasy\\documents\\econml\\econml\\dml.py\u001b[0m in \u001b[0;36mpredict\u001b[1;34m(self, X)\u001b[0m\n\u001b[0;32m    369\u001b[0m             \u001b[1;32mdef\u001b[0m \u001b[0mpredict\u001b[0m\u001b[1;33m(\u001b[0m\u001b[0mself\u001b[0m\u001b[1;33m,\u001b[0m \u001b[0mX\u001b[0m\u001b[1;33m)\u001b[0m\u001b[1;33m:\u001b[0m\u001b[1;33m\u001b[0m\u001b[1;33m\u001b[0m\u001b[0m\n\u001b[0;32m    370\u001b[0m                 \u001b[0mX\u001b[0m\u001b[1;33m,\u001b[0m \u001b[0mT\u001b[0m \u001b[1;33m=\u001b[0m \u001b[0mbroadcast_unit_treatments\u001b[0m\u001b[1;33m(\u001b[0m\u001b[0mX\u001b[0m\u001b[1;33m,\u001b[0m \u001b[0mself\u001b[0m\u001b[1;33m.\u001b[0m\u001b[0m_d_t\u001b[0m\u001b[1;33m[\u001b[0m\u001b[1;36m0\u001b[0m\u001b[1;33m]\u001b[0m \u001b[1;32mif\u001b[0m \u001b[0mself\u001b[0m\u001b[1;33m.\u001b[0m\u001b[0m_d_t\u001b[0m \u001b[1;32melse\u001b[0m \u001b[1;36m1\u001b[0m\u001b[1;33m)\u001b[0m\u001b[1;33m\u001b[0m\u001b[1;33m\u001b[0m\u001b[0m\n\u001b[1;32m--> 371\u001b[1;33m                 \u001b[0mprediction\u001b[0m \u001b[1;33m=\u001b[0m \u001b[0mself\u001b[0m\u001b[1;33m.\u001b[0m\u001b[0m_model\u001b[0m\u001b[1;33m.\u001b[0m\u001b[0mpredict\u001b[0m\u001b[1;33m(\u001b[0m\u001b[0mself\u001b[0m\u001b[1;33m.\u001b[0m\u001b[0m_combine\u001b[0m\u001b[1;33m(\u001b[0m\u001b[0mX\u001b[0m\u001b[1;33m,\u001b[0m \u001b[0mT\u001b[0m\u001b[1;33m,\u001b[0m \u001b[0mfitting\u001b[0m\u001b[1;33m=\u001b[0m\u001b[1;32mFalse\u001b[0m\u001b[1;33m)\u001b[0m\u001b[1;33m)\u001b[0m\u001b[1;33m\u001b[0m\u001b[1;33m\u001b[0m\u001b[0m\n\u001b[0m\u001b[0;32m    372\u001b[0m                 return reshape_treatmentwise_effects(prediction - self._intercept if self._intercept else prediction,\n\u001b[0;32m    373\u001b[0m                                                      self._d_t, self._d_y)\n",
      "\u001b[1;32mc:\\users\\vasy\\documents\\econml\\econml\\dml.py\u001b[0m in \u001b[0;36m_combine\u001b[1;34m(self, X, T, fitting)\u001b[0m\n\u001b[0;32m    364\u001b[0m \u001b[1;33m\u001b[0m\u001b[0m\n\u001b[0;32m    365\u001b[0m             \u001b[1;32mdef\u001b[0m \u001b[0m_combine\u001b[0m\u001b[1;33m(\u001b[0m\u001b[0mself\u001b[0m\u001b[1;33m,\u001b[0m \u001b[0mX\u001b[0m\u001b[1;33m,\u001b[0m \u001b[0mT\u001b[0m\u001b[1;33m,\u001b[0m \u001b[0mfitting\u001b[0m\u001b[1;33m=\u001b[0m\u001b[1;32mTrue\u001b[0m\u001b[1;33m)\u001b[0m\u001b[1;33m:\u001b[0m\u001b[1;33m\u001b[0m\u001b[1;33m\u001b[0m\u001b[0m\n\u001b[1;32m--> 366\u001b[1;33m                 \u001b[0mF\u001b[0m \u001b[1;33m=\u001b[0m \u001b[0mself\u001b[0m\u001b[1;33m.\u001b[0m\u001b[0m_featurizer\u001b[0m\u001b[1;33m.\u001b[0m\u001b[0mfit_transform\u001b[0m\u001b[1;33m(\u001b[0m\u001b[0mX\u001b[0m\u001b[1;33m)\u001b[0m \u001b[1;32mif\u001b[0m \u001b[0mfitting\u001b[0m \u001b[1;32melse\u001b[0m \u001b[0mself\u001b[0m\u001b[1;33m.\u001b[0m\u001b[0m_featurizer\u001b[0m\u001b[1;33m.\u001b[0m\u001b[0mtransform\u001b[0m\u001b[1;33m(\u001b[0m\u001b[0mX\u001b[0m\u001b[1;33m)\u001b[0m\u001b[1;33m\u001b[0m\u001b[1;33m\u001b[0m\u001b[0m\n\u001b[0m\u001b[0;32m    367\u001b[0m                 \u001b[1;32mreturn\u001b[0m \u001b[0mcross_product\u001b[0m\u001b[1;33m(\u001b[0m\u001b[0mF\u001b[0m\u001b[1;33m,\u001b[0m \u001b[0mT\u001b[0m\u001b[1;33m)\u001b[0m\u001b[1;33m\u001b[0m\u001b[1;33m\u001b[0m\u001b[0m\n\u001b[0;32m    368\u001b[0m \u001b[1;33m\u001b[0m\u001b[0m\n",
      "\u001b[1;32mC:\\ProgramData\\Anaconda3\\lib\\site-packages\\sklearn\\preprocessing\\data.py\u001b[0m in \u001b[0;36mtransform\u001b[1;34m(self, X)\u001b[0m\n\u001b[0;32m   1467\u001b[0m \u001b[1;33m\u001b[0m\u001b[0m\n\u001b[0;32m   1468\u001b[0m         \u001b[1;32mif\u001b[0m \u001b[0mn_features\u001b[0m \u001b[1;33m!=\u001b[0m \u001b[0mself\u001b[0m\u001b[1;33m.\u001b[0m\u001b[0mn_input_features_\u001b[0m\u001b[1;33m:\u001b[0m\u001b[1;33m\u001b[0m\u001b[1;33m\u001b[0m\u001b[0m\n\u001b[1;32m-> 1469\u001b[1;33m             \u001b[1;32mraise\u001b[0m \u001b[0mValueError\u001b[0m\u001b[1;33m(\u001b[0m\u001b[1;34m\"X shape does not match training shape\"\u001b[0m\u001b[1;33m)\u001b[0m\u001b[1;33m\u001b[0m\u001b[1;33m\u001b[0m\u001b[0m\n\u001b[0m\u001b[0;32m   1470\u001b[0m \u001b[1;33m\u001b[0m\u001b[0m\n\u001b[0;32m   1471\u001b[0m         combinations = self._combinations(n_features, self.degree,\n",
      "\u001b[1;31mValueError\u001b[0m: X shape does not match training shape"
     ]
    }
   ],
   "source": [
    "\n",
    "n = 1000\n",
    "d = 10\n",
    "X = np.random.binomial(1, .5, size=(n, d))\n",
    "T = np.random.binomial(1, .5, size=(n,))\n",
    "y = (X[:, 0] + .5)*T + X[:, 0] + (0*X[:,0] + 1)*np.random.normal(0, 1, size=(n,))\n",
    "from econml.bootstrap import BootstrapEstimator\n",
    "from econml.dml import LinearDMLCateEstimator\n",
    "est = LinearDMLCateEstimator(model_y=LinearRegression(), model_t=LinearRegression(),\n",
    "                             model_final=LinearRegression(fit_intercept=False)).fit(y, T, X, None, inference='bootstrap')\n",
    "est.const_marginal_effect_interval()"
   ]
  },
  {
   "cell_type": "code",
   "execution_count": 18,
   "metadata": {},
   "outputs": [
    {
     "name": "stderr",
     "output_type": "stream",
     "text": [
      "[Parallel(n_jobs=-1)]: Using backend ThreadingBackend with 8 concurrent workers.\n",
      "[Parallel(n_jobs=-1)]: Done  16 tasks      | elapsed:    8.8s\n",
      "[Parallel(n_jobs=-1)]: Done 100 out of 100 | elapsed:   54.0s finished\n",
      "[Parallel(n_jobs=-1)]: Using backend ThreadingBackend with 8 concurrent workers.\n",
      "[Parallel(n_jobs=-1)]: Done  16 tasks      | elapsed:    0.0s\n",
      "[Parallel(n_jobs=-1)]: Done 100 out of 100 | elapsed:    0.0s finished\n"
     ]
    },
    {
     "data": {
      "image/png": "[encoded data removed]",
      "text/plain": [
       "<Figure size 720x432 with 1 Axes>"
      ]
     },
     "metadata": {
      "needs_background": "light"
     },
     "output_type": "display_data"
    }
   ],
   "source": [
    "np.random.seed(123)\n",
    "n=1000\n",
    "n_w=5\n",
    "support_size=5\n",
    "n_x=1\n",
    "support_Y=np.random.choice(range(n_w),size=support_size,replace=False)\n",
    "coefs_Y=np.random.uniform(0,1,size=support_size)\n",
    "epsilon_sample=lambda n: np.random.uniform(-1,1,size=n)\n",
    "support_T=support_Y\n",
    "coefs_T=np.random.uniform(0,1,size=support_size)\n",
    "eta_sample=lambda n: np.random.uniform(-1,1,size=n)\n",
    "W=np.random.normal(0,1,size=(n,n_w))\n",
    "X=np.random.uniform(0,1,size=(n,n_x))\n",
    "TE1=np.array([x_i[0] for x_i in X])\n",
    "TE2=np.array([2*x_i[0] for x_i in X])\n",
    "T=np.dot(W[:,support_T],coefs_T)+eta_sample(n)\n",
    "Y=TE1*T+TE2*T**2+np.dot(W[:,support_Y],coefs_Y)+epsilon_sample(n)\n",
    "X_test = np.array(list(product(np.arange(0, 1, 0.01), repeat=n_x)))\n",
    "est = LinearDMLCateEstimator(model_y=LinearRegression(fit_intercept=True),\n",
    "                             model_t=LinearRegression(fit_intercept=True),\n",
    "                             n_splits=2,\n",
    "                             featurizer=PolynomialFeatures(degree=1, include_bias=True))\n",
    "poly = PolynomialFeatures(degree=2)\n",
    "est.fit(Y, np.concatenate((T.reshape(-1,1), T.reshape(-1,1)**2), axis=1), X, poly.fit_transform(W), inference='bootstrap')\n",
    "te_pred=est.const_marginal_effect(X_test)\n",
    "te_pred_int = est.const_marginal_effect_interval(X_test, alpha=.01)\n",
    "plt.figure(figsize=(10,6))\n",
    "plt.plot(X_test, te_pred[:,0], label='DML estimate1')\n",
    "plt.fill_between(X_test[:,0], te_pred_int[0][:, 0], te_pred_int[1][:, 0], alpha=.4)\n",
    "plt.plot(X_test, te_pred[:,1], label='DML estimate2')\n",
    "plt.fill_between(X_test[:,0], te_pred_int[0][:, 1], te_pred_int[1][:, 1], alpha=.4)\n",
    "expected_te1 = np.array([x_i[0] for x_i in X_test])\n",
    "expected_te2=np.array([2*x_i[0] for x_i in X_test])\n",
    "plt.plot(X_test, expected_te1, '--', label='True effect1')\n",
    "plt.plot(X_test, expected_te2, '--', label='True effect2')\n",
    "plt.ylabel(\"Treatment Effect\")\n",
    "plt.xlabel(\"x\")\n",
    "plt.legend()\n",
    "plt.show()"
   ]
  },
  {
   "cell_type": "code",
   "execution_count": 26,
   "metadata": {},
   "outputs": [
    {
     "name": "stderr",
     "output_type": "stream",
     "text": [
      "C:\\ProgramData\\Anaconda3\\lib\\site-packages\\sklearn\\preprocessing\\label.py:252: DataConversionWarning: A column-vector y was passed when a 1d array was expected. Please change the shape of y to (n_samples, ), for example using ravel().\n",
      "  y = column_or_1d(y, warn=True)\n",
      "C:\\ProgramData\\Anaconda3\\lib\\site-packages\\sklearn\\preprocessing\\label.py:252: DataConversionWarning: A column-vector y was passed when a 1d array was expected. Please change the shape of y to (n_samples, ), for example using ravel().\n",
      "  y = column_or_1d(y, warn=True)\n",
      "C:\\ProgramData\\Anaconda3\\lib\\site-packages\\sklearn\\preprocessing\\label.py:252: DataConversionWarning: A column-vector y was passed when a 1d array was expected. Please change the shape of y to (n_samples, ), for example using ravel().\n",
      "  y = column_or_1d(y, warn=True)\n",
      "C:\\ProgramData\\Anaconda3\\lib\\site-packages\\sklearn\\preprocessing\\label.py:252: DataConversionWarning: A column-vector y was passed when a 1d array was expected. Please change the shape of y to (n_samples, ), for example using ravel().\n",
      "  y = column_or_1d(y, warn=True)\n"
     ]
    },
    {
     "data": {
      "image/png": "[encoded data removed]",
      "text/plain": [
       "<Figure size 720x432 with 1 Axes>"
      ]
     },
     "metadata": {
      "needs_background": "light"
     },
     "output_type": "display_data"
    }
   ],
   "source": [
    "def exp_te(x):\n",
    "    return np.sin(10*x[0]) + 5 * x[0] + x[0]**2\n",
    "np.random.seed(1234)\n",
    "n=100\n",
    "n_w=30\n",
    "support_size=5\n",
    "n_x=1\n",
    "support_Y=np.random.choice(range(n_w),size=support_size,replace=False)\n",
    "coefs_Y=np.random.uniform(0,1,size=support_size)\n",
    "epsilon_sample=lambda n:np.random.uniform(-1,1,size=n)\n",
    "support_T=support_Y\n",
    "coefs_T = np.random.uniform(0, 1, size=support_size)\n",
    "eta_sample = lambda n: np.random.uniform(-1, 1, size=n) \n",
    "W = np.random.normal(0, 1, size=(n, n_w))\n",
    "X = np.random.uniform(-1, 1, size=(n, n_x))\n",
    "TE = np.array([exp_te(x_i) for x_i in X])\n",
    "log_odds = np.dot(W[:, support_T], coefs_T) + eta_sample(n)\n",
    "T_sigmoid = 1/(1 + np.exp(-log_odds))\n",
    "T = np.array([np.random.binomial(1, p) for p in T_sigmoid])\n",
    "Y = TE * T + np.dot(W[:, support_Y], coefs_Y) + epsilon_sample(n)\n",
    "X_test = np.array(list(product(np.arange(-1, 1, 0.01), repeat=n_x)))\n",
    "est = LinearDMLCateEstimator(model_y=LassoCV(),\n",
    "                             model_t=LogisticRegression(solver='lbfgs'),\n",
    "                             featurizer=PolynomialFeatures(degree=4, include_bias=True),\n",
    "                             n_splits=6,\n",
    "                             discrete_treatment=True)\n",
    "from econml.inference import StatsModelsInference, BootstrapInference\n",
    "est.fit(Y, T, X, W, inference='statsmodels')\n",
    "te_pred = est.effect(X_test)\n",
    "te_pred_int = est.effect_interval(X_test, alpha=.01)\n",
    "plt.figure(figsize=(10,6))\n",
    "plt.plot(X_test,te_pred,label='DML estimate')\n",
    "expected_te=np.array([exp_te(x_i) for x_i in X_test])\n",
    "plt.plot(X_test,expected_te,'b--',label='True effect')\n",
    "plt.fill_between(X_test[:, 0], te_pred_int[0], te_pred_int[1], alpha=.5)\n",
    "plt.ylabel('Treatment Effect')\n",
    "plt.xlabel('x')\n",
    "plt.legend()\n",
    "plt.show()"
   ]
  },
  {
   "cell_type": "code",
   "execution_count": 15,
   "metadata": {},
   "outputs": [
    {
     "name": "stdout",
     "output_type": "stream",
     "text": [
      "True\n",
      "0.01\n",
      "[[10.0000 3.7325 3.2482]\n",
      " [1.0000 3.7325 3.2482]\n",
      " [0.1000 3.5739 3.0906]\n",
      " [0.0100 3.5478 3.0802]\n",
      " [0.0050 3.5477 3.0841]\n",
      " [0.0010 3.5482 3.0876]\n",
      " [0.0001 3.5483 3.0885]\n",
      " [0.0000 3.5483 3.0886]]\n",
      "0.01\n",
      "[[10.0000 0.1362 0.2778]\n",
      " [1.0000 0.1362 0.2778]\n",
      " [0.1000 0.0518 0.3285]\n",
      " [0.0100 0.0596 0.2483]\n",
      " [0.0050 0.0612 0.6868]\n",
      " [0.0010 0.0635 1.3472]\n",
      " [0.0001 0.0642 1.7713]\n",
      " [0.0000 0.0643 1.8228]]\n",
      "[0.995228   0.89605018]\n",
      "[[ 0.9455227   0.07212538 -0.04128296 -0.        ]\n",
      " [ 1.10842242  0.10227525  0.05443657 -0.        ]]\n",
      "[0.995228   0.89605018]\n",
      "[[ 0.9455227   0.07212538 -0.04128296 -0.        ]\n",
      " [ 1.10842242  0.10227525  0.05443657 -0.        ]]\n"
     ]
    }
   ],
   "source": [
    "import numpy as np\n",
    "from econml.tests.test_statsmodels import _summarize\n",
    "from econml.utilities import WeightedLassoCV, WeightedMultiTaskLassoCV\n",
    "from sklearn.linear_model import MultiTaskLassoCV, LassoCV, MultiTaskLasso\n",
    "np.random.seed(1235)\n",
    "n=1000\n",
    "d=4\n",
    "p=2\n",
    "\n",
    "for _ in range(1):\n",
    "    X = np.random.binomial(1, .8, size=(n, d)).astype(np.float)\n",
    "    X_test = np.random.binomial(1, .5, size=(n, d))\n",
    "    y = X[:, [0]*p] + 1 + (1*X[:, [0]] + 1)*np.random.normal(0, 1, size=(n,p))\n",
    "    X_sum = np.unique(X, axis=0)\n",
    "    n_sum = np.zeros(X_sum.shape[0])\n",
    "    if p==1:\n",
    "        y = y.ravel()\n",
    "        y_sum = np.zeros(X_sum.shape[0])\n",
    "    else:\n",
    "        y_sum = np.zeros((X_sum.shape[0], p))\n",
    "    for it, x in enumerate(X_sum):\n",
    "        mask = (X==x).all(axis=1)\n",
    "        y_sum[it] = np.mean(y[mask], axis=0, keepdims=True)\n",
    "        n_sum[it] = np.sum(mask)\n",
    "\n",
    "    from econml.utilities import WeightedModelWrapper\n",
    "    from sklearn.linear_model import Lasso, LinearRegression\n",
    "    \n",
    "    alphas = [1e-8, 1e-4, .001, .005, .01, .1, 1, 10]\n",
    "    for fit_intercept in [True]:\n",
    "        print(fit_intercept)\n",
    "        est = MultiTaskLassoCV(cv=2, alphas=alphas, fit_intercept=fit_intercept,\n",
    "                    tol=1e-6, max_iter=10000, random_state=123).fit(X, y)\n",
    "        lr = WeightedMultiTaskLassoCV(cv=2, alphas=alphas, fit_intercept=fit_intercept,\n",
    "                    tol=1e-12, random_state=123).fit(X_sum, y_sum, sample_weight=n_sum)\n",
    "        with np.printoptions(formatter={'float': '{:.4f}'.format}, suppress=True):\n",
    "            print(est.alpha_)\n",
    "            print(np.hstack([est.alphas_.reshape(-1, 1), est.mse_path_]))\n",
    "            print(lr.alpha_)\n",
    "            print(np.hstack([lr.alphas_.reshape(-1, 1), lr.mse_path_]))\n",
    "        print(lr.intercept_)\n",
    "        print(lr.coef_)\n",
    "        print(est.intercept_)\n",
    "        print(est.coef_)\n",
    "        #assert np.all(np.abs(est.intercept_-lr.intercept_)<=1e-10), print(est.intercept_, lr.intercept_)\n",
    "        #assert np.all(np.abs(est.coef_-lr.coef_)<=1e-10), print(est.coef_, lr.coef_)\n",
    "        #assert np.all(np.abs(est.predict(X_test) - lr.predict(X_test))<=1e-10)"
   ]
  },
  {
   "cell_type": "code",
   "execution_count": 34,
   "metadata": {},
   "outputs": [
    {
     "name": "stdout",
     "output_type": "stream",
     "text": [
      "[1 0 0 0 1 0 1 0 1 0]\n",
      "0\n",
      "[[1]\n",
      " [2]\n",
      " [3]\n",
      " [5]\n",
      " [7]\n",
      " [9]]\n",
      "1\n",
      "[[0]\n",
      " [4]\n",
      " [6]\n",
      " [8]]\n"
     ]
    }
   ],
   "source": [
    "import numpy as np\n",
    "y = np.random.randint(0, 2, size=(10,))\n",
    "print(y)\n",
    "for t in np.unique(y, axis=0):\n",
    "    print(t)\n",
    "    if y.ndim==2:\n",
    "        print(np.argwhere(np.all(y==t, axis=1)))\n",
    "    else:\n",
    "        print(np.argwhere(y==t))"
   ]
  },
  {
   "cell_type": "code",
   "execution_count": 23,
   "metadata": {},
   "outputs": [
    {
     "name": "stdout",
     "output_type": "stream",
     "text": [
      "[]\n",
      "[]\n",
      "[]\n",
      "[]\n",
      "[[0, 1], [0, 1], [0, 1], [0, 1]]\n"
     ]
    }
   ],
   "source": [
    "splits = [[] for t in range(4)]\n",
    "for t in range(4):\n",
    "    print(splits[t])\n",
    "    splits[t].extend([0, 1])\n",
    "print(splits)"
   ]
  },
  {
   "cell_type": "code",
   "execution_count": 31,
   "metadata": {},
   "outputs": [
    {
     "name": "stdout",
     "output_type": "stream",
     "text": [
      "WeightedLasso(alpha=0.05, copy_X=True, fit_intercept=False, max_iter=1000,\n",
      "              normalize=False, positive=False, precompute=False,\n",
      "              random_state=123, selection='cyclic', tol=1e-06,\n",
      "              warm_start=False)\n"
     ]
    }
   ],
   "source": [
    "from econml.utilities import GridSearchCVList\n",
    "from sklearn.linear_model import LinearRegression, MultiTaskLassoCV, MultiTaskLasso, Lasso\n",
    "from econml.utilities import WeightedModelWrapper, LassoCVWrapper, WeightedLasso, GridSearchCVList\n",
    "from sklearn.ensemble import RandomForestRegressor, GradientBoostingRegressor\n",
    "est = GridSearchCVList([LinearRegression(),\n",
    "                 WeightedLasso(alpha=.05, fit_intercept=False, tol=1e-6, random_state=123),\n",
    "                 RandomForestRegressor(n_estimators=100, max_depth=3, min_samples_leaf=10, random_state=123),\n",
    "                 GradientBoostingRegressor(n_estimators=20, max_depth=3, min_samples_leaf=10, random_state=123)],\n",
    "                 param_grid_list=[{},\n",
    "                                  {},\n",
    "                                  {},\n",
    "                                  {}],\n",
    "                 cv=3,\n",
    "                 iid=True).fit(X, y)"
   ]
  },
  {
   "cell_type": "code",
   "execution_count": 72,
   "metadata": {},
   "outputs": [
    {
     "ename": "AttributeError",
     "evalue": "'list' object has no attribute 'write'",
     "output_type": "error",
     "traceback": [
      "\u001b[1;31m---------------------------------------------------------------------------\u001b[0m",
      "\u001b[1;31mAttributeError\u001b[0m                            Traceback (most recent call last)",
      "\u001b[1;32m<ipython-input-72-b1c32de98c9d>\u001b[0m in \u001b[0;36m<module>\u001b[1;34m\u001b[0m\n\u001b[1;32m----> 1\u001b[1;33m \u001b[0mprint\u001b[0m\u001b[1;33m(\u001b[0m\u001b[1;34m\"test\"\u001b[0m\u001b[1;33m,\u001b[0m \u001b[0mfile\u001b[0m\u001b[1;33m=\u001b[0m\u001b[1;33m[\u001b[0m\u001b[1;32mNone\u001b[0m\u001b[1;33m,\u001b[0m \u001b[0mopen\u001b[0m\u001b[1;33m(\u001b[0m\u001b[1;34m\"test.txt\"\u001b[0m\u001b[1;33m,\u001b[0m \u001b[1;34m\"a\"\u001b[0m\u001b[1;33m)\u001b[0m\u001b[1;33m]\u001b[0m\u001b[1;33m)\u001b[0m\u001b[1;33m\u001b[0m\u001b[1;33m\u001b[0m\u001b[0m\n\u001b[0m",
      "\u001b[1;31mAttributeError\u001b[0m: 'list' object has no attribute 'write'"
     ]
    }
   ],
   "source": [
    "print(\"test\", file=[None, open(\"test.txt\", \"a\")])"
   ]
  },
  {
   "cell_type": "code",
   "execution_count": 24,
   "metadata": {},
   "outputs": [
    {
     "name": "stdout",
     "output_type": "stream",
     "text": [
      "-0.014610328239809095\n",
      "{}\n",
      "{'mean_fit_time': array([0.00066535]), 'std_fit_time': array([0.00047047]), 'mean_score_time': array([0.00066725]), 'std_score_time': array([0.00047182]), 'params': [{}], 'split0_test_score': array([-0.05471556]), 'split1_test_score': array([0.00452196]), 'split2_test_score': array([0.00648896]), 'mean_test_score': array([-0.01461033]), 'std_test_score': array([0.02841257]), 'rank_test_score': array([1])}\n",
      "-0.009438144930192441\n",
      "{}\n",
      "{'mean_fit_time': array([0.00099444]), 'std_fit_time': array([6.14670039e-06]), 'mean_score_time': array([0.00100644]), 'std_score_time': array([5.95993463e-06]), 'params': [{}], 'split0_test_score': array([-0.05463273]), 'split1_test_score': array([0.00784569]), 'split2_test_score': array([0.01864075]), 'mean_test_score': array([-0.00943814]), 'std_test_score': array([0.03230704]), 'rank_test_score': array([1])}\n",
      "-0.016348038277418608\n",
      "{}\n",
      "{'mean_fit_time': array([0.06600046]), 'std_fit_time': array([0.01177326]), 'mean_score_time': array([0.00599718]), 'std_score_time': array([0.00141293]), 'params': [{}], 'split0_test_score': array([-0.08051339]), 'split1_test_score': array([0.01627177]), 'split2_test_score': array([0.01538754]), 'mean_test_score': array([-0.01634804]), 'std_test_score': array([0.04544127]), 'rank_test_score': array([1])}\n",
      "-0.010034804628580073\n",
      "{}\n",
      "{'mean_fit_time': array([0.00500035]), 'std_fit_time': array([9.73339773e-07]), 'mean_score_time': array([0.00033331]), 'std_score_time': array([0.00047137]), 'params': [{}], 'split0_test_score': array([-0.05320396]), 'split1_test_score': array([0.02105038]), 'split2_test_score': array([0.00212196]), 'mean_test_score': array([-0.0100348]), 'std_test_score': array([0.03153157]), 'rank_test_score': array([1])}\n"
     ]
    }
   ],
   "source": [
    "for gcv in est._gcv_list:\n",
    "    print(gcv.best_score_)\n",
    "    print(gcv.best_params_)\n",
    "    print(gcv.cv_results_)"
   ]
  },
  {
   "cell_type": "code",
   "execution_count": 15,
   "metadata": {},
   "outputs": [
    {
     "name": "stdout",
     "output_type": "stream",
     "text": [
      "1 1\n",
      "2 2\n"
     ]
    }
   ],
   "source": [
    "for e1, e2 in zip([1,2,3], [1,2]):\n",
    "    print(e1, e2)"
   ]
  },
  {
   "cell_type": "code",
   "execution_count": 11,
   "metadata": {},
   "outputs": [
    {
     "ename": "AssertionError",
     "evalue": "[1.32834013 0.41398926 0.3979608 ] != [1.32310831 0.4094063  0.3934184 ]",
     "output_type": "error",
     "traceback": [
      "\u001b[1;31m---------------------------------------------------------------------------\u001b[0m",
      "\u001b[1;31mAssertionError\u001b[0m                            Traceback (most recent call last)",
      "\u001b[1;32m<ipython-input-11-c3c8dc9d34b3>\u001b[0m in \u001b[0;36m<module>\u001b[1;34m\u001b[0m\n\u001b[0;32m     27\u001b[0m     \u001b[0mlr\u001b[0m \u001b[1;33m=\u001b[0m \u001b[0mWeightedModelWrapper\u001b[0m\u001b[1;33m(\u001b[0m\u001b[0mLassoCV\u001b[0m\u001b[1;33m(\u001b[0m\u001b[0mcv\u001b[0m\u001b[1;33m=\u001b[0m\u001b[1;36m3\u001b[0m\u001b[1;33m,\u001b[0m \u001b[0malphas\u001b[0m\u001b[1;33m=\u001b[0m\u001b[1;33m[\u001b[0m\u001b[1;36m1e-4\u001b[0m\u001b[1;33m,\u001b[0m \u001b[1;36m1e-3\u001b[0m\u001b[1;33m,\u001b[0m \u001b[1;36m1e-2\u001b[0m\u001b[1;33m,\u001b[0m \u001b[1;36m.1\u001b[0m\u001b[1;33m,\u001b[0m \u001b[1;36m1\u001b[0m\u001b[1;33m,\u001b[0m \u001b[1;36m10\u001b[0m\u001b[1;33m]\u001b[0m\u001b[1;33m,\u001b[0m \u001b[0mfit_intercept\u001b[0m\u001b[1;33m=\u001b[0m\u001b[1;32mFalse\u001b[0m\u001b[1;33m,\u001b[0m \u001b[0mmax_iter\u001b[0m\u001b[1;33m=\u001b[0m\u001b[1;36m10000\u001b[0m\u001b[1;33m,\u001b[0m \u001b[0mtol\u001b[0m\u001b[1;33m=\u001b[0m\u001b[1;36m1e-4\u001b[0m\u001b[1;33m,\u001b[0m \u001b[0mrandom_state\u001b[0m\u001b[1;33m=\u001b[0m\u001b[1;36m123\u001b[0m\u001b[1;33m)\u001b[0m\u001b[1;33m)\u001b[0m\u001b[1;33m.\u001b[0m\u001b[0mfit\u001b[0m\u001b[1;33m(\u001b[0m\u001b[0mX_sum\u001b[0m\u001b[1;33m,\u001b[0m \u001b[0my_sum\u001b[0m\u001b[1;33m,\u001b[0m \u001b[0msample_weight\u001b[0m\u001b[1;33m=\u001b[0m\u001b[0mn_sum\u001b[0m\u001b[1;33m)\u001b[0m\u001b[1;33m\u001b[0m\u001b[1;33m\u001b[0m\u001b[0m\n\u001b[0;32m     28\u001b[0m     \u001b[1;31m#assert np.abs(est.alpha_ - lr.alpha_) <= 1e-10, \"{} != {}\".format(est.alpha_, lr.alpha_)\u001b[0m\u001b[1;33m\u001b[0m\u001b[1;33m\u001b[0m\u001b[1;33m\u001b[0m\u001b[0m\n\u001b[1;32m---> 29\u001b[1;33m     \u001b[1;32massert\u001b[0m \u001b[0mnp\u001b[0m\u001b[1;33m.\u001b[0m\u001b[0mall\u001b[0m\u001b[1;33m(\u001b[0m\u001b[0mnp\u001b[0m\u001b[1;33m.\u001b[0m\u001b[0mabs\u001b[0m\u001b[1;33m(\u001b[0m\u001b[0mest\u001b[0m\u001b[1;33m.\u001b[0m\u001b[0mcoef_\u001b[0m\u001b[1;33m-\u001b[0m\u001b[0mlr\u001b[0m\u001b[1;33m.\u001b[0m\u001b[0mcoef_\u001b[0m\u001b[1;33m)\u001b[0m\u001b[1;33m<=\u001b[0m\u001b[1;36m1e-10\u001b[0m\u001b[1;33m)\u001b[0m\u001b[1;33m,\u001b[0m \u001b[1;34m\"{} != {}\"\u001b[0m\u001b[1;33m.\u001b[0m\u001b[0mformat\u001b[0m\u001b[1;33m(\u001b[0m\u001b[0mest\u001b[0m\u001b[1;33m.\u001b[0m\u001b[0mcoef_\u001b[0m\u001b[1;33m,\u001b[0m \u001b[0mlr\u001b[0m\u001b[1;33m.\u001b[0m\u001b[0mcoef_\u001b[0m\u001b[1;33m)\u001b[0m\u001b[1;33m\u001b[0m\u001b[1;33m\u001b[0m\u001b[0m\n\u001b[0m",
      "\u001b[1;31mAssertionError\u001b[0m: [1.32834013 0.41398926 0.3979608 ] != [1.32310831 0.4094063  0.3934184 ]"
     ]
    }
   ],
   "source": [
    "import numpy as np\n",
    "from econml.tests.test_statsmodels import _summarize\n",
    "np.random.seed(12)\n",
    "n=5000\n",
    "d=3\n",
    "p=1\n",
    "\n",
    "for _ in range(10):\n",
    "    X = np.random.binomial(1, .8, size=(n, d))\n",
    "    y = X[:, [0]*p] + 1 + (1*X[:, [0]] + 1)*np.random.normal(0, 1, size=(n,p))\n",
    "    X_sum = np.unique(X, axis=0)\n",
    "    n_sum = np.zeros(X_sum.shape[0])\n",
    "    if p==1:\n",
    "        y = y.ravel()\n",
    "        y_sum = np.zeros(X_sum.shape[0])\n",
    "    else:\n",
    "        y_sum = np.zeros((X_sum.shape[0], p))\n",
    "    for it, x in enumerate(X_sum):\n",
    "        mask = (X==x).all(axis=1)\n",
    "        y_sum[it] = np.mean(y[mask], axis=0, keepdims=True)\n",
    "        n_sum[it] = np.sum(mask)\n",
    "    \n",
    "    from econml.utilities import WeightedModelWrapper\n",
    "    from sklearn.linear_model import Lasso, LinearRegression, LassoCV\n",
    "\n",
    "    est = LassoCV(cv=3, alphas=[1e-4, 1e-3, 1e-2, .1, 1, 10], fit_intercept=False, max_iter=10000, tol=1e-4, random_state=123).fit(X, y)\n",
    "    lr = WeightedModelWrapper(LassoCV(cv=3, alphas=[1e-4, 1e-3, 1e-2, .1, 1, 10], fit_intercept=False, max_iter=10000, tol=1e-4, random_state=123)).fit(X_sum, y_sum, sample_weight=n_sum)\n",
    "    #assert np.abs(est.alpha_ - lr.alpha_) <= 1e-10, \"{} != {}\".format(est.alpha_, lr.alpha_)\n",
    "    assert np.all(np.abs(est.coef_-lr.coef_)<=1e-10), \"{} != {}\".format(est.coef_, lr.coef_)"
   ]
  },
  {
   "cell_type": "code",
   "execution_count": 164,
   "metadata": {},
   "outputs": [
    {
     "ename": "AssertionError",
     "evalue": "7: [0.94585124 0.94600339 1.05960627 1.06341396 2.00409182 2.05791732\n 1.94695593 1.99703607] != [0.94596592 0.94596592 1.05960627 1.06341396 2.00409182 2.05791732\n 1.94695593 1.99703607]",
     "output_type": "error",
     "traceback": [
      "\u001b[1;31m---------------------------------------------------------------------------\u001b[0m",
      "\u001b[1;31mAssertionError\u001b[0m                            Traceback (most recent call last)",
      "\u001b[1;32m<ipython-input-164-d4309eb8f3d1>\u001b[0m in \u001b[0;36m<module>\u001b[1;34m\u001b[0m\n\u001b[0;32m     30\u001b[0m     assert np.all(np.abs(est.predict(X_test)-lr.predict(X_test))<=1e-10), \"{}: {} != {}\".format(it,\n\u001b[0;32m     31\u001b[0m                                                                                                 \u001b[0mest\u001b[0m\u001b[1;33m.\u001b[0m\u001b[0mpredict\u001b[0m\u001b[1;33m(\u001b[0m\u001b[0mX_test\u001b[0m\u001b[1;33m)\u001b[0m\u001b[1;33m,\u001b[0m\u001b[1;33m\u001b[0m\u001b[1;33m\u001b[0m\u001b[0m\n\u001b[1;32m---> 32\u001b[1;33m                                                                                                 lr.predict(X_test))\n\u001b[0m",
      "\u001b[1;31mAssertionError\u001b[0m: 7: [0.94585124 0.94600339 1.05960627 1.06341396 2.00409182 2.05791732\n 1.94695593 1.99703607] != [0.94596592 0.94596592 1.05960627 1.06341396 2.00409182 2.05791732\n 1.94695593 1.99703607]"
     ]
    }
   ],
   "source": [
    "import numpy as np\n",
    "from econml.tests.test_statsmodels import _summarize\n",
    "np.random.seed(12)\n",
    "n=5000\n",
    "d=3\n",
    "p=1\n",
    "\n",
    "for it in range(50):\n",
    "    X = np.random.binomial(1, .8, size=(n, d))\n",
    "    X_test = np.unique(np.random.binomial(1, .5, size=(100, d)), axis=0)\n",
    "    y = X[:, [0]*p] + 1 + (1*X[:, [0]] + 1)*np.random.normal(0, 1, size=(n,p))\n",
    "    X_sum = np.unique(X, axis=0)\n",
    "    n_sum = np.zeros(X_sum.shape[0])\n",
    "    if p==1:\n",
    "        y = y.ravel()\n",
    "        y_sum = np.zeros(X_sum.shape[0])\n",
    "    else:\n",
    "        y_sum = np.zeros((X_sum.shape[0], p))\n",
    "    for it, x in enumerate(X_sum):\n",
    "        mask = (X==x).all(axis=1)\n",
    "        y_sum[it] = np.mean(y[mask], axis=0, keepdims=True)\n",
    "        n_sum[it] = np.sum(mask)\n",
    "    \n",
    "    from econml.utilities import WeightedModelWrapper\n",
    "    from sklearn.linear_model import Lasso, LinearRegression, LassoCV\n",
    "    from sklearn.ensemble import RandomForestRegressor\n",
    "\n",
    "    est = RandomForestRegressor(n_estimators=1, bootstrap=False, random_state=123).fit(X, y)\n",
    "    lr = RandomForestRegressor(n_estimators=1, bootstrap=False, random_state=123).fit(X_sum, y_sum, sample_weight=n_sum)\n",
    "    assert np.all(np.abs(est.predict(X_test)-lr.predict(X_test))<=1e-10), \"{}: {} != {}\".format(it,\n",
    "                                                                                                est.predict(X_test),\n",
    "                                                                                                lr.predict(X_test))"
   ]
  },
  {
   "cell_type": "code",
   "execution_count": null,
   "metadata": {},
   "outputs": [],
   "source": [
    "import numpy as np\n",
    "from econml.tests.test_statsmodels import _summarize\n",
    "np.random.seed(12)\n",
    "n=5000\n",
    "d=3\n",
    "p=1\n",
    "for it in range(50):\n",
    "    X = np.random.binomial(1, .8, size=(n, d))\n",
    "    X_test = np.unique(np.random.binomial(1, .5, size=(100, d)), axis=0)\n",
    "    y = X[:, [0]*p] + 1 + (1*X[:, [0]] + 1)*np.random.normal(0, 1, size=(n,p))\n",
    "    X_sum = np.unique(X, axis=0)\n",
    "    n_sum = np.zeros(X_sum.shape[0])\n",
    "    if p==1:\n",
    "        y = y.ravel()\n",
    "        y_sum = np.zeros(X_sum.shape[0])\n",
    "    else:\n",
    "        y_sum = np.zeros((X_sum.shape[0], p))\n",
    "    for it, x in enumerate(X_sum):\n",
    "        mask = (X==x).all(axis=1)\n",
    "        y_sum[it] = np.mean(y[mask], axis=0, keepdims=True)\n",
    "        n_sum[it] = np.sum(mask)"
   ]
  },
  {
   "cell_type": "code",
   "execution_count": 33,
   "metadata": {
    "scrolled": false
   },
   "outputs": [
    {
     "name": "stdout",
     "output_type": "stream",
     "text": [
      "[0.945 0.956]\n",
      "[ 1.11912684 -0.10840013]\n",
      "                            WLS Regression Results                            \n",
      "==============================================================================\n",
      "Dep. Variable:                      y   R-squared:                       0.179\n",
      "Model:                            WLS   Adj. R-squared:                  0.178\n",
      "Method:                 Least Squares   F-statistic:                     109.0\n",
      "Date:                Wed, 25 Sep 2019   Prob (F-statistic):           1.55e-43\n",
      "Time:                        09:54:03   Log-Likelihood:                -1392.6\n",
      "No. Observations:                1000   AIC:                             2791.\n",
      "Df Residuals:                     997   BIC:                             2806.\n",
      "Df Model:                           2                                         \n",
      "Covariance Type:            nonrobust                                         \n",
      "==============================================================================\n",
      "                 coef    std err          z      P>|z|      [0.025      0.975]\n",
      "------------------------------------------------------------------------------\n",
      "const          0.9972      0.093     10.708      0.000       0.815       1.180\n",
      "x1             1.1191      0.077     14.600      0.000       0.969       1.269\n",
      "x2            -0.1084      0.076     -1.427      0.154      -0.257       0.040\n",
      "==============================================================================\n",
      "Omnibus:                        0.910   Durbin-Watson:                   2.000\n",
      "Prob(Omnibus):                  0.634   Jarque-Bera (JB):                0.993\n",
      "Skew:                           0.059   Prob(JB):                        0.609\n",
      "Kurtosis:                       2.901   Cond. No.                         5.96\n",
      "==============================================================================\n",
      "\n",
      "Warnings:\n",
      "[1] Standard Errors assume that the covariance matrix of the errors is correctly specified.\n"
     ]
    }
   ],
   "source": [
    "import numpy as np\n",
    "from econml.tests.test_statsmodels import _summarize\n",
    "from econml.utilities import StatsModelsWrapperOLD\n",
    "import numpy as np\n",
    "np.random.seed(12)\n",
    "n=1000\n",
    "d=2\n",
    "p=1\n",
    "\n",
    "for it in range(1):\n",
    "    #est = StatsModelsWrapperOLD(fit_args={'cov_type':'nonrobust'}).fit(X, y)\n",
    "    n_mc = 1000\n",
    "    cov = 0\n",
    "    for t in range(n_mc):\n",
    "        X = np.random.binomial(1, .8, size=(n, d))\n",
    "        X_test = np.unique(np.random.binomial(1, .5, size=(100, d)), axis=0)\n",
    "        y = X[:, [0]*p] + 1 + (0*X[:, [0]] + 1)*np.random.normal(0, 1, size=(n,p))\n",
    "        true_coef = np.zeros((d,))\n",
    "        true_coef[0] = 1\n",
    "        X_sum = np.unique(X, axis=0)\n",
    "        n_sum = np.zeros(X_sum.shape[0])\n",
    "        if p==1:\n",
    "            y = y.ravel()\n",
    "            y_sum = np.zeros(X_sum.shape[0])\n",
    "        else:\n",
    "            y_sum = np.zeros((X_sum.shape[0], p))\n",
    "        for it, x in enumerate(X_sum):\n",
    "            mask = (X==x).all(axis=1)\n",
    "            y_sum[it] = np.mean(y[mask], axis=0, keepdims=True)\n",
    "            n_sum[it] = np.sum(mask)\n",
    "\n",
    "        from econml.utilities import WeightedModelWrapper\n",
    "        from sklearn.linear_model import Lasso, LinearRegression, LassoCV\n",
    "        from sklearn.ensemble import RandomForestRegressor\n",
    "        \n",
    "        lr = StatsModelsWrapperOLD(fit_args={'cov_type':'nonrobust', 'use_t':False}).fit(X, y)\n",
    "        #lr = StatsModelsWrapperOLD(fit_args={'cov_type':'nonrobust', 'use_t':False}).fit(X_sum, y_sum, sample_weight=n_sum)\n",
    "        low, high = lr.coef__interval(alpha=.05)\n",
    "        cov += (low <= true_coef) & (high >= true_coef)\n",
    "    print(cov/n_mc)\n",
    "    #print(est.coef_)\n",
    "    print(lr.coef_)\n",
    "    #print(est.results.summary())\n",
    "    print(lr.results.summary())\n",
    "    #plt.hist(n_sum)\n",
    "    #plt.show()\n",
    "    #assert np.all(np.abs(est.predict(X_test)-lr.predict(X_test))<=1e-10), \"{}: {} != {}\".format(it,\n",
    "    #                                                                                            est.predict(X_test),\n",
    "    #                                                                                            lr.predict(X_test))"
   ]
  },
  {
   "cell_type": "code",
   "execution_count": 253,
   "metadata": {},
   "outputs": [],
   "source": [
    "from econml.inference import StatsModelsInference\n",
    "from econml.tests.test_statsmodels import _summarize\n",
    "np.random.seed(123)\n",
    "n = 100000\n",
    "precision = .01\n",
    "precision_int = .0001\n",
    "with np.printoptions(formatter={'float': '{:.4f}'.format}, suppress=True):\n",
    "    for d in [2, 5]: #n_feats + n_controls\n",
    "        for d_x in [2]: #n_feats\n",
    "            for p in [1, 5]: #n_outcomes\n",
    "                for q in [1, 5]: #n_treatments\n",
    "                    X = np.random.binomial(1, .5, size=(n, d))\n",
    "                    T = np.hstack([np.random.binomial(1, .5 + .2*(2*X[:, [1]]-1)) for _ in range(q)])\n",
    "                    true_effect = lambda x, i: np.hstack([x[:, [0]] + 10*t + i for t in range(p)])\n",
    "                    y = np.sum((true_effect(X, i)*T[:, [i]] for i in range(q)), axis=0) + X[:, [0]*p] #+ np.random.normal(0, 1, size=(n,p))\n",
    "                    if p==1:\n",
    "                        y = y.flatten()\n",
    "                    X_test = np.random.binomial(1, .5, size=(100, d))\n",
    "                    est = LinearDMLCateEstimator(model_y=LinearRegression(),\n",
    "                                                model_t=LinearRegression(),\n",
    "                                                linear_first_stages=False)\n",
    "                    est.fit(y, T, X[:, :d_x], X[:, d_x:], inference=StatsModelsInference(cov_type='nonrobust'))\n",
    "                    coef = est.coef_.reshape(p, q, d_x+1)\n",
    "                    lower, upper = est.coef__interval(alpha=.001)\n",
    "                    lower = lower.reshape(p, q, d_x+1)\n",
    "                    upper = upper.reshape(p, q, d_x+1)\n",
    "                    for i in range(p):\n",
    "                        for j in range(q):\n",
    "                            assert np.abs(coef[i, j, 0] - 10*i - j) < precision, (coef[i,j,0], 10*i+j)\n",
    "                            assert (lower[i, j, 0] <= 10*i + j + precision_int) & (upper[i, j, 0] >= 10*i+j-precision_int), (lower[i,j,0], upper[i,j,0], 10*i+j)\n",
    "                            assert np.abs(coef[i, j, 1] - 1) < precision, (coef[i, j, 1], 1)\n",
    "                            assert (lower[i, j, 1] <= 1 + precision_int) & (upper[i, j, 1] >= 1 - precision_int), (lower[i, j, 1], upper[i, j, 1])\n",
    "                            assert np.all(np.abs(coef[i, j, 2:]) < precision)\n",
    "                            assert np.all((lower[i, j, 2:] <= precision_int) & (upper[i, j, 2:] >= -precision_int)), (np.max(lower[i, j, 2:]), np.min(upper[i, j, 2:]))\n",
    "\n",
    "                    XT = np.hstack([X, T])\n",
    "                    X1, X2, y1, y2, X_final_first, X_final_sec, y_sum_first, y_sum_sec, n_sum_first, n_sum_sec, var_first, var_sec = _summarize(XT, y)\n",
    "                    X = np.vstack([X1, X2])\n",
    "                    y = np.concatenate((y1, y2))\n",
    "                    X_final = np.vstack([X_final_first, X_final_sec])\n",
    "                    y_sum = np.concatenate((y_sum_first, y_sum_sec))\n",
    "                    n_sum = np.concatenate((n_sum_first, n_sum_sec))\n",
    "                    var_sum = np.concatenate((var_first, var_sec))\n",
    "                    first_half_sum = len(y_sum_first)\n",
    "                    first_half = len(y1)\n",
    "\n",
    "                    class SplitterSum:\n",
    "                        def __init__(self):\n",
    "                            return\n",
    "                        def split(self, X, T):\n",
    "                            return [(np.arange(0, first_half_sum), np.arange(first_half_sum, X.shape[0])), \n",
    "                                    (np.arange(first_half_sum, X.shape[0]), np.arange(0, first_half_sum))]\n",
    "\n",
    "                    est = LinearDMLCateEstimator(model_y = LinearRegression(),\n",
    "                                        model_t = LinearRegression(),\n",
    "                                        n_splits=SplitterSum(),\n",
    "                                        linear_first_stages=False,\n",
    "                                        discrete_treatment=False).fit(y_sum,\n",
    "                                                                      X_final[:, d:],\n",
    "                                                                      X_final[:, :d_x],\n",
    "                                                                      X_final[:, d_x:d],\n",
    "                                                                      sample_weight=n_sum,\n",
    "                                                                      var_weight=var_sum,\n",
    "                                                                      inference=StatsModelsInference(cov_type='nonrobust'))\n",
    "                    coef = est.coef_.reshape(p, q, d_x+1)\n",
    "                    lower, upper = est.coef__interval(alpha=.001)\n",
    "                    lower = lower.reshape(p, q, d_x+1)\n",
    "                    upper = upper.reshape(p, q, d_x+1)\n",
    "                    for i in range(p):\n",
    "                        for j in range(q):\n",
    "                            assert np.abs(coef[i, j, 0] - 10*i - j) < precision, (coef[i,j,0], 10*i+j)\n",
    "                            assert (lower[i, j, 0] <= 10*i + j + precision_int) & (upper[i, j, 0] >= 10*i+j-precision_int), (lower[i,j,0], upper[i,j,0], 10*i+j)\n",
    "                            assert np.abs(coef[i, j, 1] - 1) < precision, (coef[i, j, 1], 1)\n",
    "                            assert (lower[i, j, 1] <= 1 + precision_int) & (upper[i, j, 1] >= 1 - precision_int), (lower[i, j, 1], upper[i, j, 1])\n",
    "                            assert np.all(np.abs(coef[i, j, 2:]) < precision)\n",
    "                            assert np.all((lower[i, j, 2:] <= precision_int) & (upper[i, j, 2:] >= -precision_int)), (np.max(lower[i, j, 2:]), np.min(upper[i, j, 2:]))\n"
   ]
  },
  {
   "cell_type": "code",
   "execution_count": 15,
   "metadata": {},
   "outputs": [
    {
     "data": {
      "text/plain": [
       "2"
      ]
     },
     "execution_count": 15,
     "metadata": {},
     "output_type": "execute_result"
    }
   ],
   "source": [
    "param = np.array([1,2])\n",
    "param.shape[0]"
   ]
  },
  {
   "cell_type": "code",
   "execution_count": 113,
   "metadata": {},
   "outputs": [],
   "source": [
    "from econml.tests.test_statsmodels import TestStatsModels\n",
    "#TestStatsModels().test_inference()\n",
    "#TestStatsModels().test_comp_with_statsmodels()\n",
    "#TestStatsModels().test_sum_vs_original()\n",
    "TestStatsModels().test_dml_sum_vs_original_lasso()\n",
    "#TestStatsModels().test_comp_with_lr()"
   ]
  },
  {
   "cell_type": "code",
   "execution_count": 84,
   "metadata": {},
   "outputs": [
    {
     "ename": "SyntaxError",
     "evalue": "invalid syntax (<ipython-input-84-acc81c232994>, line 1)",
     "output_type": "error",
     "traceback": [
      "\u001b[1;36m  File \u001b[1;32m\"<ipython-input-84-acc81c232994>\"\u001b[1;36m, line \u001b[1;32m1\u001b[0m\n\u001b[1;33m    np.linalg.lstq(WX, [0.3744 1.0679 -2.5034 -0.8559 0.4340 -1.5954 3.3622])\u001b[0m\n\u001b[1;37m                                    ^\u001b[0m\n\u001b[1;31mSyntaxError\u001b[0m\u001b[1;31m:\u001b[0m invalid syntax\n"
     ]
    }
   ],
   "source": [
    "np.linalg.lstq(WX, [0.3744 1.0679 -2.5034 -0.8559 0.4340 -1.5954 3.3622])"
   ]
  },
  {
   "cell_type": "code",
   "execution_count": 114,
   "metadata": {},
   "outputs": [
    {
     "name": "stdout",
     "output_type": "stream",
     "text": [
      "[[17.69434815 16.69434815]\n",
      " [16.69434815 16.69434815]]\n",
      "[[0.         0.05990051]\n",
      " [0.         0.05990051]]\n"
     ]
    }
   ],
   "source": [
    "WX = np.array([[0, 0], [1,0], [-2.4875, -2.4875], [1.4577, 1.4577], [0, 0], [-2.4690, -2.4690], [1.5119, 1.5119]])\n",
    "wy = np.array([0.3744, 1.0679, -2.5034, -0.8559, 0.4340, -1.5954, 3.3622])\n",
    "print(np.matmul(WX.T, WX))\n",
    "print(np.ones((2, 2)) @ np.linalg.pinv(WX.T @ WX))"
   ]
  },
  {
   "cell_type": "code",
   "execution_count": null,
   "metadata": {},
   "outputs": [],
   "source": []
  },
  {
   "cell_type": "code",
   "execution_count": 95,
   "metadata": {},
   "outputs": [
    {
     "name": "stdout",
     "output_type": "stream",
     "text": [
      "(array([0.43539706, 0.42255205]), array([], dtype=float64), 1, array([5.82204278, 0.7017935 ]))\n"
     ]
    }
   ],
   "source": [
    "print(np.linalg.lstsq(WX, wy, rcond=.2))"
   ]
  },
  {
   "cell_type": "code",
   "execution_count": 141,
   "metadata": {},
   "outputs": [
    {
     "ename": "AssertionError",
     "evalue": "[1.57288904 0.55683656] != [1.56609108 0.54990669]",
     "output_type": "error",
     "traceback": [
      "\u001b[1;31m---------------------------------------------------------------------------\u001b[0m",
      "\u001b[1;31mAssertionError\u001b[0m                            Traceback (most recent call last)",
      "\u001b[1;32m<ipython-input-141-e8c7984ece02>\u001b[0m in \u001b[0;36m<module>\u001b[1;34m\u001b[0m\n\u001b[0;32m     23\u001b[0m     \u001b[0mlr\u001b[0m \u001b[1;33m=\u001b[0m \u001b[0mWeightedModelWrapper\u001b[0m\u001b[1;33m(\u001b[0m\u001b[0mLassoCV\u001b[0m\u001b[1;33m(\u001b[0m\u001b[0mcv\u001b[0m\u001b[1;33m=\u001b[0m\u001b[1;36m3\u001b[0m\u001b[1;33m,\u001b[0m \u001b[0malphas\u001b[0m\u001b[1;33m=\u001b[0m\u001b[1;33m[\u001b[0m\u001b[1;36m1e-4\u001b[0m\u001b[1;33m,\u001b[0m \u001b[1;36m1e-3\u001b[0m\u001b[1;33m,\u001b[0m \u001b[1;36m1e-2\u001b[0m\u001b[1;33m,\u001b[0m \u001b[1;36m.1\u001b[0m\u001b[1;33m,\u001b[0m \u001b[1;36m1\u001b[0m\u001b[1;33m,\u001b[0m \u001b[1;36m10\u001b[0m\u001b[1;33m]\u001b[0m\u001b[1;33m,\u001b[0m \u001b[0mfit_intercept\u001b[0m\u001b[1;33m=\u001b[0m\u001b[1;32mFalse\u001b[0m\u001b[1;33m,\u001b[0m \u001b[0mmax_iter\u001b[0m\u001b[1;33m=\u001b[0m\u001b[1;36m10000\u001b[0m\u001b[1;33m,\u001b[0m \u001b[0mtol\u001b[0m\u001b[1;33m=\u001b[0m\u001b[1;36m1e-4\u001b[0m\u001b[1;33m,\u001b[0m \u001b[0mrandom_state\u001b[0m\u001b[1;33m=\u001b[0m\u001b[1;36m123\u001b[0m\u001b[1;33m)\u001b[0m\u001b[1;33m)\u001b[0m\u001b[1;33m.\u001b[0m\u001b[0mfit\u001b[0m\u001b[1;33m(\u001b[0m\u001b[0mX_sum\u001b[0m\u001b[1;33m,\u001b[0m \u001b[0my_sum\u001b[0m\u001b[1;33m,\u001b[0m \u001b[0msample_weight\u001b[0m\u001b[1;33m=\u001b[0m\u001b[0mn_sum\u001b[0m\u001b[1;33m)\u001b[0m\u001b[1;33m\u001b[0m\u001b[1;33m\u001b[0m\u001b[0m\n\u001b[0;32m     24\u001b[0m     \u001b[1;31m#assert np.abs(est.alpha_ - lr.alpha_) <= 1e-10, \"{} != {}\".format(est.alpha_, lr.alpha_)\u001b[0m\u001b[1;33m\u001b[0m\u001b[1;33m\u001b[0m\u001b[1;33m\u001b[0m\u001b[0m\n\u001b[1;32m---> 25\u001b[1;33m     \u001b[1;32massert\u001b[0m \u001b[0mnp\u001b[0m\u001b[1;33m.\u001b[0m\u001b[0mall\u001b[0m\u001b[1;33m(\u001b[0m\u001b[0mnp\u001b[0m\u001b[1;33m.\u001b[0m\u001b[0mabs\u001b[0m\u001b[1;33m(\u001b[0m\u001b[0mest\u001b[0m\u001b[1;33m.\u001b[0m\u001b[0mcoef_\u001b[0m\u001b[1;33m-\u001b[0m\u001b[0mlr\u001b[0m\u001b[1;33m.\u001b[0m\u001b[0mcoef_\u001b[0m\u001b[1;33m)\u001b[0m\u001b[1;33m<=\u001b[0m\u001b[1;36m1e-10\u001b[0m\u001b[1;33m)\u001b[0m\u001b[1;33m,\u001b[0m \u001b[1;34m\"{} != {}\"\u001b[0m\u001b[1;33m.\u001b[0m\u001b[0mformat\u001b[0m\u001b[1;33m(\u001b[0m\u001b[0mest\u001b[0m\u001b[1;33m.\u001b[0m\u001b[0mcoef_\u001b[0m\u001b[1;33m,\u001b[0m \u001b[0mlr\u001b[0m\u001b[1;33m.\u001b[0m\u001b[0mcoef_\u001b[0m\u001b[1;33m)\u001b[0m\u001b[1;33m\u001b[0m\u001b[1;33m\u001b[0m\u001b[0m\n\u001b[0m",
      "\u001b[1;31mAssertionError\u001b[0m: [1.57288904 0.55683656] != [1.56609108 0.54990669]"
     ]
    }
   ],
   "source": [
    "import numpy as np\n",
    "from econml.tests.test_statsmodels import _summarize\n",
    "np.random.seed(12)\n",
    "n=5000\n",
    "d=2\n",
    "p=1\n",
    "\n",
    "for _ in range(10):\n",
    "    X = np.random.binomial(1, .8, size=(n, d))\n",
    "    y = X[:, [0]*p] + 1 + (1*X[:, [0]] + 1)*np.random.normal(0, 1, size=(n,p))\n",
    "    if p==1:\n",
    "        y = y.ravel()\n",
    "    X1, X2, y1, y2, X1_sum, X2_sum, y1_sum, y2_sum, n1_sum, n2_sum, _, _ = _summarize(X, y)\n",
    "    \n",
    "    X_sum = np.vstack([X1_sum, X2_sum])\n",
    "    y_sum = np.concatenate((y1_sum, y2_sum))\n",
    "    n_sum = np.concatenate((n1_sum, n2_sum))\n",
    "    \n",
    "    from econml.utilities import WeightedModelWrapper\n",
    "    from sklearn.linear_model import Lasso, LinearRegression, LassoCV\n",
    "\n",
    "    est = LassoCV(cv=3, alphas=[1e-4, 1e-3, 1e-2, .1, 1, 10], fit_intercept=False, max_iter=10000, tol=1e-4, random_state=123).fit(X, y)\n",
    "    lr = WeightedModelWrapper(LassoCV(cv=3, alphas=[1e-4, 1e-3, 1e-2, .1, 1, 10], fit_intercept=False, max_iter=10000, tol=1e-4, random_state=123)).fit(X_sum, y_sum, sample_weight=n_sum)\n",
    "    #assert np.abs(est.alpha_ - lr.alpha_) <= 1e-10, \"{} != {}\".format(est.alpha_, lr.alpha_)\n",
    "    assert np.all(np.abs(est.coef_-lr.coef_)<=1e-10), \"{} != {}\".format(est.coef_, lr.coef_)"
   ]
  },
  {
   "cell_type": "code",
   "execution_count": 24,
   "metadata": {
    "scrolled": true
   },
   "outputs": [
    {
     "ename": "NameError",
     "evalue": "name 'WeightedSplitter' is not defined",
     "output_type": "error",
     "traceback": [
      "\u001b[1;31m---------------------------------------------------------------------------\u001b[0m",
      "\u001b[1;31mNameError\u001b[0m                                 Traceback (most recent call last)",
      "\u001b[1;32m<ipython-input-24-7ea998b72e45>\u001b[0m in \u001b[0;36m<module>\u001b[1;34m\u001b[0m\n\u001b[0;32m     28\u001b[0m     \u001b[1;32mfrom\u001b[0m \u001b[0msklearn\u001b[0m\u001b[1;33m.\u001b[0m\u001b[0mmodel_selection\u001b[0m \u001b[1;32mimport\u001b[0m \u001b[0mKFold\u001b[0m\u001b[1;33m\u001b[0m\u001b[1;33m\u001b[0m\u001b[0m\n\u001b[0;32m     29\u001b[0m     \u001b[0mn_splits\u001b[0m \u001b[1;33m=\u001b[0m \u001b[1;36m2\u001b[0m\u001b[1;33m\u001b[0m\u001b[1;33m\u001b[0m\u001b[0m\n\u001b[1;32m---> 30\u001b[1;33m     \u001b[0mfolds\u001b[0m \u001b[1;33m=\u001b[0m \u001b[0mWeightedSplitter\u001b[0m\u001b[1;33m(\u001b[0m\u001b[0mn_splits\u001b[0m\u001b[1;33m=\u001b[0m\u001b[0mn_splits\u001b[0m\u001b[1;33m,\u001b[0m \u001b[0mtol\u001b[0m\u001b[1;33m=\u001b[0m\u001b[1;36m.1\u001b[0m\u001b[1;33m,\u001b[0m \u001b[0mweight_precision\u001b[0m\u001b[1;33m=\u001b[0m\u001b[1;36m.1\u001b[0m\u001b[1;33m)\u001b[0m\u001b[1;33m.\u001b[0m\u001b[0msplit\u001b[0m\u001b[1;33m(\u001b[0m\u001b[0mX_sum\u001b[0m\u001b[1;33m,\u001b[0m \u001b[0my_sum\u001b[0m\u001b[1;33m,\u001b[0m \u001b[0mn_sum\u001b[0m\u001b[1;33m)\u001b[0m\u001b[1;33m\u001b[0m\u001b[1;33m\u001b[0m\u001b[0m\n\u001b[0m\u001b[0;32m     31\u001b[0m     \u001b[0mtarget\u001b[0m \u001b[1;33m=\u001b[0m \u001b[0mnp\u001b[0m\u001b[1;33m.\u001b[0m\u001b[0msum\u001b[0m\u001b[1;33m(\u001b[0m\u001b[0mn_sum\u001b[0m\u001b[1;33m)\u001b[0m\u001b[1;33m/\u001b[0m\u001b[0mn_splits\u001b[0m\u001b[1;33m\u001b[0m\u001b[1;33m\u001b[0m\u001b[0m\n\u001b[0;32m     32\u001b[0m     \u001b[1;32mfor\u001b[0m \u001b[0mfold\u001b[0m \u001b[1;32min\u001b[0m \u001b[0mfolds\u001b[0m\u001b[1;33m:\u001b[0m\u001b[1;33m\u001b[0m\u001b[1;33m\u001b[0m\u001b[0m\n",
      "\u001b[1;31mNameError\u001b[0m: name 'WeightedSplitter' is not defined"
     ]
    }
   ],
   "source": [
    "from econml.utilities import WeightedKFold\n",
    "import numpy as np\n",
    "from econml.tests.test_statsmodels import _summarize\n",
    "import time\n",
    "np.random.seed(123)\n",
    "n=5000\n",
    "d=3\n",
    "p=1\n",
    "\n",
    "for _ in range(10):\n",
    "    X = np.random.binomial(1, .8, size=(n, d))\n",
    "    y = X[:, [0]*p] + 1 + (1*X[:, [0]] + 1)*np.random.normal(0, 1, size=(n,p))\n",
    "    X_sum = np.unique(X, axis=0)\n",
    "    n_sum = np.zeros(X_sum.shape[0])\n",
    "    if p==1:\n",
    "        y = y.ravel()\n",
    "        y_sum = np.zeros(X_sum.shape[0])\n",
    "    else:\n",
    "        y_sum = np.zeros((X_sum.shape[0], p))\n",
    "    for it, x in enumerate(X_sum):\n",
    "        mask = (X==x).all(axis=1)\n",
    "        y_sum[it] = np.mean(y[mask], axis=0, keepdims=True)\n",
    "        n_sum[it] = np.sum(mask)\n",
    "        \n",
    "    from econml.utilities import WeightedModelWrapper\n",
    "    from sklearn.linear_model import Lasso, LinearRegression, LassoCV\n",
    "    t = time.time()\n",
    "    from sklearn.model_selection import KFold\n",
    "    n_splits = 2\n",
    "    folds = WeightedSplitter(n_splits=n_splits, tol=.1, weight_precision=.1).split(X_sum, y_sum, n_sum)\n",
    "    target = np.sum(n_sum)/n_splits\n",
    "    for fold in folds:\n",
    "        print(np.sum(n_sum[fold[1]]), target)\n",
    "    print(time.time()-t)\n",
    "    est = LassoCV(cv=n_splits, alphas=[1e-4, 1e-3, 1e-2, .1, 1, 10],\n",
    "                  fit_intercept=False, max_iter=1000, tol=1e-6, random_state=123).fit(X, y)\n",
    "    lr = WeightedModelWrapper(LassoCV(cv=WeightedSplitter(n_splits=n_splits).split(X_sum, y_sum, n_sum),\n",
    "                                      alphas=[1e-4, 1e-3, 1e-2, .1, 1, 10], fit_intercept=False,\n",
    "                                      max_iter=1000, tol=1e-6, random_state=123)).fit(X_sum, y_sum, sample_weight=n_sum)\n",
    "    #assert np.abs(est.alpha_ - lr.alpha_) <= 1e-10, \"{} != {}\".format(est.alpha_, lr.alpha_)\n",
    "    assert np.all(np.abs(est.coef_-lr.coef_)<=1e-10), \"{} != {}\".format(est.coef_, lr.coef_)"
   ]
  },
  {
   "cell_type": "code",
   "execution_count": 51,
   "metadata": {},
   "outputs": [
    {
     "name": "stdout",
     "output_type": "stream",
     "text": [
      "21\n",
      "76\n",
      "87\n",
      "314\n",
      "498 500.0\n",
      "21\n",
      "76\n",
      "88\n",
      "317\n",
      "502 500.0\n",
      "0.01201486587524414\n"
     ]
    },
    {
     "ename": "AssertionError",
     "evalue": "[1.09892922 0.4288047  0.42572756 0.31028287] != [1.09921708 0.42913944 0.42603723 0.31067794]",
     "output_type": "error",
     "traceback": [
      "\u001b[1;31m---------------------------------------------------------------------------\u001b[0m",
      "\u001b[1;31mAssertionError\u001b[0m                            Traceback (most recent call last)",
      "\u001b[1;32m<ipython-input-51-e6dca474d113>\u001b[0m in \u001b[0;36m<module>\u001b[1;34m\u001b[0m\n\u001b[0;32m     40\u001b[0m                                       max_iter=1000, tol=1e-6, random_state=123)).fit(X_sum, y_sum, sample_weight=n_sum)\n\u001b[0;32m     41\u001b[0m     \u001b[1;31m#assert np.abs(est.alpha_ - lr.alpha_) <= 1e-10, \"{} != {}\".format(est.alpha_, lr.alpha_)\u001b[0m\u001b[1;33m\u001b[0m\u001b[1;33m\u001b[0m\u001b[1;33m\u001b[0m\u001b[0m\n\u001b[1;32m---> 42\u001b[1;33m     \u001b[1;32massert\u001b[0m \u001b[0mnp\u001b[0m\u001b[1;33m.\u001b[0m\u001b[0mall\u001b[0m\u001b[1;33m(\u001b[0m\u001b[0mnp\u001b[0m\u001b[1;33m.\u001b[0m\u001b[0mabs\u001b[0m\u001b[1;33m(\u001b[0m\u001b[0mest\u001b[0m\u001b[1;33m.\u001b[0m\u001b[0mcoef_\u001b[0m\u001b[1;33m-\u001b[0m\u001b[0mlr\u001b[0m\u001b[1;33m.\u001b[0m\u001b[0mcoef_\u001b[0m\u001b[1;33m)\u001b[0m\u001b[1;33m<=\u001b[0m\u001b[1;36m1e-10\u001b[0m\u001b[1;33m)\u001b[0m\u001b[1;33m,\u001b[0m \u001b[1;34m\"{} != {}\"\u001b[0m\u001b[1;33m.\u001b[0m\u001b[0mformat\u001b[0m\u001b[1;33m(\u001b[0m\u001b[0mest\u001b[0m\u001b[1;33m.\u001b[0m\u001b[0mcoef_\u001b[0m\u001b[1;33m,\u001b[0m \u001b[0mlr\u001b[0m\u001b[1;33m.\u001b[0m\u001b[0mcoef_\u001b[0m\u001b[1;33m)\u001b[0m\u001b[1;33m\u001b[0m\u001b[1;33m\u001b[0m\u001b[0m\n\u001b[0m",
      "\u001b[1;31mAssertionError\u001b[0m: [1.09892922 0.4288047  0.42572756 0.31028287] != [1.09921708 0.42913944 0.42603723 0.31067794]"
     ]
    }
   ],
   "source": [
    "from econml.utilities import WeightedKFold, WeightedStratifiedKFold\n",
    "import numpy as np\n",
    "from econml.tests.test_statsmodels import _summarize\n",
    "import time\n",
    "np.random.seed(123)\n",
    "n=1000\n",
    "d=4\n",
    "p=1\n",
    "\n",
    "for _ in range(10):\n",
    "    X = np.random.binomial(1, .8, size=(n, d))\n",
    "    y = X[:, [0]*p] + 1 + (1*X[:, [0]] + 1)*np.random.normal(0, 1, size=(n,p))\n",
    "    X_sum = np.unique(X, axis=0)\n",
    "    n_sum = np.zeros(X_sum.shape[0])\n",
    "    if p==1:\n",
    "        y = y.ravel()\n",
    "    X1, X2, y1, y2, X1_sum, X2_sum, y1_sum, y2_sum, n1_sum, n2_sum, _, _ = _summarize(X, y)\n",
    "    \n",
    "    X_sum = np.vstack([X1_sum, X2_sum])\n",
    "    y_sum = np.concatenate((y1_sum, y2_sum))\n",
    "    n_sum = np.concatenate((n1_sum, n2_sum))\n",
    "    \n",
    "\n",
    "    from econml.utilities import WeightedModelWrapper\n",
    "    from sklearn.linear_model import Lasso, LinearRegression, LassoCV\n",
    "    t = time.time()\n",
    "    from sklearn.model_selection import KFold\n",
    "    n_splits = 2\n",
    "    folds = WeightedStratifiedKFold(n_splits=n_splits, tol=.1, weight_precision=.1).split(X_sum[:, :-2], X_sum[:, -2:], n_sum)\n",
    "    target = np.sum(n_sum)/n_splits\n",
    "    for fold in folds:\n",
    "        for x in np.unique(X_sum[:, -2:], axis=0):\n",
    "            print(np.sum(n_sum[fold[1]][np.all(X_sum[fold[1], -2:]==x, axis=1)]))\n",
    "        print(np.sum(n_sum[fold[1]]), target)\n",
    "    print(time.time()-t)\n",
    "    est = LassoCV(cv=WeightedKFold(n_splits=n_splits, tol=.1, weight_precision=.1).split(X, y), alphas=[1e-4, 1e-3, 1e-2, .1, 1, 10],\n",
    "                  fit_intercept=False, max_iter=1000, tol=1e-6, random_state=123).fit(X, y)\n",
    "    lr = WeightedModelWrapper(LassoCV(cv=WeightedKFold(n_splits=n_splits, tol=.1, weight_precision=.1).split(X_sum, y_sum, n_sum),\n",
    "                                      alphas=[1e-4, 1e-3, 1e-2, .1, 1, 10], fit_intercept=False,\n",
    "                                      max_iter=1000, tol=1e-6, random_state=123)).fit(X_sum, y_sum, sample_weight=n_sum)\n",
    "    #assert np.abs(est.alpha_ - lr.alpha_) <= 1e-10, \"{} != {}\".format(est.alpha_, lr.alpha_)\n",
    "    assert np.all(np.abs(est.coef_-lr.coef_)<=1e-10), \"{} != {}\".format(est.coef_, lr.coef_)"
   ]
  },
  {
   "cell_type": "code",
   "execution_count": 146,
   "metadata": {},
   "outputs": [
    {
     "name": "stdout",
     "output_type": "stream",
     "text": [
      "32\n",
      "[   4   11   17   64   14   58   58  260   16   60   70  258   67  266\n",
      "  249 1025    5   12   18   64   14   58   59  260   16   60   70  258\n",
      "   68  266  250 1025]\n",
      "5000\n"
     ]
    },
    {
     "ename": "TypeError",
     "evalue": "__init__() got an unexpected keyword argument 'n_tries'",
     "output_type": "error",
     "traceback": [
      "\u001b[1;31m---------------------------------------------------------------------------\u001b[0m",
      "\u001b[1;31mTypeError\u001b[0m                                 Traceback (most recent call last)",
      "\u001b[1;32m<ipython-input-146-90cab43278eb>\u001b[0m in \u001b[0;36m<module>\u001b[1;34m\u001b[0m\n\u001b[0;32m      2\u001b[0m \u001b[0mprint\u001b[0m\u001b[1;33m(\u001b[0m\u001b[0mn_sum\u001b[0m\u001b[1;33m)\u001b[0m\u001b[1;33m\u001b[0m\u001b[1;33m\u001b[0m\u001b[0m\n\u001b[0;32m      3\u001b[0m \u001b[0mprint\u001b[0m\u001b[1;33m(\u001b[0m\u001b[0mnp\u001b[0m\u001b[1;33m.\u001b[0m\u001b[0msum\u001b[0m\u001b[1;33m(\u001b[0m\u001b[0mn_sum\u001b[0m\u001b[1;33m)\u001b[0m\u001b[1;33m)\u001b[0m\u001b[1;33m\u001b[0m\u001b[1;33m\u001b[0m\u001b[0m\n\u001b[1;32m----> 4\u001b[1;33m \u001b[0mWeightedSplitter\u001b[0m\u001b[1;33m(\u001b[0m\u001b[0mn_tries\u001b[0m\u001b[1;33m=\u001b[0m\u001b[1;36m10\u001b[0m\u001b[1;33m,\u001b[0m \u001b[0mtol\u001b[0m\u001b[1;33m=\u001b[0m\u001b[1;36m1\u001b[0m\u001b[1;33m)\u001b[0m\u001b[1;33m.\u001b[0m\u001b[0m_approx_subset_sum\u001b[0m\u001b[1;33m(\u001b[0m\u001b[0mn_sum\u001b[0m\u001b[1;33m,\u001b[0m \u001b[0mnp\u001b[0m\u001b[1;33m.\u001b[0m\u001b[0msum\u001b[0m\u001b[1;33m(\u001b[0m\u001b[0mn_sum\u001b[0m\u001b[1;33m)\u001b[0m\u001b[1;33m/\u001b[0m\u001b[1;36m2\u001b[0m\u001b[1;33m,\u001b[0m \u001b[1;36m.1\u001b[0m\u001b[1;33m)\u001b[0m\u001b[1;33m\u001b[0m\u001b[1;33m\u001b[0m\u001b[0m\n\u001b[0m",
      "\u001b[1;31mTypeError\u001b[0m: __init__() got an unexpected keyword argument 'n_tries'"
     ]
    }
   ],
   "source": [
    "print(len(n_sum))\n",
    "print(n_sum)\n",
    "print(np.sum(n_sum))\n",
    "WeightedSplitter(n_tries=10, tol=1)._approx_subset_sum(n_sum, np.sum(n_sum)/2, .1)"
   ]
  },
  {
   "cell_type": "code",
   "execution_count": 9,
   "metadata": {},
   "outputs": [
    {
     "name": "stdout",
     "output_type": "stream",
     "text": [
      "[1. 0. 0.]\n",
      "(array([1., 0., 0.]), array([1., 0., 0.]))\n",
      "[0. 0. 0.]\n",
      "[[0. 0. 0.]\n",
      " [0. 0. 0.]\n",
      " [0. 0. 0.]]\n",
      "[ 1.00000000e+00 -2.22044605e-16 -2.22044605e-16]\n",
      "(array([ 1.00000000e+00, -1.28047296e-15, -1.28047296e-15]), array([1.00000000e+00, 8.36383748e-16, 8.36383748e-16]))\n",
      "[5.40024389e-16 5.40024389e-16 5.40024389e-16]\n",
      "[[ 1.66643623e-31 -8.33218117e-32 -8.33218117e-32 -8.33218117e-32]\n",
      " [-8.33218117e-32  2.91626341e-31 -4.16609058e-32 -4.16609058e-32]\n",
      " [-8.33218117e-32 -4.16609058e-32  2.91626341e-31 -4.16609058e-32]\n",
      " [-8.33218117e-32 -4.16609058e-32 -4.16609058e-32  2.91626341e-31]]\n",
      "[1.00000000e+00 9.99200722e-16 8.88178420e-16]\n",
      "1.0\n",
      "[1.41421356 1.41421356 1.41421356]\n",
      "0.9999999999999997\n"
     ]
    },
    {
     "name": "stderr",
     "output_type": "stream",
     "text": [
      "c:\\users\\vasy\\documents\\econml\\econml\\utilities.py:961: UserWarning: Number of observations <= than number of parameters. Using biased variance calculation!\n",
      "  warnings.warn(\"Number of observations <= than number of parameters. Using biased variance calculation!\")\n"
     ]
    },
    {
     "data": {
      "text/plain": [
       "array([[ 1., -1., -1., -1.],\n",
       "       [-1.,  2.,  1.,  1.],\n",
       "       [-1.,  1.,  2.,  1.],\n",
       "       [-1.,  1.,  1.,  2.]])"
      ]
     },
     "execution_count": 9,
     "metadata": {},
     "output_type": "execute_result"
    }
   ],
   "source": [
    "import numpy as np\n",
    "from econml.dml import DMLCateEstimator, LinearDMLCateEstimator\n",
    "from econml.utilities import hstack, StatsModelsWrapperOLD\n",
    "from sklearn.dummy import DummyClassifier\n",
    "from sklearn.linear_model import LinearRegression, LogisticRegression, LassoCV\n",
    "from sklearn.ensemble import RandomForestRegressor, RandomForestClassifier\n",
    "from sklearn.model_selection import KFold, StratifiedKFold\n",
    "import scipy.special\n",
    "import time\n",
    "\n",
    "\n",
    "d = 3\n",
    "X = np.vstack([np.eye(d)])\n",
    "y = X[:, 0]\n",
    "from econml.utilities import StatsModelsWrapper\n",
    "\n",
    "est = StatsModelsWrapper(fit_intercept=False).fit(X, y)\n",
    "print(est.coef_)\n",
    "print(est.coef__interval(alpha=.05))\n",
    "print(est.coef_stderr_)\n",
    "print(est._param_var)\n",
    "\n",
    "d = 3\n",
    "X = np.vstack([np.eye(d), np.ones((1, d)), np.zeros((1, d))])\n",
    "y = X[:, 0]\n",
    "from econml.utilities import StatsModelsWrapper\n",
    "\n",
    "est = StatsModelsWrapper(fit_intercept=True).fit(X, y)\n",
    "\n",
    "print(est.coef_)\n",
    "print(est.coef__interval(alpha=.05))\n",
    "print(est.coef_stderr_)\n",
    "print(est._param_var)\n",
    "\n",
    "\n",
    "d = 3\n",
    "X = np.vstack([np.eye(d), np.zeros((1,d))])\n",
    "y = np.concatenate((X[:, 0] - 1, X[:, 0] + 1))\n",
    "X = np.vstack([X, X])\n",
    "est = StatsModelsWrapper(fit_intercept=True).fit(X, y)\n",
    "print(est.coef_)\n",
    "print(np.var(y - X @ est.coef_))\n",
    "print(est.coef_stderr_)\n",
    "print(est.intercept_stderr_)\n",
    "from statsmodels.tools.tools import add_constant\n",
    "(6/ (6-3)) * np.linalg.pinv(add_constant(X).T @ add_constant(X))"
   ]
  },
  {
   "cell_type": "code",
   "execution_count": 9,
   "metadata": {},
   "outputs": [
    {
     "name": "stdout",
     "output_type": "stream",
     "text": [
      "[1. 0. 0.]\n",
      "(array([1., 0., 0.]), array([1., 0., 0.]))\n",
      "[0. 0. 0.]\n",
      "[[0. 0. 0.]\n",
      " [0. 0. 0.]\n",
      " [0. 0. 0.]]\n",
      "[ 1.00000000e+00 -2.22044605e-16 -2.22044605e-16]\n",
      "(array([ 1.00000000e+00, -1.28047296e-15, -1.28047296e-15]), array([1.00000000e+00, 8.36383748e-16, 8.36383748e-16]))\n",
      "[5.40024389e-16 5.40024389e-16 5.40024389e-16]\n",
      "[[ 1.66643623e-31 -8.33218117e-32 -8.33218117e-32 -8.33218117e-32]\n",
      " [-8.33218117e-32  2.91626341e-31 -4.16609058e-32 -4.16609058e-32]\n",
      " [-8.33218117e-32 -4.16609058e-32  2.91626341e-31 -4.16609058e-32]\n",
      " [-8.33218117e-32 -4.16609058e-32 -4.16609058e-32  2.91626341e-31]]\n",
      "[1.00000000e+00 9.99200722e-16 8.88178420e-16]\n",
      "1.0\n",
      "[1.41421356 1.41421356 1.41421356]\n",
      "0.9999999999999997\n"
     ]
    },
    {
     "name": "stderr",
     "output_type": "stream",
     "text": [
      "c:\\users\\vasy\\documents\\econml\\econml\\utilities.py:961: UserWarning: Number of observations <= than number of parameters. Using biased variance calculation!\n",
      "  warnings.warn(\"Number of observations <= than number of parameters. Using biased variance calculation!\")\n"
     ]
    },
    {
     "data": {
      "text/plain": [
       "array([[ 1., -1., -1., -1.],\n",
       "       [-1.,  2.,  1.,  1.],\n",
       "       [-1.,  1.,  2.,  1.],\n",
       "       [-1.,  1.,  1.,  2.]])"
      ]
     },
     "execution_count": 9,
     "metadata": {},
     "output_type": "execute_result"
    }
   ],
   "source": [
    "import numpy as np\n",
    "from econml.dml import DMLCateEstimator, LinearDMLCateEstimator\n",
    "from econml.utilities import hstack, StatsModelsWrapperOLD\n",
    "from sklearn.dummy import DummyClassifier\n",
    "from sklearn.linear_model import LinearRegression, LogisticRegression, LassoCV\n",
    "from sklearn.ensemble import RandomForestRegressor, RandomForestClassifier\n",
    "from sklearn.model_selection import KFold, StratifiedKFold\n",
    "import scipy.special\n",
    "import time\n",
    "\n",
    "\n",
    "d = 3\n",
    "X = np.vstack([np.eye(d)])\n",
    "y = X[:, 0]\n",
    "from econml.utilities import StatsModelsWrapper\n",
    "\n",
    "est = StatsModelsWrapper(fit_intercept=False).fit(X, y)\n",
    "print(est.coef_)\n",
    "print(est.coef__interval(alpha=.05))\n",
    "print(est.coef_stderr_)\n",
    "print(est._param_var)\n",
    "\n",
    "d = 3\n",
    "X = np.vstack([np.eye(d), np.ones((1, d)), np.zeros((1, d))])\n",
    "y = X[:, 0]\n",
    "from econml.utilities import StatsModelsWrapper\n",
    "\n",
    "est = StatsModelsWrapper(fit_intercept=True).fit(X, y)\n",
    "\n",
    "print(est.coef_)\n",
    "print(est.coef__interval(alpha=.05))\n",
    "print(est.coef_stderr_)\n",
    "print(est._param_var)\n",
    "\n",
    "\n",
    "d = 3\n",
    "X = np.vstack([np.eye(d), np.zeros((1,d))])\n",
    "y = np.concatenate((X[:, 0] - 1, X[:, 0] + 1))\n",
    "X = np.vstack([X, X])\n",
    "est = StatsModelsWrapper(fit_intercept=True).fit(X, y)\n",
    "print(est.coef_)\n",
    "print(np.var(y - X @ est.coef_))\n",
    "print(est.coef_stderr_)\n",
    "print(est.intercept_stderr_)\n",
    "from statsmodels.tools.tools import add_constant\n",
    "(6/ (6-3)) * np.linalg.pinv(add_constant(X).T @ add_constant(X))"
   ]
  },
  {
   "cell_type": "code",
   "execution_count": null,
   "metadata": {},
   "outputs": [],
   "source": [
    "import numpy as np\n",
    "from econml.dml import DMLCateEstimator, LinearDMLCateEstimator\n",
    "from econml.utilities import hstack, StatsModelsWrapperOLD\n",
    "from sklearn.dummy import DummyClassifier\n",
    "from sklearn.linear_model import LinearRegression, LogisticRegression, LassoCV\n",
    "from sklearn.ensemble import RandomForestRegressor, RandomForestClassifier\n",
    "from sklearn.model_selection import KFold, StratifiedKFold\n",
    "import scipy.special\n",
    "import time\n",
    "\n",
    "np.random.seed(123)\n",
    "coverage_orig = {}\n",
    "length_orig = {}\n",
    "effects_orig = {}\n",
    "coverage = {}\n",
    "length = {}\n",
    "effects = {}\n",
    "n = 1000\n",
    "d = 10\n",
    "d_x = 2\n",
    "X_test = np.random.binomial(1, .5, size=(100, d_x))\n",
    "t = time.time()\n",
    "for it in range(100):\n",
    "    \n",
    "    if it % 50 == 0:\n",
    "        print(\"{}: {}\".format(it, time.time() - t))\n",
    "        t = time.time()\n",
    "        \n",
    "    X = np.random.binomial(1, .8, size=(n, d))\n",
    "    T = np.random.binomial(1, .5*X[:, 0]+.25, size=(n,))\n",
    "    true_effect = lambda x: x[:, 0] + .5\n",
    "    y = true_effect(X)*T + X[:, 0] + X[:, 2] + (1*X[:,0] + 1)*np.random.normal(0, 1, size=(n,))\n",
    "\n",
    "    est = LinearDMLCateEstimator(model_y = Lasso(alpha=.05),\n",
    "                                 model_t = Lasso(alpha=.05),\n",
    "                                 model_final=StatsModelsWrapperOLD(),\n",
    "                                 n_splits=2,\n",
    "                                 linear_first_stages=False,\n",
    "                                 discrete_treatment=False)\n",
    "    from econml.inference import StatsModelsInference, BootstrapInference\n",
    "    est.fit(y, T, X[:, :d_x], X[:, d_x:], inference=StatsModelsInference(cov_type='HC1'))\n",
    "    for x in np.unique(X_test, axis=0):\n",
    "        x = x.reshape(1, -1)\n",
    "        eff = est.effect(x)[0]\n",
    "        eff0, eff1 = est.effect_interval(x, alpha=.05)\n",
    "        true_eff = true_effect(x.reshape(-1, 1))[0]\n",
    "        if str(x) in coverage_orig:\n",
    "            coverage_orig[str(x)].append((eff0[0] <= true_eff) & (eff1[0] >= true_eff))\n",
    "            length_orig[str(x)].append(eff1[0]-eff0[0])\n",
    "            effects_orig[str(x)].append(eff)\n",
    "        else:\n",
    "            coverage_orig[str(x)] = [(eff0[0] <= true_eff) & (eff1[0] >= true_eff)]\n",
    "            length_orig[str(x)] = [eff1[0]-eff0[0]]\n",
    "            effects_orig[str(x)] = [eff]\n",
    "        #print(\"{}: {}, ({}, {})\".format(x, eff, eff0, eff1))\n",
    "\n",
    "    # We create two copies per unique X vector and we store the mean and number of half of\n",
    "    # the data in one copy and mean and number of the other half in the other. If a\n",
    "    # vector X has only one observation, then we add it at one of the two halfs chosen\n",
    "    # uniformly at random.\n",
    "    XT_unique = np.unique(hstack([X, T.reshape(-1,1)]), axis=0)\n",
    "    y_sum_first = []\n",
    "    n_sum_first = []\n",
    "    var_first = []\n",
    "    XT_final_first = []\n",
    "    y_sum_sec = []\n",
    "    n_sum_sec = []\n",
    "    var_sec = []\n",
    "    XT_final_sec= []\n",
    "    for it, xt in enumerate(XT_unique):\n",
    "        mask = (X==xt[:-1]).all(axis=1) & (T==xt[-1])\n",
    "        if mask.any():\n",
    "            y_mask = y[mask]\n",
    "            if np.sum(mask) >=2:\n",
    "                y_mask_first = y_mask[:y_mask.shape[0]//2]\n",
    "                y_mask_sec = y_mask[y_mask.shape[0]//2:]\n",
    "                y_sum_first.append(np.mean(y_mask_first))\n",
    "                # Alternatively you could also divide the len below by np.var(y_mask_first) if one believes they\n",
    "                # have heteroskedasticity across segments. Difference in performance is small\n",
    "                n_sum_first.append(len(y_mask_first))\n",
    "                var_first.append(np.var(y_mask_first))\n",
    "                XT_final_first.append(xt)\n",
    "                y_sum_sec.append(np.mean(y_mask_sec))\n",
    "                n_sum_sec.append(len(y_mask_sec))\n",
    "                var_sec.append(np.var(y_mask_sec))\n",
    "                XT_final_sec.append(xt)\n",
    "            else:\n",
    "                if np.random.binomial(1, .5, size=1)==1:\n",
    "                    y_sum_first.append(np.mean(y_mask))\n",
    "                    n_sum_first.append(len(y_mask))\n",
    "                    var_first.append(np.var(y_mask))\n",
    "                    XT_final_first.append(xt)\n",
    "                else:\n",
    "                    y_sum_sec.append(np.mean(y_mask))\n",
    "                    n_sum_sec.append(len(y_mask))\n",
    "                    var_sec.append(np.var(y_mask))\n",
    "                    XT_final_sec.append(xt)\n",
    "\n",
    "\n",
    "    first_half = len(y_sum_first)\n",
    "    #print(\"Sizes of two half splits: {}, {}\".format(first_half, len(y_sum_sec)))\n",
    "    y_sum_first.extend(y_sum_sec)\n",
    "    n_sum_first.extend(n_sum_sec)\n",
    "    var_first.extend(var_sec)\n",
    "    XT_final_first.extend(XT_final_sec)\n",
    "    y_sum = np.array(y_sum_first)\n",
    "    n_sum = np.array(n_sum_first)\n",
    "    var_sum = np.array(var_first)\n",
    "    XT_final = np.array(XT_final_first)\n",
    "\n",
    "    # Define a custom fold splitter for crossfiting, that returns the two pre-designed splits\n",
    "    class Splitter:\n",
    "        def __init__(self):\n",
    "            return\n",
    "        def split(self, X, T):\n",
    "            return [(np.arange(0, first_half), np.arange(first_half, X.shape[0])), \n",
    "                    (np.arange(first_half, X.shape[0]), np.arange(0, first_half))]\n",
    "\n",
    "    # Fit based on the summaries and using the custom splitter\n",
    "    from sklearn.preprocessing import PolynomialFeatures\n",
    "    from sklearn.ensemble import RandomForestClassifier\n",
    "    from sklearn.linear_model import Lasso\n",
    "    from econml.utilities import WeightedModelWrapper\n",
    "    est = LinearDMLCateEstimator(model_y = WeightedModelWrapper(Lasso(alpha=.05)),\n",
    "                                 model_t = WeightedModelWrapper(Lasso(alpha=.05)),\n",
    "                                 n_splits=Splitter(),\n",
    "                                 linear_first_stages=False,\n",
    "                                 discrete_treatment=False)\n",
    "    from econml.inference import StatsModelsInference\n",
    "    est.fit(y_sum, XT_final[:, -1], XT_final[:, :d_x], XT_final[:, d_x:-1], sample_weight=n_sum, var_weight=var_sum,\n",
    "            inference=StatsModelsInference(cov_type='HC0'))\n",
    "\n",
    "    for x in np.unique(X_test, axis=0):\n",
    "        x = x.reshape(1, -1)\n",
    "        eff = est.effect(x)[0]\n",
    "        eff0, eff1 = est.effect_interval(x, alpha=.05)\n",
    "        true_eff = true_effect(x.reshape(-1, 1))[0]\n",
    "        if str(x) in coverage:\n",
    "            coverage[str(x)].append((eff0[0] <= true_eff) & (eff1[0] >= true_eff))\n",
    "            length[str(x)].append(eff1[0]-eff0[0])\n",
    "            effects[str(x)].append(eff)\n",
    "        else:\n",
    "            coverage[str(x)] = [(eff0[0] <= true_eff) & (eff1[0] >= true_eff)]\n",
    "            length[str(x)] = [eff1[0]-eff0[0]]\n",
    "            effects[str(x)] = [eff]\n",
    "        #print(\"{}: {}, ({}, {})\".format(x, eff, eff0, eff1))\n",
    "print([\"{}: {}, {}\".format(x, np.mean(cov), np.mean(coverage[x])) for x, cov in coverage_orig.items()])\n",
    "print([\"{}: {}, {}\".format(x, np.median(l), np.median(length[x])) for x, l in length_orig.items()])"
   ]
  },
  {
   "cell_type": "code",
   "execution_count": 127,
   "metadata": {},
   "outputs": [
    {
     "data": {
      "image/png": "[encoded data removed]",
      "text/plain": [
       "<Figure size 432x288 with 1 Axes>"
      ]
     },
     "metadata": {
      "needs_background": "light"
     },
     "output_type": "display_data"
    }
   ],
   "source": [
    "import matplotlib.pyplot as plt\n",
    "plt.hist([np.mean(cov) for cov in coverage.values()])\n",
    "plt.title(np.mean([np.mean(cov) for cov in coverage.values()]))\n",
    "plt.show()"
   ]
  },
  {
   "cell_type": "code",
   "execution_count": 60,
   "metadata": {},
   "outputs": [
    {
     "name": "stdout",
     "output_type": "stream",
     "text": [
      "['[[0 0]]', '[[0 1]]', '[[1 0]]', '[[1 1]]']\n",
      "[0.98, 0.95, 0.96, 0.92]\n"
     ]
    }
   ],
   "source": [
    "print(list(coverage.keys()))\n",
    "print([np.mean(cov) for cov in coverage.values()])"
   ]
  },
  {
   "cell_type": "code",
   "execution_count": 61,
   "metadata": {},
   "outputs": [
    {
     "data": {
      "image/png": "[encoded data removed]",
      "text/plain": [
       "<Figure size 432x288 with 1 Axes>"
      ]
     },
     "metadata": {
      "needs_background": "light"
     },
     "output_type": "display_data"
    }
   ],
   "source": [
    "import matplotlib.pyplot as plt\n",
    "plt.hist([np.mean(cov) for cov in coverage_orig.values()])\n",
    "plt.title(np.mean([np.mean(cov) for cov in coverage_orig.values()]))\n",
    "plt.show()"
   ]
  },
  {
   "cell_type": "code",
   "execution_count": 358,
   "metadata": {},
   "outputs": [
    {
     "data": {
      "text/plain": [
       "array([1.50031767, 0.04968006, 0.03103112, 0.00223043])"
      ]
     },
     "execution_count": 358,
     "metadata": {},
     "output_type": "execute_result"
    }
   ],
   "source": [
    "LinearRegression().fit(X, y).coef_"
   ]
  },
  {
   "cell_type": "code",
   "execution_count": 340,
   "metadata": {},
   "outputs": [
    {
     "data": {
      "text/plain": [
       "-0.04184643570696844"
      ]
     },
     "execution_count": 340,
     "metadata": {},
     "output_type": "execute_result"
    }
   ],
   "source": [
    "LinearRegression().fit(X, y).intercept_"
   ]
  },
  {
   "cell_type": "code",
   "execution_count": 341,
   "metadata": {},
   "outputs": [
    {
     "data": {
      "text/plain": [
       "array([ 1.59675025,  0.15056013,  0.25757637, -0.07023859, -0.00509646,\n",
       "        0.06998933, -0.0590405 ])"
      ]
     },
     "execution_count": 341,
     "metadata": {},
     "output_type": "execute_result"
    }
   ],
   "source": [
    "LinearRegression().fit(XT_final[:, :-1], y_sum, sample_weight=n_sum).coef_"
   ]
  },
  {
   "cell_type": "code",
   "execution_count": 342,
   "metadata": {},
   "outputs": [
    {
     "data": {
      "text/plain": [
       "-0.04184643570696889"
      ]
     },
     "execution_count": 342,
     "metadata": {},
     "output_type": "execute_result"
    }
   ],
   "source": [
    "LinearRegression().fit(XT_final[:, :-1], y_sum, sample_weight=n_sum).intercept_"
   ]
  },
  {
   "cell_type": "code",
   "execution_count": 343,
   "metadata": {},
   "outputs": [
    {
     "data": {
      "text/plain": [
       "array([ 2.04021021, -0.21737653,  0.67455763,  0.01907726,  0.08964679,\n",
       "        0.13950898, -0.21577723])"
      ]
     },
     "execution_count": 343,
     "metadata": {},
     "output_type": "execute_result"
    }
   ],
   "source": [
    "LinearRegression().fit(XT_final[:first_half, :-1], y_sum[:first_half], sample_weight=n_sum[:first_half]).coef_"
   ]
  },
  {
   "cell_type": "code",
   "execution_count": 344,
   "metadata": {},
   "outputs": [
    {
     "data": {
      "text/plain": [
       "-0.511629308287567"
      ]
     },
     "execution_count": 344,
     "metadata": {},
     "output_type": "execute_result"
    }
   ],
   "source": [
    "LinearRegression().fit(XT_final[:first_half, :-1], y_sum[:first_half], sample_weight=n_sum[:first_half]).intercept_"
   ]
  },
  {
   "cell_type": "code",
   "execution_count": 345,
   "metadata": {},
   "outputs": [
    {
     "data": {
      "text/plain": [
       "array([ 2.04021021, -0.21737653,  0.67455763,  0.01907726,  0.08964679,\n",
       "        0.13950898, -0.21577723])"
      ]
     },
     "execution_count": 345,
     "metadata": {},
     "output_type": "execute_result"
    }
   ],
   "source": [
    "est._models_y[0]._model.coef_"
   ]
  },
  {
   "cell_type": "code",
   "execution_count": 331,
   "metadata": {},
   "outputs": [
    {
     "data": {
      "text/plain": [
       "0.20229743393835797"
      ]
     },
     "execution_count": 331,
     "metadata": {},
     "output_type": "execute_result"
    }
   ],
   "source": [
    "est._models_y[0]._model.intercept_"
   ]
  },
  {
   "cell_type": "code",
   "execution_count": 332,
   "metadata": {},
   "outputs": [
    {
     "data": {
      "text/plain": [
       "(100, 15)"
      ]
     },
     "execution_count": 332,
     "metadata": {},
     "output_type": "execute_result"
    }
   ],
   "source": [
    "from econml.utilities import cross_product, hstack \n",
    "cross_product(hstack([X, np.empty((X.shape[0], 0))]),\n",
    "              hstack([np.ones((X.shape[0], 1)), PolynomialFeatures(degree=1).fit_transform(X), np.empty((X.shape[0], 0))])).shape"
   ]
  },
  {
   "cell_type": "code",
   "execution_count": 39,
   "metadata": {
    "scrolled": true
   },
   "outputs": [
    {
     "data": {
      "image/png": "[encoded data removed]",
      "text/plain": [
       "<Figure size 432x288 with 2 Axes>"
      ]
     },
     "metadata": {
      "needs_background": "light"
     },
     "output_type": "display_data"
    },
    {
     "data": {
      "image/png": "[encoded data removed]",
      "text/plain": [
       "<Figure size 432x288 with 2 Axes>"
      ]
     },
     "metadata": {
      "needs_background": "light"
     },
     "output_type": "display_data"
    },
    {
     "data": {
      "image/png": "[encoded data removed]",
      "text/plain": [
       "<Figure size 432x288 with 2 Axes>"
      ]
     },
     "metadata": {
      "needs_background": "light"
     },
     "output_type": "display_data"
    },
    {
     "data": {
      "image/png": "[encoded data removed]",
      "text/plain": [
       "<Figure size 432x288 with 2 Axes>"
      ]
     },
     "metadata": {
      "needs_background": "light"
     },
     "output_type": "display_data"
    }
   ],
   "source": [
    "import matplotlib.pyplot as plt\n",
    "for x, ls in length_orig.items():\n",
    "    plt.figure()\n",
    "    plt.subplot(1, 2, 1)\n",
    "    plt.hist(ls)\n",
    "    plt.subplot(1, 2, 2)\n",
    "    plt.hist(length[x])\n",
    "    plt.show()"
   ]
  },
  {
   "cell_type": "code",
   "execution_count": 334,
   "metadata": {},
   "outputs": [
    {
     "data": {
      "text/plain": [
       "array([0.21065642, 0.20165538, 0.20234368, 0.20445107])"
      ]
     },
     "execution_count": 334,
     "metadata": {},
     "output_type": "execute_result"
    }
   ],
   "source": [
    "from econml.utilities import StatsModelsWrapper\n",
    "StatsModelsWrapper(fit_intercept=True, fit_args={'cov_type': 'nonrobust'}).fit(XT_final[:, :-1], y_sum, \n",
    "                                           sample_weight=n_sum, var_weight=var_sum).stderr_"
   ]
  },
  {
   "cell_type": "code",
   "execution_count": 335,
   "metadata": {},
   "outputs": [
    {
     "data": {
      "text/plain": [
       "array([0.21706986, 0.20779478, 0.20850403, 0.21067558])"
      ]
     },
     "execution_count": 335,
     "metadata": {},
     "output_type": "execute_result"
    }
   ],
   "source": [
    "from econml.utilities import StatsModelsWrapper\n",
    "StatsModelsWrapper(fit_intercept=True).fit(X, y).stderr_"
   ]
  },
  {
   "cell_type": "code",
   "execution_count": 118,
   "metadata": {
    "scrolled": true
   },
   "outputs": [
    {
     "name": "stdout",
     "output_type": "stream",
     "text": [
      "0: 0.0\n",
      "50: 13.28816294670105\n",
      "100: 13.307546854019165\n",
      "150: 15.555468320846558\n",
      "200: 14.636077880859375\n",
      "250: 14.908867835998535\n",
      "300: 14.35831332206726\n",
      "350: 15.44768476486206\n",
      "400: 15.619112730026245\n",
      "450: 12.859241962432861\n",
      "500: 5.141942024230957\n",
      "550: 5.029886484146118\n",
      "600: 5.074988126754761\n",
      "650: 5.081937074661255\n",
      "700: 4.987944602966309\n",
      "750: 5.1899261474609375\n",
      "800: 5.131896018981934\n",
      "850: 5.222494602203369\n",
      "900: 5.363553762435913\n",
      "950: 5.352933645248413\n",
      "1000: 5.244940519332886\n",
      "1050: 5.212929725646973\n",
      "1100: 5.070939779281616\n",
      "1150: 5.077934503555298\n",
      "1200: 5.0659425258636475\n",
      "1250: 5.164943695068359\n",
      "1300: 5.213881254196167\n",
      "1350: 5.3739893436431885\n",
      "1400: 5.078930616378784\n",
      "1450: 5.074941635131836\n",
      "1500: 5.755882263183594\n",
      "1550: 5.721929311752319\n",
      "1600: 5.793029069900513\n",
      "1650: 5.695978879928589\n",
      "1700: 5.675970792770386\n",
      "1750: 5.816022634506226\n",
      "1800: 5.733969688415527\n",
      "1850: 5.627925634384155\n",
      "1900: 5.84761905670166\n",
      "1950: 5.526971340179443\n",
      "2000: 5.651925325393677\n",
      "2050: 5.979602575302124\n",
      "2100: 6.07896614074707\n",
      "2150: 6.490947723388672\n",
      "2200: 6.442978143692017\n",
      "2250: 6.573919296264648\n",
      "2300: 6.563009738922119\n",
      "2350: 6.883847951889038\n",
      "2400: 7.467971324920654\n",
      "2450: 8.185694456100464\n",
      "2500: 10.904556512832642\n",
      "2550: 13.315680265426636\n",
      "2600: 12.68752646446228\n",
      "2650: 20.8613224029541\n",
      "2700: 16.742170095443726\n",
      "2750: 8.087944030761719\n",
      "2800: 7.458922386169434\n",
      "2850: 7.412005662918091\n",
      "2900: 7.024966716766357\n",
      "2950: 6.798955917358398\n",
      "3000: 6.552971601486206\n",
      "3050: 6.406595945358276\n",
      "3100: 6.1499316692352295\n",
      "3150: 6.0420122146606445\n",
      "3200: 5.860970973968506\n",
      "3250: 5.783968448638916\n",
      "3300: 5.649921178817749\n",
      "3350: 5.562002897262573\n",
      "3400: 5.662970066070557\n",
      "3450: 5.612973213195801\n",
      "3500: 5.391977310180664\n",
      "3550: 5.848484516143799\n",
      "3600: 5.558972358703613\n",
      "3650: 5.465979337692261\n",
      "3700: 5.5169830322265625\n",
      "3750: 5.497974872589111\n",
      "3800: 5.406980037689209\n",
      "3850: 5.479990482330322\n",
      "3900: 5.515976428985596\n",
      "3950: 5.367998361587524\n",
      "4000: 5.527936935424805\n",
      "4050: 5.402046203613281\n",
      "4100: 5.460981845855713\n",
      "4150: 5.577982664108276\n",
      "4200: 5.4880571365356445\n",
      "4250: 5.4159934520721436\n",
      "4300: 5.423982620239258\n",
      "4350: 5.403984546661377\n",
      "4400: 5.562995672225952\n",
      "4450: 5.4989845752716064\n",
      "4500: 5.595978736877441\n",
      "4550: 5.717934608459473\n",
      "4600: 5.4870359897613525\n",
      "4650: 6.617218255996704\n",
      "4700: 6.819945335388184\n",
      "4750: 6.9037840366363525\n",
      "4800: 6.360976219177246\n",
      "4850: 6.2258758544921875\n",
      "4900: 6.049509048461914\n",
      "4950: 5.698925018310547\n",
      "5000: 5.418884515762329\n",
      "5050: 5.563948392868042\n",
      "5100: 5.683940410614014\n",
      "5150: 5.495933532714844\n",
      "5200: 5.628002643585205\n",
      "5250: 5.680861949920654\n",
      "5300: 5.525991916656494\n",
      "5350: 5.62754225730896\n",
      "5400: 5.726939916610718\n",
      "5450: 5.645931005477905\n",
      "5500: 5.588931083679199\n",
      "5550: 5.597884893417358\n",
      "5600: 5.808037519454956\n",
      "5650: 6.191853761672974\n",
      "5700: 5.843929052352905\n",
      "5750: 6.249922275543213\n",
      "5800: 5.781931161880493\n",
      "5850: 5.768933296203613\n",
      "5900: 5.79092001914978\n",
      "5950: 5.886938571929932\n",
      "6000: 5.89692234992981\n",
      "6050: 6.0048840045928955\n",
      "6100: 6.189972162246704\n",
      "6150: 6.123933792114258\n",
      "6200: 6.230916500091553\n",
      "6250: 6.302926540374756\n",
      "6300: 6.25992488861084\n",
      "6350: 6.253530740737915\n",
      "6400: 6.249919176101685\n",
      "6450: 6.323880195617676\n",
      "6500: 6.413966655731201\n",
      "6550: 6.519922733306885\n",
      "6600: 6.36292576789856\n",
      "6650: 7.066869497299194\n",
      "6700: 6.496965408325195\n",
      "6750: 6.42188024520874\n",
      "6800: 6.463922500610352\n",
      "6850: 6.375967502593994\n",
      "6900: 6.497966051101685\n",
      "6950: 6.39988112449646\n",
      "7000: 6.385966062545776\n",
      "7050: 6.54396653175354\n",
      "7100: 6.507885456085205\n",
      "7150: 6.395967245101929\n",
      "7200: 6.461923599243164\n",
      "7250: 6.395925521850586\n",
      "7300: 6.363913297653198\n",
      "7350: 6.4206156730651855\n",
      "7400: 6.542958974838257\n",
      "7450: 6.56697416305542\n",
      "7500: 6.5909199714660645\n",
      "7550: 7.0325915813446045\n",
      "7600: 7.509957551956177\n",
      "7650: 6.5939342975616455\n",
      "7700: 6.48864221572876\n",
      "7750: 1576.5230932235718\n",
      "7800: 8.746321201324463\n",
      "7850: 6.594187259674072\n",
      "7900: 6.586043119430542\n",
      "7950: 6.3949525356292725\n",
      "8000: 7.25852370262146\n",
      "8050: 6.845041036605835\n",
      "8100: 6.336575746536255\n",
      "8150: 7.659893989562988\n",
      "8200: 9.223562002182007\n",
      "8250: 8.777875900268555\n",
      "8300: 8.272313833236694\n",
      "8350: 7.685622930526733\n",
      "8400: 6.960834741592407\n",
      "8450: 6.336188077926636\n",
      "8500: 6.672843933105469\n",
      "8550: 5.94390606880188\n",
      "8600: 6.561798572540283\n",
      "8650: 6.165855407714844\n",
      "8700: 5.758863687515259\n",
      "8750: 6.444865703582764\n",
      "8800: 5.730968475341797\n",
      "8850: 5.82491660118103\n",
      "8900: 5.971863269805908\n",
      "8950: 6.160875558853149\n",
      "9000: 6.271848201751709\n",
      "9050: 6.271337509155273\n",
      "9100: 6.578843355178833\n",
      "9150: 6.909881830215454\n",
      "9200: 6.860799551010132\n",
      "9250: 7.72545862197876\n",
      "9300: 6.286855220794678\n",
      "9350: 6.243869066238403\n",
      "9400: 6.814128637313843\n",
      "9450: 6.985370397567749\n",
      "9500: 7.475823879241943\n",
      "9550: 6.319917678833008\n",
      "9600: 5.633950710296631\n",
      "9650: 6.782196044921875\n",
      "9700: 6.757883548736572\n",
      "9750: 6.142847537994385\n",
      "9800: 6.090911865234375\n",
      "9850: 5.279861211776733\n",
      "9900: 5.395888090133667\n",
      "9950: 5.549826145172119\n",
      "['[[0 0]]: [0.9045 0.9053], [0.9427 0.9463]', '[[0 1]]: [0.9107 0.9248], [0.9476 0.9446]', '[[1 0]]: [0.9447 0.9522], [0.9426 0.944 ]', '[[1 1]]: [0.9533 0.9576], [0.9446 0.9481]']\n",
      "['[[0 0]]: [1.45912561 1.68138765], [0.84290187 0.84450528]', '[[0 1]]: [1.2677031  1.48438583], [0.64349349 0.64452831]', '[[1 0]]: [0.81904655 0.89145723], [0.64628922 0.64722209]', '[[1 1]]: [0.38976086 0.40873794], [0.34920554 0.34988666]']\n"
     ]
    }
   ],
   "source": [
    "import numpy as np\n",
    "from econml.dml import DMLCateEstimator, LinearDMLCateEstimator\n",
    "from econml.utilities import hstack, StatsModelsWrapperOLD\n",
    "from sklearn.dummy import DummyClassifier\n",
    "from sklearn.linear_model import LinearRegression, LogisticRegression, LassoCV, Lasso, MultiTaskLassoCV\n",
    "from sklearn.ensemble import RandomForestRegressor, RandomForestClassifier\n",
    "from sklearn.model_selection import KFold, StratifiedKFold\n",
    "import scipy.special\n",
    "import time\n",
    "\n",
    "np.random.seed(123)\n",
    "coverage_orig = {}\n",
    "length_orig = {}\n",
    "effects_orig = {}\n",
    "coverage = {}\n",
    "length = {}\n",
    "effects = {}\n",
    "n = 1000\n",
    "d = 10\n",
    "d_x = 2\n",
    "X_test = np.random.binomial(1, .5, size=(100, d_x))\n",
    "t = time.time()\n",
    "for it in range(10000):\n",
    "    \n",
    "    if it % 50 == 0:\n",
    "        print(\"{}: {}\".format(it, time.time() - t))\n",
    "        t = time.time()\n",
    "        \n",
    "    X = np.random.binomial(1, .8, size=(n, d))\n",
    "    T = np.random.binomial(1, .5*X[:, 0]+.25, size=(n,))\n",
    "    true_effect = lambda x: np.hstack([x[:, [0]] + .5, x[:, [0]] + 1.5])\n",
    "    y = np.zeros((n, 2))\n",
    "    y = true_effect(X)*T.reshape(-1,1) + X[:, [0, 0]] + (0*X[:,[0, 0]] + 1)*np.random.normal(0, 1, size=(n,2))\n",
    "\n",
    "    est = LinearDMLCateEstimator(model_y = MultiTaskLassoCV(alphas=[.001, .01, .1, 1, 10]),\n",
    "                                 model_t = LassoCV(alphas=[.001, .01, .1, 1, 10]),\n",
    "                                 n_splits=2,\n",
    "                                 linear_first_stages=False,\n",
    "                                 discrete_treatment=False)\n",
    "    from econml.inference import StatsModelsInference, BootstrapInference\n",
    "    est.fit(y, T, X[:, :d_x], X[:, d_x:], inference=StatsModelsInference(cov_type='HC0'))\n",
    "    for x in np.unique(X_test, axis=0):\n",
    "        x = x.reshape(1, -1)\n",
    "        eff = est.effect(x)[0]\n",
    "        eff0, eff1 = est.effect_interval(x, alpha=.05)\n",
    "        true_eff = true_effect(x.reshape(-1, 1))[0]\n",
    "        if str(x) in coverage_orig:\n",
    "            coverage_orig[str(x)].append((eff0[0] <= true_eff) & (eff1[0] >= true_eff))\n",
    "            length_orig[str(x)].append(eff1[0]-eff0[0])\n",
    "            effects_orig[str(x)].append(eff)\n",
    "        else:\n",
    "            coverage_orig[str(x)] = [(eff0[0] <= true_eff) & (eff1[0] >= true_eff)]\n",
    "            length_orig[str(x)] = [eff1[0]-eff0[0]]\n",
    "            effects_orig[str(x)] = [eff]\n",
    "        #print(\"{}: {}, ({}, {})\".format(x, eff, eff0, eff1))\n",
    "\n",
    "    # We create two copies per unique X vector and we store the mean and number of half of\n",
    "    # the data in one copy and mean and number of the other half in the other. If a\n",
    "    # vector X has only one observation, then we add it at one of the two halfs chosen\n",
    "    # uniformly at random.\n",
    "    XT_unique = np.unique(hstack([X, T.reshape(-1,1)]), axis=0)\n",
    "    y_sum_first = []\n",
    "    n_sum_first = []\n",
    "    var_first = []\n",
    "    XT_final_first = []\n",
    "    y_sum_sec = []\n",
    "    n_sum_sec = []\n",
    "    var_sec = []\n",
    "    XT_final_sec= []\n",
    "    for it, xt in enumerate(XT_unique):\n",
    "        mask = (X==xt[:-1]).all(axis=1) & (T==xt[-1])\n",
    "        if mask.any():\n",
    "            y_mask = y[mask]\n",
    "            if np.sum(mask) >=2:\n",
    "                y_mask_first = y_mask[:y_mask.shape[0]//2]\n",
    "                y_mask_sec = y_mask[y_mask.shape[0]//2:]\n",
    "                y_sum_first.append(np.mean(y_mask_first, axis=0))\n",
    "                # Alternatively you could also divide the len below by np.var(y_mask_first) if one believes they\n",
    "                # have heteroskedasticity across segments. Difference in performance is small\n",
    "                n_sum_first.append(len(y_mask_first))\n",
    "                var_first.append(np.var(y_mask_first, axis=0))\n",
    "                XT_final_first.append(xt)\n",
    "                y_sum_sec.append(np.mean(y_mask_sec, axis=0))\n",
    "                n_sum_sec.append(len(y_mask_sec))\n",
    "                var_sec.append(np.var(y_mask_sec, axis=0))\n",
    "                XT_final_sec.append(xt)\n",
    "            else:\n",
    "                if np.random.binomial(1, .5, size=1)==1:\n",
    "                    y_sum_first.append(np.mean(y_mask, axis=0))\n",
    "                    n_sum_first.append(len(y_mask))\n",
    "                    var_first.append(np.var(y_mask, axis=0))\n",
    "                    XT_final_first.append(xt)\n",
    "                else:\n",
    "                    y_sum_sec.append(np.mean(y_mask, axis=0))\n",
    "                    n_sum_sec.append(len(y_mask))\n",
    "                    var_sec.append(np.var(y_mask, axis=0))\n",
    "                    XT_final_sec.append(xt)\n",
    "\n",
    "\n",
    "    first_half = len(y_sum_first)\n",
    "    #print(\"Sizes of two half splits: {}, {}\".format(first_half, len(y_sum_sec)))\n",
    "    y_sum_first.extend(y_sum_sec)\n",
    "    n_sum_first.extend(n_sum_sec)\n",
    "    var_first.extend(var_sec)\n",
    "    XT_final_first.extend(XT_final_sec)\n",
    "    y_sum = np.array(y_sum_first)\n",
    "    n_sum = np.array(n_sum_first)\n",
    "    var_sum = np.array(var_first)\n",
    "    XT_final = np.array(XT_final_first)\n",
    "\n",
    "    # Define a custom fold splitter for crossfiting, that returns the two pre-designed splits\n",
    "    class Splitter:\n",
    "        def __init__(self):\n",
    "            return\n",
    "        def split(self, X, T):\n",
    "            return [(np.arange(0, first_half), np.arange(first_half, X.shape[0])), \n",
    "                    (np.arange(first_half, X.shape[0]), np.arange(0, first_half))]\n",
    "\n",
    "    # Fit based on the summaries and using the custom splitter\n",
    "    from sklearn.preprocessing import PolynomialFeatures\n",
    "    from sklearn.ensemble import RandomForestClassifier\n",
    "    from sklearn.linear_model import Lasso\n",
    "    from econml.utilities import WeightedModelWrapper\n",
    "    est = LinearDMLCateEstimator(model_y = WeightedModelWrapper(MultiTaskLassoCV(alphas=[.001, .01, .1, 1, 10])),\n",
    "                                 model_t = WeightedModelWrapper(LassoCV(alphas=[.001, .01, .1, 1, 10])),\n",
    "                                 n_splits=Splitter(),\n",
    "                                 linear_first_stages=False,\n",
    "                                 discrete_treatment=False)\n",
    "    from econml.inference import StatsModelsInference\n",
    "    est.fit(y_sum, XT_final[:, -1], XT_final[:, :d_x], XT_final[:, d_x:-1], sample_weight=n_sum, var_weight=var_sum,\n",
    "            inference=StatsModelsInference(cov_type='HC0'))\n",
    "\n",
    "    for x in np.unique(X_test, axis=0):\n",
    "        x = x.reshape(1, -1)\n",
    "        eff = est.effect(x)[0]\n",
    "        eff0, eff1 = est.effect_interval(x, alpha=.05)\n",
    "        true_eff = true_effect(x.reshape(-1, 1))[0]\n",
    "        if str(x) in coverage:\n",
    "            coverage[str(x)].append((eff0[0] <= true_eff) & (eff1[0] >= true_eff))\n",
    "            length[str(x)].append(eff1[0]-eff0[0])\n",
    "            effects[str(x)].append(eff)\n",
    "        else:\n",
    "            coverage[str(x)] = [(eff0[0] <= true_eff) & (eff1[0] >= true_eff)]\n",
    "            length[str(x)] = [eff1[0]-eff0[0]]\n",
    "            effects[str(x)] = [eff]\n",
    "        #print(\"{}: {}, ({}, {})\".format(x, eff, eff0, eff1))\n",
    "        \n",
    "print([\"{}: {}, {}\".format(x, np.mean(cov, axis=0), np.mean(coverage[x], axis=0)) for x, cov in coverage_orig.items()])\n",
    "print([\"{}: {}, {}\".format(x, np.median(l, axis=0), np.median(length[x], axis=0)) for x, l in length_orig.items()])"
   ]
  },
  {
   "cell_type": "code",
   "execution_count": 122,
   "metadata": {},
   "outputs": [
    {
     "data": {
      "image/png": "[encoded data removed]",
      "text/plain": [
       "<Figure size 432x288 with 1 Axes>"
      ]
     },
     "metadata": {
      "needs_background": "light"
     },
     "output_type": "display_data"
    }
   ],
   "source": [
    "import matplotlib.pyplot as plt\n",
    "plt.figure()\n",
    "plt.hist(np.array([np.mean(cov, axis=0) for cov in coverage.values()]).flatten())\n",
    "plt.title(np.mean([np.mean(cov, axis=0) for cov in coverage.values()]))\n",
    "plt.show()"
   ]
  },
  {
   "cell_type": "code",
   "execution_count": 123,
   "metadata": {},
   "outputs": [
    {
     "data": {
      "image/png": "[encoded data removed]",
      "text/plain": [
       "<Figure size 432x288 with 1 Axes>"
      ]
     },
     "metadata": {
      "needs_background": "light"
     },
     "output_type": "display_data"
    }
   ],
   "source": [
    "import matplotlib.pyplot as plt\n",
    "plt.figure()\n",
    "plt.hist(np.array([np.mean(cov, axis=0) for cov in coverage_orig.values()]).flatten())\n",
    "plt.title(np.mean([np.mean(cov, axis=0) for cov in coverage_orig.values()]))\n",
    "plt.show()"
   ]
  },
  {
   "cell_type": "code",
   "execution_count": 62,
   "metadata": {},
   "outputs": [
    {
     "name": "stdout",
     "output_type": "stream",
     "text": [
      "[[ 2.01171874 -0.03434251 -0.01309311]\n",
      " [ 2.51741353 -0.05391167 -0.03112553]]\n",
      "[  7  44  52 191  43 183 188 789   8  45  53 192  44 183 189 789]\n",
      "(16, 2)\n",
      "(16, 2)\n",
      "(3000, 2)\n",
      "Coefs\n",
      "[[ 2.01171874 -0.03434251 -0.01309311]\n",
      " [ 2.51741353 -0.05391167 -0.03112553]]\n",
      "[[ 2.01171874 -0.03434251 -0.01309311]\n",
      " [ 2.51741353 -0.05391167 -0.03112553]]\n",
      "[[ 2.00912662 -0.07450833 -0.08024052]\n",
      " [ 2.46852671 -0.16340291 -0.20564827]]\n",
      "Intercepts\n",
      "[0.16543766 0.44932457]\n",
      "[0.16543766 0.44932457]\n",
      "[0.23738766 0.66456531]\n",
      "Param stderrs\n",
      "[[0.01585251 0.02669078 0.0266601 ]\n",
      " [0.03455591 0.04576888 0.04598392]]\n",
      "[[0.01585251 0.02669078 0.0266601 ]\n",
      " [0.03455591 0.04576888 0.04598392]]\n",
      "[[0.03281316 0.03281316 0.03281316]\n",
      " [0.08375114 0.08375114 0.08375114]]\n",
      "Coef interval\n",
      "(array([[ 1.98064839, -0.08665548, -0.06534595],\n",
      "       [ 2.4496852 , -0.14361703, -0.12125235]]), array([[ 2.01171874, -0.03434251, -0.01309311],\n",
      "       [ 2.51741353, -0.05391167, -0.03112553]]))\n",
      "(array([[ 1.98064839, -0.08665548, -0.06534595],\n",
      "       [ 2.4496852 , -0.14361703, -0.12125235]]), array([[ 2.01171874, -0.03434251, -0.01309311],\n",
      "       [ 2.51741353, -0.05391167, -0.03112553]]))\n",
      "(array([[ 1.94481401, -0.13882093, -0.14455313],\n",
      "       [ 2.30437749, -0.32755213, -0.36979749]]), array([[ 2.00912662, -0.07450833, -0.08024052],\n",
      "       [ 2.46852671, -0.16340291, -0.20564827]]))\n",
      "Predict stderr\n",
      "[[0.03259398 0.0559511 ]\n",
      " [0.02369313 0.04663151]\n",
      " [0.02440287 0.04705037]]\n",
      "[[0.03259398 0.0559511 ]\n",
      " [0.02369313 0.04663151]\n",
      " [0.02440287 0.04705037]]\n",
      "Predict interval\n",
      "(array([[2.11327337, 2.85707596],\n",
      "       [0.08465747, 0.30401682],\n",
      "       [0.1045158 , 0.32598202]]), array([[2.24103944, 3.07640024],\n",
      "       [0.17753283, 0.48680897],\n",
      "       [0.20017329, 0.51041607]]))\n",
      "(array([[2.11327337, 2.85707596],\n",
      "       [0.08465747, 0.30401682],\n",
      "       [0.1045158 , 0.32598202]]), array([[2.24103944, 3.07640024],\n",
      "       [0.17753283, 0.48680897],\n",
      "       [0.20017329, 0.51041607]]))\n"
     ]
    }
   ],
   "source": [
    "from statsmodels.tools.tools import add_constant\n",
    "from econml.utilities import StatsModelsWrapper\n",
    "\n",
    "np.random.seed(1235)\n",
    "\n",
    "n = 3000\n",
    "d = 3\n",
    "X = np.random.binomial(1, .8, size=(n, d))\n",
    "T = np.random.binomial(1, .5*X[:, 0]+.25, size=(n,))\n",
    "true_effect = lambda x: x[:, 0] + .5\n",
    "y = np.zeros((n, 2))\n",
    "y[:, 0] = true_effect(X)*T + X[:, 0] #+ (0*X[:,0] + 1)*np.random.normal(0, 1, size=(n,))\n",
    "y[:, 1] = (true_effect(X) + 1)*T + X[:, 0] #+ (0*X[:,0] + 1)*np.random.normal(0, 1, size=(n,))\n",
    "print(LinearRegression().fit(X, y).coef_)\n",
    "XT_unique = np.unique(X, axis=0)\n",
    "y_sum_first = []\n",
    "n_sum_first = []\n",
    "var_first = []\n",
    "XT_final_first = []\n",
    "y_sum_sec = []\n",
    "n_sum_sec = []\n",
    "var_sec = []\n",
    "XT_final_sec= []\n",
    "for it, xt in enumerate(XT_unique):\n",
    "    mask = (X==xt).all(axis=1)\n",
    "    if mask.any():\n",
    "        y_mask = y[mask]\n",
    "        if np.sum(mask) >=2:\n",
    "            y_mask_first = y_mask[:y_mask.shape[0]//2]\n",
    "            y_mask_sec = y_mask[y_mask.shape[0]//2:]\n",
    "            y_sum_first.append(np.mean(y_mask_first, axis=0))\n",
    "            # Alternatively you could also divide the len below by np.var(y_mask_first) if one believes they\n",
    "            # have heteroskedasticity across segments. Difference in performance is small\n",
    "            n_sum_first.append(len(y_mask_first))\n",
    "            var_first.append(np.var(y_mask_first, axis=0))\n",
    "            XT_final_first.append(xt)\n",
    "            y_sum_sec.append(np.mean(y_mask_sec, axis=0))\n",
    "            n_sum_sec.append(len(y_mask_sec))\n",
    "            var_sec.append(np.var(y_mask_sec, axis=0))\n",
    "            XT_final_sec.append(xt)\n",
    "        else:\n",
    "            if np.random.binomial(1, .5, size=1)==1:\n",
    "                y_sum_first.append(np.mean(y_mask, axis=0))\n",
    "                n_sum_first.append(len(y_mask))\n",
    "                var_first.append(np.var(y_mask, axis=0))\n",
    "                XT_final_first.append(xt)\n",
    "            else:\n",
    "                y_sum_sec.append(np.mean(y_mask, axis=0))\n",
    "                n_sum_sec.append(len(y_mask))\n",
    "                var_sec.append(np.var(y_mask, axis=0))\n",
    "                XT_final_sec.append(xt)\n",
    "\n",
    "\n",
    "first_half = len(y_sum_first)\n",
    "#print(\"Sizes of two half splits: {}, {}\".format(first_half, len(y_sum_sec)))\n",
    "y_sum_first.extend(y_sum_sec)\n",
    "n_sum_first.extend(n_sum_sec)\n",
    "var_first.extend(var_sec)\n",
    "XT_final_first.extend(XT_final_sec)\n",
    "y_sum = np.array(y_sum_first)\n",
    "n_sum = np.array(n_sum_first)\n",
    "var_sum = np.array(var_first)\n",
    "XT_final = np.array(XT_final_first)\n",
    "print(n_sum)\n",
    "print(var_sum.shape)\n",
    "print(y_sum.shape)\n",
    "print(y.shape)\n",
    "OLS = lambda : StatsModelsWrapper(fit_args={'cov_type':'HC0'})\n",
    "print(\"Coefs\")\n",
    "print(OLS().fit(X, y).coef_)\n",
    "print(OLS().fit(XT_final, y_sum, sample_weight=n_sum, var_weight=var_sum).coef_)\n",
    "print(OLS().fit(XT_final, y_sum).coef_)\n",
    "print(\"Intercepts\")\n",
    "print(OLS().fit(X, y).intercept_)\n",
    "print(OLS().fit(XT_final, y_sum, sample_weight=n_sum, var_weight=var_sum).intercept_)\n",
    "print(OLS().fit(XT_final, y_sum).intercept_)\n",
    "#print(OLS().fit(X, y).var_)\n",
    "#print(OLS().fit(XT_final[:, :-1], y_sum, sample_weight=n_sum, var_weight=var_sum).var_)\n",
    "print(\"Param stderrs\")\n",
    "print(OLS().fit(X, y).coef_stderr_)\n",
    "print(OLS().fit(XT_final, y_sum, sample_weight=n_sum, var_weight=var_sum).coef_stderr_)\n",
    "print(OLS().fit(XT_final, y_sum).coef_stderr_)\n",
    "print(\"Coef interval\")\n",
    "print(OLS().fit(X, y).coef__interval())\n",
    "print(OLS().fit(XT_final, y_sum, sample_weight=n_sum, var_weight=var_sum).coef__interval())\n",
    "print(OLS().fit(XT_final, y_sum).coef__interval())\n",
    "print(\"Predict stderr\")\n",
    "print(OLS().fit(X, y).prediction_stderr(np.eye(d)))\n",
    "print(OLS().fit(XT_final, y_sum, sample_weight=n_sum, var_weight=var_sum).prediction_stderr(np.eye(d)))\n",
    "print(\"Predict interval\")\n",
    "print(OLS().fit(X, y).predict_interval(np.eye(d)))\n",
    "print(OLS().fit(XT_final, y_sum, sample_weight=n_sum, var_weight=var_sum).predict_interval(np.eye(d)))"
   ]
  },
  {
   "cell_type": "code",
   "execution_count": 2,
   "metadata": {},
   "outputs": [],
   "source": [
    "%load_ext autoreload\n",
    "%autoreload 2"
   ]
  },
  {
   "cell_type": "code",
   "execution_count": 3,
   "metadata": {
    "scrolled": false
   },
   "outputs": [
    {
     "name": "stderr",
     "output_type": "stream",
     "text": [
      "c:\\users\\vasy\\documents\\econml\\econml\\utilities.py:900: UserWarning: No variance information was given for samples with sample_weight not equal to 1, that represent summaries of multiple original samples. Inference will be invalid!\n",
      "  warnings.warn(\"\"\"No variance information was given for samples with sample_weight not equal to 1, that represent summaries of multiple original samples. Inference will be invalid!\"\"\")\n",
      "c:\\users\\vasy\\documents\\econml\\econml\\utilities.py:900: UserWarning: No variance information was given for samples with sample_weight not equal to 1, that represent summaries of multiple original samples. Inference will be invalid!\n",
      "  warnings.warn(\"\"\"No variance information was given for samples with sample_weight not equal to 1, that represent summaries of multiple original samples. Inference will be invalid!\"\"\")\n",
      "c:\\users\\vasy\\documents\\econml\\econml\\utilities.py:900: UserWarning: No variance information was given for samples with sample_weight not equal to 1, that represent summaries of multiple original samples. Inference will be invalid!\n",
      "  warnings.warn(\"\"\"No variance information was given for samples with sample_weight not equal to 1, that represent summaries of multiple original samples. Inference will be invalid!\"\"\")\n",
      "c:\\users\\vasy\\documents\\econml\\econml\\utilities.py:900: UserWarning: No variance information was given for samples with sample_weight not equal to 1, that represent summaries of multiple original samples. Inference will be invalid!\n",
      "  warnings.warn(\"\"\"No variance information was given for samples with sample_weight not equal to 1, that represent summaries of multiple original samples. Inference will be invalid!\"\"\")\n",
      "c:\\users\\vasy\\documents\\econml\\econml\\utilities.py:962: UserWarning: Number of observations <= than number of parameters. Using biased variance calculation!\n",
      "  warnings.warn(\"Number of observations <= than number of parameters. Using biased variance calculation!\")\n"
     ]
    },
    {
     "name": "stdout",
     "output_type": "stream",
     "text": [
      "Success!\n",
      "Success!\n",
      "Success!\n",
      "Success!\n"
     ]
    }
   ],
   "source": [
    "import econml.stats_models_tests as sm\n",
    "\n",
    "sm.test1()\n",
    "sm.test1a()\n",
    "sm.test1b()\n",
    "sm.test2()"
   ]
  },
  {
   "cell_type": "code",
   "execution_count": 8,
   "metadata": {},
   "outputs": [
    {
     "name": "stdout",
     "output_type": "stream",
     "text": [
      "Success!\n"
     ]
    }
   ],
   "source": [
    "sm.test4()"
   ]
  },
  {
   "cell_type": "code",
   "execution_count": 158,
   "metadata": {},
   "outputs": [
    {
     "data": {
      "text/plain": [
       "array([[ 0.09375,  0.03125,  0.03125,  0.03125],\n",
       "       [ 0.03125,  0.34375, -0.15625, -0.15625],\n",
       "       [ 0.03125, -0.15625,  0.34375, -0.15625],\n",
       "       [ 0.03125, -0.15625, -0.15625,  0.34375]])"
      ]
     },
     "execution_count": 158,
     "metadata": {},
     "output_type": "execute_result"
    }
   ],
   "source": [
    "from statsmodels.tools.tools import add_constant\n",
    "np.linalg.pinv(add_constant(X).T @ add_constant(X))"
   ]
  },
  {
   "cell_type": "code",
   "execution_count": 59,
   "metadata": {},
   "outputs": [
    {
     "data": {
      "text/plain": [
       "-1.6448536269514728e-06"
      ]
     },
     "execution_count": 59,
     "metadata": {},
     "output_type": "execute_result"
    }
   ],
   "source": [
    "import scipy.stats\n",
    "scipy.stats.norm.ppf(.05, loc=0, scale=1e-6)"
   ]
  },
  {
   "cell_type": "code",
   "execution_count": 194,
   "metadata": {},
   "outputs": [
    {
     "name": "stderr",
     "output_type": "stream",
     "text": [
      "C:\\ProgramData\\Anaconda3\\lib\\site-packages\\scipy\\stats\\stats.py:1416: UserWarning: kurtosistest only valid for n>=20 ... continuing anyway, n=8\n",
      "  \"anyway, n=%i\" % int(n))\n"
     ]
    },
    {
     "data": {
      "text/html": [
       "<table class=\"simpletable\">\n",
       "<caption>WLS Regression Results</caption>\n",
       "<tr>\n",
       "  <th>Dep. Variable:</th>            <td>y</td>        <th>  R-squared:         </th> <td>   1.000</td> \n",
       "</tr>\n",
       "<tr>\n",
       "  <th>Model:</th>                   <td>WLS</td>       <th>  Adj. R-squared:    </th> <td>   1.000</td> \n",
       "</tr>\n",
       "<tr>\n",
       "  <th>Method:</th>             <td>Least Squares</td>  <th>  F-statistic:       </th> <td>2.425e+04</td>\n",
       "</tr>\n",
       "<tr>\n",
       "  <th>Date:</th>             <td>Fri, 13 Sep 2019</td> <th>  Prob (F-statistic):</th> <td>7.97e-11</td> \n",
       "</tr>\n",
       "<tr>\n",
       "  <th>Time:</th>                 <td>10:21:28</td>     <th>  Log-Likelihood:    </th> <td>  31.599</td> \n",
       "</tr>\n",
       "<tr>\n",
       "  <th>No. Observations:</th>      <td>     8</td>      <th>  AIC:               </th> <td>  -57.20</td> \n",
       "</tr>\n",
       "<tr>\n",
       "  <th>Df Residuals:</th>          <td>     5</td>      <th>  BIC:               </th> <td>  -56.96</td> \n",
       "</tr>\n",
       "<tr>\n",
       "  <th>Df Model:</th>              <td>     3</td>      <th>                     </th>     <td> </td>    \n",
       "</tr>\n",
       "<tr>\n",
       "  <th>Covariance Type:</th>      <td>nonrobust</td>    <th>                     </th>     <td> </td>    \n",
       "</tr>\n",
       "</table>\n",
       "<table class=\"simpletable\">\n",
       "<tr>\n",
       "   <td></td>     <th>coef</th>     <th>std err</th>      <th>t</th>      <th>P>|t|</th>  <th>[0.025</th>    <th>0.975]</th>  \n",
       "</tr>\n",
       "<tr>\n",
       "  <th>x1</th> <td>    0.4922</td> <td>    0.007</td> <td>   68.115</td> <td> 0.000</td> <td>    0.474</td> <td>    0.511</td>\n",
       "</tr>\n",
       "<tr>\n",
       "  <th>x2</th> <td>    1.0058</td> <td>    0.008</td> <td>  120.666</td> <td> 0.000</td> <td>    0.984</td> <td>    1.027</td>\n",
       "</tr>\n",
       "<tr>\n",
       "  <th>x3</th> <td>    0.0169</td> <td>    0.008</td> <td>    2.030</td> <td> 0.098</td> <td>   -0.005</td> <td>    0.038</td>\n",
       "</tr>\n",
       "</table>\n",
       "<table class=\"simpletable\">\n",
       "<tr>\n",
       "  <th>Omnibus:</th>       <td> 0.337</td> <th>  Durbin-Watson:     </th> <td>   0.761</td>\n",
       "</tr>\n",
       "<tr>\n",
       "  <th>Prob(Omnibus):</th> <td> 0.845</td> <th>  Jarque-Bera (JB):  </th> <td>   0.339</td>\n",
       "</tr>\n",
       "<tr>\n",
       "  <th>Skew:</th>          <td> 0.343</td> <th>  Prob(JB):          </th> <td>   0.844</td>\n",
       "</tr>\n",
       "<tr>\n",
       "  <th>Kurtosis:</th>      <td> 2.262</td> <th>  Cond. No.          </th> <td>    3.19</td>\n",
       "</tr>\n",
       "</table><br/><br/>Warnings:<br/>[1] Standard Errors assume that the covariance matrix of the errors is correctly specified."
      ],
      "text/plain": [
       "<class 'statsmodels.iolib.summary.Summary'>\n",
       "\"\"\"\n",
       "                            WLS Regression Results                            \n",
       "==============================================================================\n",
       "Dep. Variable:                      y   R-squared:                       1.000\n",
       "Model:                            WLS   Adj. R-squared:                  1.000\n",
       "Method:                 Least Squares   F-statistic:                 2.425e+04\n",
       "Date:                Fri, 13 Sep 2019   Prob (F-statistic):           7.97e-11\n",
       "Time:                        10:21:28   Log-Likelihood:                 31.599\n",
       "No. Observations:                   8   AIC:                            -57.20\n",
       "Df Residuals:                       5   BIC:                            -56.96\n",
       "Df Model:                           3                                         \n",
       "Covariance Type:            nonrobust                                         \n",
       "==============================================================================\n",
       "                 coef    std err          t      P>|t|      [0.025      0.975]\n",
       "------------------------------------------------------------------------------\n",
       "x1             0.4922      0.007     68.115      0.000       0.474       0.511\n",
       "x2             1.0058      0.008    120.666      0.000       0.984       1.027\n",
       "x3             0.0169      0.008      2.030      0.098      -0.005       0.038\n",
       "==============================================================================\n",
       "Omnibus:                        0.337   Durbin-Watson:                   0.761\n",
       "Prob(Omnibus):                  0.845   Jarque-Bera (JB):                0.339\n",
       "Skew:                           0.343   Prob(JB):                        0.844\n",
       "Kurtosis:                       2.262   Cond. No.                         3.19\n",
       "==============================================================================\n",
       "\n",
       "Warnings:\n",
       "[1] Standard Errors assume that the covariance matrix of the errors is correctly specified.\n",
       "\"\"\""
      ]
     },
     "execution_count": 194,
     "metadata": {},
     "output_type": "execute_result"
    }
   ],
   "source": [
    "from econml.utilities import StatsModelsWrapper\n",
    "StatsModelsWrapper(fit_intercept=False,\n",
    "                   fit_args={'cov_type':'nonrobust'}).fit(PolynomialFeatures(degree=1).fit_transform(XT_final[:first_half, :-1])\\\n",
    "                                            *(XT_final[:first_half, [-1]] - .5),\n",
    "                                           y_sum[:first_half] - LinearRegression().fit(XT_final[first_half:, :-1],\n",
    "                                                                          y_sum[first_half:], \n",
    "                                                                         sample_weight=n_sum[first_half:]).predict(XT_final[:first_half, :-1]), \n",
    "                                            sample_weight=n_sum[:first_half],\n",
    "                                            var_weight=None).results.summary()"
   ]
  },
  {
   "cell_type": "code",
   "execution_count": 195,
   "metadata": {},
   "outputs": [
    {
     "data": {
      "text/html": [
       "<table class=\"simpletable\">\n",
       "<caption>WLS Regression Results</caption>\n",
       "<tr>\n",
       "  <th>Dep. Variable:</th>            <td>y</td>        <th>  R-squared:         </th>  <td>   0.239</td>  \n",
       "</tr>\n",
       "<tr>\n",
       "  <th>Model:</th>                   <td>WLS</td>       <th>  Adj. R-squared:    </th>  <td>   0.239</td>  \n",
       "</tr>\n",
       "<tr>\n",
       "  <th>Method:</th>             <td>Least Squares</td>  <th>  F-statistic:       </th>  <td>1.052e+04</td> \n",
       "</tr>\n",
       "<tr>\n",
       "  <th>Date:</th>             <td>Fri, 13 Sep 2019</td> <th>  Prob (F-statistic):</th>   <td>  0.00</td>   \n",
       "</tr>\n",
       "<tr>\n",
       "  <th>Time:</th>                 <td>10:21:28</td>     <th>  Log-Likelihood:    </th> <td>-1.4167e+05</td>\n",
       "</tr>\n",
       "<tr>\n",
       "  <th>No. Observations:</th>      <td>100000</td>      <th>  AIC:               </th>  <td>2.833e+05</td> \n",
       "</tr>\n",
       "<tr>\n",
       "  <th>Df Residuals:</th>          <td> 99997</td>      <th>  BIC:               </th>  <td>2.834e+05</td> \n",
       "</tr>\n",
       "<tr>\n",
       "  <th>Df Model:</th>              <td>     3</td>      <th>                     </th>      <td> </td>     \n",
       "</tr>\n",
       "<tr>\n",
       "  <th>Covariance Type:</th>         <td>HC1</td>       <th>                     </th>      <td> </td>     \n",
       "</tr>\n",
       "</table>\n",
       "<table class=\"simpletable\">\n",
       "<tr>\n",
       "   <td></td>     <th>coef</th>     <th>std err</th>      <th>z</th>      <th>P>|z|</th>  <th>[0.025</th>    <th>0.975]</th>  \n",
       "</tr>\n",
       "<tr>\n",
       "  <th>x1</th> <td>    0.4861</td> <td>    0.011</td> <td>   44.244</td> <td> 0.000</td> <td>    0.465</td> <td>    0.508</td>\n",
       "</tr>\n",
       "<tr>\n",
       "  <th>x2</th> <td>    1.0054</td> <td>    0.013</td> <td>   79.660</td> <td> 0.000</td> <td>    0.981</td> <td>    1.030</td>\n",
       "</tr>\n",
       "<tr>\n",
       "  <th>x3</th> <td>    0.0148</td> <td>    0.013</td> <td>    1.172</td> <td> 0.241</td> <td>   -0.010</td> <td>    0.040</td>\n",
       "</tr>\n",
       "</table>\n",
       "<table class=\"simpletable\">\n",
       "<tr>\n",
       "  <th>Omnibus:</th>       <td> 5.348</td> <th>  Durbin-Watson:     </th> <td>   1.997</td>\n",
       "</tr>\n",
       "<tr>\n",
       "  <th>Prob(Omnibus):</th> <td> 0.069</td> <th>  Jarque-Bera (JB):  </th> <td>   5.249</td>\n",
       "</tr>\n",
       "<tr>\n",
       "  <th>Skew:</th>          <td>-0.007</td> <th>  Prob(JB):          </th> <td>  0.0725</td>\n",
       "</tr>\n",
       "<tr>\n",
       "  <th>Kurtosis:</th>      <td> 2.968</td> <th>  Cond. No.          </th> <td>    3.19</td>\n",
       "</tr>\n",
       "</table><br/><br/>Warnings:<br/>[1] Standard Errors are heteroscedasticity robust (HC1)"
      ],
      "text/plain": [
       "<class 'statsmodels.iolib.summary.Summary'>\n",
       "\"\"\"\n",
       "                            WLS Regression Results                            \n",
       "==============================================================================\n",
       "Dep. Variable:                      y   R-squared:                       0.239\n",
       "Model:                            WLS   Adj. R-squared:                  0.239\n",
       "Method:                 Least Squares   F-statistic:                 1.052e+04\n",
       "Date:                Fri, 13 Sep 2019   Prob (F-statistic):               0.00\n",
       "Time:                        10:21:28   Log-Likelihood:            -1.4167e+05\n",
       "No. Observations:              100000   AIC:                         2.833e+05\n",
       "Df Residuals:                   99997   BIC:                         2.834e+05\n",
       "Df Model:                           3                                         \n",
       "Covariance Type:                  HC1                                         \n",
       "==============================================================================\n",
       "                 coef    std err          z      P>|z|      [0.025      0.975]\n",
       "------------------------------------------------------------------------------\n",
       "x1             0.4861      0.011     44.244      0.000       0.465       0.508\n",
       "x2             1.0054      0.013     79.660      0.000       0.981       1.030\n",
       "x3             0.0148      0.013      1.172      0.241      -0.010       0.040\n",
       "==============================================================================\n",
       "Omnibus:                        5.348   Durbin-Watson:                   1.997\n",
       "Prob(Omnibus):                  0.069   Jarque-Bera (JB):                5.249\n",
       "Skew:                          -0.007   Prob(JB):                       0.0725\n",
       "Kurtosis:                       2.968   Cond. No.                         3.19\n",
       "==============================================================================\n",
       "\n",
       "Warnings:\n",
       "[1] Standard Errors are heteroscedasticity robust (HC1)\n",
       "\"\"\""
      ]
     },
     "execution_count": 195,
     "metadata": {},
     "output_type": "execute_result"
    }
   ],
   "source": [
    "from econml.utilities import StatsModelsWrapper\n",
    "StatsModelsWrapper(fit_intercept=False, fit_args={'cov_type':'HC1'}).fit(PolynomialFeatures(degree=1).fit_transform(X)\\\n",
    "                                            *(T.reshape(-1, 1) - .5),\n",
    "                                           y - LinearRegression().fit(X, y).predict(X)).results.summary()"
   ]
  },
  {
   "cell_type": "code",
   "execution_count": 196,
   "metadata": {},
   "outputs": [
    {
     "data": {
      "text/html": [
       "<table class=\"simpletable\">\n",
       "<caption>WLS Regression Results</caption>\n",
       "<tr>\n",
       "  <th>Dep. Variable:</th>            <td>y</td>        <th>  R-squared:         </th>  <td>   0.304</td>  \n",
       "</tr>\n",
       "<tr>\n",
       "  <th>Model:</th>                   <td>WLS</td>       <th>  Adj. R-squared:    </th>  <td>   0.304</td>  \n",
       "</tr>\n",
       "<tr>\n",
       "  <th>Method:</th>             <td>Least Squares</td>  <th>  F-statistic:       </th>  <td>2.182e+04</td> \n",
       "</tr>\n",
       "<tr>\n",
       "  <th>Date:</th>             <td>Fri, 13 Sep 2019</td> <th>  Prob (F-statistic):</th>   <td>  0.00</td>   \n",
       "</tr>\n",
       "<tr>\n",
       "  <th>Time:</th>                 <td>10:21:28</td>     <th>  Log-Likelihood:    </th> <td>-1.5531e+05</td>\n",
       "</tr>\n",
       "<tr>\n",
       "  <th>No. Observations:</th>      <td>100000</td>      <th>  AIC:               </th>  <td>3.106e+05</td> \n",
       "</tr>\n",
       "<tr>\n",
       "  <th>Df Residuals:</th>          <td> 99997</td>      <th>  BIC:               </th>  <td>3.107e+05</td> \n",
       "</tr>\n",
       "<tr>\n",
       "  <th>Df Model:</th>              <td>     2</td>      <th>                     </th>      <td> </td>     \n",
       "</tr>\n",
       "<tr>\n",
       "  <th>Covariance Type:</th>      <td>nonrobust</td>    <th>                     </th>      <td> </td>     \n",
       "</tr>\n",
       "</table>\n",
       "<table class=\"simpletable\">\n",
       "<tr>\n",
       "    <td></td>       <th>coef</th>     <th>std err</th>      <th>t</th>      <th>P>|t|</th>  <th>[0.025</th>    <th>0.975]</th>  \n",
       "</tr>\n",
       "<tr>\n",
       "  <th>const</th> <td>    0.2557</td> <td>    0.006</td> <td>   40.774</td> <td> 0.000</td> <td>    0.243</td> <td>    0.268</td>\n",
       "</tr>\n",
       "<tr>\n",
       "  <th>x1</th>    <td>    1.5111</td> <td>    0.007</td> <td>  208.924</td> <td> 0.000</td> <td>    1.497</td> <td>    1.525</td>\n",
       "</tr>\n",
       "<tr>\n",
       "  <th>x2</th>    <td>   -0.0021</td> <td>    0.007</td> <td>   -0.291</td> <td> 0.771</td> <td>   -0.016</td> <td>    0.012</td>\n",
       "</tr>\n",
       "</table>\n",
       "<table class=\"simpletable\">\n",
       "<tr>\n",
       "  <th>Omnibus:</th>       <td>60.002</td> <th>  Durbin-Watson:     </th> <td>   1.993</td>\n",
       "</tr>\n",
       "<tr>\n",
       "  <th>Prob(Omnibus):</th> <td> 0.000</td> <th>  Jarque-Bera (JB):  </th> <td>  53.807</td>\n",
       "</tr>\n",
       "<tr>\n",
       "  <th>Skew:</th>          <td>-0.011</td> <th>  Prob(JB):          </th> <td>2.07e-12</td>\n",
       "</tr>\n",
       "<tr>\n",
       "  <th>Kurtosis:</th>      <td> 2.889</td> <th>  Cond. No.          </th> <td>    3.19</td>\n",
       "</tr>\n",
       "</table><br/><br/>Warnings:<br/>[1] Standard Errors assume that the covariance matrix of the errors is correctly specified."
      ],
      "text/plain": [
       "<class 'statsmodels.iolib.summary.Summary'>\n",
       "\"\"\"\n",
       "                            WLS Regression Results                            \n",
       "==============================================================================\n",
       "Dep. Variable:                      y   R-squared:                       0.304\n",
       "Model:                            WLS   Adj. R-squared:                  0.304\n",
       "Method:                 Least Squares   F-statistic:                 2.182e+04\n",
       "Date:                Fri, 13 Sep 2019   Prob (F-statistic):               0.00\n",
       "Time:                        10:21:28   Log-Likelihood:            -1.5531e+05\n",
       "No. Observations:              100000   AIC:                         3.106e+05\n",
       "Df Residuals:                   99997   BIC:                         3.107e+05\n",
       "Df Model:                           2                                         \n",
       "Covariance Type:            nonrobust                                         \n",
       "==============================================================================\n",
       "                 coef    std err          t      P>|t|      [0.025      0.975]\n",
       "------------------------------------------------------------------------------\n",
       "const          0.2557      0.006     40.774      0.000       0.243       0.268\n",
       "x1             1.5111      0.007    208.924      0.000       1.497       1.525\n",
       "x2            -0.0021      0.007     -0.291      0.771      -0.016       0.012\n",
       "==============================================================================\n",
       "Omnibus:                       60.002   Durbin-Watson:                   1.993\n",
       "Prob(Omnibus):                  0.000   Jarque-Bera (JB):               53.807\n",
       "Skew:                          -0.011   Prob(JB):                     2.07e-12\n",
       "Kurtosis:                       2.889   Cond. No.                         3.19\n",
       "==============================================================================\n",
       "\n",
       "Warnings:\n",
       "[1] Standard Errors assume that the covariance matrix of the errors is correctly specified.\n",
       "\"\"\""
      ]
     },
     "execution_count": 196,
     "metadata": {},
     "output_type": "execute_result"
    }
   ],
   "source": [
    "from econml.utilities import StatsModelsWrapper\n",
    "StatsModelsWrapper(fit_intercept=True).fit(X, y).results.summary()"
   ]
  },
  {
   "cell_type": "code",
   "execution_count": 6,
   "metadata": {},
   "outputs": [
    {
     "data": {
      "text/html": [
       "<table class=\"simpletable\">\n",
       "<caption>WLS Regression Results</caption>\n",
       "<tr>\n",
       "  <th>Dep. Variable:</th>            <td>y</td>        <th>  R-squared:         </th> <td>   0.079</td>\n",
       "</tr>\n",
       "<tr>\n",
       "  <th>Model:</th>                   <td>WLS</td>       <th>  Adj. R-squared:    </th> <td>   0.075</td>\n",
       "</tr>\n",
       "<tr>\n",
       "  <th>Method:</th>             <td>Least Squares</td>  <th>  F-statistic:       </th> <td>   19.82</td>\n",
       "</tr>\n",
       "<tr>\n",
       "  <th>Date:</th>             <td>Thu, 12 Sep 2019</td> <th>  Prob (F-statistic):</th> <td>8.00e-26</td>\n",
       "</tr>\n",
       "<tr>\n",
       "  <th>Time:</th>                 <td>07:24:30</td>     <th>  Log-Likelihood:    </th> <td> -3793.9</td>\n",
       "</tr>\n",
       "<tr>\n",
       "  <th>No. Observations:</th>      <td>  2000</td>      <th>  AIC:               </th> <td>   7602.</td>\n",
       "</tr>\n",
       "<tr>\n",
       "  <th>Df Residuals:</th>          <td>  1993</td>      <th>  BIC:               </th> <td>   7641.</td>\n",
       "</tr>\n",
       "<tr>\n",
       "  <th>Df Model:</th>              <td>     7</td>      <th>                     </th>     <td> </td>   \n",
       "</tr>\n",
       "<tr>\n",
       "  <th>Covariance Type:</th>         <td>HC1</td>       <th>                     </th>     <td> </td>   \n",
       "</tr>\n",
       "</table>\n",
       "<table class=\"simpletable\">\n",
       "<tr>\n",
       "   <td></td>     <th>coef</th>     <th>std err</th>      <th>z</th>      <th>P>|z|</th>  <th>[0.025</th>    <th>0.975]</th>  \n",
       "</tr>\n",
       "<tr>\n",
       "  <th>x1</th> <td>    0.5947</td> <td>    0.200</td> <td>    2.975</td> <td> 0.003</td> <td>    0.203</td> <td>    0.986</td>\n",
       "</tr>\n",
       "<tr>\n",
       "  <th>x2</th> <td>    0.9006</td> <td>    0.168</td> <td>    5.349</td> <td> 0.000</td> <td>    0.571</td> <td>    1.231</td>\n",
       "</tr>\n",
       "<tr>\n",
       "  <th>x3</th> <td>    0.0456</td> <td>    0.169</td> <td>    0.270</td> <td> 0.787</td> <td>   -0.286</td> <td>    0.377</td>\n",
       "</tr>\n",
       "<tr>\n",
       "  <th>x4</th> <td>   -0.2666</td> <td>    0.168</td> <td>   -1.583</td> <td> 0.113</td> <td>   -0.597</td> <td>    0.063</td>\n",
       "</tr>\n",
       "<tr>\n",
       "  <th>x5</th> <td>    0.2382</td> <td>    0.168</td> <td>    1.421</td> <td> 0.155</td> <td>   -0.090</td> <td>    0.567</td>\n",
       "</tr>\n",
       "<tr>\n",
       "  <th>x6</th> <td>   -0.0588</td> <td>    0.168</td> <td>   -0.350</td> <td> 0.726</td> <td>   -0.388</td> <td>    0.271</td>\n",
       "</tr>\n",
       "<tr>\n",
       "  <th>x7</th> <td>   -0.1861</td> <td>    0.169</td> <td>   -1.102</td> <td> 0.270</td> <td>   -0.517</td> <td>    0.145</td>\n",
       "</tr>\n",
       "</table>\n",
       "<table class=\"simpletable\">\n",
       "<tr>\n",
       "  <th>Omnibus:</th>       <td>59.959</td> <th>  Durbin-Watson:     </th> <td>   1.965</td>\n",
       "</tr>\n",
       "<tr>\n",
       "  <th>Prob(Omnibus):</th> <td> 0.000</td> <th>  Jarque-Bera (JB):  </th> <td> 126.999</td>\n",
       "</tr>\n",
       "<tr>\n",
       "  <th>Skew:</th>          <td> 0.165</td> <th>  Prob(JB):          </th> <td>2.65e-28</td>\n",
       "</tr>\n",
       "<tr>\n",
       "  <th>Kurtosis:</th>      <td> 4.190</td> <th>  Cond. No.          </th> <td>    5.33</td>\n",
       "</tr>\n",
       "</table><br/><br/>Warnings:<br/>[1] Standard Errors are heteroscedasticity robust (HC1)"
      ],
      "text/plain": [
       "<class 'statsmodels.iolib.summary.Summary'>\n",
       "\"\"\"\n",
       "                            WLS Regression Results                            \n",
       "==============================================================================\n",
       "Dep. Variable:                      y   R-squared:                       0.079\n",
       "Model:                            WLS   Adj. R-squared:                  0.075\n",
       "Method:                 Least Squares   F-statistic:                     19.82\n",
       "Date:                Thu, 12 Sep 2019   Prob (F-statistic):           8.00e-26\n",
       "Time:                        07:24:30   Log-Likelihood:                -3793.9\n",
       "No. Observations:                2000   AIC:                             7602.\n",
       "Df Residuals:                    1993   BIC:                             7641.\n",
       "Df Model:                           7                                         \n",
       "Covariance Type:                  HC1                                         \n",
       "==============================================================================\n",
       "                 coef    std err          z      P>|z|      [0.025      0.975]\n",
       "------------------------------------------------------------------------------\n",
       "x1             0.5947      0.200      2.975      0.003       0.203       0.986\n",
       "x2             0.9006      0.168      5.349      0.000       0.571       1.231\n",
       "x3             0.0456      0.169      0.270      0.787      -0.286       0.377\n",
       "x4            -0.2666      0.168     -1.583      0.113      -0.597       0.063\n",
       "x5             0.2382      0.168      1.421      0.155      -0.090       0.567\n",
       "x6            -0.0588      0.168     -0.350      0.726      -0.388       0.271\n",
       "x7            -0.1861      0.169     -1.102      0.270      -0.517       0.145\n",
       "==============================================================================\n",
       "Omnibus:                       59.959   Durbin-Watson:                   1.965\n",
       "Prob(Omnibus):                  0.000   Jarque-Bera (JB):              126.999\n",
       "Skew:                           0.165   Prob(JB):                     2.65e-28\n",
       "Kurtosis:                       4.190   Cond. No.                         5.33\n",
       "==============================================================================\n",
       "\n",
       "Warnings:\n",
       "[1] Standard Errors are heteroscedasticity robust (HC1)\n",
       "\"\"\""
      ]
     },
     "execution_count": 6,
     "metadata": {},
     "output_type": "execute_result"
    }
   ],
   "source": [
    "import numpy as np\n",
    "from econml.dml import DMLCateEstimator, LinearDMLCateEstimator\n",
    "from econml.utilities import hstack\n",
    "from sklearn.dummy import DummyClassifier\n",
    "from sklearn.linear_model import LinearRegression, LogisticRegression\n",
    "import scipy.special\n",
    "\n",
    "np.random.seed(123)\n",
    "\n",
    "n = 2000\n",
    "d = 6\n",
    "X = np.random.binomial(1, .5, size=(n, d))\n",
    "T = np.random.binomial(1, scipy.special.expit(2*X[:, 0]-1), size=(n,))\n",
    "true_effect = lambda x: x[:, 0] + .5\n",
    "y = true_effect(X)*T + X[:, 0] + (1*X[:,0] + 1)*np.random.normal(0, 1, size=(n,))\n",
    "\n",
    "est = LinearDMLCateEstimator(model_y = LinearRegression(),\n",
    "                       model_t = LogisticRegression(solver='lbfgs'), #DummyClassifier(strategy='prior'),\n",
    "                       n_splits=6,\n",
    "                       discrete_treatment=True)\n",
    "from econml.inference import StatsModelsInference\n",
    "est.fit(y, T, X, None, inference=StatsModelsInference(cov_type='HC1'))\n",
    "est.effect()"
   ]
  },
  {
   "cell_type": "code",
   "execution_count": 3,
   "metadata": {},
   "outputs": [],
   "source": [
    "%load_ext autoreload\n",
    "%autoreload 2"
   ]
  },
  {
   "cell_type": "code",
   "execution_count": 4,
   "metadata": {},
   "outputs": [],
   "source": [
    "import numpy as np\n",
    "n = 1000\n",
    "d = 10\n",
    "X = np.random.binomial(1, .5, size=(n, d))\n",
    "T = np.random.binomial(1, .5, size=(n,))\n",
    "y = (X[:, 0] + .5)*T + X[:, 0] + (0*X[:,0] + 1)*np.random.normal(0, 1, size=(n,))"
   ]
  },
  {
   "cell_type": "code",
   "execution_count": 3,
   "metadata": {},
   "outputs": [
    {
     "ename": "NameError",
     "evalue": "name 'LinearRegression' is not defined",
     "output_type": "error",
     "traceback": [
      "\u001b[1;31m---------------------------------------------------------------------------\u001b[0m",
      "\u001b[1;31mNameError\u001b[0m                                 Traceback (most recent call last)",
      "\u001b[1;32m<ipython-input-3-95c8db3d3779>\u001b[0m in \u001b[0;36m<module>\u001b[1;34m\u001b[0m\n\u001b[0;32m      1\u001b[0m \u001b[1;32mfrom\u001b[0m \u001b[0meconml\u001b[0m\u001b[1;33m.\u001b[0m\u001b[0mbootstrap\u001b[0m \u001b[1;32mimport\u001b[0m \u001b[0mBootstrapEstimator\u001b[0m\u001b[1;33m\u001b[0m\u001b[1;33m\u001b[0m\u001b[0m\n\u001b[0;32m      2\u001b[0m \u001b[1;32mfrom\u001b[0m \u001b[0meconml\u001b[0m\u001b[1;33m.\u001b[0m\u001b[0mdml\u001b[0m \u001b[1;32mimport\u001b[0m \u001b[0mLinearDMLCateEstimator\u001b[0m\u001b[1;33m\u001b[0m\u001b[1;33m\u001b[0m\u001b[0m\n\u001b[1;32m----> 3\u001b[1;33m est = BootstrapEstimator(LinearDMLCateEstimator(model_y=LinearRegression(), model_t=LinearRegression(),\n\u001b[0m\u001b[0;32m      4\u001b[0m                              model_final=LinearRegression()),\n\u001b[0;32m      5\u001b[0m                          n_bootstrap_samples=1000).fit(y, T, X, None)\n",
      "\u001b[1;31mNameError\u001b[0m: name 'LinearRegression' is not defined"
     ]
    }
   ],
   "source": [
    "from econml.bootstrap import BootstrapEstimator\n",
    "from econml.dml import LinearDMLCateEstimator\n",
    "est = BootstrapEstimator(LinearDMLCateEstimator(model_y=LinearRegression(), model_t=LinearRegression(),\n",
    "                             model_final=LinearRegression()),\n",
    "                         n_bootstrap_samples=1000).fit(y, T, X, None)\n",
    "est.const_marginal_effect_interval(X[[0]])"
   ]
  },
  {
   "cell_type": "code",
   "execution_count": 107,
   "metadata": {},
   "outputs": [
    {
     "name": "stderr",
     "output_type": "stream",
     "text": [
      "[Parallel(n_jobs=1)]: Using backend SequentialBackend with 1 concurrent workers.\n",
      "[Parallel(n_jobs=1)]: Done   1 out of   1 | elapsed:    0.0s remaining:    0.0s\n",
      "[Parallel(n_jobs=1)]: Done   2 out of   2 | elapsed:    0.0s remaining:    0.0s\n",
      "[Parallel(n_jobs=1)]: Done 1000 out of 1000 | elapsed:    0.2s finished\n",
      "[Parallel(n_jobs=1)]: Using backend SequentialBackend with 1 concurrent workers.\n",
      "[Parallel(n_jobs=1)]: Done   1 out of   1 | elapsed:    0.0s remaining:    0.0s\n",
      "[Parallel(n_jobs=1)]: Done   2 out of   2 | elapsed:    0.0s remaining:    0.0s\n"
     ]
    },
    {
     "name": "stdout",
     "output_type": "stream",
     "text": [
      "[0.75183021] [0.75183021]\n"
     ]
    },
    {
     "name": "stderr",
     "output_type": "stream",
     "text": [
      "[Parallel(n_jobs=1)]: Done 1000 out of 1000 | elapsed:    0.2s finished\n",
      "[Parallel(n_jobs=1)]: Using backend SequentialBackend with 1 concurrent workers.\n",
      "[Parallel(n_jobs=1)]: Done   1 out of   1 | elapsed:    0.0s remaining:    0.0s\n",
      "[Parallel(n_jobs=1)]: Done   2 out of   2 | elapsed:    0.0s remaining:    0.0s\n"
     ]
    },
    {
     "name": "stdout",
     "output_type": "stream",
     "text": [
      "[0.59260907] [0.81546581]\n"
     ]
    },
    {
     "name": "stderr",
     "output_type": "stream",
     "text": [
      "[Parallel(n_jobs=1)]: Done 1000 out of 1000 | elapsed:    0.2s finished\n",
      "[Parallel(n_jobs=1)]: Using backend SequentialBackend with 1 concurrent workers.\n",
      "[Parallel(n_jobs=1)]: Done   1 out of   1 | elapsed:    0.0s remaining:    0.0s\n",
      "[Parallel(n_jobs=1)]: Done   2 out of   2 | elapsed:    0.0s remaining:    0.0s\n"
     ]
    },
    {
     "name": "stdout",
     "output_type": "stream",
     "text": [
      "[0.55095803] [0.82237347]\n"
     ]
    },
    {
     "name": "stderr",
     "output_type": "stream",
     "text": [
      "[Parallel(n_jobs=1)]: Done 1000 out of 1000 | elapsed:    0.2s finished\n",
      "[Parallel(n_jobs=1)]: Using backend SequentialBackend with 1 concurrent workers.\n",
      "[Parallel(n_jobs=1)]: Done   1 out of   1 | elapsed:    0.0s remaining:    0.0s\n",
      "[Parallel(n_jobs=1)]: Done   2 out of   2 | elapsed:    0.0s remaining:    0.0s\n"
     ]
    },
    {
     "name": "stdout",
     "output_type": "stream",
     "text": [
      "[0.54679293] [0.82306424]\n"
     ]
    },
    {
     "name": "stderr",
     "output_type": "stream",
     "text": [
      "[Parallel(n_jobs=1)]: Done 1000 out of 1000 | elapsed:    0.2s finished\n",
      "[Parallel(n_jobs=1)]: Using backend SequentialBackend with 1 concurrent workers.\n",
      "[Parallel(n_jobs=1)]: Done   1 out of   1 | elapsed:    0.0s remaining:    0.0s\n",
      "[Parallel(n_jobs=1)]: Done   2 out of   2 | elapsed:    0.0s remaining:    0.0s\n"
     ]
    },
    {
     "name": "stdout",
     "output_type": "stream",
     "text": [
      "[0.54637642] [0.82313331]\n"
     ]
    },
    {
     "name": "stderr",
     "output_type": "stream",
     "text": [
      "[Parallel(n_jobs=1)]: Done 1000 out of 1000 | elapsed:    0.2s finished\n",
      "[Parallel(n_jobs=1)]: Using backend SequentialBackend with 1 concurrent workers.\n",
      "[Parallel(n_jobs=1)]: Done   1 out of   1 | elapsed:    0.0s remaining:    0.0s\n",
      "[Parallel(n_jobs=1)]: Done   2 out of   2 | elapsed:    0.0s remaining:    0.0s\n"
     ]
    },
    {
     "name": "stdout",
     "output_type": "stream",
     "text": [
      "[0.54633477] [0.82314022]\n",
      "[0.54633061] [0.82314091]\n",
      "[[False]\n",
      " [False]\n",
      " [False]\n",
      " [False]\n",
      " [False]\n",
      " [False]\n",
      " [False]]\n",
      "[]\n"
     ]
    },
    {
     "name": "stderr",
     "output_type": "stream",
     "text": [
      "[Parallel(n_jobs=1)]: Done 1000 out of 1000 | elapsed:    0.2s finished\n"
     ]
    }
   ],
   "source": [
    "alpha_list = [1, .1, .01, .001, .0001, 1e-5, 1e-6]\n",
    "contains_zero = []\n",
    "for alpha in alpha_list:\n",
    "    marg_effect_interval_lower, marg_effect_interval_higher = est.const_marginal_effect_interval(X[[0]], lower=alpha/2, upper=1-alpha/2)\n",
    "    print(marg_effect_interval_lower, marg_effect_interval_higher)\n",
    "    contains_zero.append((marg_effect_interval_lower) <=0 & (marg_effect_interval_higher >=0))\n",
    "\n",
    "contains_zero = np.array(contains_zero)\n",
    "# for each const_marginal_effect find the first alpha index at which contains_zero is true\n",
    "print(contains_zero)\n",
    "print(np.argwhere(contains_zero))"
   ]
  },
  {
   "cell_type": "code",
   "execution_count": 6,
   "metadata": {},
   "outputs": [
    {
     "data": {
      "text/plain": [
       "True"
      ]
     },
     "execution_count": 6,
     "metadata": {},
     "output_type": "execute_result"
    }
   ],
   "source": [
    "isinstance(6,int)"
   ]
  },
  {
   "cell_type": "code",
   "execution_count": 3,
   "metadata": {},
   "outputs": [
    {
     "data": {
      "text/plain": [
       "<econml.dml.LinearDMLCateEstimator at 0x25f3dfd4d68>"
      ]
     },
     "execution_count": 3,
     "metadata": {},
     "output_type": "execute_result"
    }
   ],
   "source": [
    "import numpy as np\n",
    "from sklearn.preprocessing import PolynomialFeatures\n",
    "from econml.inference import StatsModelsInference\n",
    "n = 5000\n",
    "d = 100\n",
    "d_x = 4\n",
    "X = np.random.binomial(1, .5, size=(n, d))\n",
    "T = np.random.binomial(1, .5, size=(n,)) + np.random.binomial(1, .5, size=(n,))\n",
    "true_effect = lambda X: (X[:, 0] + X[:, 1] + X[:,0]*X[:,1] + X[:, 2]*X[:, 3] + .5)\n",
    "y = true_effect(X)*T + X[:, 0] + (0*X[:,0] + 1)*np.random.normal(0, 1, size=(n,))\n",
    "\n",
    "from econml.dml import DMLCateEstimator, LinearDMLCateEstimator\n",
    "from sklearn.linear_model import LinearRegression, LassoCV, LogisticRegressionCV\n",
    "from sklearn.dummy import DummyClassifier\n",
    "from sklearn.ensemble import RandomForestRegressor, RandomForestClassifier\n",
    "est = LinearDMLCateEstimator(model_y = RandomForestRegressor(n_estimators=100, max_depth=5, min_samples_leaf=10), #LassoCV(cv=3),\n",
    "                             model_t = RandomForestClassifier(n_estimators=100, max_depth=5, min_samples_leaf=10), #LogisticRegressionCV(cv=3, solver='lbfgs', multi_class='auto'),\n",
    "                             featurizer = PolynomialFeatures(degree=2, interaction_only=True),\n",
    "                             n_splits=6,\n",
    "                             linear_first_stages=False,\n",
    "                             discrete_treatment=True)\n",
    "est.fit(y, T, X[:, :d_x], X[:, d_x:], inference=StatsModelsInference(cov_type='nonrobust'))"
   ]
  },
  {
   "cell_type": "code",
   "execution_count": 123,
   "metadata": {},
   "outputs": [
    {
     "data": {
      "text/plain": [
       "array([[-1.00403186, -0.44663968],\n",
       "       [-2.03912291, -0.98387371]])"
      ]
     },
     "execution_count": 123,
     "metadata": {},
     "output_type": "execute_result"
    }
   ],
   "source": [
    "from econml.dml import LinearDMLCateEstimator\n",
    "from sklearn.preprocessing import PolynomialFeatures\n",
    "from econml.inference import StatsModelsInference\n",
    "n_products = 3\n",
    "n_months = 100\n",
    "# p[i, j] = price of product i on month j\n",
    "p = np.random.uniform(0, 1, size=(n_products, n_months))\n",
    "# p_minus[i, j] = average price of products other than i on month j\n",
    "p_minus = np.zeros(p.shape)\n",
    "# q[i, j] = demand of product i on month j\n",
    "q = np.zeros(p.shape)\n",
    "# X[i, j] = (one-hot-encoding of product i) exludign product 0 used as a baseline\n",
    "X = np.zeros((n_products, n_months, n_products - 1))\n",
    "true_effect = lambda X: np.array([([- np.argwhere(x > 0)[0, 0] - 1, - .5 * (np.argwhere(x > 0)[0, 0]+1)]\n",
    "                                  if len(np.argwhere(x>0)) else [0., 0.]) for x in X])\n",
    "for i in np.arange(n_products):\n",
    "    for j in np.arange(n_months):\n",
    "        p_minus[i, j] = np.mean(p[np.arange(n_products) != i, j])\n",
    "        q[i, j] = - i * p[i, j] - .5 * i * p_minus[i, j] + np.random.normal(0, .1)\n",
    "        X[i, j, :] = 1.0 * (np.arange(1, n_products) == i)\n",
    "\n",
    "# Creating the inputs to the DML method\n",
    "Y = q.flatten()\n",
    "T = np.hstack([p.reshape((n_products*n_months, 1)), p_minus.reshape((n_products*n_months, 1))])\n",
    "X = X.reshape((n_products*n_months, n_products - 1))\n",
    "\n",
    "from sklearn.linear_model import MultiTaskLassoCV, LassoCV, LinearRegression\n",
    "est = LinearDMLCateEstimator(model_y = LassoCV(cv=3),\n",
    "                             model_t = MultiTaskLassoCV(cv=3))\n",
    "est.fit(Y, T, X, None, inference='statsmodels')\n",
    "est.const_marginal_effect(np.eye(n_products-1))"
   ]
  },
  {
   "cell_type": "code",
   "execution_count": 16,
   "metadata": {},
   "outputs": [
    {
     "data": {
      "text/plain": [
       "<econml.dml.LinearDMLCateEstimator at 0x211fd1a3f60>"
      ]
     },
     "execution_count": 16,
     "metadata": {},
     "output_type": "execute_result"
    }
   ],
   "source": [
    "from econml.dml import LinearDMLCateEstimator\n",
    "from sklearn.preprocessing import PolynomialFeatures\n",
    "from econml.inference import StatsModelsInference\n",
    "n_products_per_group = 2\n",
    "n_months = 100\n",
    "n_groups = 8\n",
    "n_products = n_groups * n_products_per_group\n",
    "# p[i, j] = price of product i on month j\n",
    "p = np.random.uniform(-10, 10, size=(n_products, n_months))\n",
    "# p_minus[i, j] = average price of products other than i within the same group on month j\n",
    "p_minus = np.zeros(p.shape)\n",
    "# q[i, j] = demand of product i on month j\n",
    "q = np.zeros(p.shape)\n",
    "# X[i, j] = (one-hot-encoding of product i) exludign product 0 used as a baseline\n",
    "X = np.zeros((n_products, n_months, n_products + n_months + n_groups - 3))\n",
    "\n",
    "# Adding some fixed effects on the price of each product\n",
    "for g in np.arange(n_groups):\n",
    "    for i in np.arange(n_products_per_group):\n",
    "        for j in np.arange(n_months):\n",
    "            index_i = n_products_per_group*g + i\n",
    "            p[index_i, j] += 3.0*(j==1 or j==2) + 1.0*(j==10)+ 1.0*(index_i==1) + 2.0 * (index_i==10) + 5.0 * (index_i==2)\n",
    "\n",
    "def true_effect(MX):\n",
    "    def true_effect_point(x):\n",
    "        index_i = ((np.argwhere(x > 0)[0, 0] + 1) % n_products_per_group) if np.any(x>0) else 0\n",
    "        index_g = ((np.argwhere(x > 0)[0, 0] + 1) // n_products_per_group) if np.any(x>0) else 0\n",
    "        return np.array([- .1 * (index_i + index_g), - .5 * (index_i + index_g)])\n",
    "    return np.array([true_effect_point(x) for x in MX])\n",
    "\n",
    "# Creating fake demands\n",
    "for g in np.arange(n_groups):\n",
    "    for i in np.arange(n_products_per_group):\n",
    "        for j in np.arange(n_months):\n",
    "            index_i = n_products_per_group*g + i\n",
    "            minus_i = (np.arange(n_products) >= (n_products_per_group*g))\n",
    "            minus_i &= (np.arange(n_products) < (n_products_per_group*(g+1)))\n",
    "            minus_i &= (np.arange(n_products) != (index_i))\n",
    "            p_minus[index_i, j] = np.mean(p[minus_i, j])\n",
    "            \n",
    "            X[index_i, j, :(n_products-1)] = 1.0 * (np.arange(1, n_products) == (index_i))\n",
    "            # adding the one-hot encoding of the month as part of the features of the observation\n",
    "            X[index_i, j, (n_products-1):(n_products + n_groups - 2)] =  1.0 * (np.arange(1, n_groups) == g)\n",
    "            X[index_i, j, (n_products + n_groups - 2):] = 1.0 * (np.arange(1, n_months) == j)\n",
    "            \n",
    "            eff = true_effect(X[[index_i], j, :(n_products-1)])[0]\n",
    "            q[index_i, j] = eff[0] * p[index_i, j] + eff[1] * p_minus[index_i, j] + np.random.normal(0, 1)\n",
    "            # adding some fixed effects on the demand\n",
    "            q[index_i, j] += 3.0 * (j==1 or j==2) + 5.0*(index_i==1) + 5.0*(index_i==10) + 5.0 * (index_i==2)\n",
    "\n",
    "\n",
    "# Creating the inputs to the DML method\n",
    "Y = q.flatten()\n",
    "T = np.hstack([p.reshape((n_products*n_months, 1)), p_minus.reshape((n_products*n_months, 1))])\n",
    "X = X.reshape((n_products*n_months, n_products + n_months + n_groups - 3))\n",
    "\n",
    "fold0 = np.empty((0,))\n",
    "for i in np.arange(n_products//2):\n",
    "    fold0 = np.concatenate((fold0, np.arange(i*n_months, i*n_months + n_months//2)))\n",
    "for i in np.arange(n_products//2, n_products):\n",
    "    fold0 = np.concatenate((fold0, np.arange(i*n_months + n_months//2, (i+1)*n_months)))\n",
    "fold1 = np.setdiff1d(np.arange(n_products*n_months), fold0).astype(int)\n",
    "fold0 = fold0.astype(int)\n",
    "\n",
    "fold00 = np.empty((0,))\n",
    "for i in np.arange(n_products//4):\n",
    "    fold00 = np.concatenate((fold00, np.arange(i*(n_months//2), i*(n_months//2) + n_months//4)))\n",
    "for i in np.arange(n_products//4, n_products//2):\n",
    "    fold00 = np.concatenate((fold00, np.arange(i*(n_months//2) + (n_months//4), (i+1)*(n_months//2))))\n",
    "for i in np.arange(n_products//2, 3*n_products//4):\n",
    "    fold00 = np.concatenate((fold00, np.arange(i*(n_months//2), i*(n_months//2) + n_months//4)))\n",
    "for i in np.arange(3*n_products//4, n_products):\n",
    "    fold00 = np.concatenate((fold00, np.arange(i*(n_months//2) + (n_months//4), (i+1)*(n_months//2))))\n",
    "fold11 = np.setdiff1d(np.arange((n_products)*(n_months//2)), fold00).astype(int)\n",
    "fold00 = fold00.astype(int)\n",
    "\n",
    "from sklearn.linear_model import MultiTaskLassoCV, LassoCV, LinearRegression, Lasso, MultiTaskLasso\n",
    "# Set linear_first_stages to false because this creates extra expanded features of the form X cross W \n",
    "# that slows code down. Effect on correctness is small. For full correctness it must be set to True\n",
    "# if linear models are used as first stage models. You can set to False if for instance Random Forests\n",
    "# are used as first stages.\n",
    "from econml.dml import SparseLinearDMLCateEstimator\n",
    "from econml.utilities import MultiModelWrapper\n",
    "from sklearn.ensemble import RandomForestRegressor, GradientBoostingRegressor\n",
    "from sklearn.base import clone\n",
    "class MultiTask:\n",
    "    def __init__(self, model):\n",
    "        self.model = clone(model, safe=False)\n",
    "    def fit(self, X, y):\n",
    "        self.models = []\n",
    "        for it in range(y.shape[1]):\n",
    "            self.models.append(clone(self.model).fit(X, y[:, it]))\n",
    "    def predict(self, X):\n",
    "        return np.hstack([mdl.predict(X).reshape(-1, 1) for mdl in self.models])\n",
    "est = LinearDMLCateEstimator(model_y = LassoCV(cv=6), #[(fold00, fold11), (fold11, fold00)]),\n",
    "                             model_t = MultiTaskLassoCV(cv=6), #[(fold00, fold11), (fold11, fold00)]),\n",
    "                             n_splits = 6, #[(fold0, fold1), (fold1, fold0)],\n",
    "                             linear_first_stages=False)\n",
    "# Using the one-hot encondings of the products as X and the one-hot encodings of the month as W\n",
    "# to control for time fixed effects\n",
    "est.fit(Y, T, X[:, :(n_products - 1)],  X[:, (n_products - 1):], inference='statsmodels')"
   ]
  },
  {
   "cell_type": "code",
   "execution_count": 17,
   "metadata": {},
   "outputs": [
    {
     "data": {
      "image/png": "[encoded data removed]",
      "text/plain": [
       "<Figure size 1080x360 with 2 Axes>"
      ]
     },
     "metadata": {
      "needs_background": "light"
     },
     "output_type": "display_data"
    }
   ],
   "source": [
    "import matplotlib.pyplot as plt\n",
    "X = np.unique(X[:, :(n_products - 1)], axis=0) #np.vstack([np.zeros((1,n_products-1)), np.eye(n_products-1)])\n",
    "l, h = est.const_marginal_effect_interval(X, alpha=0.01)\n",
    "p = est.const_marginal_effect(X)\n",
    "plt.figure(figsize=(15,5))\n",
    "plt.subplot(1,2,1)\n",
    "plt.plot(p[:, 0])\n",
    "plt.fill_between(np.arange(X.shape[0]), l[:,0], h[:,0], alpha=.5)\n",
    "plt.plot(true_effect(X)[:,0])\n",
    "plt.subplot(1,2,2)\n",
    "plt.plot(p[:, 1])\n",
    "plt.fill_between(np.arange(X.shape[0]), l[:,1], h[:,1], alpha=.5)\n",
    "plt.plot(true_effect(X)[:,1])\n",
    "plt.show()"
   ]
  },
  {
   "cell_type": "code",
   "execution_count": 18,
   "metadata": {},
   "outputs": [
    {
     "data": {
      "image/png": "[encoded data removed]",
      "text/plain": [
       "<Figure size 1080x360 with 2 Axes>"
      ]
     },
     "metadata": {
      "needs_background": "light"
     },
     "output_type": "display_data"
    },
    {
     "name": "stdout",
     "output_type": "stream",
     "text": [
      "[['0' '[-0. -0.]' '[-0.042 -0.032]' '[0.088 0.083]' '[ True  True]']\n",
      " ['1' '[-0.1 -0.5]' '[-0.117 -0.597]' '[ 0.063 -0.391]' '[ True  True]']\n",
      " ['2' '[-0.1 -0.5]' '[-0.181 -0.602]' '[-0.009 -0.43 ]' '[ True  True]']\n",
      " ['3' '[-0.2 -1. ]' '[-0.28  -1.053]' '[-0.134 -0.914]' '[ True  True]']\n",
      " ['4' '[-0.2 -1. ]' '[-0.253 -1.066]' '[-0.137 -0.971]' '[ True  True]']\n",
      " ['5' '[-0.3 -1.5]' '[-0.379 -1.6  ]' '[-0.23  -1.463]' '[ True  True]']\n",
      " ['6' '[-0.3 -1.5]' '[-0.354 -1.533]' '[-0.241 -1.43 ]' '[ True  True]']\n",
      " ['7' '[-0.4 -2. ]' '[-0.41  -2.078]' '[-0.299 -1.971]' '[ True  True]']\n",
      " ['8' '[-0.4 -2. ]' '[-0.441 -2.081]' '[-0.334 -1.956]' '[ True  True]']\n",
      " ['9' '[-0.5 -2.5]' '[-0.608 -2.543]' '[-0.424 -2.413]' '[ True  True]']\n",
      " ['10' '[-0.5 -2.5]' '[-0.602 -2.616]' '[-0.398 -2.395]' '[ True  True]']\n",
      " ['11' '[-0.6 -3. ]' '[-0.743 -3.052]' '[-0.55  -2.845]' '[ True  True]']\n",
      " ['12' '[-0.6 -3. ]' '[-0.691 -3.073]' '[-0.498 -2.923]' '[ True  True]']\n",
      " ['13' '[-0.7 -3.5]' '[-0.766 -3.476]' '[-0.558 -3.261]' '[ True False]']\n",
      " ['14' '[-0.7 -3.5]' '[-0.807 -3.56 ]' '[-0.642 -3.357]' '[ True  True]']\n",
      " ['15' '[-0.8 -4. ]' '[-0.86  -4.089]' '[-0.7   -3.966]' '[ True  True]']]\n"
     ]
    }
   ],
   "source": [
    "import matplotlib.pyplot as plt\n",
    "X = np.vstack([np.zeros((1,n_products-1)), np.eye(n_products-1)])\n",
    "l, h = est.const_marginal_effect_interval(X, alpha=0.01)\n",
    "plt.figure(figsize=(15,5))\n",
    "plt.subplot(1,2,1)\n",
    "plt.fill_between(np.arange(X.shape[0]), l[:,0], h[:,0], alpha=.5)\n",
    "plt.plot(true_effect(X)[:,0])\n",
    "plt.subplot(1,2,2)\n",
    "plt.fill_between(np.arange(X.shape[0]), l[:,1], h[:,1], alpha=.5)\n",
    "plt.plot(true_effect(X)[:,1])\n",
    "plt.show()\n",
    "with np.printoptions(precision=3, suppress=True):\n",
    "    print(np.array([(\"{}\".format(np.argwhere(n>0)[0,0]+1 if np.any(n>0) else 0),\n",
    "                     \"{}\".format(t), \"{}\".format(l), \"{}\".format(h),\n",
    "                     \"{}\".format(((t<=h) & (t>=l))))\n",
    "                    for n,l,h,t in zip(X,\n",
    "                                     *est.const_marginal_effect_interval(X, alpha=0.01),\n",
    "                                                true_effect(X))]))\n"
   ]
  },
  {
   "cell_type": "code",
   "execution_count": 5,
   "metadata": {},
   "outputs": [
    {
     "name": "stdout",
     "output_type": "stream",
     "text": [
      "[['-0.19 (-0.41, 0.04)' '0.10 (-0.15, 0.36)' '-0.18 (-0.41, 0.05)']\n",
      " ['-0.30 (-0.46, -0.14)' '-0.59 (-0.84, -0.33)' '-0.17 (-0.30, -0.03)']\n",
      " ['-0.43 (-0.68, -0.18)' '-0.73 (-0.97, -0.50)' '-1.80 (-2.01, -1.60)']]\n"
     ]
    },
    {
     "name": "stderr",
     "output_type": "stream",
     "text": [
      "c:\\users\\vasy\\documents\\econml\\econml\\utilities.py:1133: UserWarning: Co-variance matrix is undertermined. Inference will be invalid!\n",
      "  warnings.warn(\"Co-variance matrix is undertermined. Inference will be invalid!\")\n"
     ]
    }
   ],
   "source": [
    "from econml.dml import LinearDMLCateEstimator\n",
    "from sklearn.preprocessing import PolynomialFeatures\n",
    "from econml.inference import StatsModelsInference\n",
    "n_products = 3\n",
    "n_months = 12\n",
    "# p[i, j] = price of product i on month j\n",
    "p = np.random.uniform(0, 1, size=(n_products, n_months))\n",
    "# p_minus[i, j] = average price of products other than i on month j\n",
    "p_minus = np.zeros(p.shape)\n",
    "# q[i, j] = demand of product i on month j\n",
    "q = np.zeros(p.shape)\n",
    "\n",
    "for i in np.arange(n_products):\n",
    "    for j in np.arange(n_months):\n",
    "        p_minus[i, j] = np.mean(p[np.arange(n_products) != i, j])\n",
    "        q[i, j] = - i * p[i, j] - .5 * i * p_minus[i, j] + np.random.normal(0, .1)\n",
    "\n",
    "est = LinearDMLCateEstimator(model_y = MultiTaskLasso(alpha=0.01),\n",
    "                             model_t = MultiTaskLasso(alpha=0.01),\n",
    "                             n_splits = 2,\n",
    "                             linear_first_stages=False)\n",
    "est.fit(q.T, p.T, inference='statsmodels')\n",
    "with np.printoptions(precision=3, suppress=True):\n",
    "    p = est.const_marginal_effect()[0]\n",
    "    l, u = est.const_marginal_effect_interval()\n",
    "    arr = np.stack((p, l[0],u[0]), axis=-1)\n",
    "    print(np.array([\"{:.2f} ({:.2f}, {:.2f})\".format(arr[i,j,0], arr[i,j,1], arr[i,j,2])\n",
    "                    for i in range(arr.shape[0]) for j in range(arr.shape[1])]).reshape(l[0].shape))"
   ]
  },
  {
   "cell_type": "code",
   "execution_count": 280,
   "metadata": {},
   "outputs": [
    {
     "ename": "TypeError",
     "evalue": "unsupported format string passed to numpy.ndarray.__format__",
     "output_type": "error",
     "traceback": [
      "\u001b[1;31m---------------------------------------------------------------------------\u001b[0m",
      "\u001b[1;31mTypeError\u001b[0m                                 Traceback (most recent call last)",
      "\u001b[1;32m<ipython-input-280-372965006b8c>\u001b[0m in \u001b[0;36m<module>\u001b[1;34m\u001b[0m\n\u001b[0;32m      5\u001b[0m                                      \u001b[1;33m*\u001b[0m\u001b[0mest\u001b[0m\u001b[1;33m.\u001b[0m\u001b[0mcoef__interval\u001b[0m\u001b[1;33m(\u001b[0m\u001b[0malpha\u001b[0m\u001b[1;33m=\u001b[0m\u001b[1;36m0.05\u001b[0m\u001b[1;33m)\u001b[0m\u001b[1;33m,\u001b[0m\u001b[1;33m\u001b[0m\u001b[1;33m\u001b[0m\u001b[0m\n\u001b[0;32m      6\u001b[0m                                      \u001b[1;33m*\u001b[0m\u001b[0mest\u001b[0m\u001b[1;33m.\u001b[0m\u001b[0mcoef__interval\u001b[0m\u001b[1;33m(\u001b[0m\u001b[0malpha\u001b[0m\u001b[1;33m=\u001b[0m\u001b[1;36m0.005\u001b[0m\u001b[1;33m)\u001b[0m\u001b[1;33m,\u001b[0m\u001b[1;33m\u001b[0m\u001b[1;33m\u001b[0m\u001b[0m\n\u001b[1;32m----> 7\u001b[1;33m                                      \u001b[1;33m*\u001b[0m\u001b[0mest\u001b[0m\u001b[1;33m.\u001b[0m\u001b[0mcoef__interval\u001b[0m\u001b[1;33m(\u001b[0m\u001b[0malpha\u001b[0m\u001b[1;33m=\u001b[0m\u001b[1;36m0.0005\u001b[0m\u001b[1;33m)\u001b[0m\u001b[1;33m,\u001b[0m\u001b[1;33m\u001b[0m\u001b[1;33m\u001b[0m\u001b[0m\n\u001b[0m\u001b[0;32m      8\u001b[0m                                                 )]))\n",
      "\u001b[1;32m<ipython-input-280-372965006b8c>\u001b[0m in \u001b[0;36m<listcomp>\u001b[1;34m(.0)\u001b[0m\n\u001b[0;32m      2\u001b[0m     print(np.array([(n, \"{:.3f}\".format(l), \"{:.3f}\".format(h),\n\u001b[0;32m      3\u001b[0m                      \"***\" if (l3>0 or h3<0) else (\"**\" if (l2>0 or h2<0) else (\"*\" if (l>0 or h<0) else \"\")))\n\u001b[1;32m----> 4\u001b[1;33m                     for n,l,h,l2,h2,l3,h3 in zip(list(est.featurizer.get_feature_names())*len(np.unique(T)),\n\u001b[0m\u001b[0;32m      5\u001b[0m                                      \u001b[1;33m*\u001b[0m\u001b[0mest\u001b[0m\u001b[1;33m.\u001b[0m\u001b[0mcoef__interval\u001b[0m\u001b[1;33m(\u001b[0m\u001b[0malpha\u001b[0m\u001b[1;33m=\u001b[0m\u001b[1;36m0.05\u001b[0m\u001b[1;33m)\u001b[0m\u001b[1;33m,\u001b[0m\u001b[1;33m\u001b[0m\u001b[1;33m\u001b[0m\u001b[0m\n\u001b[0;32m      6\u001b[0m                                      \u001b[1;33m*\u001b[0m\u001b[0mest\u001b[0m\u001b[1;33m.\u001b[0m\u001b[0mcoef__interval\u001b[0m\u001b[1;33m(\u001b[0m\u001b[0malpha\u001b[0m\u001b[1;33m=\u001b[0m\u001b[1;36m0.005\u001b[0m\u001b[1;33m)\u001b[0m\u001b[1;33m,\u001b[0m\u001b[1;33m\u001b[0m\u001b[1;33m\u001b[0m\u001b[0m\n",
      "\u001b[1;31mTypeError\u001b[0m: unsupported format string passed to numpy.ndarray.__format__"
     ]
    }
   ],
   "source": [
    "with np.printoptions(precision=3, suppress=True):\n",
    "    print(np.array([(n, \"{:.3f}\".format(l), \"{:.3f}\".format(h),\n",
    "                     \"***\" if (l3>0 or h3<0) else (\"**\" if (l2>0 or h2<0) else (\"*\" if (l>0 or h<0) else \"\")))\n",
    "                    for n,l,h,l2,h2,l3,h3 in zip(list(est.featurizer.get_feature_names())*len(np.unique(T)),\n",
    "                                     *est.coef__interval(alpha=0.05),\n",
    "                                     *est.coef__interval(alpha=0.005),\n",
    "                                     *est.coef__interval(alpha=0.0005),\n",
    "                                                )]))"
   ]
  },
  {
   "cell_type": "code",
   "execution_count": 281,
   "metadata": {},
   "outputs": [
    {
     "data": {
      "text/plain": [
       "(array([[-0.10635112, -0.10635112, -0.02576807, -0.02576807,  0.00233149,\n",
       "          0.00233149],\n",
       "        [-0.43807177, -0.43807177, -0.57117776, -0.57117776, -0.16978544,\n",
       "         -0.16978544],\n",
       "        [-0.36703447, -0.36703447, -0.50504013, -0.50504013, -1.13052763,\n",
       "         -1.13052763]]),\n",
       " array([[ 0.02514889,  0.02514889,  0.12194052,  0.12194052,  0.1477013 ,\n",
       "          0.1477013 ],\n",
       "        [-0.08485031, -0.08485031, -0.33717583, -0.33717583,  0.02172222,\n",
       "          0.02172222],\n",
       "        [-0.17208381, -0.17208381, -0.22518778, -0.22518778, -0.92865114,\n",
       "         -0.92865114]]))"
      ]
     },
     "execution_count": 281,
     "metadata": {},
     "output_type": "execute_result"
    }
   ],
   "source": [
    "est.coef__interval()"
   ]
  },
  {
   "cell_type": "code",
   "execution_count": 21,
   "metadata": {},
   "outputs": [
    {
     "ename": "ValueError",
     "evalue": "could not broadcast input array from shape (2000,56) into shape (2000)",
     "output_type": "error",
     "traceback": [
      "\u001b[1;31m---------------------------------------------------------------------------\u001b[0m",
      "\u001b[1;31mValueError\u001b[0m                                Traceback (most recent call last)",
      "\u001b[1;32m<ipython-input-21-ddb9bf38b79b>\u001b[0m in \u001b[0;36m<module>\u001b[1;34m\u001b[0m\n\u001b[0;32m      1\u001b[0m \u001b[1;32mimport\u001b[0m \u001b[0mmatplotlib\u001b[0m\u001b[1;33m.\u001b[0m\u001b[0mpyplot\u001b[0m \u001b[1;32mas\u001b[0m \u001b[0mplt\u001b[0m\u001b[1;33m\u001b[0m\u001b[1;33m\u001b[0m\u001b[0m\n\u001b[1;32m----> 2\u001b[1;33m \u001b[0mplt\u001b[0m\u001b[1;33m.\u001b[0m\u001b[0mhist\u001b[0m\u001b[1;33m(\u001b[0m\u001b[0mest\u001b[0m\u001b[1;33m.\u001b[0m\u001b[0meffect\u001b[0m\u001b[1;33m(\u001b[0m\u001b[0mX\u001b[0m\u001b[1;33m[\u001b[0m\u001b[1;33m:\u001b[0m\u001b[1;33m,\u001b[0m \u001b[1;33m:\u001b[0m\u001b[0md_x\u001b[0m\u001b[1;33m]\u001b[0m\u001b[1;33m)\u001b[0m\u001b[1;33m)\u001b[0m\u001b[1;33m\u001b[0m\u001b[1;33m\u001b[0m\u001b[0m\n\u001b[0m\u001b[0;32m      3\u001b[0m \u001b[0mplt\u001b[0m\u001b[1;33m.\u001b[0m\u001b[0mshow\u001b[0m\u001b[1;33m(\u001b[0m\u001b[1;33m)\u001b[0m\u001b[1;33m\u001b[0m\u001b[1;33m\u001b[0m\u001b[0m\n",
      "\u001b[1;32mc:\\users\\vasy\\documents\\econml\\econml\\dml.py\u001b[0m in \u001b[0;36meffect\u001b[1;34m(self, X, T0, T1)\u001b[0m\n\u001b[0;32m    217\u001b[0m     \u001b[1;31m#       removed from here and from the OrthoForest implementation?\u001b[0m\u001b[1;33m\u001b[0m\u001b[1;33m\u001b[0m\u001b[1;33m\u001b[0m\u001b[0m\n\u001b[0;32m    218\u001b[0m     \u001b[1;32mdef\u001b[0m \u001b[0meffect\u001b[0m\u001b[1;33m(\u001b[0m\u001b[0mself\u001b[0m\u001b[1;33m,\u001b[0m \u001b[0mX\u001b[0m\u001b[1;33m,\u001b[0m \u001b[0mT0\u001b[0m\u001b[1;33m=\u001b[0m\u001b[1;36m0\u001b[0m\u001b[1;33m,\u001b[0m \u001b[0mT1\u001b[0m\u001b[1;33m=\u001b[0m\u001b[1;36m1\u001b[0m\u001b[1;33m)\u001b[0m\u001b[1;33m:\u001b[0m\u001b[1;33m\u001b[0m\u001b[1;33m\u001b[0m\u001b[0m\n\u001b[1;32m--> 219\u001b[1;33m         \u001b[1;32mreturn\u001b[0m \u001b[0msuper\u001b[0m\u001b[1;33m(\u001b[0m\u001b[1;33m)\u001b[0m\u001b[1;33m.\u001b[0m\u001b[0meffect\u001b[0m\u001b[1;33m(\u001b[0m\u001b[0mX\u001b[0m\u001b[1;33m,\u001b[0m \u001b[0mself\u001b[0m\u001b[1;33m.\u001b[0m\u001b[0m_expand_treatment\u001b[0m\u001b[1;33m(\u001b[0m\u001b[0mT0\u001b[0m\u001b[1;33m,\u001b[0m \u001b[0mX\u001b[0m\u001b[1;33m)\u001b[0m\u001b[1;33m,\u001b[0m \u001b[0mself\u001b[0m\u001b[1;33m.\u001b[0m\u001b[0m_expand_treatment\u001b[0m\u001b[1;33m(\u001b[0m\u001b[0mT1\u001b[0m\u001b[1;33m,\u001b[0m \u001b[0mX\u001b[0m\u001b[1;33m)\u001b[0m\u001b[1;33m)\u001b[0m\u001b[1;33m\u001b[0m\u001b[1;33m\u001b[0m\u001b[0m\n\u001b[0m\u001b[0;32m    220\u001b[0m \u001b[1;33m\u001b[0m\u001b[0m\n\u001b[0;32m    221\u001b[0m     \u001b[1;32mdef\u001b[0m \u001b[0meffect_interval\u001b[0m\u001b[1;33m(\u001b[0m\u001b[0mself\u001b[0m\u001b[1;33m,\u001b[0m \u001b[0mX\u001b[0m\u001b[1;33m,\u001b[0m \u001b[1;33m*\u001b[0m\u001b[1;33m,\u001b[0m \u001b[0mT0\u001b[0m\u001b[1;33m=\u001b[0m\u001b[1;36m0\u001b[0m\u001b[1;33m,\u001b[0m \u001b[0mT1\u001b[0m\u001b[1;33m=\u001b[0m\u001b[1;36m1\u001b[0m\u001b[1;33m,\u001b[0m \u001b[0malpha\u001b[0m\u001b[1;33m=\u001b[0m\u001b[1;36m0.1\u001b[0m\u001b[1;33m)\u001b[0m\u001b[1;33m:\u001b[0m\u001b[1;33m\u001b[0m\u001b[1;33m\u001b[0m\u001b[0m\n",
      "\u001b[1;32mc:\\users\\vasy\\documents\\econml\\econml\\cate_estimator.py\u001b[0m in \u001b[0;36meffect\u001b[1;34m(self, X, T0, T1)\u001b[0m\n\u001b[0;32m    215\u001b[0m         \u001b[1;31m# TODO: what if input is sparse? - there's no equivalent to einsum,\u001b[0m\u001b[1;33m\u001b[0m\u001b[1;33m\u001b[0m\u001b[1;33m\u001b[0m\u001b[0m\n\u001b[0;32m    216\u001b[0m         \u001b[1;31m#       but tensordot can't be applied to this problem because we don't sum over m\u001b[0m\u001b[1;33m\u001b[0m\u001b[1;33m\u001b[0m\u001b[1;33m\u001b[0m\u001b[0m\n\u001b[1;32m--> 217\u001b[1;33m         \u001b[0meff\u001b[0m \u001b[1;33m=\u001b[0m \u001b[0mself\u001b[0m\u001b[1;33m.\u001b[0m\u001b[0mconst_marginal_effect\u001b[0m\u001b[1;33m(\u001b[0m\u001b[0mX\u001b[0m\u001b[1;33m)\u001b[0m\u001b[1;33m\u001b[0m\u001b[1;33m\u001b[0m\u001b[0m\n\u001b[0m\u001b[0;32m    218\u001b[0m         \u001b[0mm\u001b[0m \u001b[1;33m=\u001b[0m \u001b[0mshape\u001b[0m\u001b[1;33m(\u001b[0m\u001b[0meff\u001b[0m\u001b[1;33m)\u001b[0m\u001b[1;33m[\u001b[0m\u001b[1;36m0\u001b[0m\u001b[1;33m]\u001b[0m\u001b[1;33m\u001b[0m\u001b[1;33m\u001b[0m\u001b[0m\n\u001b[0;32m    219\u001b[0m         \u001b[1;32mif\u001b[0m \u001b[1;33m(\u001b[0m\u001b[0mndim\u001b[0m\u001b[1;33m(\u001b[0m\u001b[0mT0\u001b[0m\u001b[1;33m)\u001b[0m \u001b[1;33m==\u001b[0m \u001b[1;36m0\u001b[0m \u001b[1;32mor\u001b[0m \u001b[0mndim\u001b[0m\u001b[1;33m(\u001b[0m\u001b[0mT1\u001b[0m\u001b[1;33m)\u001b[0m \u001b[1;33m==\u001b[0m \u001b[1;36m0\u001b[0m\u001b[1;33m)\u001b[0m \u001b[1;32mand\u001b[0m \u001b[0mself\u001b[0m\u001b[1;33m.\u001b[0m\u001b[0m_d_t\u001b[0m \u001b[1;32mand\u001b[0m \u001b[0mshape\u001b[0m\u001b[1;33m(\u001b[0m\u001b[0mself\u001b[0m\u001b[1;33m.\u001b[0m\u001b[0m_d_t\u001b[0m\u001b[1;33m)\u001b[0m\u001b[1;33m[\u001b[0m\u001b[1;36m1\u001b[0m\u001b[1;33m]\u001b[0m \u001b[1;33m>\u001b[0m \u001b[1;36m1\u001b[0m\u001b[1;33m:\u001b[0m\u001b[1;33m\u001b[0m\u001b[1;33m\u001b[0m\u001b[0m\n",
      "\u001b[1;32mc:\\users\\vasy\\documents\\econml\\econml\\dml.py\u001b[0m in \u001b[0;36mconst_marginal_effect\u001b[1;34m(self, X)\u001b[0m\n\u001b[0;32m    197\u001b[0m         \u001b[1;32mif\u001b[0m \u001b[0mX\u001b[0m \u001b[1;32mis\u001b[0m \u001b[1;32mNone\u001b[0m\u001b[1;33m:\u001b[0m\u001b[1;33m\u001b[0m\u001b[1;33m\u001b[0m\u001b[0m\n\u001b[0;32m    198\u001b[0m             \u001b[0mX\u001b[0m \u001b[1;33m=\u001b[0m \u001b[0mnp\u001b[0m\u001b[1;33m.\u001b[0m\u001b[0mones\u001b[0m\u001b[1;33m(\u001b[0m\u001b[1;33m(\u001b[0m\u001b[1;36m1\u001b[0m\u001b[1;33m,\u001b[0m \u001b[1;36m1\u001b[0m\u001b[1;33m)\u001b[0m\u001b[1;33m)\u001b[0m\u001b[1;33m\u001b[0m\u001b[1;33m\u001b[0m\u001b[0m\n\u001b[1;32m--> 199\u001b[1;33m         \u001b[1;32mreturn\u001b[0m \u001b[0mself\u001b[0m\u001b[1;33m.\u001b[0m\u001b[0m_model_final\u001b[0m\u001b[1;33m.\u001b[0m\u001b[0mpredict\u001b[0m\u001b[1;33m(\u001b[0m\u001b[0mX\u001b[0m\u001b[1;33m)\u001b[0m\u001b[1;33m\u001b[0m\u001b[1;33m\u001b[0m\u001b[0m\n\u001b[0m\u001b[0;32m    200\u001b[0m \u001b[1;33m\u001b[0m\u001b[0m\n\u001b[0;32m    201\u001b[0m     \u001b[1;32mdef\u001b[0m \u001b[0mconst_marginal_effect_interval\u001b[0m\u001b[1;33m(\u001b[0m\u001b[0mself\u001b[0m\u001b[1;33m,\u001b[0m \u001b[0mX\u001b[0m\u001b[1;33m=\u001b[0m\u001b[1;32mNone\u001b[0m\u001b[1;33m,\u001b[0m \u001b[1;33m*\u001b[0m\u001b[1;33m,\u001b[0m \u001b[0malpha\u001b[0m\u001b[1;33m=\u001b[0m\u001b[1;36m0.1\u001b[0m\u001b[1;33m)\u001b[0m\u001b[1;33m:\u001b[0m\u001b[1;33m\u001b[0m\u001b[1;33m\u001b[0m\u001b[0m\n",
      "\u001b[1;32mc:\\users\\vasy\\documents\\econml\\econml\\dml.py\u001b[0m in \u001b[0;36mpredict\u001b[1;34m(self, X)\u001b[0m\n\u001b[0;32m    347\u001b[0m             \u001b[1;32mdef\u001b[0m \u001b[0mpredict\u001b[0m\u001b[1;33m(\u001b[0m\u001b[0mself\u001b[0m\u001b[1;33m,\u001b[0m \u001b[0mX\u001b[0m\u001b[1;33m)\u001b[0m\u001b[1;33m:\u001b[0m\u001b[1;33m\u001b[0m\u001b[1;33m\u001b[0m\u001b[0m\n\u001b[0;32m    348\u001b[0m                 \u001b[0mX\u001b[0m \u001b[1;33m=\u001b[0m \u001b[0mbroadcast_unit_treatments\u001b[0m\u001b[1;33m(\u001b[0m\u001b[0mself\u001b[0m\u001b[1;33m.\u001b[0m\u001b[0m_featurizer\u001b[0m\u001b[1;33m.\u001b[0m\u001b[0mfit_transform\u001b[0m\u001b[1;33m(\u001b[0m\u001b[0mX\u001b[0m\u001b[1;33m)\u001b[0m\u001b[1;33m,\u001b[0m \u001b[0mself\u001b[0m\u001b[1;33m.\u001b[0m\u001b[0m_d_t\u001b[0m\u001b[1;33m[\u001b[0m\u001b[1;36m0\u001b[0m\u001b[1;33m]\u001b[0m \u001b[1;32mif\u001b[0m \u001b[0mself\u001b[0m\u001b[1;33m.\u001b[0m\u001b[0m_d_t\u001b[0m \u001b[1;32melse\u001b[0m \u001b[1;36m1\u001b[0m\u001b[1;33m)\u001b[0m\u001b[1;33m\u001b[0m\u001b[1;33m\u001b[0m\u001b[0m\n\u001b[1;32m--> 349\u001b[1;33m                 \u001b[1;32mreturn\u001b[0m \u001b[0mreshape_treatmentwise_effects\u001b[0m\u001b[1;33m(\u001b[0m\u001b[0mself\u001b[0m\u001b[1;33m.\u001b[0m\u001b[0m_model\u001b[0m\u001b[1;33m.\u001b[0m\u001b[0mpredict\u001b[0m\u001b[1;33m(\u001b[0m\u001b[0mX\u001b[0m\u001b[1;33m)\u001b[0m\u001b[1;33m,\u001b[0m \u001b[0mself\u001b[0m\u001b[1;33m.\u001b[0m\u001b[0m_d_t\u001b[0m\u001b[1;33m,\u001b[0m \u001b[0mself\u001b[0m\u001b[1;33m.\u001b[0m\u001b[0m_d_y\u001b[0m\u001b[1;33m)\u001b[0m\u001b[1;33m\u001b[0m\u001b[1;33m\u001b[0m\u001b[0m\n\u001b[0m\u001b[0;32m    350\u001b[0m \u001b[1;33m\u001b[0m\u001b[0m\n\u001b[0;32m    351\u001b[0m             \u001b[1;33m@\u001b[0m\u001b[0mproperty\u001b[0m\u001b[1;33m\u001b[0m\u001b[1;33m\u001b[0m\u001b[0m\n",
      "\u001b[1;32mc:\\users\\vasy\\documents\\econml\\econml\\utilities.py\u001b[0m in \u001b[0;36mpredict\u001b[1;34m(self, X)\u001b[0m\n\u001b[0;32m   1187\u001b[0m         \u001b[1;32mif\u001b[0m \u001b[0mself\u001b[0m\u001b[1;33m.\u001b[0m\u001b[0m_fit_intercept\u001b[0m\u001b[1;33m:\u001b[0m\u001b[1;33m\u001b[0m\u001b[1;33m\u001b[0m\u001b[0m\n\u001b[0;32m   1188\u001b[0m             \u001b[0mX\u001b[0m \u001b[1;33m=\u001b[0m \u001b[0madd_constant\u001b[0m\u001b[1;33m(\u001b[0m\u001b[0mX\u001b[0m\u001b[1;33m,\u001b[0m \u001b[0mhas_constant\u001b[0m\u001b[1;33m=\u001b[0m\u001b[1;34m'add'\u001b[0m\u001b[1;33m)\u001b[0m\u001b[1;33m\u001b[0m\u001b[1;33m\u001b[0m\u001b[0m\n\u001b[1;32m-> 1189\u001b[1;33m         \u001b[1;32mreturn\u001b[0m \u001b[0mnp\u001b[0m\u001b[1;33m.\u001b[0m\u001b[0mmatmul\u001b[0m\u001b[1;33m(\u001b[0m\u001b[0mX\u001b[0m\u001b[1;33m,\u001b[0m \u001b[0mself\u001b[0m\u001b[1;33m.\u001b[0m\u001b[0m_param\u001b[0m\u001b[1;33m)\u001b[0m\u001b[1;33m\u001b[0m\u001b[1;33m\u001b[0m\u001b[0m\n\u001b[0m\u001b[0;32m   1190\u001b[0m \u001b[1;33m\u001b[0m\u001b[0m\n\u001b[0;32m   1191\u001b[0m     \u001b[1;33m@\u001b[0m\u001b[0mproperty\u001b[0m\u001b[1;33m\u001b[0m\u001b[1;33m\u001b[0m\u001b[0m\n",
      "\u001b[1;31mValueError\u001b[0m: could not broadcast input array from shape (2000,56) into shape (2000)"
     ]
    }
   ],
   "source": [
    "import matplotlib.pyplot as plt\n",
    "plt.hist(est.effect(X[:, :d_x]))\n",
    "plt.show()"
   ]
  },
  {
   "cell_type": "code",
   "execution_count": 135,
   "metadata": {},
   "outputs": [],
   "source": [
    "import sklearn\n",
    "from sklearn.tree import DecisionTreeRegressor\n",
    "y0, y1 = est.effect_interval(X[:, :d_x])\n",
    "y_pred = est.effect(X[:, :d_x])\n",
    "reg = DecisionTreeRegressor(max_depth=4, min_impurity_decrease=.001).fit(X, np.hstack([y0.reshape(-1,1), y_pred.reshape(-1,1), y1.reshape(-1,1)]))\n",
    "sklearn.tree.export_graphviz(reg, 'test.dot')"
   ]
  },
  {
   "cell_type": "code",
   "execution_count": 50,
   "metadata": {},
   "outputs": [],
   "source": [
    "import sklearn\n",
    "from sklearn.tree import DecisionTreeClassifier\n",
    "y0, y1 = est.effect_interval(X[:, :d_x])\n",
    "y_pred = est.effect(X[:, :d_x])\n",
    "cost = .5\n",
    "label = y0 - cost\n",
    "reg = DecisionTreeClassifier(max_depth=3).fit(X, np.sign(label), sample_weight=np.abs(label))\n",
    "sklearn.tree.export_graphviz(reg, 'test.dot')"
   ]
  },
  {
   "cell_type": "code",
   "execution_count": 109,
   "metadata": {},
   "outputs": [
    {
     "data": {
      "text/plain": [
       "<econml.metalearners.LinearDoublyRobustLearner at 0x28c8c37d908>"
      ]
     },
     "execution_count": 109,
     "metadata": {},
     "output_type": "execute_result"
    }
   ],
   "source": [
    "from econml.metalearners import DoublyRobustLearner, LinearDoublyRobustLearner\n",
    "import numpy as np\n",
    "from sklearn.preprocessing import PolynomialFeatures\n",
    "n = 600\n",
    "d = 10\n",
    "d_x = 4\n",
    "X = np.random.binomial(1, .5, size=(n, d))\n",
    "T = np.random.binomial(1, .5, size=(n,))\n",
    "y = (X[:, 0] + X[:, 1] + X[:,0]*X[:,1] + X[:, 2]*X[:, 3] + .5)*T + X[:, 0] + (0*X[:,0] + 1)*np.random.normal(0, 1, size=(n,))\n",
    "\n",
    "from econml.dml import DMLCateEstimator, LinearDMLCateEstimator\n",
    "from sklearn.linear_model import LinearRegression, LassoCV, LogisticRegressionCV\n",
    "from sklearn.dummy import DummyClassifier\n",
    "from sklearn.ensemble import RandomForestRegressor, RandomForestClassifier\n",
    "est = LinearDoublyRobustLearner(outcome_model = RandomForestRegressor(n_estimators=1000, max_depth=5, min_samples_leaf=10),\n",
    "                                propensity_model = RandomForestClassifier(n_estimators=1000, max_depth=5, min_samples_leaf=10),\n",
    "                                featurizer=PolynomialFeatures(degree=2, include_bias=False, interaction_only=True))\n",
    "from econml.inference import StatsModelsInference\n",
    "est.fit(y, T, X[:, :d_x], X[:, d_x:], inference=StatsModelsInference(cov_type='nonrobust'))"
   ]
  },
  {
   "cell_type": "code",
   "execution_count": 110,
   "metadata": {},
   "outputs": [
    {
     "name": "stdout",
     "output_type": "stream",
     "text": [
      "[ 1.207  1.497 -0.204 -0.011  0.802  0.289 -0.148 -0.321  0.119  0.753]\n"
     ]
    }
   ],
   "source": [
    "with np.printoptions(precision=3, suppress=True):\n",
    "    print(est.coef_)"
   ]
  },
  {
   "cell_type": "code",
   "execution_count": 111,
   "metadata": {},
   "outputs": [
    {
     "data": {
      "text/plain": [
       "0.36485182866608434"
      ]
     },
     "execution_count": 111,
     "metadata": {},
     "output_type": "execute_result"
    }
   ],
   "source": [
    "est.intercept_"
   ]
  },
  {
   "cell_type": "code",
   "execution_count": 112,
   "metadata": {},
   "outputs": [
    {
     "data": {
      "text/plain": [
       "(-0.35830400693228615, 1.0880076642644547)"
      ]
     },
     "execution_count": 112,
     "metadata": {},
     "output_type": "execute_result"
    }
   ],
   "source": [
    "est.intercept__interval(alpha=.01)"
   ]
  },
  {
   "cell_type": "code",
   "execution_count": 113,
   "metadata": {},
   "outputs": [
    {
     "data": {
      "text/plain": [
       "(array([ 1.52733627, -0.09693556,  1.44760728]),\n",
       " array([2.41080564, 0.82663922, 2.275475  ]))"
      ]
     },
     "execution_count": 113,
     "metadata": {},
     "output_type": "execute_result"
    }
   ],
   "source": [
    "est.const_marginal_effect_interval(X[:3, :d_x])"
   ]
  },
  {
   "cell_type": "code",
   "execution_count": 114,
   "metadata": {},
   "outputs": [
    {
     "data": {
      "text/plain": [
       "(array([ 0.34041142,  0.66833843, -1.04120538, -0.86345052, -0.03416916,\n",
       "        -0.54630646, -0.98444786, -1.15393147, -0.71782823, -0.0805297 ]),\n",
       " array([2.07282093, 2.32504018, 0.63419183, 0.84071604, 1.638624  ,\n",
       "        1.12417823, 0.6892978 , 0.51209052, 0.95562236, 1.58734827]))"
      ]
     },
     "execution_count": 114,
     "metadata": {},
     "output_type": "execute_result"
    }
   ],
   "source": [
    "est.coef__interval(alpha=0.01)"
   ]
  },
  {
   "cell_type": "code",
   "execution_count": 117,
   "metadata": {},
   "outputs": [
    {
     "name": "stdout",
     "output_type": "stream",
     "text": [
      "[['x0' '0.548' '1.866' '***']\n",
      " ['x1' '0.866' '2.127' '***']\n",
      " ['x2' '-0.841' '0.434' '']\n",
      " ['x3' '-0.660' '0.637' '']\n",
      " ['x0 x1' '0.166' '1.439' '*']\n",
      " ['x0 x2' '-0.347' '0.924' '']\n",
      " ['x0 x3' '-0.784' '0.489' '']\n",
      " ['x1 x2' '-0.955' '0.313' '']\n",
      " ['x1 x3' '-0.518' '0.756' '']\n",
      " ['x2 x3' '0.119' '1.388' '*']]\n"
     ]
    }
   ],
   "source": [
    "with np.printoptions(precision=3, suppress=True):\n",
    "    print(np.array([(n, \"{:.3f}\".format(l), \"{:.3f}\".format(h),\n",
    "                     \"***\" if (l3>0 or h3<0) else (\"**\" if (l2>0 or h2<0) else (\"*\" if (l>0 or h<0) else \"\")))\n",
    "                    for n,l,h,l2,h2,l3,h3 in zip(est._featurizer.get_feature_names(),\n",
    "                                     *est.coef__interval(alpha=0.05),\n",
    "                                     *est.coef__interval(alpha=0.005),\n",
    "                                     *est.coef__interval(alpha=0.0005))]))"
   ]
  },
  {
   "cell_type": "code",
   "execution_count": 80,
   "metadata": {},
   "outputs": [],
   "source": [
    "est._inference.featurizer"
   ]
  },
  {
   "cell_type": "code",
   "execution_count": 39,
   "metadata": {},
   "outputs": [
    {
     "ename": "KeyboardInterrupt",
     "evalue": "",
     "output_type": "error",
     "traceback": [
      "\u001b[1;31m---------------------------------------------------------------------------\u001b[0m",
      "\u001b[1;31mKeyboardInterrupt\u001b[0m                         Traceback (most recent call last)",
      "\u001b[1;32m<ipython-input-39-63f02472374f>\u001b[0m in \u001b[0;36m<module>\u001b[1;34m\u001b[0m\n\u001b[0;32m      1\u001b[0m \u001b[0mfeats\u001b[0m \u001b[1;33m=\u001b[0m \u001b[0mPolynomialFeatures\u001b[0m\u001b[1;33m(\u001b[0m\u001b[0mdegree\u001b[0m\u001b[1;33m=\u001b[0m\u001b[1;36m2\u001b[0m\u001b[1;33m,\u001b[0m \u001b[0minclude_bias\u001b[0m\u001b[1;33m=\u001b[0m\u001b[1;32mFalse\u001b[0m\u001b[1;33m,\u001b[0m \u001b[0minteraction_only\u001b[0m\u001b[1;33m=\u001b[0m\u001b[1;32mTrue\u001b[0m\u001b[1;33m)\u001b[0m\u001b[1;33m\u001b[0m\u001b[1;33m\u001b[0m\u001b[0m\n\u001b[1;32m----> 2\u001b[1;33m \u001b[0mprint\u001b[0m\u001b[1;33m(\u001b[0m\u001b[0mfeats\u001b[0m\u001b[1;33m.\u001b[0m\u001b[0mfit_transform\u001b[0m\u001b[1;33m(\u001b[0m\u001b[0mfeats\u001b[0m\u001b[1;33m.\u001b[0m\u001b[0mfit_transform\u001b[0m\u001b[1;33m(\u001b[0m\u001b[0mX\u001b[0m\u001b[1;33m[\u001b[0m\u001b[1;33m:\u001b[0m\u001b[1;36m3\u001b[0m\u001b[1;33m]\u001b[0m\u001b[1;33m)\u001b[0m\u001b[1;33m)\u001b[0m\u001b[1;33m)\u001b[0m\u001b[1;33m\u001b[0m\u001b[1;33m\u001b[0m\u001b[0m\n\u001b[0m",
      "\u001b[1;32mC:\\ProgramData\\Anaconda3\\lib\\site-packages\\sklearn\\base.py\u001b[0m in \u001b[0;36mfit_transform\u001b[1;34m(self, X, y, **fit_params)\u001b[0m\n\u001b[0;32m    460\u001b[0m         \u001b[1;32mif\u001b[0m \u001b[0my\u001b[0m \u001b[1;32mis\u001b[0m \u001b[1;32mNone\u001b[0m\u001b[1;33m:\u001b[0m\u001b[1;33m\u001b[0m\u001b[1;33m\u001b[0m\u001b[0m\n\u001b[0;32m    461\u001b[0m             \u001b[1;31m# fit method of arity 1 (unsupervised transformation)\u001b[0m\u001b[1;33m\u001b[0m\u001b[1;33m\u001b[0m\u001b[1;33m\u001b[0m\u001b[0m\n\u001b[1;32m--> 462\u001b[1;33m             \u001b[1;32mreturn\u001b[0m \u001b[0mself\u001b[0m\u001b[1;33m.\u001b[0m\u001b[0mfit\u001b[0m\u001b[1;33m(\u001b[0m\u001b[0mX\u001b[0m\u001b[1;33m,\u001b[0m \u001b[1;33m**\u001b[0m\u001b[0mfit_params\u001b[0m\u001b[1;33m)\u001b[0m\u001b[1;33m.\u001b[0m\u001b[0mtransform\u001b[0m\u001b[1;33m(\u001b[0m\u001b[0mX\u001b[0m\u001b[1;33m)\u001b[0m\u001b[1;33m\u001b[0m\u001b[1;33m\u001b[0m\u001b[0m\n\u001b[0m\u001b[0;32m    463\u001b[0m         \u001b[1;32melse\u001b[0m\u001b[1;33m:\u001b[0m\u001b[1;33m\u001b[0m\u001b[1;33m\u001b[0m\u001b[0m\n\u001b[0;32m    464\u001b[0m             \u001b[1;31m# fit method of arity 2 (supervised transformation)\u001b[0m\u001b[1;33m\u001b[0m\u001b[1;33m\u001b[0m\u001b[1;33m\u001b[0m\u001b[0m\n",
      "\u001b[1;32mC:\\ProgramData\\Anaconda3\\lib\\site-packages\\sklearn\\preprocessing\\data.py\u001b[0m in \u001b[0;36mtransform\u001b[1;34m(self, X)\u001b[0m\n\u001b[0;32m   1486\u001b[0m             \u001b[0mXP\u001b[0m \u001b[1;33m=\u001b[0m \u001b[0mnp\u001b[0m\u001b[1;33m.\u001b[0m\u001b[0mempty\u001b[0m\u001b[1;33m(\u001b[0m\u001b[1;33m(\u001b[0m\u001b[0mn_samples\u001b[0m\u001b[1;33m,\u001b[0m \u001b[0mself\u001b[0m\u001b[1;33m.\u001b[0m\u001b[0mn_output_features_\u001b[0m\u001b[1;33m)\u001b[0m\u001b[1;33m,\u001b[0m \u001b[0mdtype\u001b[0m\u001b[1;33m=\u001b[0m\u001b[0mX\u001b[0m\u001b[1;33m.\u001b[0m\u001b[0mdtype\u001b[0m\u001b[1;33m)\u001b[0m\u001b[1;33m\u001b[0m\u001b[1;33m\u001b[0m\u001b[0m\n\u001b[0;32m   1487\u001b[0m             \u001b[1;32mfor\u001b[0m \u001b[0mi\u001b[0m\u001b[1;33m,\u001b[0m \u001b[0mcomb\u001b[0m \u001b[1;32min\u001b[0m \u001b[0menumerate\u001b[0m\u001b[1;33m(\u001b[0m\u001b[0mcombinations\u001b[0m\u001b[1;33m)\u001b[0m\u001b[1;33m:\u001b[0m\u001b[1;33m\u001b[0m\u001b[1;33m\u001b[0m\u001b[0m\n\u001b[1;32m-> 1488\u001b[1;33m                 \u001b[0mXP\u001b[0m\u001b[1;33m[\u001b[0m\u001b[1;33m:\u001b[0m\u001b[1;33m,\u001b[0m \u001b[0mi\u001b[0m\u001b[1;33m]\u001b[0m \u001b[1;33m=\u001b[0m \u001b[0mX\u001b[0m\u001b[1;33m[\u001b[0m\u001b[1;33m:\u001b[0m\u001b[1;33m,\u001b[0m \u001b[0mcomb\u001b[0m\u001b[1;33m]\u001b[0m\u001b[1;33m.\u001b[0m\u001b[0mprod\u001b[0m\u001b[1;33m(\u001b[0m\u001b[1;36m1\u001b[0m\u001b[1;33m)\u001b[0m\u001b[1;33m\u001b[0m\u001b[1;33m\u001b[0m\u001b[0m\n\u001b[0m\u001b[0;32m   1489\u001b[0m \u001b[1;33m\u001b[0m\u001b[0m\n\u001b[0;32m   1490\u001b[0m         \u001b[1;32mreturn\u001b[0m \u001b[0mXP\u001b[0m\u001b[1;33m\u001b[0m\u001b[1;33m\u001b[0m\u001b[0m\n",
      "\u001b[1;31mKeyboardInterrupt\u001b[0m: "
     ]
    }
   ],
   "source": [
    "feats = PolynomialFeatures(degree=2, include_bias=False, interaction_only=True)\n",
    "print(feats.fit_transform(feats.fit_transform(X[:3])).shape)"
   ]
  },
  {
   "cell_type": "code",
   "execution_count": 29,
   "metadata": {},
   "outputs": [
    {
     "name": "stdout",
     "output_type": "stream",
     "text": [
      "(array([0.54459464, 1.58964207, 0.54459464]), array([0.89644765, 1.94208466, 0.89644765]))\n",
      "(array([ 1.28442609,  0.23922527,  0.02483883,  0.25110661, -0.29117647,\n",
      "       -0.22157358]), array([1.75605661, 0.71057299, 0.49534695, 0.79067504, 0.24854367,\n",
      "       0.31814219]))\n"
     ]
    }
   ],
   "source": [
    "from sklearn.pipeline import Pipeline\n",
    "from sklearn.utils.metaestimators import if_delegate_has_method\n",
    "from econml.utilities import StatsModelsLinearRegression\n",
    "class InferencePipeline(Pipeline):\n",
    "    def __init__(self, steps, memory=None):\n",
    "        super().__init__(steps, memory=memory)\n",
    "        \n",
    "    @if_delegate_has_method(delegate='_final_estimator')\n",
    "    def predict_interval(self, X, **predict_params):\n",
    "        Xt = X\n",
    "        for name, transform in self.steps[:-1]:\n",
    "            if transform is not None:\n",
    "                Xt = transform.transform(Xt)\n",
    "        return self.steps[-1][-1].predict_interval(Xt, **predict_params)\n",
    "    @if_delegate_has_method(delegate='_final_estimator')\n",
    "    def coef__interval(self, **predict_params):\n",
    "        return self.steps[-1][-1].coef__interval(**predict_params)\n",
    "est = InferencePipeline([('pre', PolynomialFeatures(degree=2, include_bias=False, interaction_only=True)),\n",
    "                ('last', StatsModelsLinearRegression())])\n",
    "est.fit(X[:, :3], y)\n",
    "print(est.predict_interval(X[:3, :3]))\n",
    "print(est.coef__interval(alpha=.05))"
   ]
  },
  {
   "cell_type": "code",
   "execution_count": 124,
   "metadata": {},
   "outputs": [],
   "source": [
    "import sklearn\n",
    "from sklearn.tree import DecisionTreeRegressor\n",
    "y_pred = est.effect(X[:, :d_x])\n",
    "reg = DecisionTreeRegressor(max_depth=4, min_impurity_decrease=.001).fit(X, y_pred)\n",
    "sklearn.tree.export_graphviz(reg, 'test.dot')"
   ]
  },
  {
   "cell_type": "code",
   "execution_count": 75,
   "metadata": {},
   "outputs": [
    {
     "name": "stdout",
     "output_type": "stream",
     "text": [
      "[[3.18130058 3.42745829 3.67361599]\n",
      " [2.26401888 2.51059395 2.75716903]\n",
      " [4.17583975 4.42397189 4.67210402]\n",
      " ...\n",
      " [3.18130058 3.42745829 3.67361599]\n",
      " [1.30998187 1.55562102 1.80126018]\n",
      " [3.18130058 3.42745829 3.67361599]]\n"
     ]
    }
   ],
   "source": [
    "print(reg.predict(X))"
   ]
  },
  {
   "cell_type": "code",
   "execution_count": 13,
   "metadata": {},
   "outputs": [
    {
     "name": "stdout",
     "output_type": "stream",
     "text": [
      "9987\n",
      "10013\n"
     ]
    },
    {
     "data": {
      "text/html": [
       "<table class=\"simpletable\">\n",
       "<caption>WLS Regression Results</caption>\n",
       "<tr>\n",
       "  <th>Dep. Variable:</th>            <td>y</td>        <th>  R-squared:         </th> <td>   0.225</td> \n",
       "</tr>\n",
       "<tr>\n",
       "  <th>Model:</th>                   <td>WLS</td>       <th>  Adj. R-squared:    </th> <td>   0.224</td> \n",
       "</tr>\n",
       "<tr>\n",
       "  <th>Method:</th>             <td>Least Squares</td>  <th>  F-statistic:       </th> <td>   276.5</td> \n",
       "</tr>\n",
       "<tr>\n",
       "  <th>Date:</th>             <td>Mon, 09 Sep 2019</td> <th>  Prob (F-statistic):</th>  <td>  0.00</td>  \n",
       "</tr>\n",
       "<tr>\n",
       "  <th>Time:</th>                 <td>04:20:56</td>     <th>  Log-Likelihood:    </th> <td> -28795.</td> \n",
       "</tr>\n",
       "<tr>\n",
       "  <th>No. Observations:</th>      <td> 20000</td>      <th>  AIC:               </th> <td>5.763e+04</td>\n",
       "</tr>\n",
       "<tr>\n",
       "  <th>Df Residuals:</th>          <td> 19979</td>      <th>  BIC:               </th> <td>5.780e+04</td>\n",
       "</tr>\n",
       "<tr>\n",
       "  <th>Df Model:</th>              <td>    21</td>      <th>                     </th>     <td> </td>    \n",
       "</tr>\n",
       "<tr>\n",
       "  <th>Covariance Type:</th>      <td>nonrobust</td>    <th>                     </th>     <td> </td>    \n",
       "</tr>\n",
       "</table>\n",
       "<table class=\"simpletable\">\n",
       "<tr>\n",
       "   <td></td>      <th>coef</th>     <th>std err</th>      <th>t</th>      <th>P>|t|</th>  <th>[0.025</th>    <th>0.975]</th>  \n",
       "</tr>\n",
       "<tr>\n",
       "  <th>x1</th>  <td>    0.5874</td> <td>    0.066</td> <td>    8.893</td> <td> 0.000</td> <td>    0.458</td> <td>    0.717</td>\n",
       "</tr>\n",
       "<tr>\n",
       "  <th>x2</th>  <td>    0.9590</td> <td>    0.029</td> <td>   33.177</td> <td> 0.000</td> <td>    0.902</td> <td>    1.016</td>\n",
       "</tr>\n",
       "<tr>\n",
       "  <th>x3</th>  <td>   -0.0309</td> <td>    0.029</td> <td>   -1.070</td> <td> 0.285</td> <td>   -0.088</td> <td>    0.026</td>\n",
       "</tr>\n",
       "<tr>\n",
       "  <th>x4</th>  <td>    0.0102</td> <td>    0.029</td> <td>    0.351</td> <td> 0.725</td> <td>   -0.047</td> <td>    0.067</td>\n",
       "</tr>\n",
       "<tr>\n",
       "  <th>x5</th>  <td>    0.0050</td> <td>    0.029</td> <td>    0.171</td> <td> 0.864</td> <td>   -0.052</td> <td>    0.062</td>\n",
       "</tr>\n",
       "<tr>\n",
       "  <th>x6</th>  <td>   -0.0130</td> <td>    0.029</td> <td>   -0.451</td> <td> 0.652</td> <td>   -0.070</td> <td>    0.044</td>\n",
       "</tr>\n",
       "<tr>\n",
       "  <th>x7</th>  <td>   -0.0404</td> <td>    0.029</td> <td>   -1.396</td> <td> 0.163</td> <td>   -0.097</td> <td>    0.016</td>\n",
       "</tr>\n",
       "<tr>\n",
       "  <th>x8</th>  <td>   -0.0063</td> <td>    0.029</td> <td>   -0.217</td> <td> 0.828</td> <td>   -0.063</td> <td>    0.050</td>\n",
       "</tr>\n",
       "<tr>\n",
       "  <th>x9</th>  <td>    0.0067</td> <td>    0.029</td> <td>    0.232</td> <td> 0.816</td> <td>   -0.050</td> <td>    0.063</td>\n",
       "</tr>\n",
       "<tr>\n",
       "  <th>x10</th> <td>   -0.0093</td> <td>    0.029</td> <td>   -0.323</td> <td> 0.747</td> <td>   -0.066</td> <td>    0.047</td>\n",
       "</tr>\n",
       "<tr>\n",
       "  <th>x11</th> <td>    0.0417</td> <td>    0.029</td> <td>    1.442</td> <td> 0.149</td> <td>   -0.015</td> <td>    0.098</td>\n",
       "</tr>\n",
       "<tr>\n",
       "  <th>x12</th> <td>    0.0318</td> <td>    0.029</td> <td>    1.101</td> <td> 0.271</td> <td>   -0.025</td> <td>    0.088</td>\n",
       "</tr>\n",
       "<tr>\n",
       "  <th>x13</th> <td>   -0.0352</td> <td>    0.029</td> <td>   -1.218</td> <td> 0.223</td> <td>   -0.092</td> <td>    0.021</td>\n",
       "</tr>\n",
       "<tr>\n",
       "  <th>x14</th> <td>   -0.0262</td> <td>    0.029</td> <td>   -0.906</td> <td> 0.365</td> <td>   -0.083</td> <td>    0.030</td>\n",
       "</tr>\n",
       "<tr>\n",
       "  <th>x15</th> <td>    0.0029</td> <td>    0.029</td> <td>    0.102</td> <td> 0.919</td> <td>   -0.054</td> <td>    0.060</td>\n",
       "</tr>\n",
       "<tr>\n",
       "  <th>x16</th> <td>   -0.0518</td> <td>    0.029</td> <td>   -1.791</td> <td> 0.073</td> <td>   -0.108</td> <td>    0.005</td>\n",
       "</tr>\n",
       "<tr>\n",
       "  <th>x17</th> <td>    0.0025</td> <td>    0.029</td> <td>    0.086</td> <td> 0.931</td> <td>   -0.054</td> <td>    0.059</td>\n",
       "</tr>\n",
       "<tr>\n",
       "  <th>x18</th> <td>   -0.0065</td> <td>    0.029</td> <td>   -0.224</td> <td> 0.822</td> <td>   -0.063</td> <td>    0.050</td>\n",
       "</tr>\n",
       "<tr>\n",
       "  <th>x19</th> <td>   -0.0359</td> <td>    0.029</td> <td>   -1.243</td> <td> 0.214</td> <td>   -0.093</td> <td>    0.021</td>\n",
       "</tr>\n",
       "<tr>\n",
       "  <th>x20</th> <td>   -0.0403</td> <td>    0.029</td> <td>   -1.395</td> <td> 0.163</td> <td>   -0.097</td> <td>    0.016</td>\n",
       "</tr>\n",
       "<tr>\n",
       "  <th>x21</th> <td>    0.0477</td> <td>    0.029</td> <td>    1.649</td> <td> 0.099</td> <td>   -0.009</td> <td>    0.104</td>\n",
       "</tr>\n",
       "</table>\n",
       "<table class=\"simpletable\">\n",
       "<tr>\n",
       "  <th>Omnibus:</th>       <td> 4.196</td> <th>  Durbin-Watson:     </th> <td>   1.971</td>\n",
       "</tr>\n",
       "<tr>\n",
       "  <th>Prob(Omnibus):</th> <td> 0.123</td> <th>  Jarque-Bera (JB):  </th> <td>   4.202</td>\n",
       "</tr>\n",
       "<tr>\n",
       "  <th>Skew:</th>          <td> 0.027</td> <th>  Prob(JB):          </th> <td>   0.122</td>\n",
       "</tr>\n",
       "<tr>\n",
       "  <th>Kurtosis:</th>      <td> 3.046</td> <th>  Cond. No.          </th> <td>    12.4</td>\n",
       "</tr>\n",
       "</table><br/><br/>Warnings:<br/>[1] Standard Errors assume that the covariance matrix of the errors is correctly specified."
      ],
      "text/plain": [
       "<class 'statsmodels.iolib.summary.Summary'>\n",
       "\"\"\"\n",
       "                            WLS Regression Results                            \n",
       "==============================================================================\n",
       "Dep. Variable:                      y   R-squared:                       0.225\n",
       "Model:                            WLS   Adj. R-squared:                  0.224\n",
       "Method:                 Least Squares   F-statistic:                     276.5\n",
       "Date:                Mon, 09 Sep 2019   Prob (F-statistic):               0.00\n",
       "Time:                        04:20:56   Log-Likelihood:                -28795.\n",
       "No. Observations:               20000   AIC:                         5.763e+04\n",
       "Df Residuals:                   19979   BIC:                         5.780e+04\n",
       "Df Model:                          21                                         \n",
       "Covariance Type:            nonrobust                                         \n",
       "==============================================================================\n",
       "                 coef    std err          t      P>|t|      [0.025      0.975]\n",
       "------------------------------------------------------------------------------\n",
       "x1             0.5874      0.066      8.893      0.000       0.458       0.717\n",
       "x2             0.9590      0.029     33.177      0.000       0.902       1.016\n",
       "x3            -0.0309      0.029     -1.070      0.285      -0.088       0.026\n",
       "x4             0.0102      0.029      0.351      0.725      -0.047       0.067\n",
       "x5             0.0050      0.029      0.171      0.864      -0.052       0.062\n",
       "x6            -0.0130      0.029     -0.451      0.652      -0.070       0.044\n",
       "x7            -0.0404      0.029     -1.396      0.163      -0.097       0.016\n",
       "x8            -0.0063      0.029     -0.217      0.828      -0.063       0.050\n",
       "x9             0.0067      0.029      0.232      0.816      -0.050       0.063\n",
       "x10           -0.0093      0.029     -0.323      0.747      -0.066       0.047\n",
       "x11            0.0417      0.029      1.442      0.149      -0.015       0.098\n",
       "x12            0.0318      0.029      1.101      0.271      -0.025       0.088\n",
       "x13           -0.0352      0.029     -1.218      0.223      -0.092       0.021\n",
       "x14           -0.0262      0.029     -0.906      0.365      -0.083       0.030\n",
       "x15            0.0029      0.029      0.102      0.919      -0.054       0.060\n",
       "x16           -0.0518      0.029     -1.791      0.073      -0.108       0.005\n",
       "x17            0.0025      0.029      0.086      0.931      -0.054       0.059\n",
       "x18           -0.0065      0.029     -0.224      0.822      -0.063       0.050\n",
       "x19           -0.0359      0.029     -1.243      0.214      -0.093       0.021\n",
       "x20           -0.0403      0.029     -1.395      0.163      -0.097       0.016\n",
       "x21            0.0477      0.029      1.649      0.099      -0.009       0.104\n",
       "==============================================================================\n",
       "Omnibus:                        4.196   Durbin-Watson:                   1.971\n",
       "Prob(Omnibus):                  0.123   Jarque-Bera (JB):                4.202\n",
       "Skew:                           0.027   Prob(JB):                        0.122\n",
       "Kurtosis:                       3.046   Cond. No.                         12.4\n",
       "==============================================================================\n",
       "\n",
       "Warnings:\n",
       "[1] Standard Errors assume that the covariance matrix of the errors is correctly specified.\n",
       "\"\"\""
      ]
     },
     "execution_count": 13,
     "metadata": {},
     "output_type": "execute_result"
    }
   ],
   "source": [
    "from econml.dml import DMLCateEstimator,SparseLinearDMLCateEstimator  \n",
    "from econml.utilities import hstack\n",
    "# We create two copies per unique X vector and we store the mean and number of half of\n",
    "# the data in one copy and mean and number of the other half in the other. If a\n",
    "# vector X has only one observation, then we add it at one of the two halfs chosen\n",
    "# uniformly at random.\n",
    "XT_unique = np.unique(hstack([X, T.reshape(-1,1)]), axis=0)\n",
    "y_sum_first = []\n",
    "n_sum_first = []\n",
    "XT_final_first = []\n",
    "y_sum_sec = []\n",
    "n_sum_sec = []\n",
    "XT_final_sec= []\n",
    "for it, xt in enumerate(XT_unique):\n",
    "    mask = (X==xt[:-1]).all(axis=1) & (T==xt[-1])\n",
    "    if mask.any():\n",
    "        y_mask = y[mask]\n",
    "        if np.sum(mask) >=2:\n",
    "            y_mask_first = y_mask[:y_mask.shape[0]//2]\n",
    "            y_mask_sec = y_mask[y_mask.shape[0]//2:]\n",
    "            y_sum_first.append(np.mean(y_mask_first))\n",
    "            n_sum_first.append(len(y_mask_first))\n",
    "            XT_final_first.append(xt)\n",
    "            y_sum_sec.append(np.mean(y_mask_sec))\n",
    "            n_sum_sec.append(len(y_mask_sec))\n",
    "            XT_final_sec.append(xt)\n",
    "        else:\n",
    "            if np.random.binomial(1, .5, size=1)==1:\n",
    "                y_sum_first.append(np.mean(y_mask))\n",
    "                n_sum_first.append(len(y_mask))\n",
    "                XT_final_first.append(xt)\n",
    "            else:\n",
    "                y_sum_sec.append(np.mean(y_mask))\n",
    "                n_sum_sec.append(len(y_mask))\n",
    "                XT_final_sec.append(xt)\n",
    "            \n",
    "\n",
    "first_half = len(y_sum_first)\n",
    "print(first_half)\n",
    "print(len(y_sum_sec))\n",
    "y_sum_first.extend(y_sum_sec)\n",
    "n_sum_first.extend(n_sum_sec)\n",
    "XT_final_first.extend(XT_final_sec)\n",
    "y_sum = np.array(y_sum_first)\n",
    "n_sum = np.array(n_sum_first)\n",
    "XT_final = np.array(XT_final_first)\n",
    "\n",
    "\n",
    "class Splitter:\n",
    "    def __init__(self):\n",
    "        return\n",
    "    def split(self, Y, T, X, W, sample_weight):\n",
    "        return [(np.arange(0, first_half), np.arange(first_half, Y.shape[0])), \n",
    "                (np.arange(first_half, Y.shape[0]), np.arange(0, first_half))]\n",
    "\n",
    "est = LinearDMLCateEstimator(model_y = LinearRegression(),\n",
    "                       model_t = DummyClassifier(strategy='prior'),\n",
    "                       n_splits=Splitter(),\n",
    "                       discrete_treatment=True)\n",
    "from econml.inference import StatsModelsInference\n",
    "est.fit(y_sum, XT_final[:, -1], XT_final[:, :-1], None, sample_weight=n_sum,\n",
    "        inference=StatsModelsInference(cov_type='HC1'))\n",
    "est._model_final._model.results.summary()"
   ]
  },
  {
   "cell_type": "code",
   "execution_count": null,
   "metadata": {},
   "outputs": [],
   "source": [
    "from econml.dml import DMLCateEstimator,SparseLinearDMLCateEstimator  \n",
    "from econml.utilities import hstack\n",
    "XT_unique = np.unique(hstack([X, T.reshape(-1,1)]), axis=0)\n",
    "y_sum = []\n",
    "n_sum = []\n",
    "XT_final = []\n",
    "for it, xt in enumerate(XT_unique):\n",
    "    mask = (X==xt[:-1]).all(axis=1) & (T==xt[-1])\n",
    "    if mask.any():\n",
    "        y_mask = y[mask]\n",
    "        y_sum.append(np.mean(y_mask))\n",
    "        n_sum.append(len(y_mask))\n",
    "        XT_final.append(xt)\n",
    "\n",
    "y_sum = np.array(y_sum)\n",
    "n_sum = np.array(n_sum)\n",
    "XT_final = np.array(XT_final)\n",
    "\n",
    "\n",
    "est = LinearDMLCateEstimator(model_y = LinearRegression(),\n",
    "                       model_t = DummyClassifier(strategy='prior'),\n",
    "                       n_splits=2,\n",
    "                       discrete_treatment=True)\n",
    "est.fit(y_sum, XT_final[:, -1], XT_final[:, :-1], None, sample_weight=n_sum, inference='statsmodels')\n",
    "est._model_final._model.results.summary()"
   ]
  },
  {
   "cell_type": "code",
   "execution_count": 56,
   "metadata": {},
   "outputs": [
    {
     "ename": "SyntaxError",
     "evalue": "unexpected EOF while parsing (<ipython-input-56-2ee7aae62dc0>, line 1)",
     "output_type": "error",
     "traceback": [
      "\u001b[1;36m  File \u001b[1;32m\"<ipython-input-56-2ee7aae62dc0>\"\u001b[1;36m, line \u001b[1;32m1\u001b[0m\n\u001b[1;33m    for it, xt in enumerate(XT_unique):\u001b[0m\n\u001b[1;37m                                       ^\u001b[0m\n\u001b[1;31mSyntaxError\u001b[0m\u001b[1;31m:\u001b[0m unexpected EOF while parsing\n"
     ]
    }
   ],
   "source": [
    "for it, xt in enumerate(XT_unique):"
   ]
  },
  {
   "cell_type": "code",
   "execution_count": 14,
   "metadata": {},
   "outputs": [
    {
     "data": {
      "text/plain": [
       "array([ 0.66710921,  1.1194121 ,  0.13423844, -0.01444813,  0.04282233,\n",
       "       -0.16701646, -0.3538747 , -0.08366747,  0.54372055,  0.34446801,\n",
       "       -0.51488198])"
      ]
     },
     "execution_count": 14,
     "metadata": {},
     "output_type": "execute_result"
    }
   ],
   "source": [
    "est.coef_"
   ]
  },
  {
   "cell_type": "code",
   "execution_count": 130,
   "metadata": {},
   "outputs": [
    {
     "data": {
      "text/html": [
       "<table class=\"simpletable\">\n",
       "<caption>OLS Regression Results</caption>\n",
       "<tr>\n",
       "  <th>Dep. Variable:</th>            <td>y</td>        <th>  R-squared:         </th> <td>   0.197</td> \n",
       "</tr>\n",
       "<tr>\n",
       "  <th>Model:</th>                   <td>OLS</td>       <th>  Adj. R-squared:    </th> <td>   0.196</td> \n",
       "</tr>\n",
       "<tr>\n",
       "  <th>Method:</th>             <td>Least Squares</td>  <th>  F-statistic:       </th> <td>   490.3</td> \n",
       "</tr>\n",
       "<tr>\n",
       "  <th>Date:</th>             <td>Sat, 22 Jun 2019</td> <th>  Prob (F-statistic):</th>  <td>  0.00</td>  \n",
       "</tr>\n",
       "<tr>\n",
       "  <th>Time:</th>                 <td>18:35:49</td>     <th>  Log-Likelihood:    </th> <td> -14288.</td> \n",
       "</tr>\n",
       "<tr>\n",
       "  <th>No. Observations:</th>      <td> 10000</td>      <th>  AIC:               </th> <td>2.859e+04</td>\n",
       "</tr>\n",
       "<tr>\n",
       "  <th>Df Residuals:</th>          <td>  9994</td>      <th>  BIC:               </th> <td>2.863e+04</td>\n",
       "</tr>\n",
       "<tr>\n",
       "  <th>Df Model:</th>              <td>     5</td>      <th>                     </th>     <td> </td>    \n",
       "</tr>\n",
       "<tr>\n",
       "  <th>Covariance Type:</th>         <td>HC1</td>       <th>                     </th>     <td> </td>    \n",
       "</tr>\n",
       "</table>\n",
       "<table class=\"simpletable\">\n",
       "<tr>\n",
       "    <td></td>       <th>coef</th>     <th>std err</th>      <th>z</th>      <th>P>|z|</th>  <th>[0.025</th>    <th>0.975]</th>  \n",
       "</tr>\n",
       "<tr>\n",
       "  <th>const</th> <td>   -0.0072</td> <td>    0.024</td> <td>   -0.296</td> <td> 0.768</td> <td>   -0.055</td> <td>    0.041</td>\n",
       "</tr>\n",
       "<tr>\n",
       "  <th>x1</th>    <td>    0.9995</td> <td>    0.020</td> <td>   49.472</td> <td> 0.000</td> <td>    0.960</td> <td>    1.039</td>\n",
       "</tr>\n",
       "<tr>\n",
       "  <th>x2</th>    <td>    0.0024</td> <td>    0.020</td> <td>    0.118</td> <td> 0.906</td> <td>   -0.037</td> <td>    0.042</td>\n",
       "</tr>\n",
       "<tr>\n",
       "  <th>x3</th>    <td>    0.0140</td> <td>    0.020</td> <td>    0.693</td> <td> 0.488</td> <td>   -0.026</td> <td>    0.054</td>\n",
       "</tr>\n",
       "<tr>\n",
       "  <th>x4</th>    <td>    0.0145</td> <td>    0.020</td> <td>    0.716</td> <td> 0.474</td> <td>   -0.025</td> <td>    0.054</td>\n",
       "</tr>\n",
       "<tr>\n",
       "  <th>x5</th>    <td>   -0.0069</td> <td>    0.020</td> <td>   -0.340</td> <td> 0.734</td> <td>   -0.046</td> <td>    0.033</td>\n",
       "</tr>\n",
       "</table>\n",
       "<table class=\"simpletable\">\n",
       "<tr>\n",
       "  <th>Omnibus:</th>       <td> 0.546</td> <th>  Durbin-Watson:     </th> <td>   1.996</td>\n",
       "</tr>\n",
       "<tr>\n",
       "  <th>Prob(Omnibus):</th> <td> 0.761</td> <th>  Jarque-Bera (JB):  </th> <td>   0.568</td>\n",
       "</tr>\n",
       "<tr>\n",
       "  <th>Skew:</th>          <td> 0.016</td> <th>  Prob(JB):          </th> <td>   0.753</td>\n",
       "</tr>\n",
       "<tr>\n",
       "  <th>Kurtosis:</th>      <td> 2.983</td> <th>  Cond. No.          </th> <td>    4.82</td>\n",
       "</tr>\n",
       "</table><br/><br/>Warnings:<br/>[1] Standard Errors are heteroscedasticity robust (HC1)"
      ],
      "text/plain": [
       "<class 'statsmodels.iolib.summary.Summary'>\n",
       "\"\"\"\n",
       "                            OLS Regression Results                            \n",
       "==============================================================================\n",
       "Dep. Variable:                      y   R-squared:                       0.197\n",
       "Model:                            OLS   Adj. R-squared:                  0.196\n",
       "Method:                 Least Squares   F-statistic:                     490.3\n",
       "Date:                Sat, 22 Jun 2019   Prob (F-statistic):               0.00\n",
       "Time:                        18:35:49   Log-Likelihood:                -14288.\n",
       "No. Observations:               10000   AIC:                         2.859e+04\n",
       "Df Residuals:                    9994   BIC:                         2.863e+04\n",
       "Df Model:                           5                                         \n",
       "Covariance Type:                  HC1                                         \n",
       "==============================================================================\n",
       "                 coef    std err          z      P>|z|      [0.025      0.975]\n",
       "------------------------------------------------------------------------------\n",
       "const         -0.0072      0.024     -0.296      0.768      -0.055       0.041\n",
       "x1             0.9995      0.020     49.472      0.000       0.960       1.039\n",
       "x2             0.0024      0.020      0.118      0.906      -0.037       0.042\n",
       "x3             0.0140      0.020      0.693      0.488      -0.026       0.054\n",
       "x4             0.0145      0.020      0.716      0.474      -0.025       0.054\n",
       "x5            -0.0069      0.020     -0.340      0.734      -0.046       0.033\n",
       "==============================================================================\n",
       "Omnibus:                        0.546   Durbin-Watson:                   1.996\n",
       "Prob(Omnibus):                  0.761   Jarque-Bera (JB):                0.568\n",
       "Skew:                           0.016   Prob(JB):                        0.753\n",
       "Kurtosis:                       2.983   Cond. No.                         4.82\n",
       "==============================================================================\n",
       "\n",
       "Warnings:\n",
       "[1] Standard Errors are heteroscedasticity robust (HC1)\n",
       "\"\"\""
      ]
     },
     "execution_count": 130,
     "metadata": {},
     "output_type": "execute_result"
    }
   ],
   "source": [
    "from econml.utilities import StatsModelLinearRegression\n",
    "\n",
    "est = StatsModelLinearRegression(cov_type='HC1')\n",
    "est.fit(X, y)\n",
    "est.summary()"
   ]
  },
  {
   "cell_type": "code",
   "execution_count": 15,
   "metadata": {},
   "outputs": [
    {
     "ename": "ImportError",
     "evalue": "cannot import name 'StatsModelLinearRegression' from 'econml.utilities' (c:\\users\\vasy\\documents\\econml\\econml\\utilities.py)",
     "output_type": "error",
     "traceback": [
      "\u001b[1;31m---------------------------------------------------------------------------\u001b[0m",
      "\u001b[1;31mImportError\u001b[0m                               Traceback (most recent call last)",
      "\u001b[1;32m<ipython-input-15-0672bf06e720>\u001b[0m in \u001b[0;36m<module>\u001b[1;34m\u001b[0m\n\u001b[1;32m----> 1\u001b[1;33m \u001b[1;32mfrom\u001b[0m \u001b[0meconml\u001b[0m\u001b[1;33m.\u001b[0m\u001b[0mutilities\u001b[0m \u001b[1;32mimport\u001b[0m \u001b[0mStatsModelLinearRegression\u001b[0m\u001b[1;33m\u001b[0m\u001b[1;33m\u001b[0m\u001b[0m\n\u001b[0m\u001b[0;32m      2\u001b[0m \u001b[1;33m\u001b[0m\u001b[0m\n\u001b[0;32m      3\u001b[0m \u001b[0mX_unique\u001b[0m \u001b[1;33m=\u001b[0m \u001b[0mnp\u001b[0m\u001b[1;33m.\u001b[0m\u001b[0munique\u001b[0m\u001b[1;33m(\u001b[0m\u001b[0mX\u001b[0m\u001b[1;33m,\u001b[0m \u001b[0maxis\u001b[0m\u001b[1;33m=\u001b[0m\u001b[1;36m0\u001b[0m\u001b[1;33m)\u001b[0m\u001b[1;33m\u001b[0m\u001b[1;33m\u001b[0m\u001b[0m\n\u001b[0;32m      4\u001b[0m \u001b[0my_sum\u001b[0m \u001b[1;33m=\u001b[0m \u001b[0mnp\u001b[0m\u001b[1;33m.\u001b[0m\u001b[0mzeros\u001b[0m\u001b[1;33m(\u001b[0m\u001b[0mX_unique\u001b[0m\u001b[1;33m.\u001b[0m\u001b[0mshape\u001b[0m\u001b[1;33m[\u001b[0m\u001b[1;36m0\u001b[0m\u001b[1;33m]\u001b[0m\u001b[1;33m)\u001b[0m\u001b[1;33m\u001b[0m\u001b[1;33m\u001b[0m\u001b[0m\n\u001b[0;32m      5\u001b[0m \u001b[0mn_sum\u001b[0m \u001b[1;33m=\u001b[0m \u001b[0mnp\u001b[0m\u001b[1;33m.\u001b[0m\u001b[0mzeros\u001b[0m\u001b[1;33m(\u001b[0m\u001b[0mX_unique\u001b[0m\u001b[1;33m.\u001b[0m\u001b[0mshape\u001b[0m\u001b[1;33m[\u001b[0m\u001b[1;36m0\u001b[0m\u001b[1;33m]\u001b[0m\u001b[1;33m)\u001b[0m\u001b[1;33m\u001b[0m\u001b[1;33m\u001b[0m\u001b[0m\n",
      "\u001b[1;31mImportError\u001b[0m: cannot import name 'StatsModelLinearRegression' from 'econml.utilities' (c:\\users\\vasy\\documents\\econml\\econml\\utilities.py)"
     ]
    }
   ],
   "source": [
    "from econml.utilities import StatsModelLinearRegression\n",
    "\n",
    "X_unique = np.unique(X, axis=0)\n",
    "y_sum = np.zeros(X_unique.shape[0])\n",
    "n_sum = np.zeros(X_unique.shape[0])\n",
    "for it, x in enumerate(X_unique):\n",
    "    y_sum[it] = np.mean(y[(X==x).all(axis=1)])\n",
    "    n_sum[it] = np.sum((X==x).all(axis=1))\n",
    "\n",
    "est = StatsModelLinearRegression(cov_type='HC1')\n",
    "est.fit(X_unique, y_sum, sample_weight=n_sum/X.shape[0])\n",
    "est.summary()"
   ]
  },
  {
   "cell_type": "code",
   "execution_count": 89,
   "metadata": {},
   "outputs": [
    {
     "name": "stdout",
     "output_type": "stream",
     "text": [
      "(4, 2)\n",
      "[0 0]\n",
      "[[0 0]\n",
      " [1 0]\n",
      " [0 0]\n",
      " [1 1]\n",
      " [0 0]\n",
      " [0 1]\n",
      " [0 1]\n",
      " [0 0]\n",
      " [1 0]\n",
      " [1 0]]\n",
      "[ True False  True False  True False False  True False False]\n",
      "[0 1]\n",
      "[[0 0]\n",
      " [1 0]\n",
      " [0 0]\n",
      " [1 1]\n",
      " [0 0]\n",
      " [0 1]\n",
      " [0 1]\n",
      " [0 0]\n",
      " [1 0]\n",
      " [1 0]]\n",
      "[False False False False False  True  True False False False]\n",
      "[1 0]\n",
      "[[0 0]\n",
      " [1 0]\n",
      " [0 0]\n",
      " [1 1]\n",
      " [0 0]\n",
      " [0 1]\n",
      " [0 1]\n",
      " [0 0]\n",
      " [1 0]\n",
      " [1 0]]\n",
      "[False  True False False False False False False  True  True]\n",
      "[1 1]\n",
      "[[0 0]\n",
      " [1 0]\n",
      " [0 0]\n",
      " [1 1]\n",
      " [0 0]\n",
      " [0 1]\n",
      " [0 1]\n",
      " [0 0]\n",
      " [1 0]\n",
      " [1 0]]\n",
      "[False False False  True False False False False False False]\n"
     ]
    }
   ],
   "source": [
    "X_unique = np.unique(X, axis=0)\n",
    "print(X_unique.shape)\n",
    "for x in X_unique:\n",
    "    print(x)\n",
    "    print(X)\n",
    "    print((X==x).all(axis=1))"
   ]
  },
  {
   "cell_type": "markdown",
   "metadata": {},
   "source": [
    "## 1. Example Usage with Single Continuous Treatment Synthetic Data"
   ]
  },
  {
   "cell_type": "markdown",
   "metadata": {},
   "source": [
    "### 1.1. DGP \n",
    "We use the data generating process (DGP) from [here](https://arxiv.org/abs/1806.03467). The DGP is described by the following equations:\n",
    "\n",
    "\\begin{align}\n",
    "T =& \\langle W, \\beta\\rangle + \\eta, & \\;\\eta \\sim \\text{Uniform}(-1, 1)\\\\\n",
    "Y =& T\\cdot \\theta(X) + \\langle W, \\gamma\\rangle + \\epsilon, &\\; \\epsilon \\sim \\text{Uniform}(-1, 1)\\\\\n",
    "W \\sim& \\text{Normal}(0,\\, I_{n_w})\\\\\n",
    "X \\sim& \\text{Uniform}(0,1)^{n_x}\n",
    "\\end{align}\n",
    "\n",
    "where $W$ is a matrix of high-dimensional confounders and $\\beta, \\gamma$ have high sparsity.\n",
    "\n",
    "For this DGP, \n",
    "\\begin{align}\n",
    "\\theta(x) = \\exp(2\\cdot x_1).\n",
    "\\end{align}"
   ]
  },
  {
   "cell_type": "code",
   "execution_count": 5,
   "metadata": {},
   "outputs": [],
   "source": [
    "# Treatment effect function\n",
    "def exp_te(x):\n",
    "    return x[0]**2 #4*(x[0]*(x[0]<.25) + (.25 - .2*x[0])*((x[0]>=.25) & (x[0]<.75)) + x[0]*(x[0]>=.75)) #np.exp(2*x[0])"
   ]
  },
  {
   "cell_type": "code",
   "execution_count": 31,
   "metadata": {},
   "outputs": [],
   "source": [
    "# DGP constants\n",
    "n=10000\n",
    "n_w=10\n",
    "support_size=5\n",
    "n_x=2\n",
    "def dgp(random_state=123):\n",
    "    np.random.seed(random_state)\n",
    "    # Outcome support\n",
    "    support_Y=np.random.choice(range(n_w),size=support_size,replace=False)\n",
    "    coefs_Y=np.random.uniform(0,1,size=support_size)\n",
    "    epsilon_sample=lambda n: np.random.uniform(-1,1,size=n)\n",
    "    # Treatment support\n",
    "    support_T=support_Y\n",
    "    coefs_T=np.random.uniform(0,1,size=support_size)\n",
    "    eta_sample=lambda n: np.random.uniform(-.5,.5,size=n)\n",
    "\n",
    "    # Generate controls, covariates, treatments and outcomes\n",
    "    W=np.random.normal(0,1,size=(n,n_w))\n",
    "    X=np.random.uniform(0,1,size=(n,n_x))\n",
    "    # Heterogeneous treatment effects\n",
    "    TE=np.array([exp_te(x_i) for x_i in X])\n",
    "    T=np.dot(W[:,support_T],coefs_T)+eta_sample(n)\n",
    "    Y=TE*T+np.dot(W[:,support_Y],coefs_Y)+epsilon_sample(n)\n",
    "    return Y, T, X, W\n",
    "Y, T, X, W = dgp()"
   ]
  },
  {
   "cell_type": "code",
   "execution_count": 32,
   "metadata": {},
   "outputs": [],
   "source": [
    "# Generate test data\n",
    "X_test = np.tile(np.arange(0, 1, 0.01).reshape(-1,1), (1, n_x))"
   ]
  },
  {
   "cell_type": "code",
   "execution_count": 33,
   "metadata": {},
   "outputs": [
    {
     "data": {
      "text/plain": [
       "(100, 2)"
      ]
     },
     "execution_count": 33,
     "metadata": {},
     "output_type": "execute_result"
    }
   ],
   "source": [
    "X_test.shape"
   ]
  },
  {
   "cell_type": "code",
   "execution_count": 34,
   "metadata": {},
   "outputs": [],
   "source": [
    "from xgboost import XGBClassifier, XGBRegressor\n",
    "from econml.xgb_utilities import XGBWrapper\n",
    "\n",
    "\n",
    "# Define a generic non-parametric regressor\n",
    "#model = lambda: GradientBoostingRegressor(n_estimators=20, max_depth=3, min_samples_leaf=20,\n",
    "#                                         n_iter_no_change=5, min_impurity_decrease=.001, tol=0.001)\n",
    "model = lambda: XGBWrapper(XGBRegressor(gamma=0.001, n_estimators=100, min_child_weight=5, n_jobs=10),\n",
    "                           early_stopping_rounds=5, eval_metric='rmse', binary=False)"
   ]
  },
  {
   "cell_type": "markdown",
   "metadata": {},
   "source": [
    "### 1.2. Train Estimator\n",
    "We train models in three different ways, and compare their performance.\n"
   ]
  },
  {
   "cell_type": "markdown",
   "metadata": {},
   "source": [
    "#### 1.2.1. Default Setting"
   ]
  },
  {
   "cell_type": "code",
   "execution_count": 35,
   "metadata": {},
   "outputs": [],
   "source": [
    "est = DMLCateEstimator(model_y=model(),\n",
    "                       model_t=model(),\n",
    "                       n_splits=2,\n",
    "                       random_state=123)\n",
    "est.fit(Y, T, X, W)\n",
    "te_pred = est.effect(X_test)"
   ]
  },
  {
   "cell_type": "markdown",
   "metadata": {},
   "source": [
    "#### 1.2.2. Polynomial Features for Heterogeneity"
   ]
  },
  {
   "cell_type": "code",
   "execution_count": 36,
   "metadata": {},
   "outputs": [],
   "source": [
    "est1 = DMLCateEstimator(model_y=model(),\n",
    "                        model_t=model(),\n",
    "                        model_final=Lasso(alpha=0.001),\n",
    "                        featurizer=PolynomialFeatures(degree=2, interaction_only=False),\n",
    "                        n_splits=2,\n",
    "                        random_state=123)\n",
    "est1.fit(Y, T, X, W)\n",
    "te_pred1=est1.effect(X_test)"
   ]
  },
  {
   "cell_type": "markdown",
   "metadata": {},
   "source": [
    "#### 1.2.3. Polynomial Features with regularization "
   ]
  },
  {
   "cell_type": "code",
   "execution_count": null,
   "metadata": {},
   "outputs": [],
   "source": [
    "from econml.dml import GenericDMLCateEstimator, ForestDMLCateEstimator\n",
    "from sklearn.ensemble import GradientBoostingRegressor\n",
    "from sklearn.model_selection import GridSearchCV\n",
    "\n",
    "est2 = ForestDMLCateEstimator(model_y=model(),\n",
    "                              model_t=model(),\n",
    "                              n_estimators=1000, min_samples_leaf=5,\n",
    "                              min_weight_fraction_leaf=.00,\n",
    "                              max_depth=10,\n",
    "                              honest=True,\n",
    "                              global_averaging=False,\n",
    "                              n_crossfit_splits=6,\n",
    "                              random_state=123)\n",
    "est2.fit(Y, T, X, W)\n",
    "te_pred2=est2.effect(X_test)"
   ]
  },
  {
   "cell_type": "code",
   "execution_count": 51,
   "metadata": {},
   "outputs": [],
   "source": [
    "lower, upper = est2.effect_interval(X_test, lower=1, upper=99, normal=False)"
   ]
  },
  {
   "cell_type": "code",
   "execution_count": 39,
   "metadata": {},
   "outputs": [
    {
     "data": {
      "text/plain": [
       "array([2.28155157, 3.28155157])"
      ]
     },
     "execution_count": 39,
     "metadata": {},
     "output_type": "execute_result"
    }
   ],
   "source": [
    "import scipy\n",
    "scipy.stats.norm.ppf(.9, loc=[1,2])"
   ]
  },
  {
   "cell_type": "code",
   "execution_count": null,
   "metadata": {},
   "outputs": [],
   "source": [
    "from econml.dml import GenericDMLCateEstimator\n",
    "from sklearn.ensemble import GradientBoostingRegressor\n",
    "from sklearn.model_selection import GridSearchCV\n",
    "\n",
    "est2 = GenericDMLCateEstimator(model_y=model(),\n",
    "                               model_t=model(),\n",
    "                               model_final=GradientBoostingRegressor(n_iter_no_change=5, n_estimators=50,\n",
    "                                                                     min_samples_leaf=10,\n",
    "                                                                     max_depth=3),\n",
    "                               n_splits=6,\n",
    "                               random_state=123)\n",
    "est2.fit(Y, T, X, W)\n",
    "te_pred2=est2.effect(X_test)"
   ]
  },
  {
   "cell_type": "code",
   "execution_count": null,
   "metadata": {},
   "outputs": [],
   "source": [
    "from econml.ortho_forest import ContinuousTreatmentOrthoForest\n",
    "from econml.utilities import WeightedModelWrapper\n",
    "from sklearn.ensemble import GradientBoostingRegressor\n",
    "from sklearn.model_selection import GridSearchCV\n",
    "\n",
    "est2 = ContinuousTreatmentOrthoForest(model_T=WeightedModelWrapper(Lasso(alpha=0.01)),\n",
    "                 model_Y=WeightedModelWrapper(Lasso(alpha=0.01)),\n",
    "                 model_T_final=WeightedModelWrapper(LassoCV(cv=3)),\n",
    "                 model_Y_final=WeightedModelWrapper(LassoCV(cv=3)),\n",
    "                 n_trees=100, min_leaf_size=10, subsample_ratio=.99)\n",
    "est2.fit(Y, T.flatten(), X, W)"
   ]
  },
  {
   "cell_type": "code",
   "execution_count": null,
   "metadata": {},
   "outputs": [],
   "source": [
    "te_pred2, lower, upper = est2.const_marginal_effect(X_test, interval=True)"
   ]
  },
  {
   "cell_type": "markdown",
   "metadata": {},
   "source": [
    "### 1.3. Performance Visualization"
   ]
  },
  {
   "cell_type": "code",
   "execution_count": 52,
   "metadata": {},
   "outputs": [
    {
     "data": {
      "image/png": "[encoded data removed]",
      "text/plain": [
       "<Figure size 720x432 with 1 Axes>"
      ]
     },
     "metadata": {
      "needs_background": "light"
     },
     "output_type": "display_data"
    }
   ],
   "source": [
    "plt.figure(figsize=(10,6))\n",
    "plt.plot(X_test[:,0], te_pred,label='DML default')\n",
    "plt.plot(X_test[:,0], te_pred1,label='DML polynomial degree=3')\n",
    "plt.plot(X_test[:,0], te_pred2,label='DML polynomial degree=10 with Lasso')\n",
    "expected_te=np.array([exp_te(x_i) for x_i in X_test])\n",
    "plt.plot(X_test[:,0], expected_te,'b--',label='True effect')\n",
    "plt.ylabel('Treatment Effect')\n",
    "plt.xlabel('x')\n",
    "plt.legend()\n",
    "plt.show()"
   ]
  },
  {
   "cell_type": "code",
   "execution_count": 53,
   "metadata": {},
   "outputs": [
    {
     "data": {
      "image/png": "[encoded data removed]",
      "text/plain": [
       "<Figure size 720x432 with 1 Axes>"
      ]
     },
     "metadata": {
      "needs_background": "light"
     },
     "output_type": "display_data"
    }
   ],
   "source": [
    "plt.figure(figsize=(10,6))\n",
    "plt.plot(X_test[:,0], te_pred, label='DML default')\n",
    "plt.plot(X_test[:,0], te_pred1, label='DML polynomial degree=3')\n",
    "plt.plot(X_test[:,0], te_pred2, label='DML polynomial degree=10 with Lasso')\n",
    "plt.fill_between(X_test[:,0], lower, upper, alpha=.2)\n",
    "expected_te=np.array([exp_te(x_i) for x_i in X_test])\n",
    "plt.plot(X_test[:,0], expected_te,'b--',label='True effect')\n",
    "plt.ylabel('Treatment Effect')\n",
    "plt.xlabel('x')\n",
    "plt.legend()\n",
    "plt.show()"
   ]
  },
  {
   "cell_type": "code",
   "execution_count": 54,
   "metadata": {},
   "outputs": [
    {
     "name": "stdout",
     "output_type": "stream",
     "text": [
      "0.24182711751219582\n"
     ]
    }
   ],
   "source": [
    "print(est2._model_final._model.subsample_fr)"
   ]
  },
  {
   "cell_type": "code",
   "execution_count": 55,
   "metadata": {},
   "outputs": [
    {
     "name": "stdout",
     "output_type": "stream",
     "text": [
      "0.49\n"
     ]
    }
   ],
   "source": [
    "print(np.mean((lower <expected_te) & (upper>expected_te)))"
   ]
  },
  {
   "cell_type": "code",
   "execution_count": null,
   "metadata": {},
   "outputs": [],
   "source": [
    "est2._model_final._model.estimators_[0].tree_.children_left"
   ]
  },
  {
   "cell_type": "code",
   "execution_count": null,
   "metadata": {},
   "outputs": [],
   "source": [
    "from econml.honestforest import SubsampledHonestForest\n",
    "from sklearn.datasets import make_regression\n",
    "from sklearn.model_selection import train_test_split\n",
    "\n",
    "X, y = make_regression(n_samples=100, n_features=4, n_informative=2,\n",
    "                            random_state=0, shuffle=False)\n",
    "X_train, X_test, y_train, y_test = train_test_split(X, y, test_size=.5)\n",
    "regr = SubsampledHonestForest(max_depth=None, random_state=0,\n",
    "                              n_estimators=1000)\n",
    "regr.fit(X_train, y_train)"
   ]
  },
  {
   "cell_type": "code",
   "execution_count": null,
   "metadata": {},
   "outputs": [],
   "source": [
    "print(regr.feature_importances_)"
   ]
  },
  {
   "cell_type": "code",
   "execution_count": null,
   "metadata": {},
   "outputs": [],
   "source": [
    "print(regr.predict(np.ones((1, 4))))"
   ]
  },
  {
   "cell_type": "code",
   "execution_count": null,
   "metadata": {},
   "outputs": [],
   "source": [
    "print(regr.predict_interval(np.ones((1, 4))), lower=2.5, upper=97.5)"
   ]
  },
  {
   "cell_type": "code",
   "execution_count": null,
   "metadata": {},
   "outputs": [],
   "source": [
    "regr.score(X_test, y_test)"
   ]
  },
  {
   "cell_type": "code",
   "execution_count": null,
   "metadata": {},
   "outputs": [],
   "source": [
    "regr = RandomForestRegressor(max_depth=None, random_state=0,\n",
    "                              n_estimators=100)\n",
    "regr.fit(X_train, y_train)"
   ]
  },
  {
   "cell_type": "code",
   "execution_count": null,
   "metadata": {},
   "outputs": [],
   "source": [
    "regr.score(X_test, y_test)"
   ]
  },
  {
   "cell_type": "markdown",
   "metadata": {},
   "source": [
    "### 1.4. Model selection\n",
    "\n",
    "For the three different models above, we can use score function to estimate the final model performance. The score is the MSE of the final stage Y residual, which can be seen as a proxy of the MSE of treatment effect."
   ]
  },
  {
   "cell_type": "code",
   "execution_count": null,
   "metadata": {},
   "outputs": [],
   "source": [
    "Y, T, X, W = dgp(243278)\n",
    "score={}\n",
    "score[\"DML default\"]=est.score(Y, T, X, W)\n",
    "score[\"DML polynomial degree=2\"]=est1.score(Y, T, X, W)\n",
    "score[\"DML polynomial degree=10 with Lasso\"]=est2.score(Y, T, X, W)\n",
    "score"
   ]
  },
  {
   "cell_type": "code",
   "execution_count": null,
   "metadata": {},
   "outputs": [],
   "source": [
    "print(\"best model selected by score: \",min(score,key=lambda x: score.get(x)))"
   ]
  },
  {
   "cell_type": "code",
   "execution_count": null,
   "metadata": {},
   "outputs": [],
   "source": [
    "mse_te={}\n",
    "mse_te[\"DML default\"]=((expected_te-te_pred)**2).mean()\n",
    "mse_te[\"DML polynomial degree=2\"]=((expected_te-te_pred1)**2).mean()\n",
    "mse_te[\"DML polynomial degree=10 with Lasso\"]=((expected_te-te_pred2)**2).mean()\n",
    "mse_te"
   ]
  },
  {
   "cell_type": "code",
   "execution_count": null,
   "metadata": {},
   "outputs": [],
   "source": [
    "print(\"best model selected by MSE of TE: \",min(mse_te,key=lambda x: mse_te.get(x)))"
   ]
  },
  {
   "cell_type": "markdown",
   "metadata": {},
   "source": [
    "## 2. Example Usage with Single Binary Treatment Synthetic Data"
   ]
  },
  {
   "cell_type": "markdown",
   "metadata": {},
   "source": [
    "### 2.1. DGP \n",
    "We use the following DGP:\n",
    "\n",
    "\\begin{align}\n",
    "T \\sim & \\text{Bernoulli}\\left(f(W)\\right), &\\; f(W)=\\sigma(\\langle W, \\beta\\rangle + \\eta), \\;\\eta \\sim \\text{Uniform}(-1, 1)\\\\\n",
    "Y = & T\\cdot \\theta(X) + \\langle W, \\gamma\\rangle + \\epsilon, & \\; \\epsilon \\sim \\text{Uniform}(-1, 1)\\\\\n",
    "W \\sim & \\text{Normal}(0,\\, I_{n_w}) & \\\\\n",
    "X \\sim & \\text{Uniform}(0,\\, 1)^{n_x}\n",
    "\\end{align}\n",
    "\n",
    "where $W$ is a matrix of high-dimensional confounders, $\\beta, \\gamma$ have high sparsity and $\\sigma$ is the sigmoid function.\n",
    "\n",
    "For this DGP, \n",
    "\\begin{align}\n",
    "\\theta(x) = \\exp( 2\\cdot x_1 ).\n",
    "\\end{align}"
   ]
  },
  {
   "cell_type": "code",
   "execution_count": null,
   "metadata": {},
   "outputs": [],
   "source": [
    "# Treatment effect function\n",
    "def exp_te(x):\n",
    "    return np.exp(2*x[0])# DGP constants\n",
    "np.random.seed(1234)\n",
    "n=1000\n",
    "n_w=30\n",
    "support_size=5\n",
    "n_x=1\n",
    "# Outcome support\n",
    "support_Y=np.random.choice(range(n_w),size=support_size,replace=False)\n",
    "coefs_Y=np.random.uniform(0,1,size=support_size)\n",
    "epsilon_sample=lambda n:np.random.uniform(-1,1,size=n)\n",
    "# Treatment support\n",
    "support_T=support_Y\n",
    "coefs_T = np.random.uniform(0, 1, size=support_size)\n",
    "eta_sample = lambda n: np.random.uniform(-1, 1, size=n) \n",
    "\n",
    "# Generate controls, covariates, treatments and outcomes\n",
    "W = np.random.normal(0, 1, size=(n, n_w))\n",
    "X = np.random.uniform(0, 1, size=(n, n_x))\n",
    "# Heterogeneous treatment effects\n",
    "TE = np.array([exp_te(x_i) for x_i in X])\n",
    "# Define treatment\n",
    "log_odds = np.dot(W[:, support_T], coefs_T) + eta_sample(n)\n",
    "T_sigmoid = 1/(1 + np.exp(-log_odds))\n",
    "T = np.array([np.random.binomial(1, p) for p in T_sigmoid])\n",
    "# Define the outcome\n",
    "Y = TE * T + np.dot(W[:, support_Y], coefs_Y) + epsilon_sample(n)\n",
    "\n",
    "# get testing data\n",
    "X_test = np.array(list(product(np.arange(0, 1, 0.01), repeat=n_x)))"
   ]
  },
  {
   "cell_type": "markdown",
   "metadata": {},
   "source": [
    "### 2.2. Train Estimator"
   ]
  },
  {
   "cell_type": "code",
   "execution_count": 3,
   "metadata": {},
   "outputs": [
    {
     "ename": "NameError",
     "evalue": "name 'DMLCateEstimator' is not defined",
     "output_type": "error",
     "traceback": [
      "\u001b[1;31m---------------------------------------------------------------------------\u001b[0m",
      "\u001b[1;31mNameError\u001b[0m                                 Traceback (most recent call last)",
      "\u001b[1;32m<ipython-input-3-3e57f23aa22a>\u001b[0m in \u001b[0;36m<module>\u001b[1;34m\u001b[0m\n\u001b[1;32m----> 1\u001b[1;33m \u001b[0mest\u001b[0m \u001b[1;33m=\u001b[0m \u001b[0mDMLCateEstimator\u001b[0m\u001b[1;33m(\u001b[0m\u001b[0mmodel_y\u001b[0m\u001b[1;33m=\u001b[0m\u001b[0mRandomForestRegressor\u001b[0m\u001b[1;33m(\u001b[0m\u001b[1;33m)\u001b[0m\u001b[1;33m,\u001b[0m\u001b[0mmodel_t\u001b[0m\u001b[1;33m=\u001b[0m\u001b[0mRandomForestClassifier\u001b[0m\u001b[1;33m(\u001b[0m\u001b[1;33m)\u001b[0m\u001b[1;33m,\u001b[0m\u001b[0mdiscrete_treatment\u001b[0m\u001b[1;33m=\u001b[0m\u001b[1;32mTrue\u001b[0m\u001b[1;33m)\u001b[0m\u001b[1;33m\u001b[0m\u001b[1;33m\u001b[0m\u001b[0m\n\u001b[0m\u001b[0;32m      2\u001b[0m \u001b[0mest\u001b[0m\u001b[1;33m.\u001b[0m\u001b[0mfit\u001b[0m\u001b[1;33m(\u001b[0m\u001b[0mY\u001b[0m\u001b[1;33m,\u001b[0m \u001b[0mT\u001b[0m\u001b[1;33m,\u001b[0m \u001b[0mX\u001b[0m\u001b[1;33m,\u001b[0m \u001b[0mW\u001b[0m\u001b[1;33m)\u001b[0m\u001b[1;33m\u001b[0m\u001b[1;33m\u001b[0m\u001b[0m\n\u001b[0;32m      3\u001b[0m \u001b[0mte_pred\u001b[0m \u001b[1;33m=\u001b[0m \u001b[0mest\u001b[0m\u001b[1;33m.\u001b[0m\u001b[0meffect\u001b[0m\u001b[1;33m(\u001b[0m\u001b[0mX_test\u001b[0m\u001b[1;33m)\u001b[0m\u001b[1;33m\u001b[0m\u001b[1;33m\u001b[0m\u001b[0m\n",
      "\u001b[1;31mNameError\u001b[0m: name 'DMLCateEstimator' is not defined"
     ]
    }
   ],
   "source": [
    "est = DMLCateEstimator(model_y=RandomForestRegressor(),model_t=RandomForestClassifier(),discrete_treatment=True)\n",
    "est.fit(Y, T, X, W)\n",
    "te_pred = est.effect(X_test)"
   ]
  },
  {
   "cell_type": "markdown",
   "metadata": {},
   "source": [
    "### 2.3. Performance Visualization"
   ]
  },
  {
   "cell_type": "code",
   "execution_count": null,
   "metadata": {},
   "outputs": [],
   "source": [
    "plt.figure(figsize=(10,6))\n",
    "plt.plot(X_test,te_pred,label='DML estimate')\n",
    "expected_te=np.array([exp_te(x_i) for x_i in X_test])\n",
    "plt.plot(X_test,expected_te,'b--',label='True effect')\n",
    "plt.ylabel('Treatment Effect')\n",
    "plt.xlabel('x')\n",
    "plt.legend()\n",
    "plt.show()"
   ]
  },
  {
   "cell_type": "markdown",
   "metadata": {},
   "source": [
    "## 3. Example Usage with Multiple Continuous Treatment Synthetic Data"
   ]
  },
  {
   "cell_type": "markdown",
   "metadata": {},
   "source": [
    "### 3.1. DGP \n",
    "We use the data generating process (DGP) from [here](https://arxiv.org/abs/1806.03467), and modify the treatment to generate multiple treatments. The DGP is described by the following equations:\n",
    "\n",
    "\\begin{align}\n",
    "T =& \\langle W, \\beta\\rangle + \\eta, & \\;\\eta \\sim \\text{Uniform}(-1, 1)\\\\\n",
    "Y =& T\\cdot \\theta_{1}(X) + T^{2}\\cdot \\theta_{2}(X) + \\langle W, \\gamma\\rangle + \\epsilon, &\\; \\epsilon \\sim \\text{Uniform}(-1, 1)\\\\\n",
    "W \\sim& \\text{Normal}(0,\\, I_{n_w})\\\\\n",
    "X \\sim& \\text{Uniform}(0,1)^{n_x}\n",
    "\\end{align}\n",
    "\n",
    "where $W$ is a matrix of high-dimensional confounders and $\\beta, \\gamma$ have high sparsity.\n",
    "\n",
    "For this DGP, \n",
    "\\begin{align}\n",
    "\\theta_{1}(x) = \\exp(2\\cdot x_1)\\\\\n",
    "\\theta_{2}(x) = x_1^{2}\\\\\n",
    "\\end{align}"
   ]
  },
  {
   "cell_type": "code",
   "execution_count": null,
   "metadata": {},
   "outputs": [],
   "source": [
    "# DGP constants\n",
    "np.random.seed(123)\n",
    "n=1000\n",
    "n_w=30\n",
    "support_size=5\n",
    "n_x=1\n",
    "# Outcome support\n",
    "support_Y=np.random.choice(range(n_w),size=support_size,replace=False)\n",
    "coefs_Y=np.random.uniform(0,1,size=support_size)\n",
    "epsilon_sample=lambda n: np.random.uniform(-1,1,size=n)\n",
    "# Treatment support\n",
    "support_T=support_Y\n",
    "coefs_T=np.random.uniform(0,1,size=support_size)\n",
    "eta_sample=lambda n: np.random.uniform(-1,1,size=n)\n",
    "\n",
    "# Generate controls, covariates, treatments and outcomes\n",
    "W=np.random.normal(0,1,size=(n,n_w))\n",
    "X=np.random.uniform(0,1,size=(n,n_x))\n",
    "# Heterogeneous treatment effects\n",
    "TE1=np.array([exp_te(x_i) for x_i in X])\n",
    "TE2=np.array([x_i**2 for x_i in X]).flatten()\n",
    "T=np.dot(W[:,support_T],coefs_T)+eta_sample(n)\n",
    "Y=TE1*T+TE2*T**2+np.dot(W[:,support_Y],coefs_Y)+epsilon_sample(n)\n",
    "# Generate test data\n",
    "X_test = np.array(list(product(np.arange(0, 1, 0.01), repeat=n_x)))"
   ]
  },
  {
   "cell_type": "markdown",
   "metadata": {},
   "source": [
    "### 3.2. Train Estimator"
   ]
  },
  {
   "cell_type": "code",
   "execution_count": null,
   "metadata": {},
   "outputs": [],
   "source": [
    "est = DMLCateEstimator(model_y=RandomForestRegressor(),model_t=RandomForestRegressor())"
   ]
  },
  {
   "cell_type": "code",
   "execution_count": null,
   "metadata": {},
   "outputs": [],
   "source": [
    "T=T.reshape(-1,1)\n",
    "est.fit(Y, np.concatenate((T, T**2), axis=1), X, W)"
   ]
  },
  {
   "cell_type": "code",
   "execution_count": null,
   "metadata": {},
   "outputs": [],
   "source": [
    "te_pred=est.effect(X_test)"
   ]
  },
  {
   "cell_type": "markdown",
   "metadata": {},
   "source": [
    "### 3.3. Performance Visualization"
   ]
  },
  {
   "cell_type": "code",
   "execution_count": null,
   "metadata": {},
   "outputs": [],
   "source": [
    "plt.figure(figsize=(10,6))\n",
    "plt.plot(X_test, te_pred[:,0], label='DML estimate1')\n",
    "plt.plot(X_test, te_pred[:,1], label='DML estimate2')\n",
    "expected_te1 = np.array([exp_te(x_i) for x_i in X_test])\n",
    "expected_te2=np.array([x_i**2 for x_i in X_test]).flatten()\n",
    "plt.plot(X_test, expected_te1, '--', label='True effect1')\n",
    "plt.plot(X_test, expected_te2, '--', label='True effect2')\n",
    "plt.ylabel(\"Treatment Effect\")\n",
    "plt.xlabel(\"x\")\n",
    "plt.legend()\n",
    "plt.show()"
   ]
  },
  {
   "cell_type": "markdown",
   "metadata": {},
   "source": [
    "## 4. Example Usage with Single Continuous Treatment Observational Data\n",
    "\n",
    "We applied our technique to Dominick’s dataset, a popular historical dataset of store-level orange juice prices and sales provided by University of Chicago Booth School of Business. \n",
    "\n",
    "The dataset is comprised of a large number of covariates $W$, but researchers might only be interested in learning the elasticity of demand as a function of a few variables $x$ such\n",
    "as income or education. \n",
    "\n",
    "We applied the `DMLCateEstimator` to estimate orange juice price elasticity\n",
    "as a function of income, and our results, unveil the natural phenomenon that lower income consumers are more price-sensitive."
   ]
  },
  {
   "cell_type": "markdown",
   "metadata": {},
   "source": [
    "### 4.1. Data"
   ]
  },
  {
   "cell_type": "code",
   "execution_count": null,
   "metadata": {},
   "outputs": [],
   "source": [
    "# A few more imports\n",
    "import os\n",
    "import pandas as pd\n",
    "import urllib.request\n",
    "from sklearn.preprocessing import StandardScaler"
   ]
  },
  {
   "cell_type": "code",
   "execution_count": null,
   "metadata": {},
   "outputs": [],
   "source": [
    "# Import the data\n",
    "file_name = \"oj_large.csv\"\n",
    "\n",
    "if not os.path.isfile(file_name):\n",
    "    print(\"Downloading file (this might take a few seconds)...\")\n",
    "    urllib.request.urlretrieve(\"https://msalicedatapublic.blob.core.windows.net/datasets/OrangeJuice/oj_large.csv\", file_name)\n",
    "oj_data = pd.read_csv(file_name)"
   ]
  },
  {
   "cell_type": "code",
   "execution_count": null,
   "metadata": {},
   "outputs": [],
   "source": [
    "oj_data.head()"
   ]
  },
  {
   "cell_type": "code",
   "execution_count": null,
   "metadata": {},
   "outputs": [],
   "source": [
    "# Prepare data\n",
    "Y = oj_data['logmove'].values\n",
    "T = np.log(oj_data[\"price\"]).values\n",
    "scaler = StandardScaler()\n",
    "W1 = scaler.fit_transform(oj_data[[c for c in oj_data.columns if c not in ['price', 'logmove', 'brand', 'week', 'store','INCOME']]].values)\n",
    "W2 = pd.get_dummies(oj_data[['brand']]).values\n",
    "W = np.concatenate([W1, W2], axis=1)\n",
    "X=scaler.fit_transform(oj_data[['INCOME']].values)"
   ]
  },
  {
   "cell_type": "code",
   "execution_count": null,
   "metadata": {},
   "outputs": [],
   "source": [
    "## Generate test data\n",
    "min_income = -1\n",
    "max_income = 1\n",
    "delta = (1 - (-1)) / 100\n",
    "X_test = np.arange(min_income, max_income + delta - 0.001, delta).reshape(-1,1)"
   ]
  },
  {
   "cell_type": "code",
   "execution_count": 4,
   "metadata": {},
   "outputs": [
    {
     "ename": "NameError",
     "evalue": "name 'X' is not defined",
     "output_type": "error",
     "traceback": [
      "\u001b[1;31m---------------------------------------------------------------------------\u001b[0m",
      "\u001b[1;31mNameError\u001b[0m                                 Traceback (most recent call last)",
      "\u001b[1;32m<ipython-input-4-bc5f1a0adac8>\u001b[0m in \u001b[0;36m<module>\u001b[1;34m\u001b[0m\n\u001b[1;32m----> 1\u001b[1;33m \u001b[0mX\u001b[0m\u001b[1;33m.\u001b[0m\u001b[0mshape\u001b[0m\u001b[1;33m\u001b[0m\u001b[1;33m\u001b[0m\u001b[0m\n\u001b[0m",
      "\u001b[1;31mNameError\u001b[0m: name 'X' is not defined"
     ]
    }
   ],
   "source": [
    "X.shape"
   ]
  },
  {
   "cell_type": "code",
   "execution_count": null,
   "metadata": {},
   "outputs": [],
   "source": [
    "(X.shape[0]/2)**(1-1/(2*X.shape[1]+2))/(X.shape[0]/2)                                                       "
   ]
  },
  {
   "cell_type": "markdown",
   "metadata": {},
   "source": [
    "### 4.2. Train Estimator"
   ]
  },
  {
   "cell_type": "code",
   "execution_count": null,
   "metadata": {},
   "outputs": [],
   "source": [
    "est = DMLCateEstimator(model_y=model(),\n",
    "                       model_t=model())\n",
    "est.fit(Y, T, X, W)\n",
    "te_pred=est.effect(X_test)"
   ]
  },
  {
   "cell_type": "code",
   "execution_count": null,
   "metadata": {},
   "outputs": [],
   "source": [
    "# Plot Oranje Juice elasticity as a function of income\n",
    "plt.figure(figsize=(10,6))\n",
    "plt.plot(X_test, te_pred, label=\"OJ Elasticity\")\n",
    "plt.xlabel(r'Scale(Income)')\n",
    "plt.ylabel('Orange Juice Elasticity')\n",
    "plt.legend()\n",
    "plt.title(\"Orange Juice Elasticity vs Income\")\n",
    "plt.show()"
   ]
  },
  {
   "cell_type": "code",
   "execution_count": null,
   "metadata": {},
   "outputs": [],
   "source": [
    "from econml.dml import GenericDMLCateEstimator\n",
    "from sklearn.ensemble import GradientBoostingRegressor\n",
    "from sklearn.model_selection import GridSearchCV\n",
    "from econml.utilities import HonestForest, SubsampledHonestForest\n",
    "\n",
    "est2 = GenericDMLCateEstimator(model_y=model(),\n",
    "                               model_t=model(),\n",
    "                               model_final=GradientBoostingRegressor(n_iter_no_change=5, n_estimators=50,\n",
    "                                                                     min_samples_leaf=100, max_depth=3),\n",
    "                               n_splits=6,\n",
    "                               random_state=123)\n",
    "est2.fit(Y, T, X, W)\n",
    "te_pred2=est2.effect(X_test)"
   ]
  },
  {
   "cell_type": "code",
   "execution_count": null,
   "metadata": {},
   "outputs": [],
   "source": [
    "from econml.dml import GenericDMLCateEstimator\n",
    "from sklearn.ensemble import GradientBoostingRegressor\n",
    "from sklearn.model_selection import GridSearchCV\n",
    "from econml.honestforest import SubsampledHonestForest\n",
    "\n",
    "est2 = GenericDMLCateEstimator(model_y=model(),\n",
    "                               model_t=model(),\n",
    "                               model_final=SubsampledHonestForest(n_estimators=1000, min_samples_leaf=50,\n",
    "                                                                  min_weight_fraction_leaf=.1,\n",
    "                                                                  max_depth=10,\n",
    "                                                                  subsample_fr=(X.shape[0]/2)**(1-1/(2*X.shape[1]+2))/(X.shape[0]/2),\n",
    "                                                                  honest=True),\n",
    "                               n_splits=6,\n",
    "                               random_state=123)\n",
    "est2.fit(Y, T, X, W)\n",
    "te_pred2=est2.effect(X_test)"
   ]
  },
  {
   "cell_type": "code",
   "execution_count": null,
   "metadata": {},
   "outputs": [],
   "source": [
    "(X.shape[0]/2)**(.7)/(X.shape[0]/2)"
   ]
  },
  {
   "cell_type": "markdown",
   "metadata": {},
   "source": [
    "### 4.3. Performance Visualization"
   ]
  },
  {
   "cell_type": "code",
   "execution_count": null,
   "metadata": {},
   "outputs": [],
   "source": [
    "# Plot Oranje Juice elasticity as a function of income\n",
    "plt.figure(figsize=(10,6))\n",
    "plt.plot(X_test, te_pred2, label=\"OJ Elasticity\")\n",
    "plt.xlabel(r'Scale(Income)')\n",
    "plt.ylabel('Orange Juice Elasticity')\n",
    "plt.legend()\n",
    "plt.title(\"Orange Juice Elasticity vs Income\")\n",
    "plt.show()"
   ]
  },
  {
   "cell_type": "code",
   "execution_count": null,
   "metadata": {},
   "outputs": [],
   "source": [
    "lower, upper = est2._model_final._model.predict_interval(X_test, 5, 95, little_bags=True)"
   ]
  },
  {
   "cell_type": "code",
   "execution_count": null,
   "metadata": {},
   "outputs": [],
   "source": [
    "est2._model_final._model.min_samples_leaf"
   ]
  },
  {
   "cell_type": "code",
   "execution_count": null,
   "metadata": {},
   "outputs": [],
   "source": [
    "# Plot Oranje Juice elasticity as a function of income\n",
    "plt.figure(figsize=(10,6))\n",
    "plt.plot(X_test, te_pred2, label=\"OJ Elasticity\")\n",
    "plt.fill_between(X_test[:, 0], lower, upper, alpha=.2)\n",
    "plt.xlabel(r'Scale(Income)')\n",
    "plt.ylabel('Orange Juice Elasticity')\n",
    "plt.legend()\n",
    "plt.title(\"Orange Juice Elasticity vs Income\")\n",
    "plt.show()"
   ]
  },
  {
   "cell_type": "markdown",
   "metadata": {},
   "source": [
    "### 4.4. Bootstrap Confidence Intervals"
   ]
  },
  {
   "cell_type": "code",
   "execution_count": null,
   "metadata": {},
   "outputs": [],
   "source": [
    "from econml.bootstrap import BootstrapEstimator\n",
    "boot_est=BootstrapEstimator(DMLCateEstimator(model_y=RandomForestRegressor(),\n",
    "                                             model_t=RandomForestRegressor()),n_bootstrap_samples=20)\n",
    "boot_est.fit(Y, T, X, W)\n",
    "te_pred_interval = boot_est.const_marginal_effect_interval(X_test, lower=1, upper=99)"
   ]
  },
  {
   "cell_type": "code",
   "execution_count": null,
   "metadata": {},
   "outputs": [],
   "source": [
    "# Plot Oranje Juice elasticity as a function of income\n",
    "plt.figure(figsize=(10,6))\n",
    "plt.plot(X_test.flatten(), te_pred, label=\"OJ Elasticity\")\n",
    "plt.fill_between(X_test.flatten(), te_pred_interval[0], te_pred_interval[1], alpha=.5, label=\"1-99% CI\")\n",
    "plt.xlabel(r'Scale(Income)')\n",
    "plt.ylabel('Orange Juice Elasticity')\n",
    "plt.title(\"Orange Juice Elasticity vs Income\")\n",
    "plt.legend()\n",
    "plt.show()"
   ]
  },
  {
   "cell_type": "markdown",
   "metadata": {},
   "source": [
    "## 5. Example Usage with Multiple Continuous Treatment, Multiple Outcome Observational Data"
   ]
  },
  {
   "cell_type": "markdown",
   "metadata": {},
   "source": [
    "We use the same data, but in this case, we want to fit the demand of multiple brand as a function of the price of each one of them, i.e. fit the matrix of cross price elasticities. It can be done, by simply setting as $Y$ to be the vector of demands and $T$ to be the vector of prices. Then we can obtain the matrix of cross price elasticities.\n",
    "\n",
    "\\begin{align}\n",
    "Y=[Logmove_{tropicana},Logmove_{minute.maid},Logmove_{dominicks}] \\\\\n",
    "T=[Logprice_{tropicana},Logprice_{minute.maid},Logprice_{dominicks}] \\\\\n",
    "\\end{align}\n"
   ]
  },
  {
   "cell_type": "markdown",
   "metadata": {},
   "source": [
    "### 5.1. Data"
   ]
  },
  {
   "cell_type": "code",
   "execution_count": null,
   "metadata": {},
   "outputs": [],
   "source": [
    "# Import the data\n",
    "oj_data = pd.read_csv(file_name)"
   ]
  },
  {
   "cell_type": "code",
   "execution_count": null,
   "metadata": {},
   "outputs": [],
   "source": [
    "# Prepare data\n",
    "oj_data['price']=np.log(oj_data[\"price\"])\n",
    "# Transform dataset. \n",
    "# For each store in each week, get a vector of logmove and a vector of logprice for each brand. \n",
    "# Other features are store specific, will be the same for all brands.\n",
    "groupbylist=[\"store\",\"week\",\"AGE60\",\"EDUC\",\"ETHNIC\",\"INCOME\",\"HHLARGE\",\"WORKWOM\",\"HVAL150\",\n",
    "             \"SSTRDIST\",\"SSTRVOL\",\"CPDIST5\",\"CPWVOL5\"]\n",
    "oj_data1=pd.pivot_table(oj_data,index=groupbylist,columns=oj_data.groupby(groupbylist).cumcount(),\n",
    "                        values=['logmove','price'],aggfunc='sum').reset_index()\n",
    "oj_data1.columns=oj_data1.columns.map('{0[0]}{0[1]}'.format) \n",
    "oj_data1=oj_data1.rename(index=str,columns={\"logmove0\": \"logmove_T\", \"logmove1\": \"logmove_M\",\n",
    "                                            \"logmove2\":\"logmove_D\",\"price0\":\"price_T\",\"price1\":\"price_M\",\"price2\":\"price_D\"})\n",
    "\n",
    "# Define Y,T,X,W\n",
    "Y = oj_data1[['logmove_T',\"logmove_M\",\"logmove_D\"]].values\n",
    "T=oj_data1[['price_T',\"price_M\",\"price_D\"]].values\n",
    "scaler = StandardScaler()\n",
    "W=scaler.fit_transform(oj_data1[[c for c in groupbylist if c not in ['week', 'store','INCOME']]].values)\n",
    "X=scaler.fit_transform(oj_data1[['INCOME']].values)"
   ]
  },
  {
   "cell_type": "code",
   "execution_count": null,
   "metadata": {},
   "outputs": [],
   "source": [
    "## Generate test data\n",
    "min_income = -1\n",
    "max_income = 1\n",
    "delta = (1 - (-1)) / 100\n",
    "X_test = np.arange(min_income, max_income + delta - 0.001, delta).reshape(-1,1)"
   ]
  },
  {
   "cell_type": "markdown",
   "metadata": {},
   "source": [
    "### 5.2. Train Estimator"
   ]
  },
  {
   "cell_type": "code",
   "execution_count": 5,
   "metadata": {},
   "outputs": [
    {
     "ename": "NameError",
     "evalue": "name 'DMLCateEstimator' is not defined",
     "output_type": "error",
     "traceback": [
      "\u001b[1;31m---------------------------------------------------------------------------\u001b[0m",
      "\u001b[1;31mNameError\u001b[0m                                 Traceback (most recent call last)",
      "\u001b[1;32m<ipython-input-5-34c7a71dd6d7>\u001b[0m in \u001b[0;36m<module>\u001b[1;34m\u001b[0m\n\u001b[1;32m----> 1\u001b[1;33m \u001b[0mest\u001b[0m \u001b[1;33m=\u001b[0m \u001b[0mDMLCateEstimator\u001b[0m\u001b[1;33m(\u001b[0m\u001b[0mmodel_y\u001b[0m\u001b[1;33m=\u001b[0m\u001b[0mMultiTaskElasticNetCV\u001b[0m\u001b[1;33m(\u001b[0m\u001b[0mcv\u001b[0m\u001b[1;33m=\u001b[0m\u001b[1;36m3\u001b[0m\u001b[1;33m)\u001b[0m\u001b[1;33m,\u001b[0m\u001b[0mmodel_t\u001b[0m\u001b[1;33m=\u001b[0m\u001b[0mMultiTaskElasticNetCV\u001b[0m\u001b[1;33m(\u001b[0m\u001b[0mcv\u001b[0m\u001b[1;33m=\u001b[0m\u001b[1;36m3\u001b[0m\u001b[1;33m)\u001b[0m\u001b[1;33m)\u001b[0m\u001b[1;33m\u001b[0m\u001b[1;33m\u001b[0m\u001b[0m\n\u001b[0m\u001b[0;32m      2\u001b[0m \u001b[0mest\u001b[0m\u001b[1;33m.\u001b[0m\u001b[0mfit\u001b[0m\u001b[1;33m(\u001b[0m\u001b[0mY\u001b[0m\u001b[1;33m,\u001b[0m \u001b[0mT\u001b[0m\u001b[1;33m,\u001b[0m \u001b[0mX\u001b[0m\u001b[1;33m,\u001b[0m \u001b[0mW\u001b[0m\u001b[1;33m)\u001b[0m\u001b[1;33m\u001b[0m\u001b[1;33m\u001b[0m\u001b[0m\n\u001b[0;32m      3\u001b[0m \u001b[0mte_pred\u001b[0m\u001b[1;33m=\u001b[0m\u001b[0mest\u001b[0m\u001b[1;33m.\u001b[0m\u001b[0mconst_marginal_effect\u001b[0m\u001b[1;33m(\u001b[0m\u001b[0mX_test\u001b[0m\u001b[1;33m)\u001b[0m\u001b[1;33m\u001b[0m\u001b[1;33m\u001b[0m\u001b[0m\n",
      "\u001b[1;31mNameError\u001b[0m: name 'DMLCateEstimator' is not defined"
     ]
    }
   ],
   "source": [
    "est = DMLCateEstimator(model_y=MultiTaskElasticNetCV(cv=3),model_t=MultiTaskElasticNetCV(cv=3))\n",
    "est.fit(Y, T, X, W)\n",
    "te_pred=est.const_marginal_effect(X_test)"
   ]
  },
  {
   "cell_type": "markdown",
   "metadata": {},
   "source": [
    "### 5.3. Performance Visualization"
   ]
  },
  {
   "cell_type": "code",
   "execution_count": null,
   "metadata": {},
   "outputs": [],
   "source": [
    "# Plot Oranje Juice elasticity as a function of income\n",
    "plt.figure(figsize=(18,10))\n",
    "dic={0:\"Tropicana\",1:\"Minute.maid\",2:\"Dominicks\"}\n",
    "for i in range(3):\n",
    "    for j in range(3):\n",
    "        plt.subplot(3,3, 3*i+j+1)\n",
    "        plt.plot(X_test, te_pred[:,i,j],color=\"C{}\".format(str(3*i+j)),label=\"OJ Elasticity {} to {}\".format(dic[j],dic[i]))\n",
    "        plt.xlabel(r'Scale(Income)')\n",
    "        plt.ylabel('Orange Juice Elasticity')\n",
    "        plt.legend()\n",
    "plt.suptitle(\"Orange Juice Elasticity vs Income\",fontsize=16)\n",
    "plt.show()"
   ]
  },
  {
   "cell_type": "markdown",
   "metadata": {},
   "source": [
    "**Findings**: Look at the diagonal of the matrix, the TE of OJ prices are always negative to the sales across all the brand, but people with higher income are less price-sensitive. By contrast, for the non-diagonal of the matrix, the TE of prices for other brands are always positive to the sales for that brand, the TE is affected by income in different ways for different competitors. In addition, compare to previous plot, the negative TE of OJ prices for each brand are all larger than the TE considering all brand together, which means we would have underestimated the effect of price changes on demand. "
   ]
  },
  {
   "cell_type": "markdown",
   "metadata": {},
   "source": [
    "### 5.4. Bootstrap Confidence Intervals"
   ]
  },
  {
   "cell_type": "code",
   "execution_count": null,
   "metadata": {},
   "outputs": [],
   "source": [
    "from econml.bootstrap import BootstrapEstimator\n",
    "boot_est=BootstrapEstimator(DMLCateEstimator(model_y=MultiTaskElasticNetCV(cv=3),model_t=MultiTaskElasticNetCV(cv=3))\n",
    "                            ,n_bootstrap_samples=20)\n",
    "boot_est.fit(Y,T,X,W)\n",
    "te_pred_interval = boot_est.const_marginal_effect_interval(X_test, lower=1, upper=99)"
   ]
  },
  {
   "cell_type": "code",
   "execution_count": null,
   "metadata": {},
   "outputs": [],
   "source": [
    "# Plot Oranje Juice elasticity as a function of income\n",
    "plt.figure(figsize=(18,10))\n",
    "dic={0:\"Tropicana\",1:\"Minute.maid\",2:\"Dominicks\"}\n",
    "for i in range(3):\n",
    "    for j in range(3):\n",
    "        plt.subplot(3,3, 3*i+j+1)\n",
    "        plt.plot(X_test, te_pred[:,i,j],color=\"C{}\".format(str(3*i+j)),label=\"OJ Elasticity {} to {}\".format(dic[j],dic[i]))\n",
    "        plt.fill_between(X_test.flatten(), te_pred_interval[0][:, i, j],te_pred_interval[1][:, i,j], color=\"C{}\".format(str(3*i+j)),alpha=.5, label=\"1-99% CI\")\n",
    "        plt.xlabel(r'Scale(Income)')\n",
    "        plt.ylabel('Orange Juice Elasticity')\n",
    "        plt.legend()\n",
    "plt.suptitle(\"Orange Juice Elasticity vs Income\",fontsize=16)\n",
    "plt.show()"
   ]
  },
  {
   "cell_type": "markdown",
   "metadata": {},
   "source": [
    "**Note**: For expository purpose, we only run 20 samples here to get the Confidence Interval. More samples are needed for validity of the bootstrap. "
   ]
  },
  {
   "cell_type": "code",
   "execution_count": null,
   "metadata": {},
   "outputs": [],
   "source": []
  }
 ],
 "metadata": {
  "kernelspec": {
   "display_name": "Python 3",
   "language": "python",
   "name": "python3"
  },
  "language_info": {
   "codemirror_mode": {
    "name": "ipython",
    "version": 3
   },
   "file_extension": ".py",
   "mimetype": "text/x-python",
   "name": "python",
   "nbconvert_exporter": "python",
   "pygments_lexer": "ipython3",
   "version": "3.7.1"
  }
 },
 "nbformat": 4,
 "nbformat_minor": 2
}
