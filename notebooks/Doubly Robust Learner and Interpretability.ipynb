{
 "cells": [
  {
   "cell_type": "markdown",
   "metadata": {},
   "source": [
    "<table border=\"0\">\n",
    "    <tr>\n",
    "        <td>\n",
    "            <img src=\"https://ictd2016.files.wordpress.com/2016/04/microsoft-research-logo-copy.jpg\" style=\"width 30px;\" />\n",
    "             </td>\n",
    "        <td>\n",
    "            <img src=\"https://www.microsoft.com/en-us/research/wp-content/uploads/2016/12/MSR-ALICE-HeaderGraphic-1920x720_1-800x550.jpg\" style=\"width 100px;\"/></td>\n",
    "        </tr>\n",
    "</table>"
   ]
  },
  {
   "cell_type": "markdown",
   "metadata": {},
   "source": [
    "# Doubly Robust Learner and Interpretability\n",
    "\n",
    "Double Machine Learning (DML) is an algorithm that applies arbitrary machine learning methods\n",
    "to fit the treatment and response, then uses a linear model to predict the response residuals\n",
    "from the treatment residuals."
   ]
  },
  {
   "cell_type": "code",
   "execution_count": 1,
   "metadata": {},
   "outputs": [],
   "source": [
    "%load_ext autoreload\n",
    "%autoreload 2"
   ]
  },
  {
   "cell_type": "code",
   "execution_count": 2,
   "metadata": {},
   "outputs": [],
   "source": [
    "## Ignore warnings\n",
    "import warnings\n",
    "warnings.filterwarnings('ignore') "
   ]
  },
  {
   "cell_type": "code",
   "execution_count": 3,
   "metadata": {},
   "outputs": [],
   "source": [
    "# Helper imports\n",
    "import numpy as np\n",
    "import matplotlib.pyplot as plt\n",
    "import matplotlib\n",
    "%matplotlib inline\n",
    "\n",
    "import seaborn as sns"
   ]
  },
  {
   "cell_type": "markdown",
   "metadata": {},
   "source": [
    "# Generating Data"
   ]
  },
  {
   "cell_type": "code",
   "execution_count": 4,
   "metadata": {},
   "outputs": [],
   "source": [
    "import scipy.special\n",
    "\n",
    "np.random.seed(123)\n",
    "n=2000 # number of raw samples\n",
    "d=10 # number of binary features + 1\n",
    "\n",
    "# Generating random segments aka binary features. We will use features 0,...,3 for heterogeneity.\n",
    "# The rest for controls. Just as an example.\n",
    "X = np.random.binomial(1, .5, size=(n, d))\n",
    "# Generating an imbalanced A/B test\n",
    "T = np.random.binomial(1, scipy.special.expit(X[:, 0]))\n",
    "# Generating an outcome with treatment effect heterogeneity. The first binary feature creates heterogeneity\n",
    "# We also have confounding on the first variable. We also have heteroskedastic errors.\n",
    "y = (-1 + 2 * X[:, 0]) * T + X[:, 0] + (1*X[:, 0] + 1)*np.random.normal(0, 1, size=(n,))\n",
    "X_test = np.random.binomial(1, .5, size=(10, d))"
   ]
  },
  {
   "cell_type": "markdown",
   "metadata": {},
   "source": [
    "# Applying the LinearDRLearner"
   ]
  },
  {
   "cell_type": "code",
   "execution_count": 5,
   "metadata": {},
   "outputs": [
    {
     "data": {
      "text/plain": [
       "<econml.drlearner.LinearDRLearner at 0x17213486248>"
      ]
     },
     "execution_count": 5,
     "metadata": {},
     "output_type": "execute_result"
    }
   ],
   "source": [
    "from sklearn.linear_model import LassoCV\n",
    "from econml.drlearner import LinearDRLearner\n",
    "from sklearn.linear_model import LogisticRegressionCV\n",
    "from sklearn.dummy import DummyClassifier\n",
    "\n",
    "# One can replace model_y and model_t with any scikit-learn regressor and classifier correspondingly\n",
    "# as long as it accepts the sample_weight keyword argument at fit time.\n",
    "est = LinearDRLearner(model_regression=LassoCV(cv=3),\n",
    "                      model_propensity=DummyClassifier(strategy='prior'))\n",
    "est.fit(y, T, X=X[:, :4])"
   ]
  },
  {
   "cell_type": "code",
   "execution_count": 6,
   "metadata": {},
   "outputs": [
    {
     "data": {
      "text/plain": [
       "array([1.02346725])"
      ]
     },
     "execution_count": 6,
     "metadata": {},
     "output_type": "execute_result"
    }
   ],
   "source": [
    "# Treatment Effect of particular segments\n",
    "est.effect(np.array([[1, 0, 0, 0]])) # effect of segment with features [1, 0, 0, 0]"
   ]
  },
  {
   "cell_type": "code",
   "execution_count": 7,
   "metadata": {},
   "outputs": [
    {
     "data": {
      "text/plain": [
       "(array([0.66350818]), array([1.38342633]))"
      ]
     },
     "execution_count": 7,
     "metadata": {},
     "output_type": "execute_result"
    }
   ],
   "source": [
    "# Confidence interval for effect. Produces the (alpha*100/2, (1-alpha)*100/2)% Confidence Interval\n",
    "est.effect_interval(np.array([[1, 0, 0, 0]]), alpha=.05) # effect of segment with features [1, 0, 0, 0]"
   ]
  },
  {
   "cell_type": "code",
   "execution_count": 8,
   "metadata": {},
   "outputs": [
    {
     "data": {
      "text/html": [
       "<div>\n",
       "<style scoped>\n",
       "    .dataframe tbody tr th:only-of-type {\n",
       "        vertical-align: middle;\n",
       "    }\n",
       "\n",
       "    .dataframe tbody tr th {\n",
       "        vertical-align: top;\n",
       "    }\n",
       "\n",
       "    .dataframe thead th {\n",
       "        text-align: right;\n",
       "    }\n",
       "</style>\n",
       "<table border=\"1\" class=\"dataframe\">\n",
       "  <thead>\n",
       "    <tr style=\"text-align: right;\">\n",
       "      <th></th>\n",
       "      <th>point_estimate</th>\n",
       "      <th>stderr</th>\n",
       "      <th>zstat</th>\n",
       "      <th>pvalue</th>\n",
       "      <th>ci_lower</th>\n",
       "      <th>ci_upper</th>\n",
       "    </tr>\n",
       "  </thead>\n",
       "  <tbody>\n",
       "    <tr>\n",
       "      <th>0</th>\n",
       "      <td>1.023</td>\n",
       "      <td>0.184</td>\n",
       "      <td>-5.573</td>\n",
       "      <td>0.0</td>\n",
       "      <td>0.664</td>\n",
       "      <td>1.383</td>\n",
       "    </tr>\n",
       "  </tbody>\n",
       "</table>\n",
       "</div>"
      ],
      "text/plain": [
       "   point_estimate  stderr  zstat  pvalue  ci_lower  ci_upper\n",
       "0           1.023   0.184 -5.573     0.0     0.664     1.383"
      ]
     },
     "execution_count": 8,
     "metadata": {},
     "output_type": "execute_result"
    }
   ],
   "source": [
    "# Other inference for effect, including point estimate, standard error, z score, p value and confidence interval\n",
    "est.effect_inference(np.array([[1, 0, 0, 0]])).summary_frame(alpha=.05)"
   ]
  },
  {
   "cell_type": "code",
   "execution_count": 9,
   "metadata": {},
   "outputs": [
    {
     "name": "stdout",
     "output_type": "stream",
     "text": [
      "[['A' '2.063277038041713']\n",
      " ['B' '-0.0021408002029092827']\n",
      " ['C' '-0.1307524180853436']\n",
      " ['D' '0.08603974866683765']]\n",
      "-1.0398097870143193\n"
     ]
    }
   ],
   "source": [
    "# Getting the coefficients of the linear CATE model together with the corresponding feature names\n",
    "print(np.array(list(zip(est.cate_feature_names(['A', 'B', 'C', 'D']), est.coef_(T=1)))))\n",
    "print(est.intercept_(T=1))"
   ]
  },
  {
   "cell_type": "code",
   "execution_count": 10,
   "metadata": {},
   "outputs": [
    {
     "data": {
      "image/png": "[encoded data removed]",
      "text/plain": [
       "<Figure size 432x288 with 1 Axes>"
      ]
     },
     "metadata": {},
     "output_type": "display_data"
    }
   ],
   "source": [
    "# Getting the confidence intervals of the coefficients of the CATE model\n",
    "# together with the corresponding feature names.\n",
    "feat_names = est.cate_feature_names(['A', 'B', 'C', 'D'])\n",
    "point = est.coef_(T=1)\n",
    "lower, upper = np.array(est.coef__interval(T=1))\n",
    "yerr = np.zeros((2, point.shape[0]))\n",
    "yerr[0, :] = point - lower\n",
    "yerr[1, :] = upper - point\n",
    "\n",
    "with sns.axes_style(\"darkgrid\"):\n",
    "    fig, ax = plt.subplots(1,1) \n",
    "    x = np.arange(len(point))\n",
    "    plt.errorbar(x, point, yerr, fmt='o')\n",
    "    ax.set_xticks(x)\n",
    "    ax.set_xticklabels(feat_names, rotation='vertical', fontsize=18)\n",
    "    ax.set_ylabel('coef')\n",
    "    plt.show()"
   ]
  },
  {
   "cell_type": "code",
   "execution_count": 11,
   "metadata": {},
   "outputs": [
    {
     "data": {
      "text/html": [
       "<div>\n",
       "<style scoped>\n",
       "    .dataframe tbody tr th:only-of-type {\n",
       "        vertical-align: middle;\n",
       "    }\n",
       "\n",
       "    .dataframe tbody tr th {\n",
       "        vertical-align: top;\n",
       "    }\n",
       "\n",
       "    .dataframe thead th {\n",
       "        text-align: right;\n",
       "    }\n",
       "</style>\n",
       "<table border=\"1\" class=\"dataframe\">\n",
       "  <thead>\n",
       "    <tr style=\"text-align: right;\">\n",
       "      <th></th>\n",
       "      <th>point_estimate</th>\n",
       "      <th>stderr</th>\n",
       "      <th>zstat</th>\n",
       "      <th>pvalue</th>\n",
       "      <th>ci_lower</th>\n",
       "      <th>ci_upper</th>\n",
       "    </tr>\n",
       "  </thead>\n",
       "  <tbody>\n",
       "    <tr>\n",
       "      <th>A</th>\n",
       "      <td>2.063</td>\n",
       "      <td>0.143</td>\n",
       "      <td>-14.431</td>\n",
       "      <td>0.000</td>\n",
       "      <td>1.828</td>\n",
       "      <td>2.298</td>\n",
       "    </tr>\n",
       "    <tr>\n",
       "      <th>B</th>\n",
       "      <td>-0.002</td>\n",
       "      <td>0.142</td>\n",
       "      <td>0.015</td>\n",
       "      <td>0.988</td>\n",
       "      <td>-0.236</td>\n",
       "      <td>0.232</td>\n",
       "    </tr>\n",
       "    <tr>\n",
       "      <th>C</th>\n",
       "      <td>-0.131</td>\n",
       "      <td>0.143</td>\n",
       "      <td>0.916</td>\n",
       "      <td>0.359</td>\n",
       "      <td>-0.365</td>\n",
       "      <td>0.104</td>\n",
       "    </tr>\n",
       "    <tr>\n",
       "      <th>D</th>\n",
       "      <td>0.086</td>\n",
       "      <td>0.143</td>\n",
       "      <td>-0.603</td>\n",
       "      <td>0.546</td>\n",
       "      <td>-0.149</td>\n",
       "      <td>0.321</td>\n",
       "    </tr>\n",
       "  </tbody>\n",
       "</table>\n",
       "</div>"
      ],
      "text/plain": [
       "   point_estimate  stderr   zstat  pvalue  ci_lower  ci_upper\n",
       "A           2.063   0.143 -14.431   0.000     1.828     2.298\n",
       "B          -0.002   0.142   0.015   0.988    -0.236     0.232\n",
       "C          -0.131   0.143   0.916   0.359    -0.365     0.104\n",
       "D           0.086   0.143  -0.603   0.546    -0.149     0.321"
      ]
     },
     "execution_count": 11,
     "metadata": {},
     "output_type": "execute_result"
    }
   ],
   "source": [
    "# Getting the inference of the coefficients of the CATE model\n",
    "# together with the corresponding feature names.\n",
    "est.coef__inference(T=1).summary_frame(feat_name=['A', 'B', 'C', 'D'])"
   ]
  },
  {
   "cell_type": "code",
   "execution_count": 12,
   "metadata": {},
   "outputs": [
    {
     "data": {
      "text/html": [
       "<div>\n",
       "<style scoped>\n",
       "    .dataframe tbody tr th:only-of-type {\n",
       "        vertical-align: middle;\n",
       "    }\n",
       "\n",
       "    .dataframe tbody tr th {\n",
       "        vertical-align: top;\n",
       "    }\n",
       "\n",
       "    .dataframe thead th {\n",
       "        text-align: right;\n",
       "    }\n",
       "</style>\n",
       "<table border=\"1\" class=\"dataframe\">\n",
       "  <thead>\n",
       "    <tr style=\"text-align: right;\">\n",
       "      <th></th>\n",
       "      <th>point_estimate</th>\n",
       "      <th>stderr</th>\n",
       "      <th>zstat</th>\n",
       "      <th>pvalue</th>\n",
       "      <th>ci_lower</th>\n",
       "      <th>ci_upper</th>\n",
       "    </tr>\n",
       "  </thead>\n",
       "  <tbody>\n",
       "    <tr>\n",
       "      <th>intercept</th>\n",
       "      <td>-1.04</td>\n",
       "      <td>0.146</td>\n",
       "      <td>7.114</td>\n",
       "      <td>0.0</td>\n",
       "      <td>-1.28</td>\n",
       "      <td>-0.799</td>\n",
       "    </tr>\n",
       "  </tbody>\n",
       "</table>\n",
       "</div>"
      ],
      "text/plain": [
       "           point_estimate  stderr  zstat  pvalue  ci_lower  ci_upper\n",
       "intercept           -1.04   0.146  7.114     0.0     -1.28    -0.799"
      ]
     },
     "execution_count": 12,
     "metadata": {},
     "output_type": "execute_result"
    }
   ],
   "source": [
    "# Getting the inference of the intercept of the CATE model\n",
    "est.intercept__inference(T=1).summary_frame()"
   ]
  },
  {
   "cell_type": "code",
   "execution_count": 13,
   "metadata": {},
   "outputs": [
    {
     "data": {
      "text/html": [
       "<table class=\"simpletable\">\n",
       "<caption>Coefficient Results</caption>\n",
       "<tr>\n",
       "  <td></td>  <th>point_estimate</th> <th>stderr</th>  <th>zstat</th>  <th>pvalue</th> <th>ci_lower</th> <th>ci_upper</th>\n",
       "</tr>\n",
       "<tr>\n",
       "  <th>A</th>      <td>2.063</td>      <td>0.143</td> <td>-14.431</td>   <td>0.0</td>    <td>1.828</td>    <td>2.298</td> \n",
       "</tr>\n",
       "<tr>\n",
       "  <th>B</th>     <td>-0.002</td>      <td>0.142</td>  <td>0.015</td>   <td>0.988</td>  <td>-0.236</td>    <td>0.232</td> \n",
       "</tr>\n",
       "<tr>\n",
       "  <th>C</th>     <td>-0.131</td>      <td>0.143</td>  <td>0.916</td>   <td>0.359</td>  <td>-0.365</td>    <td>0.104</td> \n",
       "</tr>\n",
       "<tr>\n",
       "  <th>D</th>      <td>0.086</td>      <td>0.143</td> <td>-0.603</td>   <td>0.546</td>  <td>-0.149</td>    <td>0.321</td> \n",
       "</tr>\n",
       "</table>\n",
       "<table class=\"simpletable\">\n",
       "<caption>Intercept Results</caption>\n",
       "<tr>\n",
       "      <td></td>      <th>point_estimate</th> <th>stderr</th> <th>zstat</th> <th>pvalue</th> <th>ci_lower</th> <th>ci_upper</th>\n",
       "</tr>\n",
       "<tr>\n",
       "  <th>intercept</th>      <td>-1.04</td>      <td>0.146</td> <td>7.114</td>   <td>0.0</td>    <td>-1.28</td>   <td>-0.799</td> \n",
       "</tr>\n",
       "</table>"
      ],
      "text/plain": [
       "<class 'econml.utilities.Summary'>\n",
       "\"\"\"\n",
       "                  Coefficient Results                   \n",
       "========================================================\n",
       "  point_estimate stderr  zstat  pvalue ci_lower ci_upper\n",
       "--------------------------------------------------------\n",
       "A          2.063  0.143 -14.431    0.0    1.828    2.298\n",
       "B         -0.002  0.142   0.015  0.988   -0.236    0.232\n",
       "C         -0.131  0.143   0.916  0.359   -0.365    0.104\n",
       "D          0.086  0.143  -0.603  0.546   -0.149    0.321\n",
       "                      Intercept Results                       \n",
       "==============================================================\n",
       "          point_estimate stderr zstat pvalue ci_lower ci_upper\n",
       "--------------------------------------------------------------\n",
       "intercept          -1.04  0.146 7.114    0.0    -1.28   -0.799\n",
       "--------------------------------------------------------------\n",
       "\"\"\""
      ]
     },
     "execution_count": 13,
     "metadata": {},
     "output_type": "execute_result"
    }
   ],
   "source": [
    "est.summary(T=1,feat_name=['A', 'B', 'C', 'D'])"
   ]
  },
  {
   "cell_type": "markdown",
   "metadata": {},
   "source": [
    "### Polynomial Features"
   ]
  },
  {
   "cell_type": "code",
   "execution_count": 14,
   "metadata": {},
   "outputs": [
    {
     "data": {
      "text/plain": [
       "<econml.drlearner.LinearDRLearner at 0x17214c06948>"
      ]
     },
     "execution_count": 14,
     "metadata": {},
     "output_type": "execute_result"
    }
   ],
   "source": [
    "from econml.sklearn_extensions.linear_model import WeightedLassoCV\n",
    "from econml.drlearner import LinearDRLearner\n",
    "from sklearn.linear_model import LogisticRegressionCV\n",
    "from sklearn.dummy import DummyClassifier\n",
    "from sklearn.preprocessing import PolynomialFeatures\n",
    "\n",
    "# One can replace model_y and model_t with any scikit-learn regressor and classifier correspondingly\n",
    "# as long as it accepts the sample_weight keyword argument at fit time.\n",
    "est = LinearDRLearner(model_regression=WeightedLassoCV(cv=3),\n",
    "                      model_propensity=DummyClassifier(strategy='prior'),\n",
    "                      featurizer=PolynomialFeatures(degree=2, interaction_only=True, include_bias=False))\n",
    "est.fit(y, T, X=X[:, :4])"
   ]
  },
  {
   "cell_type": "code",
   "execution_count": 15,
   "metadata": {},
   "outputs": [
    {
     "data": {
      "image/png": "[encoded data removed]",
      "text/plain": [
       "<Figure size 432x288 with 1 Axes>"
      ]
     },
     "metadata": {},
     "output_type": "display_data"
    }
   ],
   "source": [
    "# Getting the confidence intervals of the coefficients of the CATE model\n",
    "# together with the corresponding feature names.\n",
    "feat_names = est.cate_feature_names(['A', 'B', 'C', 'D'])\n",
    "point = est.coef_(T=1)\n",
    "lower, upper = np.array(est.coef__interval(T=1, alpha=0.05))\n",
    "yerr = np.zeros((2, point.shape[0]))\n",
    "yerr[0, :] = point - lower\n",
    "yerr[1, :] = upper - point\n",
    "\n",
    "with sns.axes_style(\"darkgrid\"):\n",
    "    fig, ax = plt.subplots(1,1) \n",
    "    x = np.arange(len(point))\n",
    "    plt.errorbar(x, point, yerr, fmt='o')\n",
    "    ax.set_xticks(x)\n",
    "    ax.set_xticklabels(feat_names, rotation='vertical', fontsize=18)\n",
    "    ax.set_ylabel('coef')\n",
    "    plt.show()"
   ]
  },
  {
   "cell_type": "code",
   "execution_count": 16,
   "metadata": {},
   "outputs": [
    {
     "data": {
      "text/html": [
       "<div>\n",
       "<style scoped>\n",
       "    .dataframe tbody tr th:only-of-type {\n",
       "        vertical-align: middle;\n",
       "    }\n",
       "\n",
       "    .dataframe tbody tr th {\n",
       "        vertical-align: top;\n",
       "    }\n",
       "\n",
       "    .dataframe thead th {\n",
       "        text-align: right;\n",
       "    }\n",
       "</style>\n",
       "<table border=\"1\" class=\"dataframe\">\n",
       "  <thead>\n",
       "    <tr style=\"text-align: right;\">\n",
       "      <th></th>\n",
       "      <th>point_estimate</th>\n",
       "      <th>stderr</th>\n",
       "      <th>zstat</th>\n",
       "      <th>pvalue</th>\n",
       "      <th>ci_lower</th>\n",
       "      <th>ci_upper</th>\n",
       "    </tr>\n",
       "  </thead>\n",
       "  <tbody>\n",
       "    <tr>\n",
       "      <th>0</th>\n",
       "      <td>1.192</td>\n",
       "      <td>0.292</td>\n",
       "      <td>-4.081</td>\n",
       "      <td>0.000</td>\n",
       "      <td>0.711</td>\n",
       "      <td>1.672</td>\n",
       "    </tr>\n",
       "    <tr>\n",
       "      <th>1</th>\n",
       "      <td>-1.057</td>\n",
       "      <td>0.189</td>\n",
       "      <td>5.585</td>\n",
       "      <td>0.000</td>\n",
       "      <td>-1.368</td>\n",
       "      <td>-0.746</td>\n",
       "    </tr>\n",
       "    <tr>\n",
       "      <th>2</th>\n",
       "      <td>1.065</td>\n",
       "      <td>0.253</td>\n",
       "      <td>-4.202</td>\n",
       "      <td>0.000</td>\n",
       "      <td>0.648</td>\n",
       "      <td>1.482</td>\n",
       "    </tr>\n",
       "    <tr>\n",
       "      <th>3</th>\n",
       "      <td>-1.057</td>\n",
       "      <td>0.189</td>\n",
       "      <td>5.585</td>\n",
       "      <td>0.000</td>\n",
       "      <td>-1.368</td>\n",
       "      <td>-0.746</td>\n",
       "    </tr>\n",
       "    <tr>\n",
       "      <th>4</th>\n",
       "      <td>-1.081</td>\n",
       "      <td>0.177</td>\n",
       "      <td>6.095</td>\n",
       "      <td>0.000</td>\n",
       "      <td>-1.372</td>\n",
       "      <td>-0.789</td>\n",
       "    </tr>\n",
       "    <tr>\n",
       "      <th>5</th>\n",
       "      <td>0.861</td>\n",
       "      <td>0.277</td>\n",
       "      <td>-3.107</td>\n",
       "      <td>0.002</td>\n",
       "      <td>0.405</td>\n",
       "      <td>1.318</td>\n",
       "    </tr>\n",
       "    <tr>\n",
       "      <th>6</th>\n",
       "      <td>0.926</td>\n",
       "      <td>0.273</td>\n",
       "      <td>-3.397</td>\n",
       "      <td>0.001</td>\n",
       "      <td>0.478</td>\n",
       "      <td>1.375</td>\n",
       "    </tr>\n",
       "    <tr>\n",
       "      <th>7</th>\n",
       "      <td>-0.892</td>\n",
       "      <td>0.186</td>\n",
       "      <td>4.784</td>\n",
       "      <td>0.000</td>\n",
       "      <td>-1.199</td>\n",
       "      <td>-0.585</td>\n",
       "    </tr>\n",
       "    <tr>\n",
       "      <th>8</th>\n",
       "      <td>0.926</td>\n",
       "      <td>0.273</td>\n",
       "      <td>-3.397</td>\n",
       "      <td>0.001</td>\n",
       "      <td>0.478</td>\n",
       "      <td>1.375</td>\n",
       "    </tr>\n",
       "    <tr>\n",
       "      <th>9</th>\n",
       "      <td>0.861</td>\n",
       "      <td>0.277</td>\n",
       "      <td>-3.107</td>\n",
       "      <td>0.002</td>\n",
       "      <td>0.405</td>\n",
       "      <td>1.318</td>\n",
       "    </tr>\n",
       "  </tbody>\n",
       "</table>\n",
       "</div>"
      ],
      "text/plain": [
       "   point_estimate  stderr  zstat  pvalue  ci_lower  ci_upper\n",
       "0           1.192   0.292 -4.081   0.000     0.711     1.672\n",
       "1          -1.057   0.189  5.585   0.000    -1.368    -0.746\n",
       "2           1.065   0.253 -4.202   0.000     0.648     1.482\n",
       "3          -1.057   0.189  5.585   0.000    -1.368    -0.746\n",
       "4          -1.081   0.177  6.095   0.000    -1.372    -0.789\n",
       "5           0.861   0.277 -3.107   0.002     0.405     1.318\n",
       "6           0.926   0.273 -3.397   0.001     0.478     1.375\n",
       "7          -0.892   0.186  4.784   0.000    -1.199    -0.585\n",
       "8           0.926   0.273 -3.397   0.001     0.478     1.375\n",
       "9           0.861   0.277 -3.107   0.002     0.405     1.318"
      ]
     },
     "execution_count": 16,
     "metadata": {},
     "output_type": "execute_result"
    }
   ],
   "source": [
    "# Getting the inference of the CATE at different X vector values\n",
    "est.effect_inference(X_test[:,:4]).summary_frame()"
   ]
  },
  {
   "cell_type": "code",
   "execution_count": 17,
   "metadata": {},
   "outputs": [
    {
     "data": {
      "text/html": [
       "<table class=\"simpletable\">\n",
       "<caption>Uncertainty of Mean Point Estimate</caption>\n",
       "<tr>\n",
       "  <th>mean_point</th> <th>stderr_mean</th> <th>zstat</th> <th>pvalue</th> <th>ci_mean_lower</th> <th>ci_mean_upper</th>\n",
       "</tr>\n",
       "<tr>\n",
       "     <td>0.175</td>      <td>0.243</td>    <td>0.719</td>  <td>0.472</td>    <td>-0.225</td>         <td>0.574</td>    \n",
       "</tr>\n",
       "</table>\n",
       "<table class=\"simpletable\">\n",
       "<caption>Distribution of Point Estimate</caption>\n",
       "<tr>\n",
       "  <th>std_point</th> <th>pct_point_lower</th> <th>pct_point_upper</th>\n",
       "</tr>\n",
       "<tr>\n",
       "    <td>0.982</td>        <td>-1.07</td>           <td>1.135</td>     \n",
       "</tr>\n",
       "</table>\n",
       "<table class=\"simpletable\">\n",
       "<caption>Total Variance of Point Estimate</caption>\n",
       "<tr>\n",
       "  <th>stderr_point</th> <th>ci_point_lower</th> <th>ci_point_upper</th>\n",
       "</tr>\n",
       "<tr>\n",
       "      <td>1.012</td>         <td>-1.25</td>          <td>1.389</td>    \n",
       "</tr>\n",
       "</table><br/><br/>Note: The stderr_mean is a conservative upper bound."
      ],
      "text/plain": [
       "<econml.inference.PopulationSummaryResults at 0x172151c0a88>"
      ]
     },
     "execution_count": 17,
     "metadata": {},
     "output_type": "execute_result"
    }
   ],
   "source": [
    "# Getting the population inference given sample X\n",
    "est.effect_inference(X_test[:,:4]).population_summary()"
   ]
  },
  {
   "cell_type": "markdown",
   "metadata": {},
   "source": [
    "### Polynomial Features and Debiased Lasso Inference"
   ]
  },
  {
   "cell_type": "code",
   "execution_count": 18,
   "metadata": {},
   "outputs": [
    {
     "data": {
      "text/plain": [
       "<econml.drlearner.SparseLinearDRLearner at 0x172151b1c88>"
      ]
     },
     "execution_count": 18,
     "metadata": {},
     "output_type": "execute_result"
    }
   ],
   "source": [
    "from econml.sklearn_extensions.linear_model import WeightedLassoCV\n",
    "from econml.drlearner import SparseLinearDRLearner\n",
    "from sklearn.linear_model import LogisticRegressionCV\n",
    "from sklearn.dummy import DummyClassifier\n",
    "from sklearn.preprocessing import PolynomialFeatures\n",
    "\n",
    "# One can replace model_y and model_t with any scikit-learn regressor and classifier correspondingly\n",
    "# as long as it accepts the sample_weight keyword argument at fit time.\n",
    "est = SparseLinearDRLearner(model_regression=WeightedLassoCV(cv=3),\n",
    "                      model_propensity=DummyClassifier(strategy='prior'),\n",
    "                      featurizer=PolynomialFeatures(degree=3, interaction_only=True, include_bias=False))\n",
    "est.fit(y, T, X=X[:, :4])"
   ]
  },
  {
   "cell_type": "markdown",
   "metadata": {},
   "source": [
    "#### Parameter Intervals"
   ]
  },
  {
   "cell_type": "code",
   "execution_count": 19,
   "metadata": {},
   "outputs": [
    {
     "data": {
      "image/png": "[encoded data removed]",
      "text/plain": [
       "<Figure size 432x288 with 1 Axes>"
      ]
     },
     "metadata": {},
     "output_type": "display_data"
    }
   ],
   "source": [
    "# Getting the confidence intervals of the coefficients of the CATE model\n",
    "# together with the corresponding feature names.\n",
    "feat_names = est.cate_feature_names(['A', 'B', 'C', 'D'])\n",
    "point = est.coef_(T=1)\n",
    "lower, upper = np.array(est.coef__interval(T=1, alpha=0.05))\n",
    "yerr = np.zeros((2, point.shape[0]))\n",
    "yerr[0, :] = point - lower\n",
    "yerr[1, :] = upper - point\n",
    "\n",
    "with sns.axes_style(\"darkgrid\"):\n",
    "    fig, ax = plt.subplots(1,1) \n",
    "    x = np.arange(len(point))\n",
    "    plt.errorbar(x, point, yerr, fmt='o')\n",
    "    ax.set_xticks(x)\n",
    "    ax.set_xticklabels(feat_names, rotation='vertical', fontsize=18)\n",
    "    ax.set_ylabel('coef')\n",
    "    plt.show()"
   ]
  },
  {
   "cell_type": "markdown",
   "metadata": {},
   "source": [
    "#### CATE(x) intervals"
   ]
  },
  {
   "cell_type": "code",
   "execution_count": 20,
   "metadata": {},
   "outputs": [
    {
     "data": {
      "image/png": "[encoded data removed]",
      "text/plain": [
       "<Figure size 1440x360 with 1 Axes>"
      ]
     },
     "metadata": {},
     "output_type": "display_data"
    }
   ],
   "source": [
    "import itertools\n",
    "# Getting the confidence intervals of the CATE at different X vector values\n",
    "feat_names = np.array(['A', 'B', 'C', 'D'])\n",
    "lst = list(itertools.product([0, 1], repeat=4))\n",
    "point = []\n",
    "lower = []\n",
    "upper = []\n",
    "fnames = []\n",
    "for x in lst:\n",
    "    x_test = np.array([x])\n",
    "    fnames.append(\" \".join(np.array(feat_names)[x_test.flatten()>0]))\n",
    "    point.append(est.effect(x_test)[0])\n",
    "    lb, ub = est.effect_interval(x_test, alpha=.05)\n",
    "    lower.append(lb[0])\n",
    "    upper.append(ub[0])\n",
    "\n",
    "fnames = np.array(fnames)\n",
    "point = np.array(point)\n",
    "lower = np.array(lower)\n",
    "upper = np.array(upper)\n",
    "yerr = np.zeros((2, point.shape[0]))\n",
    "yerr[0, :] = point - lower\n",
    "yerr[1, :] = upper - point\n",
    "\n",
    "with sns.axes_style('darkgrid'):\n",
    "    fig, ax = plt.subplots(1,1, figsize=(20, 5)) \n",
    "    x = np.arange(len(point))\n",
    "    stat_sig = (lower>0) | (upper<0)\n",
    "    plt.errorbar(x[stat_sig], point[stat_sig], yerr[:, stat_sig], fmt='o', label='stat_sig')\n",
    "    plt.errorbar(x[~stat_sig], point[~stat_sig], yerr[:, ~stat_sig], fmt='o', color='red', label='insig')\n",
    "    ax.set_xticks(x)\n",
    "    ax.set_xticklabels(fnames, rotation='vertical', fontsize=18)\n",
    "    ax.set_ylabel('coef')\n",
    "    plt.legend()\n",
    "    plt.show()"
   ]
  },
  {
   "cell_type": "markdown",
   "metadata": {},
   "source": [
    "#### CATE(x) inference"
   ]
  },
  {
   "cell_type": "code",
   "execution_count": 21,
   "metadata": {},
   "outputs": [
    {
     "data": {
      "text/html": [
       "<div>\n",
       "<style scoped>\n",
       "    .dataframe tbody tr th:only-of-type {\n",
       "        vertical-align: middle;\n",
       "    }\n",
       "\n",
       "    .dataframe tbody tr th {\n",
       "        vertical-align: top;\n",
       "    }\n",
       "\n",
       "    .dataframe thead th {\n",
       "        text-align: right;\n",
       "    }\n",
       "</style>\n",
       "<table border=\"1\" class=\"dataframe\">\n",
       "  <thead>\n",
       "    <tr style=\"text-align: right;\">\n",
       "      <th></th>\n",
       "      <th>point_estimate</th>\n",
       "      <th>stderr</th>\n",
       "      <th>zstat</th>\n",
       "      <th>pvalue</th>\n",
       "      <th>ci_lower</th>\n",
       "      <th>ci_upper</th>\n",
       "    </tr>\n",
       "  </thead>\n",
       "  <tbody>\n",
       "    <tr>\n",
       "      <th>0</th>\n",
       "      <td>1.714</td>\n",
       "      <td>0.484</td>\n",
       "      <td>-3.541</td>\n",
       "      <td>0.000</td>\n",
       "      <td>0.918</td>\n",
       "      <td>2.511</td>\n",
       "    </tr>\n",
       "    <tr>\n",
       "      <th>1</th>\n",
       "      <td>-1.319</td>\n",
       "      <td>0.268</td>\n",
       "      <td>4.924</td>\n",
       "      <td>0.000</td>\n",
       "      <td>-1.759</td>\n",
       "      <td>-0.878</td>\n",
       "    </tr>\n",
       "    <tr>\n",
       "      <th>2</th>\n",
       "      <td>1.692</td>\n",
       "      <td>0.890</td>\n",
       "      <td>-1.901</td>\n",
       "      <td>0.057</td>\n",
       "      <td>0.228</td>\n",
       "      <td>3.156</td>\n",
       "    </tr>\n",
       "    <tr>\n",
       "      <th>3</th>\n",
       "      <td>-1.319</td>\n",
       "      <td>0.268</td>\n",
       "      <td>4.924</td>\n",
       "      <td>0.000</td>\n",
       "      <td>-1.759</td>\n",
       "      <td>-0.878</td>\n",
       "    </tr>\n",
       "    <tr>\n",
       "      <th>4</th>\n",
       "      <td>-1.178</td>\n",
       "      <td>0.268</td>\n",
       "      <td>4.399</td>\n",
       "      <td>0.000</td>\n",
       "      <td>-1.619</td>\n",
       "      <td>-0.738</td>\n",
       "    </tr>\n",
       "    <tr>\n",
       "      <th>5</th>\n",
       "      <td>1.035</td>\n",
       "      <td>0.303</td>\n",
       "      <td>-3.421</td>\n",
       "      <td>0.001</td>\n",
       "      <td>0.538</td>\n",
       "      <td>1.533</td>\n",
       "    </tr>\n",
       "    <tr>\n",
       "      <th>6</th>\n",
       "      <td>1.103</td>\n",
       "      <td>0.476</td>\n",
       "      <td>-2.318</td>\n",
       "      <td>0.020</td>\n",
       "      <td>0.320</td>\n",
       "      <td>1.886</td>\n",
       "    </tr>\n",
       "    <tr>\n",
       "      <th>7</th>\n",
       "      <td>-1.078</td>\n",
       "      <td>0.267</td>\n",
       "      <td>4.039</td>\n",
       "      <td>0.000</td>\n",
       "      <td>-1.517</td>\n",
       "      <td>-0.639</td>\n",
       "    </tr>\n",
       "    <tr>\n",
       "      <th>8</th>\n",
       "      <td>1.103</td>\n",
       "      <td>0.476</td>\n",
       "      <td>-2.318</td>\n",
       "      <td>0.020</td>\n",
       "      <td>0.320</td>\n",
       "      <td>1.886</td>\n",
       "    </tr>\n",
       "    <tr>\n",
       "      <th>9</th>\n",
       "      <td>1.035</td>\n",
       "      <td>0.303</td>\n",
       "      <td>-3.421</td>\n",
       "      <td>0.001</td>\n",
       "      <td>0.538</td>\n",
       "      <td>1.533</td>\n",
       "    </tr>\n",
       "  </tbody>\n",
       "</table>\n",
       "</div>"
      ],
      "text/plain": [
       "   point_estimate  stderr  zstat  pvalue  ci_lower  ci_upper\n",
       "0           1.714   0.484 -3.541   0.000     0.918     2.511\n",
       "1          -1.319   0.268  4.924   0.000    -1.759    -0.878\n",
       "2           1.692   0.890 -1.901   0.057     0.228     3.156\n",
       "3          -1.319   0.268  4.924   0.000    -1.759    -0.878\n",
       "4          -1.178   0.268  4.399   0.000    -1.619    -0.738\n",
       "5           1.035   0.303 -3.421   0.001     0.538     1.533\n",
       "6           1.103   0.476 -2.318   0.020     0.320     1.886\n",
       "7          -1.078   0.267  4.039   0.000    -1.517    -0.639\n",
       "8           1.103   0.476 -2.318   0.020     0.320     1.886\n",
       "9           1.035   0.303 -3.421   0.001     0.538     1.533"
      ]
     },
     "execution_count": 21,
     "metadata": {},
     "output_type": "execute_result"
    }
   ],
   "source": [
    "# Getting the inference of the CATE at different X vector values\n",
    "est.effect_inference(X_test[:,:4]).summary_frame()"
   ]
  },
  {
   "cell_type": "code",
   "execution_count": 22,
   "metadata": {},
   "outputs": [
    {
     "data": {
      "text/html": [
       "<table class=\"simpletable\">\n",
       "<caption>Uncertainty of Mean Point Estimate</caption>\n",
       "<tr>\n",
       "  <th>mean_point</th> <th>stderr_mean</th> <th>zstat</th> <th>pvalue</th> <th>ci_mean_lower</th> <th>ci_mean_upper</th>\n",
       "</tr>\n",
       "<tr>\n",
       "     <td>0.279</td>      <td>0.441</td>    <td>0.632</td>  <td>0.527</td>    <td>-0.447</td>         <td>1.005</td>    \n",
       "</tr>\n",
       "</table>\n",
       "<table class=\"simpletable\">\n",
       "<caption>Distribution of Point Estimate</caption>\n",
       "<tr>\n",
       "  <th>std_point</th> <th>pct_point_lower</th> <th>pct_point_upper</th>\n",
       "</tr>\n",
       "<tr>\n",
       "    <td>1.25</td>        <td>-1.319</td>           <td>1.704</td>     \n",
       "</tr>\n",
       "</table>\n",
       "<table class=\"simpletable\">\n",
       "<caption>Total Variance of Point Estimate</caption>\n",
       "<tr>\n",
       "  <th>stderr_point</th> <th>ci_point_lower</th> <th>ci_point_upper</th>\n",
       "</tr>\n",
       "<tr>\n",
       "      <td>1.326</td>         <td>-1.55</td>          <td>2.163</td>    \n",
       "</tr>\n",
       "</table><br/><br/>Note: The stderr_mean is a conservative upper bound."
      ],
      "text/plain": [
       "<econml.inference.PopulationSummaryResults at 0x172156238c8>"
      ]
     },
     "execution_count": 22,
     "metadata": {},
     "output_type": "execute_result"
    }
   ],
   "source": [
    "# Getting the population inference given sample X\n",
    "est.effect_inference(X_test[:,:4]).population_summary()"
   ]
  },
  {
   "cell_type": "markdown",
   "metadata": {},
   "source": [
    "# Non-Linear Models with Forest CATEs"
   ]
  },
  {
   "cell_type": "code",
   "execution_count": 23,
   "metadata": {},
   "outputs": [
    {
     "data": {
      "text/plain": [
       "<econml.drlearner.ForestDRLearner at 0x17215626508>"
      ]
     },
     "execution_count": 23,
     "metadata": {},
     "output_type": "execute_result"
    }
   ],
   "source": [
    "from econml.drlearner import ForestDRLearner\n",
    "from sklearn.ensemble import GradientBoostingRegressor\n",
    "\n",
    "est = ForestDRLearner(model_regression=GradientBoostingRegressor(),\n",
    "                      model_propensity=DummyClassifier(strategy='prior'),\n",
    "                      n_crossfit_splits=5,\n",
    "                      n_estimators=4000,\n",
    "                      subsample_fr='auto',\n",
    "                      min_samples_leaf=10,\n",
    "                      verbose=0, min_weight_fraction_leaf=.01)\n",
    "est.fit(y, T, X=X[:, :4])"
   ]
  },
  {
   "cell_type": "code",
   "execution_count": 24,
   "metadata": {},
   "outputs": [
    {
     "data": {
      "text/plain": [
       "array([0.68764514, 0.10515434, 0.09110165, 0.11609888])"
      ]
     },
     "execution_count": 24,
     "metadata": {},
     "output_type": "execute_result"
    }
   ],
   "source": [
    "est.feature_importances_(T=1)"
   ]
  },
  {
   "cell_type": "markdown",
   "metadata": {},
   "source": [
    "#### CATE(x) intervals"
   ]
  },
  {
   "cell_type": "code",
   "execution_count": 25,
   "metadata": {},
   "outputs": [
    {
     "data": {
      "image/png": "[encoded data removed]",
      "text/plain": [
       "<Figure size 1440x360 with 1 Axes>"
      ]
     },
     "metadata": {},
     "output_type": "display_data"
    }
   ],
   "source": [
    "import itertools\n",
    "# Getting the confidence intervals of the CATE at different X vector values\n",
    "feat_names = np.array(['A', 'B', 'C', 'D'])\n",
    "lst = list(itertools.product([0, 1], repeat=4))\n",
    "point = []\n",
    "lower = []\n",
    "upper = []\n",
    "fnames = []\n",
    "for x in lst:\n",
    "    x_test = np.array([x])\n",
    "    fnames.append(\" \".join(np.array(feat_names)[x_test.flatten()>0]))\n",
    "    point.append(est.effect(x_test)[0])\n",
    "    lb, ub = est.effect_interval(x_test, alpha=.05)\n",
    "    lower.append(lb[0])\n",
    "    upper.append(ub[0])\n",
    "\n",
    "fnames = np.array(fnames)\n",
    "point = np.array(point)\n",
    "lower = np.array(lower)\n",
    "upper = np.array(upper)\n",
    "yerr = np.zeros((2, point.shape[0]))\n",
    "yerr[0, :] = point - lower\n",
    "yerr[1, :] = upper - point\n",
    "\n",
    "with sns.axes_style('darkgrid'):\n",
    "    fig, ax = plt.subplots(1,1, figsize=(20, 5)) \n",
    "    x = np.arange(len(point))\n",
    "    stat_sig = (lower>0) | (upper<0)\n",
    "    plt.errorbar(x[stat_sig], point[stat_sig], yerr[:, stat_sig], fmt='o', label='stat_sig')\n",
    "    plt.errorbar(x[~stat_sig], point[~stat_sig], yerr[:, ~stat_sig], fmt='o', color='red', label='insig')\n",
    "    ax.set_xticks(x)\n",
    "    ax.set_xticklabels(fnames, rotation='vertical', fontsize=18)\n",
    "    ax.set_ylabel('coef')\n",
    "    plt.legend()\n",
    "    plt.show()"
   ]
  },
  {
   "cell_type": "markdown",
   "metadata": {},
   "source": [
    "#### CATE(x) inference"
   ]
  },
  {
   "cell_type": "code",
   "execution_count": 26,
   "metadata": {},
   "outputs": [
    {
     "data": {
      "text/html": [
       "<div>\n",
       "<style scoped>\n",
       "    .dataframe tbody tr th:only-of-type {\n",
       "        vertical-align: middle;\n",
       "    }\n",
       "\n",
       "    .dataframe tbody tr th {\n",
       "        vertical-align: top;\n",
       "    }\n",
       "\n",
       "    .dataframe thead th {\n",
       "        text-align: right;\n",
       "    }\n",
       "</style>\n",
       "<table border=\"1\" class=\"dataframe\">\n",
       "  <thead>\n",
       "    <tr style=\"text-align: right;\">\n",
       "      <th></th>\n",
       "      <th>point_estimate</th>\n",
       "      <th>stderr</th>\n",
       "      <th>zstat</th>\n",
       "      <th>pvalue</th>\n",
       "      <th>ci_lower</th>\n",
       "      <th>ci_upper</th>\n",
       "    </tr>\n",
       "  </thead>\n",
       "  <tbody>\n",
       "    <tr>\n",
       "      <th>0</th>\n",
       "      <td>1.217</td>\n",
       "      <td>0.406</td>\n",
       "      <td>-3.002</td>\n",
       "      <td>0.003</td>\n",
       "      <td>0.550</td>\n",
       "      <td>1.885</td>\n",
       "    </tr>\n",
       "    <tr>\n",
       "      <th>1</th>\n",
       "      <td>-1.169</td>\n",
       "      <td>0.184</td>\n",
       "      <td>6.369</td>\n",
       "      <td>0.000</td>\n",
       "      <td>-1.471</td>\n",
       "      <td>-0.867</td>\n",
       "    </tr>\n",
       "    <tr>\n",
       "      <th>2</th>\n",
       "      <td>1.394</td>\n",
       "      <td>0.301</td>\n",
       "      <td>-4.625</td>\n",
       "      <td>0.000</td>\n",
       "      <td>0.898</td>\n",
       "      <td>1.890</td>\n",
       "    </tr>\n",
       "    <tr>\n",
       "      <th>3</th>\n",
       "      <td>-1.169</td>\n",
       "      <td>0.184</td>\n",
       "      <td>6.369</td>\n",
       "      <td>0.000</td>\n",
       "      <td>-1.471</td>\n",
       "      <td>-0.867</td>\n",
       "    </tr>\n",
       "    <tr>\n",
       "      <th>4</th>\n",
       "      <td>-1.147</td>\n",
       "      <td>0.163</td>\n",
       "      <td>7.028</td>\n",
       "      <td>0.000</td>\n",
       "      <td>-1.415</td>\n",
       "      <td>-0.878</td>\n",
       "    </tr>\n",
       "    <tr>\n",
       "      <th>5</th>\n",
       "      <td>1.115</td>\n",
       "      <td>0.318</td>\n",
       "      <td>-3.501</td>\n",
       "      <td>0.000</td>\n",
       "      <td>0.591</td>\n",
       "      <td>1.639</td>\n",
       "    </tr>\n",
       "    <tr>\n",
       "      <th>6</th>\n",
       "      <td>1.027</td>\n",
       "      <td>0.345</td>\n",
       "      <td>-2.975</td>\n",
       "      <td>0.003</td>\n",
       "      <td>0.459</td>\n",
       "      <td>1.594</td>\n",
       "    </tr>\n",
       "    <tr>\n",
       "      <th>7</th>\n",
       "      <td>-0.915</td>\n",
       "      <td>0.210</td>\n",
       "      <td>4.352</td>\n",
       "      <td>0.000</td>\n",
       "      <td>-1.261</td>\n",
       "      <td>-0.569</td>\n",
       "    </tr>\n",
       "    <tr>\n",
       "      <th>8</th>\n",
       "      <td>1.027</td>\n",
       "      <td>0.345</td>\n",
       "      <td>-2.975</td>\n",
       "      <td>0.003</td>\n",
       "      <td>0.459</td>\n",
       "      <td>1.594</td>\n",
       "    </tr>\n",
       "    <tr>\n",
       "      <th>9</th>\n",
       "      <td>1.115</td>\n",
       "      <td>0.318</td>\n",
       "      <td>-3.501</td>\n",
       "      <td>0.000</td>\n",
       "      <td>0.591</td>\n",
       "      <td>1.639</td>\n",
       "    </tr>\n",
       "  </tbody>\n",
       "</table>\n",
       "</div>"
      ],
      "text/plain": [
       "   point_estimate  stderr  zstat  pvalue  ci_lower  ci_upper\n",
       "0           1.217   0.406 -3.002   0.003     0.550     1.885\n",
       "1          -1.169   0.184  6.369   0.000    -1.471    -0.867\n",
       "2           1.394   0.301 -4.625   0.000     0.898     1.890\n",
       "3          -1.169   0.184  6.369   0.000    -1.471    -0.867\n",
       "4          -1.147   0.163  7.028   0.000    -1.415    -0.878\n",
       "5           1.115   0.318 -3.501   0.000     0.591     1.639\n",
       "6           1.027   0.345 -2.975   0.003     0.459     1.594\n",
       "7          -0.915   0.210  4.352   0.000    -1.261    -0.569\n",
       "8           1.027   0.345 -2.975   0.003     0.459     1.594\n",
       "9           1.115   0.318 -3.501   0.000     0.591     1.639"
      ]
     },
     "execution_count": 26,
     "metadata": {},
     "output_type": "execute_result"
    }
   ],
   "source": [
    "# Getting the inference of the CATE at different X vector values\n",
    "est.effect_inference(X_test[:,:4]).summary_frame()"
   ]
  },
  {
   "cell_type": "code",
   "execution_count": 27,
   "metadata": {},
   "outputs": [
    {
     "data": {
      "text/html": [
       "<table class=\"simpletable\">\n",
       "<caption>Uncertainty of Mean Point Estimate</caption>\n",
       "<tr>\n",
       "  <th>mean_point</th> <th>stderr_mean</th> <th>zstat</th> <th>pvalue</th> <th>ci_mean_lower</th> <th>ci_mean_upper</th>\n",
       "</tr>\n",
       "<tr>\n",
       "     <td>0.25</td>       <td>0.289</td>    <td>0.864</td>  <td>0.388</td>    <td>-0.226</td>         <td>0.725</td>    \n",
       "</tr>\n",
       "</table>\n",
       "<table class=\"simpletable\">\n",
       "<caption>Distribution of Point Estimate</caption>\n",
       "<tr>\n",
       "  <th>std_point</th> <th>pct_point_lower</th> <th>pct_point_upper</th>\n",
       "</tr>\n",
       "<tr>\n",
       "    <td>1.108</td>       <td>-1.169</td>           <td>1.315</td>     \n",
       "</tr>\n",
       "</table>\n",
       "<table class=\"simpletable\">\n",
       "<caption>Total Variance of Point Estimate</caption>\n",
       "<tr>\n",
       "  <th>stderr_point</th> <th>ci_point_lower</th> <th>ci_point_upper</th>\n",
       "</tr>\n",
       "<tr>\n",
       "      <td>1.145</td>        <td>-1.336</td>          <td>1.652</td>    \n",
       "</tr>\n",
       "</table><br/><br/>Note: The stderr_mean is a conservative upper bound."
      ],
      "text/plain": [
       "<econml.inference.PopulationSummaryResults at 0x17215628448>"
      ]
     },
     "execution_count": 27,
     "metadata": {},
     "output_type": "execute_result"
    }
   ],
   "source": [
    "# Getting the population inference given sample X\n",
    "est.effect_inference(X_test[:,:4]).population_summary()"
   ]
  },
  {
   "cell_type": "markdown",
   "metadata": {},
   "source": [
    "# Tree Interpretation of the CATE Model"
   ]
  },
  {
   "cell_type": "code",
   "execution_count": 28,
   "metadata": {},
   "outputs": [],
   "source": [
    "from econml.cate_interpreter import SingleTreeCateInterpreter"
   ]
  },
  {
   "cell_type": "code",
   "execution_count": 29,
   "metadata": {},
   "outputs": [
    {
     "data": {
      "text/plain": [
       "<econml.cate_interpreter.SingleTreeCateInterpreter at 0x172156af748>"
      ]
     },
     "execution_count": 29,
     "metadata": {},
     "output_type": "execute_result"
    }
   ],
   "source": [
    "intrp = SingleTreeCateInterpreter(include_model_uncertainty=True, max_depth=2, min_samples_leaf=10)\n",
    "# We interpret the CATE models behavior on the distribution of heterogeneity features\n",
    "intrp.interpret(est, X[:, :4])"
   ]
  },
  {
   "cell_type": "code",
   "execution_count": 30,
   "metadata": {},
   "outputs": [],
   "source": [
    "# exporting to a dot file\n",
    "intrp.export_graphviz(out_file='cate_tree.dot', feature_names=['A', 'B', 'C', 'D'])"
   ]
  },
  {
   "cell_type": "code",
   "execution_count": 31,
   "metadata": {},
   "outputs": [],
   "source": [
    "# or we can directly render. Requires the graphviz python library\n",
    "intrp.render(out_file='dr_cate_tree', format='pdf', view=True, feature_names=['A', 'B', 'C', 'D'])"
   ]
  },
  {
   "cell_type": "code",
   "execution_count": 32,
   "metadata": {},
   "outputs": [
    {
     "data": {
      "image/png": "[encoded data removed]",
      "text/plain": [
       "<Figure size 1800x360 with 1 Axes>"
      ]
     },
     "metadata": {
      "needs_background": "light"
     },
     "output_type": "display_data"
    }
   ],
   "source": [
    "# or we can also plot inline with matplotlib. a bit uglier\n",
    "plt.figure(figsize=(25, 5))\n",
    "intrp.plot(feature_names=['A', 'B', 'C', 'D'], fontsize=12)\n",
    "plt.show()"
   ]
  },
  {
   "cell_type": "markdown",
   "metadata": {},
   "source": [
    "# Tree Based Treatment Policy Based on CATE Model"
   ]
  },
  {
   "cell_type": "code",
   "execution_count": 33,
   "metadata": {},
   "outputs": [],
   "source": [
    "from econml.cate_interpreter import SingleTreePolicyInterpreter"
   ]
  },
  {
   "cell_type": "code",
   "execution_count": 34,
   "metadata": {},
   "outputs": [
    {
     "data": {
      "text/plain": [
       "<econml.cate_interpreter.SingleTreePolicyInterpreter at 0x1721519b848>"
      ]
     },
     "execution_count": 34,
     "metadata": {},
     "output_type": "execute_result"
    }
   ],
   "source": [
    "intrp = SingleTreePolicyInterpreter(risk_level=0.05, max_depth=2, min_samples_leaf=1, min_impurity_decrease=.001)\n",
    "# We find a tree based treatment policy based on the CATE model\n",
    "# sample_treatment_costs is the cost of treatment. Policy will treat if effect is above this cost.\n",
    "# It can also be an array that has a different cost for each sample. In case treating different segments\n",
    "# has different cost.\n",
    "intrp.interpret(est, X[:, :4],\n",
    "                sample_treatment_costs=0.2)"
   ]
  },
  {
   "cell_type": "code",
   "execution_count": 35,
   "metadata": {},
   "outputs": [],
   "source": [
    "# exporting to a dot file\n",
    "intrp.export_graphviz(out_file='cate_tree.dot', feature_names=['A', 'B', 'C', 'D'])"
   ]
  },
  {
   "cell_type": "code",
   "execution_count": 36,
   "metadata": {},
   "outputs": [],
   "source": [
    "import os\n",
    "os.environ[\"PATH\"] += os.pathsep + 'D:/Program Files (x86)/Graphviz2.38/bin/'"
   ]
  },
  {
   "cell_type": "code",
   "execution_count": 37,
   "metadata": {},
   "outputs": [],
   "source": [
    "# or we can directly render. Requires the graphviz python library\n",
    "intrp.render(out_file='dr_policy_tree', format='pdf', view=True, feature_names=['A', 'B', 'C', 'D'])"
   ]
  },
  {
   "cell_type": "code",
   "execution_count": 38,
   "metadata": {},
   "outputs": [
    {
     "data": {
      "image/png": "[encoded data removed]",
      "text/plain": [
       "<Figure size 1800x360 with 1 Axes>"
      ]
     },
     "metadata": {
      "needs_background": "light"
     },
     "output_type": "display_data"
    }
   ],
   "source": [
    "# or we can also plot inline with matplotlib. a bit uglier\n",
    "plt.figure(figsize=(25, 5))\n",
    "intrp.plot(feature_names=['A', 'B', 'C', 'D'], fontsize=12)\n",
    "plt.show()"
   ]
  },
  {
   "cell_type": "markdown",
   "metadata": {},
   "source": [
    "# SHAP Interpretability with Final Tree CATE Model"
   ]
  },
  {
   "cell_type": "code",
   "execution_count": 39,
   "metadata": {},
   "outputs": [
    {
     "data": {
      "text/plain": [
       "<econml.drlearner.DRLearner at 0x17217c9a608>"
      ]
     },
     "execution_count": 39,
     "metadata": {},
     "output_type": "execute_result"
    }
   ],
   "source": [
    "# We need to use a scikit-learn final model\n",
    "from econml.drlearner import DRLearner\n",
    "from sklearn.ensemble import RandomForestRegressor, GradientBoostingRegressor, GradientBoostingClassifier\n",
    "\n",
    "# One can replace model_y and model_t with any scikit-learn regressor and classifier correspondingly\n",
    "# as long as it accepts the sample_weight keyword argument at fit time.\n",
    "est = DRLearner(model_regression=GradientBoostingRegressor(max_depth=3, n_estimators=100, min_samples_leaf=30),\n",
    "                model_propensity=GradientBoostingClassifier(max_depth=3, n_estimators=100, min_samples_leaf=30),\n",
    "                model_final=RandomForestRegressor(max_depth=3, n_estimators=100, min_samples_leaf=30))\n",
    "est.fit(y, T, X=X[:, :4], W=X[:, 4:])"
   ]
  },
  {
   "cell_type": "code",
   "execution_count": 40,
   "metadata": {},
   "outputs": [
    {
     "data": {
      "image/png": "[encoded data removed]",
      "text/plain": [
       "<Figure size 1440x216 with 1 Axes>"
      ]
     },
     "metadata": {
      "needs_background": "light"
     },
     "output_type": "display_data"
    }
   ],
   "source": [
    "import shap\n",
    "import pandas as pd\n",
    "\n",
    "Xdf = pd.DataFrame(X[:, :4], columns=['A', 'B', 'C', 'D'])\n",
    "# explain the model's predictions using SHAP values\n",
    "explainer = shap.TreeExplainer(est.model_cate(T=1))\n",
    "shap_values = explainer.shap_values(Xdf)\n",
    "\n",
    "# visualize the first prediction's explanation (use matplotlib=True to avoid Javascript)\n",
    "shap.force_plot(explainer.expected_value, shap_values[0,:], Xdf.iloc[0,:], matplotlib=True)"
   ]
  },
  {
   "cell_type": "code",
   "execution_count": 41,
   "metadata": {},
   "outputs": [
    {
     "data": {
      "image/png": "[encoded data removed]",
      "text/plain": [
       "<Figure size 576x223.2 with 2 Axes>"
      ]
     },
     "metadata": {
      "needs_background": "light"
     },
     "output_type": "display_data"
    }
   ],
   "source": [
    "shap.summary_plot(shap_values, Xdf)"
   ]
  }
 ],
 "metadata": {
  "kernelspec": {
   "display_name": "Python 3",
   "language": "python",
   "name": "python3"
  },
  "language_info": {
   "codemirror_mode": {
    "name": "ipython",
    "version": 3
   },
   "file_extension": ".py",
   "mimetype": "text/x-python",
   "name": "python",
   "nbconvert_exporter": "python",
   "pygments_lexer": "ipython3",
   "version": "3.7.4"
  }
 },
 "nbformat": 4,
 "nbformat_minor": 2
}