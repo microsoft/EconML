{
 "cells": [
  {
   "cell_type": "markdown",
   "metadata": {},
   "source": [
    "# Causal Interpretation for Boston Housing Price\n",
    "\n",
    "This notebook uses the well-known Boston Housing dataset to showcase how we can interpret a blackbox model from both the **correlation and causation** perspective by leveraging the power of model interpretation tools like [SHAP](https://shap.readthedocs.io/en/latest/index.html) and [EconML](https://aka.ms/econml). This housing dataset collects median home values and neighborhood characteristics for the Boston area, largely from the 1970 U.S. Census. We start with a linear regression to build intuition. We then train a fine-tuned predictive ML model and use SHAP to better understand the correlations between features and target and which features are the strongest predictors. Finally, we train a separate causal model using EconML, which identifies features that have a **direct causal effect** on housing price, instead of just predicting the housing price given a set of characteristics.\n",
    "\n",
    "Also, this dataset has attracted some controversy because it includes the **share of Black residents (`B`)** in the neighborhood as a possible predictor of home prices. In addition to the fairness implications of using neighborhood racial mix to predict prices, our analysis shows that the statistical relationship between the share of Black residents and home prices is **not a causal effect**. In the 1970s in Boston, Black residents were concentrated in less desirable neighborhoods—for example those with higher pollution, higher crime, and smaller houses. This pattern of correlations makes the share of Black residents an effective predictive feature, as shown in our SHAP analysis, but we find that it has no direct causal effect on home prices. In other words, in this historical dataset neighborhoods with higher shares of Black residents also tend to have lower median home prices, but we show that changing the racial mix of a neighborhood on its own would not change median home prices.\n",
    "\n",
    "It includes the following sections:\n",
    "1. [A Gentle Start: Linear Regression](#A-Gentle-Start:-Linear-Regression)\n",
    "2. [Train a Fine-tuned Predictive ML Model](#Train-a-Fine-tuned-Predictive-ML-Model)\n",
    "3. [Correlation Interpretation](#Correlation-Interpretation)\n",
    "    * Feature Importance -- Learn the top predictors for a given ML model\n",
    "    * Partial Dependence Plot -- Learn the statistical relationship between share of Black residents and housing price\n",
    "4. [Causal Interpretation](#Causal-Interpretation)\n",
    "    * Direct Causal Effect -- Do the top predictors also have a direct effect on outcome of interest?\n",
    "    * Segmentation -- How different type of houses respond differently to number of rooms?\n",
    "    * What If Analysis -- How the overall housing price changes with one more room?\n",
    "    * Policy Analysis -- What is the best policy considering cost?\n",
    "    * Cohort Analysis -- What is the causal effect on a new dataset?\n",
    "    "
   ]
  },
  {
   "cell_type": "code",
   "execution_count": 1,
   "metadata": {},
   "outputs": [],
   "source": [
    "# Some imports to get us started\n",
    "from lightgbm import LGBMClassifier, LGBMRegressor\n",
    "from sklearn.model_selection import GridSearchCV\n",
    "import pandas as pd\n",
    "import numpy as np\n",
    "import matplotlib.pyplot as plt\n",
    "import statsmodels.api as sm\n",
    "\n",
    "%matplotlib inline"
   ]
  },
  {
   "cell_type": "markdown",
   "metadata": {},
   "source": [
    "# A Gentle Start: Linear Regression\n",
    "\n",
    "### Data Description\n",
    "\n",
    "The data contain features of Boston census tracts in 1970 and was originally published by Harrison, D. and Rubinfeld, D.L. [Hedonic prices and the demand for clean air](https://www.law.berkeley.edu/files/Hedonic.PDF), J. Environ. Economics & Management, vol.5, 81-102, 1978.\n",
    "\n",
    "Below is a list of data description:\n",
    "\n",
    "Feature Name|Description\n",
    ":--- |:---\n",
    "**CRIM**|per capita crime rate by town\n",
    "**ZN**|proportion of residential land zoned for lots over 25,000 sq.ft.\n",
    "**INDUS**|proportion of non-retail business acres per town.\n",
    "**CHAS**|Charles River dummy variable (1 if tract bounds river; 0 otherwise)\n",
    "**NOX**|nitric oxides concentration (parts per 10 million)\n",
    "**RM**|average number of rooms per dwelling\n",
    "**AGE**|proportion of owner-occupied units built prior to 1940\n",
    "**DIS**|weighted distances to five Boston employment centres\n",
    "**RAD**|index of accessibility to radial highways\n",
    "**TAX**|full-value property-tax rate per \\$10,000\n",
    "**PTRATIO**|pupil-teacher ratio by town\n",
    "**B**|$1000\\dot(Bk - 0.63)^2$ where Bk is the proportion of Black residents by town\n",
    "**LSTAT**|\\% lower socioeconomic status by town: $\\frac{1}{2}$(share of adults with less than high school education + share of male workers classified as laborers)\n",
    "**MEDV**|Median value of owner-occupied homes in \\$1000's"
   ]
  },
  {
   "cell_type": "markdown",
   "metadata": {},
   "source": [
    "We start with a linear regression to learn the correlation between each predictor and the outcome variable, the coefficients could tell us how the housing price will change with one unit increase of each feature, and the p-value tells us the variable significance."
   ]
  },
  {
   "cell_type": "code",
   "execution_count": 2,
   "metadata": {},
   "outputs": [],
   "source": [
    "# Load the boston housing data\n",
    "from sklearn.datasets import load_boston\n",
    "\n",
    "boston_data = load_boston()"
   ]
  },
  {
   "cell_type": "code",
   "execution_count": 3,
   "metadata": {},
   "outputs": [
    {
     "data": {
      "text/html": [
       "<table class=\"simpletable\">\n",
       "<caption>OLS Regression Results</caption>\n",
       "<tr>\n",
       "  <th>Dep. Variable:</th>            <td>y</td>        <th>  R-squared:         </th> <td>   0.741</td> \n",
       "</tr>\n",
       "<tr>\n",
       "  <th>Model:</th>                   <td>OLS</td>       <th>  Adj. R-squared:    </th> <td>   0.734</td> \n",
       "</tr>\n",
       "<tr>\n",
       "  <th>Method:</th>             <td>Least Squares</td>  <th>  F-statistic:       </th> <td>   108.1</td> \n",
       "</tr>\n",
       "<tr>\n",
       "  <th>Date:</th>             <td>Tue, 20 Jul 2021</td> <th>  Prob (F-statistic):</th> <td>6.72e-135</td>\n",
       "</tr>\n",
       "<tr>\n",
       "  <th>Time:</th>                 <td>17:58:02</td>     <th>  Log-Likelihood:    </th> <td> -1498.8</td> \n",
       "</tr>\n",
       "<tr>\n",
       "  <th>No. Observations:</th>      <td>   506</td>      <th>  AIC:               </th> <td>   3026.</td> \n",
       "</tr>\n",
       "<tr>\n",
       "  <th>Df Residuals:</th>          <td>   492</td>      <th>  BIC:               </th> <td>   3085.</td> \n",
       "</tr>\n",
       "<tr>\n",
       "  <th>Df Model:</th>              <td>    13</td>      <th>                     </th>     <td> </td>    \n",
       "</tr>\n",
       "<tr>\n",
       "  <th>Covariance Type:</th>      <td>nonrobust</td>    <th>                     </th>     <td> </td>    \n",
       "</tr>\n",
       "</table>\n",
       "<table class=\"simpletable\">\n",
       "<tr>\n",
       "      <td></td>         <th>coef</th>     <th>std err</th>      <th>t</th>      <th>P>|t|</th>  <th>[0.025</th>    <th>0.975]</th>  \n",
       "</tr>\n",
       "<tr>\n",
       "  <th>Intercept</th> <td>   36.4595</td> <td>    5.103</td> <td>    7.144</td> <td> 0.000</td> <td>   26.432</td> <td>   46.487</td>\n",
       "</tr>\n",
       "<tr>\n",
       "  <th>CRIM</th>      <td>   -0.1080</td> <td>    0.033</td> <td>   -3.287</td> <td> 0.001</td> <td>   -0.173</td> <td>   -0.043</td>\n",
       "</tr>\n",
       "<tr>\n",
       "  <th>ZN</th>        <td>    0.0464</td> <td>    0.014</td> <td>    3.382</td> <td> 0.001</td> <td>    0.019</td> <td>    0.073</td>\n",
       "</tr>\n",
       "<tr>\n",
       "  <th>INDUS</th>     <td>    0.0206</td> <td>    0.061</td> <td>    0.334</td> <td> 0.738</td> <td>   -0.100</td> <td>    0.141</td>\n",
       "</tr>\n",
       "<tr>\n",
       "  <th>CHAS</th>      <td>    2.6867</td> <td>    0.862</td> <td>    3.118</td> <td> 0.002</td> <td>    0.994</td> <td>    4.380</td>\n",
       "</tr>\n",
       "<tr>\n",
       "  <th>NOX</th>       <td>  -17.7666</td> <td>    3.820</td> <td>   -4.651</td> <td> 0.000</td> <td>  -25.272</td> <td>  -10.262</td>\n",
       "</tr>\n",
       "<tr>\n",
       "  <th>RM</th>        <td>    3.8099</td> <td>    0.418</td> <td>    9.116</td> <td> 0.000</td> <td>    2.989</td> <td>    4.631</td>\n",
       "</tr>\n",
       "<tr>\n",
       "  <th>AGE</th>       <td>    0.0007</td> <td>    0.013</td> <td>    0.052</td> <td> 0.958</td> <td>   -0.025</td> <td>    0.027</td>\n",
       "</tr>\n",
       "<tr>\n",
       "  <th>DIS</th>       <td>   -1.4756</td> <td>    0.199</td> <td>   -7.398</td> <td> 0.000</td> <td>   -1.867</td> <td>   -1.084</td>\n",
       "</tr>\n",
       "<tr>\n",
       "  <th>RAD</th>       <td>    0.3060</td> <td>    0.066</td> <td>    4.613</td> <td> 0.000</td> <td>    0.176</td> <td>    0.436</td>\n",
       "</tr>\n",
       "<tr>\n",
       "  <th>TAX</th>       <td>   -0.0123</td> <td>    0.004</td> <td>   -3.280</td> <td> 0.001</td> <td>   -0.020</td> <td>   -0.005</td>\n",
       "</tr>\n",
       "<tr>\n",
       "  <th>PTRATIO</th>   <td>   -0.9527</td> <td>    0.131</td> <td>   -7.283</td> <td> 0.000</td> <td>   -1.210</td> <td>   -0.696</td>\n",
       "</tr>\n",
       "<tr>\n",
       "  <th>B</th>         <td>    0.0093</td> <td>    0.003</td> <td>    3.467</td> <td> 0.001</td> <td>    0.004</td> <td>    0.015</td>\n",
       "</tr>\n",
       "<tr>\n",
       "  <th>LSTAT</th>     <td>   -0.5248</td> <td>    0.051</td> <td>  -10.347</td> <td> 0.000</td> <td>   -0.624</td> <td>   -0.425</td>\n",
       "</tr>\n",
       "</table>\n",
       "<table class=\"simpletable\">\n",
       "<tr>\n",
       "  <th>Omnibus:</th>       <td>178.041</td> <th>  Durbin-Watson:     </th> <td>   1.078</td> \n",
       "</tr>\n",
       "<tr>\n",
       "  <th>Prob(Omnibus):</th> <td> 0.000</td>  <th>  Jarque-Bera (JB):  </th> <td> 783.126</td> \n",
       "</tr>\n",
       "<tr>\n",
       "  <th>Skew:</th>          <td> 1.521</td>  <th>  Prob(JB):          </th> <td>8.84e-171</td>\n",
       "</tr>\n",
       "<tr>\n",
       "  <th>Kurtosis:</th>      <td> 8.281</td>  <th>  Cond. No.          </th> <td>1.51e+04</td> \n",
       "</tr>\n",
       "</table><br/><br/>Notes:<br/>[1] Standard Errors assume that the covariance matrix of the errors is correctly specified.<br/>[2] The condition number is large, 1.51e+04. This might indicate that there are<br/>strong multicollinearity or other numerical problems."
      ],
      "text/plain": [
       "<class 'statsmodels.iolib.summary.Summary'>\n",
       "\"\"\"\n",
       "                            OLS Regression Results                            \n",
       "==============================================================================\n",
       "Dep. Variable:                      y   R-squared:                       0.741\n",
       "Model:                            OLS   Adj. R-squared:                  0.734\n",
       "Method:                 Least Squares   F-statistic:                     108.1\n",
       "Date:                Tue, 20 Jul 2021   Prob (F-statistic):          6.72e-135\n",
       "Time:                        17:58:02   Log-Likelihood:                -1498.8\n",
       "No. Observations:                 506   AIC:                             3026.\n",
       "Df Residuals:                     492   BIC:                             3085.\n",
       "Df Model:                          13                                         \n",
       "Covariance Type:            nonrobust                                         \n",
       "==============================================================================\n",
       "                 coef    std err          t      P>|t|      [0.025      0.975]\n",
       "------------------------------------------------------------------------------\n",
       "Intercept     36.4595      5.103      7.144      0.000      26.432      46.487\n",
       "CRIM          -0.1080      0.033     -3.287      0.001      -0.173      -0.043\n",
       "ZN             0.0464      0.014      3.382      0.001       0.019       0.073\n",
       "INDUS          0.0206      0.061      0.334      0.738      -0.100       0.141\n",
       "CHAS           2.6867      0.862      3.118      0.002       0.994       4.380\n",
       "NOX          -17.7666      3.820     -4.651      0.000     -25.272     -10.262\n",
       "RM             3.8099      0.418      9.116      0.000       2.989       4.631\n",
       "AGE            0.0007      0.013      0.052      0.958      -0.025       0.027\n",
       "DIS           -1.4756      0.199     -7.398      0.000      -1.867      -1.084\n",
       "RAD            0.3060      0.066      4.613      0.000       0.176       0.436\n",
       "TAX           -0.0123      0.004     -3.280      0.001      -0.020      -0.005\n",
       "PTRATIO       -0.9527      0.131     -7.283      0.000      -1.210      -0.696\n",
       "B              0.0093      0.003      3.467      0.001       0.004       0.015\n",
       "LSTAT         -0.5248      0.051    -10.347      0.000      -0.624      -0.425\n",
       "==============================================================================\n",
       "Omnibus:                      178.041   Durbin-Watson:                   1.078\n",
       "Prob(Omnibus):                  0.000   Jarque-Bera (JB):              783.126\n",
       "Skew:                           1.521   Prob(JB):                    8.84e-171\n",
       "Kurtosis:                       8.281   Cond. No.                     1.51e+04\n",
       "==============================================================================\n",
       "\n",
       "Notes:\n",
       "[1] Standard Errors assume that the covariance matrix of the errors is correctly specified.\n",
       "[2] The condition number is large, 1.51e+04. This might indicate that there are\n",
       "strong multicollinearity or other numerical problems.\n",
       "\"\"\""
      ]
     },
     "execution_count": 3,
     "metadata": {},
     "output_type": "execute_result"
    }
   ],
   "source": [
    "# Train a linear regression using statsmodels\n",
    "X = sm.add_constant(boston_data.data)\n",
    "X_df = pd.DataFrame(X, columns=[\"Intercept\"] + boston_data.feature_names.tolist())\n",
    "model = sm.OLS(boston_data.target, X_df)\n",
    "results = model.fit()\n",
    "results.summary()"
   ]
  },
  {
   "cell_type": "markdown",
   "metadata": {},
   "source": [
    "# Train a Fine-tuned Predictive ML Model"
   ]
  },
  {
   "cell_type": "markdown",
   "metadata": {},
   "source": [
    "Now we train a LightGBM regression model and use grid search to do model tuning."
   ]
  },
  {
   "cell_type": "code",
   "execution_count": 4,
   "metadata": {},
   "outputs": [],
   "source": [
    "# Split data into train and test\n",
    "from sklearn.model_selection import train_test_split\n",
    "\n",
    "x_train, x_test, y_train, y_test = train_test_split(\n",
    "    boston_data.data, boston_data.target, test_size=0.2, random_state=0\n",
    ")"
   ]
  },
  {
   "cell_type": "code",
   "execution_count": 5,
   "metadata": {},
   "outputs": [],
   "source": [
    "categorical = [\"CHAS\"]\n",
    "# Store the numerical columns in a list numerical\n",
    "numerical = list(set(boston_data.feature_names).difference(set(categorical)))"
   ]
  },
  {
   "cell_type": "code",
   "execution_count": 6,
   "metadata": {},
   "outputs": [],
   "source": [
    "# train a lightGBM regression model\n",
    "est = LGBMRegressor()\n",
    "param_grid = {\"learning_rate\": [0.1, 0.05, 0.01], \"max_depth\": [3, 5, 10]}\n",
    "search = GridSearchCV(est, param_grid, n_jobs=-1)"
   ]
  },
  {
   "cell_type": "code",
   "execution_count": 7,
   "metadata": {},
   "outputs": [
    {
     "name": "stdout",
     "output_type": "stream",
     "text": [
      "Best estimator:  {'learning_rate': 0.1, 'max_depth': 10}\n"
     ]
    }
   ],
   "source": [
    "search.fit(x_train, y_train)\n",
    "print(\"Best estimator: \", search.best_params_)"
   ]
  },
  {
   "cell_type": "code",
   "execution_count": 8,
   "metadata": {},
   "outputs": [
    {
     "name": "stdout",
     "output_type": "stream",
     "text": [
      "Test set score:  0.7025992540638362\n"
     ]
    }
   ],
   "source": [
    "print(\"Test set score: \", search.best_estimator_.score(x_test, y_test))"
   ]
  },
  {
   "cell_type": "markdown",
   "metadata": {},
   "source": [
    "# Correlation Interpretation\n",
    "### Feature Importance - Shap Value\n",
    "We explain this ML model by understanding the top important features to predict the housing price, internally using **shap value**."
   ]
  },
  {
   "cell_type": "code",
   "execution_count": 9,
   "metadata": {},
   "outputs": [],
   "source": [
    "fitted_model = search.best_estimator_"
   ]
  },
  {
   "cell_type": "code",
   "execution_count": 10,
   "metadata": {},
   "outputs": [],
   "source": [
    "import shap\n",
    "\n",
    "# use interventional approach\n",
    "background = shap.maskers.Independent(x_train, max_samples=1000)\n",
    "explainer = shap.TreeExplainer(\n",
    "    fitted_model, data=background, feature_names=boston_data.feature_names\n",
    ")\n",
    "shap_values = explainer(x_test)"
   ]
  },
  {
   "cell_type": "code",
   "execution_count": 11,
   "metadata": {},
   "outputs": [
    {
     "data": {
      "image/png": "[encoded data removed]",
      "text/plain": [
       "<Figure size 576x482.4 with 2 Axes>"
      ]
     },
     "metadata": {
      "needs_background": "light"
     },
     "output_type": "display_data"
    }
   ],
   "source": [
    "# plot the feature importance\n",
    "shap.summary_plot(shap_values, x_test)"
   ]
  },
  {
   "cell_type": "markdown",
   "metadata": {},
   "source": [
    "From the summary plot above, we could see the **most important features** sorted by their importance level. It tells us that neighborhoods with a smaller shares of low socioeconomic status residents, higher median number of rooms and less pupil-teacher ratio will have a higher housing price. It's also in line with what we learnt from Linear Regression above."
   ]
  },
  {
   "cell_type": "markdown",
   "metadata": {},
   "source": [
    "### Partial Dependence Plot -- Statistical relationship between share of Black residents and housing price"
   ]
  },
  {
   "cell_type": "code",
   "execution_count": 12,
   "metadata": {},
   "outputs": [
    {
     "data": {
      "image/png": "[encoded data removed]",
      "text/plain": [
       "<Figure size 432x288 with 4 Axes>"
      ]
     },
     "metadata": {
      "needs_background": "light"
     },
     "output_type": "display_data"
    }
   ],
   "source": [
    "shap.plots.partial_dependence(\n",
    "    \"B\",\n",
    "    fitted_model.predict,\n",
    "    pd.DataFrame(boston_data.data, columns=boston_data.feature_names),\n",
    "    ice=False,\n",
    "    model_expected_value=True,\n",
    "    feature_expected_value=True,\n",
    ")"
   ]
  },
  {
   "cell_type": "markdown",
   "metadata": {},
   "source": [
    "Taking share of Black residents as an example, here `B` is a function of Black population in town, the higher of `B`, the lower of Black population(%). From the coefficient of linear regression, the shap summary plot and also the partial dependence plot, we could get the same conclusion that there is a positive correlation between `B` and median housing price. In other word, housing price will decrease with the increasing of Black population(%). However, is that really **causal**? Let us validate that in the following section. \n",
    "\n",
    "Overall, all the insights above are coming from **corelation** perspective, telling us the positive or negative correlation between each predictor and the target. In order to correctly find the **casusal** relationship, we have to train a different model controlling on all the possible **hidden variables (confounders)** and learn the **direct causal effect** for a given feature. That's what the causal interpretation tool is doing. In the following section, we will explore the causal relationship in different ways."
   ]
  },
  {
   "cell_type": "markdown",
   "metadata": {},
   "source": [
    "# Causal Interpretation\n",
    "### Direct Causal Effect --  Do the top predictors also have a direct effect on outcome of interest?"
   ]
  },
  {
   "cell_type": "code",
   "execution_count": 13,
   "metadata": {},
   "outputs": [],
   "source": [
    "classification = False\n",
    "# order feature names according to shap values\n",
    "vals = np.abs(shap_values.values).mean(0)\n",
    "feature_importance = pd.DataFrame(\n",
    "    list(zip(shap_values.feature_names, vals)), columns=[\"features\", \"importance\"]\n",
    ")\n",
    "feature_importance.sort_values(by=[\"importance\"], ascending=False, inplace=True)\n",
    "top_features = feature_importance[\"features\"]"
   ]
  },
  {
   "cell_type": "code",
   "execution_count": 14,
   "metadata": {
    "scrolled": true
   },
   "outputs": [
    {
     "name": "stderr",
     "output_type": "stream",
     "text": [
      "A worker stopped while some jobs were given to the executor. This can be caused by a too short worker timeout or by a memory leak.\n"
     ]
    },
    {
     "data": {
      "text/plain": [
       "<econml.solutions.causal_analysis._causal_analysis.CausalAnalysis at 0x1e51e5205c8>"
      ]
     },
     "execution_count": 14,
     "metadata": {},
     "output_type": "execute_result"
    }
   ],
   "source": [
    "from econml.solutions.causal_analysis import CausalAnalysis\n",
    "\n",
    "ca = CausalAnalysis(\n",
    "    top_features,\n",
    "    categorical,\n",
    "    heterogeneity_inds=None,\n",
    "    classification=classification,\n",
    "    nuisance_models=\"automl\",\n",
    "    heterogeneity_model=\"linear\",\n",
    "    n_jobs=-1,\n",
    "    random_state=123,\n",
    ")\n",
    "ca.fit(pd.DataFrame(x_train, columns=boston_data.feature_names), y_train)"
   ]
  },
  {
   "cell_type": "code",
   "execution_count": 15,
   "metadata": {},
   "outputs": [
    {
     "data": {
      "text/html": [
       "<div>\n",
       "<style scoped>\n",
       "    .dataframe tbody tr th:only-of-type {\n",
       "        vertical-align: middle;\n",
       "    }\n",
       "\n",
       "    .dataframe tbody tr th {\n",
       "        vertical-align: top;\n",
       "    }\n",
       "\n",
       "    .dataframe thead th {\n",
       "        text-align: right;\n",
       "    }\n",
       "</style>\n",
       "<table border=\"1\" class=\"dataframe\">\n",
       "  <thead>\n",
       "    <tr style=\"text-align: right;\">\n",
       "      <th></th>\n",
       "      <th></th>\n",
       "      <th>point</th>\n",
       "      <th>stderr</th>\n",
       "      <th>zstat</th>\n",
       "      <th>p_value</th>\n",
       "      <th>ci_lower</th>\n",
       "      <th>ci_upper</th>\n",
       "    </tr>\n",
       "    <tr>\n",
       "      <th>feature</th>\n",
       "      <th>feature_value</th>\n",
       "      <th></th>\n",
       "      <th></th>\n",
       "      <th></th>\n",
       "      <th></th>\n",
       "      <th></th>\n",
       "      <th></th>\n",
       "    </tr>\n",
       "  </thead>\n",
       "  <tbody>\n",
       "    <tr>\n",
       "      <th>RM</th>\n",
       "      <th>num</th>\n",
       "      <td>4.495641</td>\n",
       "      <td>0.399317</td>\n",
       "      <td>11.258321</td>\n",
       "      <td>2.107348e-29</td>\n",
       "      <td>3.712994</td>\n",
       "      <td>5.278288</td>\n",
       "    </tr>\n",
       "    <tr>\n",
       "      <th>LSTAT</th>\n",
       "      <th>num</th>\n",
       "      <td>-0.450849</td>\n",
       "      <td>0.083196</td>\n",
       "      <td>-5.419148</td>\n",
       "      <td>5.988376e-08</td>\n",
       "      <td>-0.613909</td>\n",
       "      <td>-0.287789</td>\n",
       "    </tr>\n",
       "    <tr>\n",
       "      <th>PTRATIO</th>\n",
       "      <th>num</th>\n",
       "      <td>-1.834813</td>\n",
       "      <td>0.441934</td>\n",
       "      <td>-4.151783</td>\n",
       "      <td>3.298943e-05</td>\n",
       "      <td>-2.700987</td>\n",
       "      <td>-0.968639</td>\n",
       "    </tr>\n",
       "    <tr>\n",
       "      <th>CHAS</th>\n",
       "      <th>1.0v0.0</th>\n",
       "      <td>5.555234</td>\n",
       "      <td>1.465717</td>\n",
       "      <td>3.790114</td>\n",
       "      <td>1.505781e-04</td>\n",
       "      <td>2.682482</td>\n",
       "      <td>8.427986</td>\n",
       "    </tr>\n",
       "    <tr>\n",
       "      <th>CRIM</th>\n",
       "      <th>num</th>\n",
       "      <td>-0.879386</td>\n",
       "      <td>0.325632</td>\n",
       "      <td>-2.700552</td>\n",
       "      <td>6.922443e-03</td>\n",
       "      <td>-1.517613</td>\n",
       "      <td>-0.241159</td>\n",
       "    </tr>\n",
       "    <tr>\n",
       "      <th>INDUS</th>\n",
       "      <th>num</th>\n",
       "      <td>-0.456560</td>\n",
       "      <td>0.213477</td>\n",
       "      <td>-2.138692</td>\n",
       "      <td>3.246064e-02</td>\n",
       "      <td>-0.874967</td>\n",
       "      <td>-0.038154</td>\n",
       "    </tr>\n",
       "    <tr>\n",
       "      <th>AGE</th>\n",
       "      <th>num</th>\n",
       "      <td>-0.028304</td>\n",
       "      <td>0.020342</td>\n",
       "      <td>-1.391440</td>\n",
       "      <td>1.640919e-01</td>\n",
       "      <td>-0.068173</td>\n",
       "      <td>0.011565</td>\n",
       "    </tr>\n",
       "    <tr>\n",
       "      <th>NOX</th>\n",
       "      <th>num</th>\n",
       "      <td>-8.422913</td>\n",
       "      <td>6.143376</td>\n",
       "      <td>-1.371056</td>\n",
       "      <td>1.703575e-01</td>\n",
       "      <td>-20.463710</td>\n",
       "      <td>3.617883</td>\n",
       "    </tr>\n",
       "    <tr>\n",
       "      <th>B</th>\n",
       "      <th>num</th>\n",
       "      <td>-0.005655</td>\n",
       "      <td>0.005880</td>\n",
       "      <td>-0.961728</td>\n",
       "      <td>3.361862e-01</td>\n",
       "      <td>-0.017180</td>\n",
       "      <td>0.005870</td>\n",
       "    </tr>\n",
       "    <tr>\n",
       "      <th>DIS</th>\n",
       "      <th>num</th>\n",
       "      <td>-0.423034</td>\n",
       "      <td>0.447826</td>\n",
       "      <td>-0.944641</td>\n",
       "      <td>3.448421e-01</td>\n",
       "      <td>-1.300756</td>\n",
       "      <td>0.454687</td>\n",
       "    </tr>\n",
       "    <tr>\n",
       "      <th>TAX</th>\n",
       "      <th>num</th>\n",
       "      <td>-0.006852</td>\n",
       "      <td>0.010871</td>\n",
       "      <td>-0.630305</td>\n",
       "      <td>5.284951e-01</td>\n",
       "      <td>-0.028158</td>\n",
       "      <td>0.014454</td>\n",
       "    </tr>\n",
       "    <tr>\n",
       "      <th>ZN</th>\n",
       "      <th>num</th>\n",
       "      <td>0.033844</td>\n",
       "      <td>0.126967</td>\n",
       "      <td>0.266559</td>\n",
       "      <td>7.898088e-01</td>\n",
       "      <td>-0.215007</td>\n",
       "      <td>0.282695</td>\n",
       "    </tr>\n",
       "    <tr>\n",
       "      <th>RAD</th>\n",
       "      <th>num</th>\n",
       "      <td>-0.030788</td>\n",
       "      <td>0.208264</td>\n",
       "      <td>-0.147831</td>\n",
       "      <td>8.824764e-01</td>\n",
       "      <td>-0.438978</td>\n",
       "      <td>0.377402</td>\n",
       "    </tr>\n",
       "  </tbody>\n",
       "</table>\n",
       "</div>"
      ],
      "text/plain": [
       "                          point    stderr      zstat       p_value   ci_lower  \\\n",
       "feature feature_value                                                           \n",
       "RM      num            4.495641  0.399317  11.258321  2.107348e-29   3.712994   \n",
       "LSTAT   num           -0.450849  0.083196  -5.419148  5.988376e-08  -0.613909   \n",
       "PTRATIO num           -1.834813  0.441934  -4.151783  3.298943e-05  -2.700987   \n",
       "CHAS    1.0v0.0        5.555234  1.465717   3.790114  1.505781e-04   2.682482   \n",
       "CRIM    num           -0.879386  0.325632  -2.700552  6.922443e-03  -1.517613   \n",
       "INDUS   num           -0.456560  0.213477  -2.138692  3.246064e-02  -0.874967   \n",
       "AGE     num           -0.028304  0.020342  -1.391440  1.640919e-01  -0.068173   \n",
       "NOX     num           -8.422913  6.143376  -1.371056  1.703575e-01 -20.463710   \n",
       "B       num           -0.005655  0.005880  -0.961728  3.361862e-01  -0.017180   \n",
       "DIS     num           -0.423034  0.447826  -0.944641  3.448421e-01  -1.300756   \n",
       "TAX     num           -0.006852  0.010871  -0.630305  5.284951e-01  -0.028158   \n",
       "ZN      num            0.033844  0.126967   0.266559  7.898088e-01  -0.215007   \n",
       "RAD     num           -0.030788  0.208264  -0.147831  8.824764e-01  -0.438978   \n",
       "\n",
       "                       ci_upper  \n",
       "feature feature_value            \n",
       "RM      num            5.278288  \n",
       "LSTAT   num           -0.287789  \n",
       "PTRATIO num           -0.968639  \n",
       "CHAS    1.0v0.0        8.427986  \n",
       "CRIM    num           -0.241159  \n",
       "INDUS   num           -0.038154  \n",
       "AGE     num            0.011565  \n",
       "NOX     num            3.617883  \n",
       "B       num            0.005870  \n",
       "DIS     num            0.454687  \n",
       "TAX     num            0.014454  \n",
       "ZN      num            0.282695  \n",
       "RAD     num            0.377402  "
      ]
     },
     "execution_count": 15,
     "metadata": {},
     "output_type": "execute_result"
    }
   ],
   "source": [
    "# get global causal effect ordered by causal importance (pvalue)\n",
    "global_summ = ca.global_causal_effect(alpha=0.05)\n",
    "global_summ.sort_values(by=\"p_value\")"
   ]
  },
  {
   "cell_type": "code",
   "execution_count": 16,
   "metadata": {},
   "outputs": [],
   "source": [
    "# helper function to plot error bar\n",
    "def errorbar(res):\n",
    "    xticks = res.index.get_level_values(0)\n",
    "    lowererr = res[\"point\"] - res[\"ci_lower\"]\n",
    "    uppererr = res[\"ci_upper\"] - res[\"point\"]\n",
    "    xticks = [\n",
    "        \"{}***\".format(t)\n",
    "        if p < 1e-6\n",
    "        else (\"{}**\".format(t) if p < 1e-3 else (\"{}*\".format(t) if p < 1e-2 else t))\n",
    "        for t, p in zip(xticks, res[\"p_value\"])\n",
    "    ]\n",
    "    plot_title = \"Direct Causal Effect of Each Feature with 95% Confidence Interval, \"\n",
    "    plt.figure(figsize=(15, 5))\n",
    "    plt.errorbar(\n",
    "        np.arange(len(xticks)),\n",
    "        res[\"point\"],\n",
    "        yerr=[lowererr, uppererr],\n",
    "        fmt=\"o\",\n",
    "        capsize=5,\n",
    "        capthick=1,\n",
    "        barsabove=True,\n",
    "    )\n",
    "    plt.xticks(np.arange(len(xticks)), xticks, rotation=45)\n",
    "    plt.title(plot_title)\n",
    "    plt.axhline(0, color=\"r\", linestyle=\"--\", alpha=0.5)\n",
    "    plt.ylabel(\"Average Treatment Effect\")"
   ]
  },
  {
   "cell_type": "code",
   "execution_count": 17,
   "metadata": {},
   "outputs": [
    {
     "data": {
      "image/png": "[encoded data removed]",
      "text/plain": [
       "<Figure size 1080x360 with 1 Axes>"
      ]
     },
     "metadata": {
      "needs_background": "light"
     },
     "output_type": "display_data"
    }
   ],
   "source": [
    "errorbar(global_summ)"
   ]
  },
  {
   "cell_type": "markdown",
   "metadata": {},
   "source": [
    "We learn the **Average Treatment Effect (ATE)** for each feature, assuming they are the treatment. The error bar above is ordered by **feature importance**, and the summary table above is ordered by **causal significance (p-value)**. You could see they are not exact in the same order. Some top features such as percentage of lower status population (`LSTAT`) and number of rooms (`RM`), they are the strongest predictors and also have a direct causal effect on housing price, but others like pupil-teacher ratio (`PTRATIO`) and nitric oxides concentration (`NOX`) they don't really have significant causal effect on housing price. Also on the other side features like whether in Charles River Area (`CHAS`), it doesn't have strong prediction power comparing with others features, but it has a direct causal effect. \n",
    "\n",
    "Following on the findings we learnt for share of Black residents (`B`), we could see it also gives us insignificant causal effect on housing price, which means race by itself has no direct causal effect on home prices. By learning the correlation between `B` and other features, we could see it's highly correlated with crime rate(`CRIM`) and percentage of lower status population (`LSTAT`), which do have strong causal effects. This pattern of correlations make `B` as a strong predictor but not a direct driver. Using the causal analysis tool has helped us **avoid reaching a controversial and incorrect conclusion**. \n",
    "\n",
    "To sum up, EconML could give us some extra insights from **causal relationship** perspective."
   ]
  },
  {
   "cell_type": "markdown",
   "metadata": {},
   "source": [
    "### Segmentation -- How different type of houses respond differently to number of rooms?\n",
    "From the analysis above, we learnt the direct treatment effect of each feature from an overall average level. However, different regions might respond differently on housing price for each potential driver. In the following section, we are going to use number of rooms (`RM`) as an example to learn how different type of houses respond differently to number of rooms? "
   ]
  },
  {
   "cell_type": "code",
   "execution_count": 18,
   "metadata": {},
   "outputs": [
    {
     "data": {
      "image/png": "[encoded data removed]",
      "text/plain": [
       "<Figure size 864x576 with 1 Axes>"
      ]
     },
     "metadata": {
      "needs_background": "light"
     },
     "output_type": "display_data"
    }
   ],
   "source": [
    "plt.figure(figsize=(12, 8))\n",
    "ca.plot_heterogeneity_tree(\n",
    "    pd.DataFrame(x_test, columns=boston_data.feature_names),\n",
    "    \"RM\",\n",
    "    max_depth=2,\n",
    "    min_impurity_decrease=1e-6,\n",
    ")"
   ]
  },
  {
   "cell_type": "markdown",
   "metadata": {},
   "source": [
    "From the global level, we know that the ATE of `RM` is 4.5, which means in average adding one more room will raise the housing price by 4.5 unit. In the shallow tree above, we could see although overall `RM` has a significant positive effect on housing price, but housing price will be more expensive for one more room in regions with lower pupil-teather rate, and the effect will be insignificant in the regions with higher pupil-teather rate and lower retail business rate. "
   ]
  },
  {
   "cell_type": "markdown",
   "metadata": {},
   "source": [
    "### Policy Analysis -- What is the best policy considering cost?\n",
    "To take a step further, we'd like to know the sub-population where the treatment effect will still be positive after taking cost into consideration. Assuming the average cost of adding one more room is 4 units, let us see what kind of houses their housing price will increase more than their cost.  "
   ]
  },
  {
   "cell_type": "code",
   "execution_count": 19,
   "metadata": {},
   "outputs": [
    {
     "data": {
      "image/png": "[encoded data removed]",
      "text/plain": [
       "<Figure size 864x576 with 1 Axes>"
      ]
     },
     "metadata": {
      "needs_background": "light"
     },
     "output_type": "display_data"
    }
   ],
   "source": [
    "plt.figure(figsize=(12, 8))\n",
    "ca.plot_policy_tree(\n",
    "    pd.DataFrame(x_test, columns=boston_data.feature_names),\n",
    "    \"RM\",\n",
    "    treatment_costs=4,\n",
    "    max_depth=2,\n",
    ")"
   ]
  },
  {
   "cell_type": "markdown",
   "metadata": {},
   "source": [
    "You could see if we follow the recommended policy above, in average, the housing price will increase by 2 more units comparing with no more room added. Similarly, it will increase by around 1.4 units comparing with adding one more room for every house. To be more detailed, we could also output the individualized policy. In the following table, I will only print the top five houses ordered by policy gains."
   ]
  },
  {
   "cell_type": "code",
   "execution_count": 20,
   "metadata": {},
   "outputs": [
    {
     "data": {
      "text/html": [
       "<div>\n",
       "<style scoped>\n",
       "    .dataframe tbody tr th:only-of-type {\n",
       "        vertical-align: middle;\n",
       "    }\n",
       "\n",
       "    .dataframe tbody tr th {\n",
       "        vertical-align: top;\n",
       "    }\n",
       "\n",
       "    .dataframe thead th {\n",
       "        text-align: right;\n",
       "    }\n",
       "</style>\n",
       "<table border=\"1\" class=\"dataframe\">\n",
       "  <thead>\n",
       "    <tr style=\"text-align: right;\">\n",
       "      <th></th>\n",
       "      <th>Treatment</th>\n",
       "      <th>Effect of treatment</th>\n",
       "      <th>Effect of treatment lower bound</th>\n",
       "      <th>Effect of treatment upper bound</th>\n",
       "      <th>CRIM</th>\n",
       "      <th>ZN</th>\n",
       "      <th>INDUS</th>\n",
       "      <th>CHAS</th>\n",
       "      <th>NOX</th>\n",
       "      <th>Current treatment</th>\n",
       "      <th>AGE</th>\n",
       "      <th>DIS</th>\n",
       "      <th>RAD</th>\n",
       "      <th>TAX</th>\n",
       "      <th>PTRATIO</th>\n",
       "      <th>B</th>\n",
       "      <th>LSTAT</th>\n",
       "    </tr>\n",
       "  </thead>\n",
       "  <tbody>\n",
       "    <tr>\n",
       "      <th>35</th>\n",
       "      <td>decrease</td>\n",
       "      <td>5.193029</td>\n",
       "      <td>4.105445</td>\n",
       "      <td>6.280613</td>\n",
       "      <td>4.22239</td>\n",
       "      <td>0.0</td>\n",
       "      <td>18.10</td>\n",
       "      <td>1.0</td>\n",
       "      <td>0.770</td>\n",
       "      <td>5.803</td>\n",
       "      <td>89.0</td>\n",
       "      <td>1.9047</td>\n",
       "      <td>24.0</td>\n",
       "      <td>666.0</td>\n",
       "      <td>20.2</td>\n",
       "      <td>353.04</td>\n",
       "      <td>14.64</td>\n",
       "    </tr>\n",
       "    <tr>\n",
       "      <th>37</th>\n",
       "      <td>decrease</td>\n",
       "      <td>4.971283</td>\n",
       "      <td>3.978139</td>\n",
       "      <td>5.964427</td>\n",
       "      <td>8.26725</td>\n",
       "      <td>0.0</td>\n",
       "      <td>18.10</td>\n",
       "      <td>1.0</td>\n",
       "      <td>0.668</td>\n",
       "      <td>5.875</td>\n",
       "      <td>89.6</td>\n",
       "      <td>1.1296</td>\n",
       "      <td>24.0</td>\n",
       "      <td>666.0</td>\n",
       "      <td>20.2</td>\n",
       "      <td>347.88</td>\n",
       "      <td>8.88</td>\n",
       "    </tr>\n",
       "    <tr>\n",
       "      <th>17</th>\n",
       "      <td>increase</td>\n",
       "      <td>4.903631</td>\n",
       "      <td>3.106725</td>\n",
       "      <td>6.700537</td>\n",
       "      <td>0.04011</td>\n",
       "      <td>80.0</td>\n",
       "      <td>1.52</td>\n",
       "      <td>0.0</td>\n",
       "      <td>0.404</td>\n",
       "      <td>7.287</td>\n",
       "      <td>34.1</td>\n",
       "      <td>7.3090</td>\n",
       "      <td>2.0</td>\n",
       "      <td>329.0</td>\n",
       "      <td>12.6</td>\n",
       "      <td>396.90</td>\n",
       "      <td>4.08</td>\n",
       "    </tr>\n",
       "    <tr>\n",
       "      <th>12</th>\n",
       "      <td>decrease</td>\n",
       "      <td>4.829410</td>\n",
       "      <td>4.165281</td>\n",
       "      <td>5.493539</td>\n",
       "      <td>6.28807</td>\n",
       "      <td>0.0</td>\n",
       "      <td>18.10</td>\n",
       "      <td>0.0</td>\n",
       "      <td>0.740</td>\n",
       "      <td>6.341</td>\n",
       "      <td>96.4</td>\n",
       "      <td>2.0720</td>\n",
       "      <td>24.0</td>\n",
       "      <td>666.0</td>\n",
       "      <td>20.2</td>\n",
       "      <td>318.01</td>\n",
       "      <td>17.79</td>\n",
       "    </tr>\n",
       "    <tr>\n",
       "      <th>91</th>\n",
       "      <td>decrease</td>\n",
       "      <td>4.728159</td>\n",
       "      <td>3.751451</td>\n",
       "      <td>5.704868</td>\n",
       "      <td>11.16040</td>\n",
       "      <td>0.0</td>\n",
       "      <td>18.10</td>\n",
       "      <td>0.0</td>\n",
       "      <td>0.740</td>\n",
       "      <td>6.629</td>\n",
       "      <td>94.6</td>\n",
       "      <td>2.1247</td>\n",
       "      <td>24.0</td>\n",
       "      <td>666.0</td>\n",
       "      <td>20.2</td>\n",
       "      <td>109.85</td>\n",
       "      <td>23.27</td>\n",
       "    </tr>\n",
       "  </tbody>\n",
       "</table>\n",
       "</div>"
      ],
      "text/plain": [
       "   Treatment  Effect of treatment  Effect of treatment lower bound  \\\n",
       "35  decrease             5.193029                         4.105445   \n",
       "37  decrease             4.971283                         3.978139   \n",
       "17  increase             4.903631                         3.106725   \n",
       "12  decrease             4.829410                         4.165281   \n",
       "91  decrease             4.728159                         3.751451   \n",
       "\n",
       "    Effect of treatment upper bound      CRIM    ZN  INDUS  CHAS    NOX  \\\n",
       "35                         6.280613   4.22239   0.0  18.10   1.0  0.770   \n",
       "37                         5.964427   8.26725   0.0  18.10   1.0  0.668   \n",
       "17                         6.700537   0.04011  80.0   1.52   0.0  0.404   \n",
       "12                         5.493539   6.28807   0.0  18.10   0.0  0.740   \n",
       "91                         5.704868  11.16040   0.0  18.10   0.0  0.740   \n",
       "\n",
       "    Current treatment   AGE     DIS   RAD    TAX  PTRATIO       B  LSTAT  \n",
       "35              5.803  89.0  1.9047  24.0  666.0     20.2  353.04  14.64  \n",
       "37              5.875  89.6  1.1296  24.0  666.0     20.2  347.88   8.88  \n",
       "17              7.287  34.1  7.3090   2.0  329.0     12.6  396.90   4.08  \n",
       "12              6.341  96.4  2.0720  24.0  666.0     20.2  318.01  17.79  \n",
       "91              6.629  94.6  2.1247  24.0  666.0     20.2  109.85  23.27  "
      ]
     },
     "execution_count": 20,
     "metadata": {},
     "output_type": "execute_result"
    }
   ],
   "source": [
    "ca.individualized_policy(\n",
    "    pd.DataFrame(x_test, columns=boston_data.feature_names),\n",
    "    \"RM\",\n",
    "    n_rows=5,\n",
    "    treatment_costs=4,\n",
    "    alpha=0.1,\n",
    ")"
   ]
  },
  {
   "cell_type": "markdown",
   "metadata": {},
   "source": [
    "Note that here the `effect of treatment` is the treatment effect of increasing or decreasing 10% of average treatment level minus the cost, and `decrease` or `increase` mean in which direction we will get positive policy gain."
   ]
  },
  {
   "cell_type": "markdown",
   "metadata": {},
   "source": [
    "### What If Analysis - How the overall housing price changes with one more room?\n",
    "The causal analysis tool could also answer **what if** types of questions. For a given treatment, we'd also like to know the **counterfactuals** if we intervene it in a different way. In the example below, we will learn how the overall housing price changes with one more room?"
   ]
  },
  {
   "cell_type": "code",
   "execution_count": 21,
   "metadata": {},
   "outputs": [
    {
     "name": "stdout",
     "output_type": "stream",
     "text": [
      "Current average housing price on test set:  22.21960784313725\n",
      "Average housing price with one more room on test set:  26.916421568627456\n"
     ]
    }
   ],
   "source": [
    "cf = ca.whatif(x_test, x_test[:, 5] + 1, 5, y_test)\n",
    "print(\"Current average housing price on test set: \", y_test.mean())\n",
    "print(\n",
    "    \"Average housing price with one more room on test set: \",\n",
    "    cf[\"point_estimate\"].mean(),\n",
    ")"
   ]
  },
  {
   "cell_type": "code",
   "execution_count": 22,
   "metadata": {},
   "outputs": [
    {
     "data": {
      "text/plain": [
       "Text(0.5, 1.0, 'Histogram of Housing price -- Current vs. One more room')"
      ]
     },
     "execution_count": 22,
     "metadata": {},
     "output_type": "execute_result"
    },
    {
     "data": {
      "image/png": "[encoded data removed]",
      "text/plain": [
       "<Figure size 432x288 with 1 Axes>"
      ]
     },
     "metadata": {
      "needs_background": "light"
     },
     "output_type": "display_data"
    }
   ],
   "source": [
    "# distribution comparison\n",
    "plt.hist(cf.point_estimate, label=\"With one more room\", alpha=0.7)\n",
    "plt.hist(y_test, label=\"Current\", alpha=0.7)\n",
    "plt.legend()\n",
    "plt.xlabel(\"Housing Price\")\n",
    "plt.title(\"Histogram of Housing price -- Current vs. One more room\")"
   ]
  },
  {
   "cell_type": "markdown",
   "metadata": {},
   "source": [
    "From the summary table we could see overall if we add one more room in the test set, the housing price will increase by 4+ units, which is in line with the ATE we learnt above. And the histrogram shows a comparison between the current housing price distribution and the counterfactuals ditribution if we add one more room."
   ]
  },
  {
   "cell_type": "markdown",
   "metadata": {},
   "source": [
    "### Cohort Analysis -- What is the causal effect on a new dataset?\n",
    "Causal analysis class could also help us to learn the global and local causal effect of a new dataset given the model trained with training set. From the two tables below, you could see the global effect on test set is similar with training set, and the local effect gives you the heterogeneous treatment effect for each observation."
   ]
  },
  {
   "cell_type": "code",
   "execution_count": 23,
   "metadata": {},
   "outputs": [
    {
     "data": {
      "text/html": [
       "<div>\n",
       "<style scoped>\n",
       "    .dataframe tbody tr th:only-of-type {\n",
       "        vertical-align: middle;\n",
       "    }\n",
       "\n",
       "    .dataframe tbody tr th {\n",
       "        vertical-align: top;\n",
       "    }\n",
       "\n",
       "    .dataframe thead th {\n",
       "        text-align: right;\n",
       "    }\n",
       "</style>\n",
       "<table border=\"1\" class=\"dataframe\">\n",
       "  <thead>\n",
       "    <tr style=\"text-align: right;\">\n",
       "      <th></th>\n",
       "      <th></th>\n",
       "      <th>point</th>\n",
       "      <th>stderr</th>\n",
       "      <th>zstat</th>\n",
       "      <th>p_value</th>\n",
       "      <th>ci_lower</th>\n",
       "      <th>ci_upper</th>\n",
       "    </tr>\n",
       "    <tr>\n",
       "      <th>feature</th>\n",
       "      <th>feature_value</th>\n",
       "      <th></th>\n",
       "      <th></th>\n",
       "      <th></th>\n",
       "      <th></th>\n",
       "      <th></th>\n",
       "      <th></th>\n",
       "    </tr>\n",
       "  </thead>\n",
       "  <tbody>\n",
       "    <tr>\n",
       "      <th>LSTAT</th>\n",
       "      <th>num</th>\n",
       "      <td>-0.403059</td>\n",
       "      <td>0.078745</td>\n",
       "      <td>-5.118549</td>\n",
       "      <td>3.078958e-07</td>\n",
       "      <td>-0.532583</td>\n",
       "      <td>-0.273536</td>\n",
       "    </tr>\n",
       "    <tr>\n",
       "      <th>RM</th>\n",
       "      <th>num</th>\n",
       "      <td>4.696792</td>\n",
       "      <td>0.480445</td>\n",
       "      <td>9.775918</td>\n",
       "      <td>1.428563e-22</td>\n",
       "      <td>3.906530</td>\n",
       "      <td>5.487054</td>\n",
       "    </tr>\n",
       "    <tr>\n",
       "      <th>PTRATIO</th>\n",
       "      <th>num</th>\n",
       "      <td>-2.064864</td>\n",
       "      <td>0.546016</td>\n",
       "      <td>-3.781692</td>\n",
       "      <td>1.557659e-04</td>\n",
       "      <td>-2.962980</td>\n",
       "      <td>-1.166748</td>\n",
       "    </tr>\n",
       "    <tr>\n",
       "      <th>NOX</th>\n",
       "      <th>num</th>\n",
       "      <td>-5.111412</td>\n",
       "      <td>6.638709</td>\n",
       "      <td>-0.769941</td>\n",
       "      <td>4.413351e-01</td>\n",
       "      <td>-16.031116</td>\n",
       "      <td>5.808292</td>\n",
       "    </tr>\n",
       "    <tr>\n",
       "      <th>AGE</th>\n",
       "      <th>num</th>\n",
       "      <td>-0.019404</td>\n",
       "      <td>0.018952</td>\n",
       "      <td>-1.023836</td>\n",
       "      <td>3.059127e-01</td>\n",
       "      <td>-0.050577</td>\n",
       "      <td>0.011770</td>\n",
       "    </tr>\n",
       "    <tr>\n",
       "      <th>CRIM</th>\n",
       "      <th>num</th>\n",
       "      <td>-0.751323</td>\n",
       "      <td>0.311513</td>\n",
       "      <td>-2.411851</td>\n",
       "      <td>1.587175e-02</td>\n",
       "      <td>-1.263716</td>\n",
       "      <td>-0.238930</td>\n",
       "    </tr>\n",
       "    <tr>\n",
       "      <th>DIS</th>\n",
       "      <th>num</th>\n",
       "      <td>-0.417847</td>\n",
       "      <td>0.438805</td>\n",
       "      <td>-0.952238</td>\n",
       "      <td>3.409765e-01</td>\n",
       "      <td>-1.139617</td>\n",
       "      <td>0.303923</td>\n",
       "    </tr>\n",
       "    <tr>\n",
       "      <th>B</th>\n",
       "      <th>num</th>\n",
       "      <td>0.000873</td>\n",
       "      <td>0.005519</td>\n",
       "      <td>0.158228</td>\n",
       "      <td>8.742774e-01</td>\n",
       "      <td>-0.008205</td>\n",
       "      <td>0.009952</td>\n",
       "    </tr>\n",
       "    <tr>\n",
       "      <th>INDUS</th>\n",
       "      <th>num</th>\n",
       "      <td>-0.546875</td>\n",
       "      <td>0.307997</td>\n",
       "      <td>-1.775585</td>\n",
       "      <td>7.580141e-02</td>\n",
       "      <td>-1.053485</td>\n",
       "      <td>-0.040265</td>\n",
       "    </tr>\n",
       "    <tr>\n",
       "      <th>TAX</th>\n",
       "      <th>num</th>\n",
       "      <td>0.001219</td>\n",
       "      <td>0.013246</td>\n",
       "      <td>0.092007</td>\n",
       "      <td>9.266925e-01</td>\n",
       "      <td>-0.020569</td>\n",
       "      <td>0.023007</td>\n",
       "    </tr>\n",
       "    <tr>\n",
       "      <th>RAD</th>\n",
       "      <th>num</th>\n",
       "      <td>-0.153249</td>\n",
       "      <td>0.258233</td>\n",
       "      <td>-0.593453</td>\n",
       "      <td>5.528784e-01</td>\n",
       "      <td>-0.578006</td>\n",
       "      <td>0.271507</td>\n",
       "    </tr>\n",
       "    <tr>\n",
       "      <th>ZN</th>\n",
       "      <th>num</th>\n",
       "      <td>0.088138</td>\n",
       "      <td>0.158770</td>\n",
       "      <td>0.555134</td>\n",
       "      <td>5.788031e-01</td>\n",
       "      <td>-0.173014</td>\n",
       "      <td>0.349291</td>\n",
       "    </tr>\n",
       "    <tr>\n",
       "      <th>CHAS</th>\n",
       "      <th>1.0v0.0</th>\n",
       "      <td>8.194594</td>\n",
       "      <td>2.086254</td>\n",
       "      <td>3.927899</td>\n",
       "      <td>8.569134e-05</td>\n",
       "      <td>4.763012</td>\n",
       "      <td>11.626177</td>\n",
       "    </tr>\n",
       "  </tbody>\n",
       "</table>\n",
       "</div>"
      ],
      "text/plain": [
       "                          point    stderr     zstat       p_value   ci_lower  \\\n",
       "feature feature_value                                                          \n",
       "LSTAT   num           -0.403059  0.078745 -5.118549  3.078958e-07  -0.532583   \n",
       "RM      num            4.696792  0.480445  9.775918  1.428563e-22   3.906530   \n",
       "PTRATIO num           -2.064864  0.546016 -3.781692  1.557659e-04  -2.962980   \n",
       "NOX     num           -5.111412  6.638709 -0.769941  4.413351e-01 -16.031116   \n",
       "AGE     num           -0.019404  0.018952 -1.023836  3.059127e-01  -0.050577   \n",
       "CRIM    num           -0.751323  0.311513 -2.411851  1.587175e-02  -1.263716   \n",
       "DIS     num           -0.417847  0.438805 -0.952238  3.409765e-01  -1.139617   \n",
       "B       num            0.000873  0.005519  0.158228  8.742774e-01  -0.008205   \n",
       "INDUS   num           -0.546875  0.307997 -1.775585  7.580141e-02  -1.053485   \n",
       "TAX     num            0.001219  0.013246  0.092007  9.266925e-01  -0.020569   \n",
       "RAD     num           -0.153249  0.258233 -0.593453  5.528784e-01  -0.578006   \n",
       "ZN      num            0.088138  0.158770  0.555134  5.788031e-01  -0.173014   \n",
       "CHAS    1.0v0.0        8.194594  2.086254  3.927899  8.569134e-05   4.763012   \n",
       "\n",
       "                        ci_upper  \n",
       "feature feature_value             \n",
       "LSTAT   num            -0.273536  \n",
       "RM      num             5.487054  \n",
       "PTRATIO num            -1.166748  \n",
       "NOX     num             5.808292  \n",
       "AGE     num             0.011770  \n",
       "CRIM    num            -0.238930  \n",
       "DIS     num             0.303923  \n",
       "B       num             0.009952  \n",
       "INDUS   num            -0.040265  \n",
       "TAX     num             0.023007  \n",
       "RAD     num             0.271507  \n",
       "ZN      num             0.349291  \n",
       "CHAS    1.0v0.0        11.626177  "
      ]
     },
     "execution_count": 23,
     "metadata": {},
     "output_type": "execute_result"
    }
   ],
   "source": [
    "# global effect on new dataset\n",
    "ca.cohort_causal_effect(x_test)"
   ]
  },
  {
   "cell_type": "code",
   "execution_count": 24,
   "metadata": {},
   "outputs": [
    {
     "data": {
      "text/html": [
       "<div>\n",
       "<style scoped>\n",
       "    .dataframe tbody tr th:only-of-type {\n",
       "        vertical-align: middle;\n",
       "    }\n",
       "\n",
       "    .dataframe tbody tr th {\n",
       "        vertical-align: top;\n",
       "    }\n",
       "\n",
       "    .dataframe thead th {\n",
       "        text-align: right;\n",
       "    }\n",
       "</style>\n",
       "<table border=\"1\" class=\"dataframe\">\n",
       "  <thead>\n",
       "    <tr style=\"text-align: right;\">\n",
       "      <th></th>\n",
       "      <th></th>\n",
       "      <th></th>\n",
       "      <th>point</th>\n",
       "      <th>stderr</th>\n",
       "      <th>zstat</th>\n",
       "      <th>p_value</th>\n",
       "      <th>ci_lower</th>\n",
       "      <th>ci_upper</th>\n",
       "    </tr>\n",
       "    <tr>\n",
       "      <th>sample</th>\n",
       "      <th>feature</th>\n",
       "      <th>feature_value</th>\n",
       "      <th></th>\n",
       "      <th></th>\n",
       "      <th></th>\n",
       "      <th></th>\n",
       "      <th></th>\n",
       "      <th></th>\n",
       "    </tr>\n",
       "  </thead>\n",
       "  <tbody>\n",
       "    <tr>\n",
       "      <th rowspan=\"5\" valign=\"top\">0</th>\n",
       "      <th>LSTAT</th>\n",
       "      <th>num</th>\n",
       "      <td>-0.086647</td>\n",
       "      <td>0.198795</td>\n",
       "      <td>-0.435862</td>\n",
       "      <td>0.662937</td>\n",
       "      <td>-0.413635</td>\n",
       "      <td>0.240341</td>\n",
       "    </tr>\n",
       "    <tr>\n",
       "      <th>RM</th>\n",
       "      <th>num</th>\n",
       "      <td>9.387421</td>\n",
       "      <td>2.121412</td>\n",
       "      <td>4.425081</td>\n",
       "      <td>0.000010</td>\n",
       "      <td>5.898009</td>\n",
       "      <td>12.876833</td>\n",
       "    </tr>\n",
       "    <tr>\n",
       "      <th>PTRATIO</th>\n",
       "      <th>num</th>\n",
       "      <td>0.610745</td>\n",
       "      <td>0.651034</td>\n",
       "      <td>0.938116</td>\n",
       "      <td>0.348185</td>\n",
       "      <td>-0.460110</td>\n",
       "      <td>1.681600</td>\n",
       "    </tr>\n",
       "    <tr>\n",
       "      <th>NOX</th>\n",
       "      <th>num</th>\n",
       "      <td>25.792624</td>\n",
       "      <td>32.291454</td>\n",
       "      <td>0.798745</td>\n",
       "      <td>0.424439</td>\n",
       "      <td>-27.322091</td>\n",
       "      <td>78.907338</td>\n",
       "    </tr>\n",
       "    <tr>\n",
       "      <th>AGE</th>\n",
       "      <th>num</th>\n",
       "      <td>-0.063210</td>\n",
       "      <td>0.047780</td>\n",
       "      <td>-1.322930</td>\n",
       "      <td>0.185859</td>\n",
       "      <td>-0.141802</td>\n",
       "      <td>0.015382</td>\n",
       "    </tr>\n",
       "    <tr>\n",
       "      <th>...</th>\n",
       "      <th>...</th>\n",
       "      <th>...</th>\n",
       "      <td>...</td>\n",
       "      <td>...</td>\n",
       "      <td>...</td>\n",
       "      <td>...</td>\n",
       "      <td>...</td>\n",
       "      <td>...</td>\n",
       "    </tr>\n",
       "    <tr>\n",
       "      <th rowspan=\"5\" valign=\"top\">101</th>\n",
       "      <th>INDUS</th>\n",
       "      <th>num</th>\n",
       "      <td>-0.595808</td>\n",
       "      <td>0.252946</td>\n",
       "      <td>-2.355475</td>\n",
       "      <td>0.018499</td>\n",
       "      <td>-1.011868</td>\n",
       "      <td>-0.179749</td>\n",
       "    </tr>\n",
       "    <tr>\n",
       "      <th>TAX</th>\n",
       "      <th>num</th>\n",
       "      <td>-0.016860</td>\n",
       "      <td>0.013712</td>\n",
       "      <td>-1.229612</td>\n",
       "      <td>0.218842</td>\n",
       "      <td>-0.039414</td>\n",
       "      <td>0.005694</td>\n",
       "    </tr>\n",
       "    <tr>\n",
       "      <th>RAD</th>\n",
       "      <th>num</th>\n",
       "      <td>0.102697</td>\n",
       "      <td>0.492187</td>\n",
       "      <td>0.208655</td>\n",
       "      <td>0.834718</td>\n",
       "      <td>-0.706878</td>\n",
       "      <td>0.912272</td>\n",
       "    </tr>\n",
       "    <tr>\n",
       "      <th>ZN</th>\n",
       "      <th>num</th>\n",
       "      <td>-0.159129</td>\n",
       "      <td>0.091308</td>\n",
       "      <td>-1.742776</td>\n",
       "      <td>0.081373</td>\n",
       "      <td>-0.309316</td>\n",
       "      <td>-0.008941</td>\n",
       "    </tr>\n",
       "    <tr>\n",
       "      <th>CHAS</th>\n",
       "      <th>1.0v0.0</th>\n",
       "      <td>8.870247</td>\n",
       "      <td>4.602972</td>\n",
       "      <td>1.927070</td>\n",
       "      <td>0.053971</td>\n",
       "      <td>1.299032</td>\n",
       "      <td>16.441462</td>\n",
       "    </tr>\n",
       "  </tbody>\n",
       "</table>\n",
       "<p>1326 rows × 6 columns</p>\n",
       "</div>"
      ],
      "text/plain": [
       "                                  point     stderr     zstat   p_value  \\\n",
       "sample feature feature_value                                             \n",
       "0      LSTAT   num            -0.086647   0.198795 -0.435862  0.662937   \n",
       "       RM      num             9.387421   2.121412  4.425081  0.000010   \n",
       "       PTRATIO num             0.610745   0.651034  0.938116  0.348185   \n",
       "       NOX     num            25.792624  32.291454  0.798745  0.424439   \n",
       "       AGE     num            -0.063210   0.047780 -1.322930  0.185859   \n",
       "...                                 ...        ...       ...       ...   \n",
       "101    INDUS   num            -0.595808   0.252946 -2.355475  0.018499   \n",
       "       TAX     num            -0.016860   0.013712 -1.229612  0.218842   \n",
       "       RAD     num             0.102697   0.492187  0.208655  0.834718   \n",
       "       ZN      num            -0.159129   0.091308 -1.742776  0.081373   \n",
       "       CHAS    1.0v0.0         8.870247   4.602972  1.927070  0.053971   \n",
       "\n",
       "                               ci_lower   ci_upper  \n",
       "sample feature feature_value                        \n",
       "0      LSTAT   num            -0.413635   0.240341  \n",
       "       RM      num             5.898009  12.876833  \n",
       "       PTRATIO num            -0.460110   1.681600  \n",
       "       NOX     num           -27.322091  78.907338  \n",
       "       AGE     num            -0.141802   0.015382  \n",
       "...                                 ...        ...  \n",
       "101    INDUS   num            -1.011868  -0.179749  \n",
       "       TAX     num            -0.039414   0.005694  \n",
       "       RAD     num            -0.706878   0.912272  \n",
       "       ZN      num            -0.309316  -0.008941  \n",
       "       CHAS    1.0v0.0         1.299032  16.441462  \n",
       "\n",
       "[1326 rows x 6 columns]"
      ]
     },
     "execution_count": 24,
     "metadata": {},
     "output_type": "execute_result"
    }
   ],
   "source": [
    "# local effect on new dataset\n",
    "ca.local_causal_effect(x_test)"
   ]
  }
 ],
 "metadata": {
  "authors": [
   {
    "name": "mesameki"
   }
  ],
  "kernelspec": {
   "display_name": "Python 3",
   "language": "python",
   "name": "python3"
  },
  "language_info": {
   "codemirror_mode": {
    "name": "ipython",
    "version": 3
   },
   "file_extension": ".py",
   "mimetype": "text/x-python",
   "name": "python",
   "nbconvert_exporter": "python",
   "pygments_lexer": "ipython3",
   "version": "3.7.4"
  }
 },
 "nbformat": 4,
 "nbformat_minor": 2
}
