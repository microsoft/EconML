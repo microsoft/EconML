{
 "cells": [
  {
   "cell_type": "code",
   "execution_count": 1,
   "metadata": {},
   "outputs": [],
   "source": [
    "%load_ext autoreload\n",
    "%autoreload 2"
   ]
  },
  {
   "cell_type": "markdown",
   "metadata": {},
   "source": [
    "# Testing _crossfit Function"
   ]
  },
  {
   "cell_type": "code",
   "execution_count": 2,
   "metadata": {},
   "outputs": [
    {
     "name": "stdout",
     "output_type": "stream",
     "text": [
      "(array([-1.1057289 , -1.53756637, -2.4518278 , ...,  1.10628792,\n",
      "       -1.82966233, -1.78227335]),)\n",
      "[<__main__.Wrapper object at 0x0000019E364CCAC8>, <__main__.Wrapper object at 0x0000019E390CA438>]\n"
     ]
    },
    {
     "data": {
      "text/plain": [
       "array([   0,    1,    2, ..., 4997, 4998, 4999])"
      ]
     },
     "execution_count": 2,
     "metadata": {},
     "output_type": "execute_result"
    }
   ],
   "source": [
    "import numpy as np\n",
    "from sklearn.model_selection import KFold\n",
    "from sklearn.linear_model import Lasso\n",
    "from econml._ortho_learner import _crossfit\n",
    "\n",
    "class Wrapper:\n",
    "    def __init__(self, model):\n",
    "        self._model = model\n",
    "    def fit(self, X, y, W=None):\n",
    "        self._model.fit(X, y)\n",
    "        return self\n",
    "    def predict(self, X, y, W=None):\n",
    "        return self._model.predict(X)\n",
    "np.random.seed(123)\n",
    "X = np.random.normal(size=(5000, 3))\n",
    "y = X[:, 0] + np.random.normal(size=(5000,))\n",
    "folds = list(KFold(2).split(X, y))\n",
    "model = Lasso(alpha=0.01)\n",
    "nuisance, model_list, fitted_inds = _crossfit(Wrapper(model),\n",
    "                                 folds,\n",
    "                                 X, y, W=y, Z=None)\n",
    "print(nuisance)\n",
    "print(model_list)\n",
    "fitted_inds"
   ]
  },
  {
   "cell_type": "markdown",
   "metadata": {},
   "source": [
    "# Simple DML with the _OrthoLearner"
   ]
  },
  {
   "cell_type": "code",
   "execution_count": 3,
   "metadata": {},
   "outputs": [
    {
     "data": {
      "text/plain": [
       "<econml._ortho_learner._OrthoLearner at 0x19e3920b7b8>"
      ]
     },
     "execution_count": 3,
     "metadata": {},
     "output_type": "execute_result"
    }
   ],
   "source": [
    "import numpy as np\n",
    "from sklearn.linear_model import LinearRegression\n",
    "from econml._ortho_learner import _OrthoLearner\n",
    "class ModelNuisance:\n",
    "    def __init__(self, model_t, model_y):\n",
    "        self._model_t = model_t\n",
    "        self._model_y = model_y\n",
    "    def fit(self, Y, T, W=None):\n",
    "        self._model_t.fit(W, T)\n",
    "        self._model_y.fit(W, Y)\n",
    "        return self\n",
    "    def predict(self, Y, T, W=None):\n",
    "        return Y - self._model_y.predict(W), T - self._model_t.predict(W)\n",
    "class ModelFinal:\n",
    "    def __init__(self):\n",
    "        return\n",
    "    def fit(self, Y, T, W=None, nuisances=None):\n",
    "        Y_res, T_res = nuisances\n",
    "        self.model = LinearRegression(fit_intercept=False).fit(T_res.reshape(-1, 1), Y_res)\n",
    "        return self\n",
    "    def predict(self, X=None):\n",
    "        return self.model.coef_[0]\n",
    "    def score(self, Y, T, W=None, nuisances=None):\n",
    "        Y_res, T_res = nuisances\n",
    "        return np.mean((Y_res - self.model.predict(T_res.reshape(-1, 1)))**2)\n",
    "np.random.seed(123)\n",
    "X = np.random.normal(size=(100, 3))\n",
    "y = X[:, 0] + X[:, 1] + np.random.normal(0, 0.1, size=(100,))\n",
    "est = _OrthoLearner(ModelNuisance(LinearRegression(), LinearRegression()),\n",
    "                    ModelFinal(),\n",
    "                    n_splits=2, discrete_treatment=False, random_state=None)\n",
    "est.fit(y, X[:, 0], W=X[:, 1:])"
   ]
  },
  {
   "cell_type": "code",
   "execution_count": 4,
   "metadata": {},
   "outputs": [
    {
     "data": {
      "text/plain": [
       "1.0236499258047582"
      ]
     },
     "execution_count": 4,
     "metadata": {},
     "output_type": "execute_result"
    }
   ],
   "source": [
    "est.const_marginal_effect()"
   ]
  },
  {
   "cell_type": "code",
   "execution_count": 5,
   "metadata": {},
   "outputs": [
    {
     "data": {
      "text/plain": [
       "array([1.02364993])"
      ]
     },
     "execution_count": 5,
     "metadata": {},
     "output_type": "execute_result"
    }
   ],
   "source": [
    "est.effect(T0=0, T1=1)"
   ]
  },
  {
   "cell_type": "code",
   "execution_count": 6,
   "metadata": {},
   "outputs": [
    {
     "data": {
      "text/plain": [
       "0.00727995424098179"
      ]
     },
     "execution_count": 6,
     "metadata": {},
     "output_type": "execute_result"
    }
   ],
   "source": [
    "est.score(y, X[:, 0], W=X[:, 1:])"
   ]
  },
  {
   "cell_type": "code",
   "execution_count": 7,
   "metadata": {},
   "outputs": [
    {
     "data": {
      "text/plain": [
       "LinearRegression(copy_X=True, fit_intercept=False, n_jobs=None,\n",
       "         normalize=False)"
      ]
     },
     "execution_count": 7,
     "metadata": {},
     "output_type": "execute_result"
    }
   ],
   "source": [
    "est.model_final.model"
   ]
  },
  {
   "cell_type": "code",
   "execution_count": 8,
   "metadata": {},
   "outputs": [
    {
     "data": {
      "text/plain": [
       "array([1.02364993])"
      ]
     },
     "execution_count": 8,
     "metadata": {},
     "output_type": "execute_result"
    }
   ],
   "source": [
    "est.model_final.model.coef_"
   ]
  },
  {
   "cell_type": "code",
   "execution_count": 9,
   "metadata": {},
   "outputs": [
    {
     "data": {
      "text/plain": [
       "0.007568302109999713"
      ]
     },
     "execution_count": 9,
     "metadata": {},
     "output_type": "execute_result"
    }
   ],
   "source": [
    "est.score_"
   ]
  },
  {
   "cell_type": "markdown",
   "metadata": {},
   "source": [
    "# Simple DML with Discrete Treatments with the _OrthoLearner"
   ]
  },
  {
   "cell_type": "code",
   "execution_count": 10,
   "metadata": {},
   "outputs": [
    {
     "data": {
      "text/plain": [
       "<econml._ortho_learner._OrthoLearner at 0x19e39219898>"
      ]
     },
     "execution_count": 10,
     "metadata": {},
     "output_type": "execute_result"
    }
   ],
   "source": [
    "class ModelNuisance:\n",
    "    def __init__(self, model_t, model_y):\n",
    "        self._model_t = model_t\n",
    "        self._model_y = model_y\n",
    "\n",
    "    def fit(self, Y, T, W=None):\n",
    "        self._model_t.fit(W, np.matmul(T, np.arange(1, T.shape[1]+1)))\n",
    "        self._model_y.fit(W, Y)\n",
    "        return self\n",
    "\n",
    "    def predict(self, Y, T, W=None):\n",
    "        return Y - self._model_y.predict(W), T - self._model_t.predict_proba(W)[:, 1:]\n",
    "\n",
    "class ModelFinal:\n",
    "\n",
    "    def __init__(self):\n",
    "        return\n",
    "\n",
    "    def fit(self, Y, T, W=None, nuisances=None):\n",
    "        Y_res, T_res = nuisances\n",
    "        self.model = LinearRegression(fit_intercept=False).fit(T_res.reshape(-1, 1), Y_res)\n",
    "        return self\n",
    "\n",
    "    def predict(self):\n",
    "        # theta needs to be of dimension (1, d_t) if T is (n, d_t)\n",
    "        return np.array([[self.model.coef_[0]]])\n",
    "\n",
    "    def score(self, Y, T, W=None, nuisances=None):\n",
    "        Y_res, T_res = nuisances\n",
    "        return np.mean((Y_res - self.model.predict(T_res.reshape(-1, 1)))**2)\n",
    "\n",
    "np.random.seed(123)\n",
    "X = np.random.normal(size=(100, 3))\n",
    "import scipy.special\n",
    "from sklearn.linear_model import LogisticRegression\n",
    "T = np.random.binomial(1, scipy.special.expit(X[:, 0]))\n",
    "sigma = 0.01\n",
    "y = T + X[:, 0] + np.random.normal(0, sigma, size=(100,))\n",
    "est = _OrthoLearner(ModelNuisance(LogisticRegression(solver='lbfgs'), LinearRegression()), ModelFinal(),\n",
    "                    n_splits=2, discrete_treatment=True, random_state=None)\n",
    "est.fit(y, T, W=X)"
   ]
  },
  {
   "cell_type": "code",
   "execution_count": 11,
   "metadata": {},
   "outputs": [
    {
     "data": {
      "text/plain": [
       "array([[1.00123159]])"
      ]
     },
     "execution_count": 11,
     "metadata": {},
     "output_type": "execute_result"
    }
   ],
   "source": [
    "est.const_marginal_effect()"
   ]
  },
  {
   "cell_type": "code",
   "execution_count": 12,
   "metadata": {},
   "outputs": [
    {
     "data": {
      "text/plain": [
       "array([1.00123159])"
      ]
     },
     "execution_count": 12,
     "metadata": {},
     "output_type": "execute_result"
    }
   ],
   "source": [
    "est.effect()"
   ]
  },
  {
   "cell_type": "code",
   "execution_count": 13,
   "metadata": {},
   "outputs": [
    {
     "data": {
      "text/plain": [
       "0.002569588332146636"
      ]
     },
     "execution_count": 13,
     "metadata": {},
     "output_type": "execute_result"
    }
   ],
   "source": [
    "est.score(y, T, W=X)"
   ]
  },
  {
   "cell_type": "code",
   "execution_count": 14,
   "metadata": {},
   "outputs": [
    {
     "data": {
      "text/plain": [
       "1.0012315874866915"
      ]
     },
     "execution_count": 14,
     "metadata": {},
     "output_type": "execute_result"
    }
   ],
   "source": [
    "est.model_final.model.coef_[0]"
   ]
  },
  {
   "cell_type": "code",
   "execution_count": 15,
   "metadata": {},
   "outputs": [
    {
     "data": {
      "text/plain": [
       "LinearRegression(copy_X=True, fit_intercept=False, n_jobs=None,\n",
       "         normalize=False)"
      ]
     },
     "execution_count": 15,
     "metadata": {},
     "output_type": "execute_result"
    }
   ],
   "source": [
    "est.model_final.model"
   ]
  },
  {
   "cell_type": "code",
   "execution_count": 16,
   "metadata": {},
   "outputs": [
    {
     "data": {
      "text/plain": [
       "array([1.00123159])"
      ]
     },
     "execution_count": 16,
     "metadata": {},
     "output_type": "execute_result"
    }
   ],
   "source": [
    "est.model_final.model.coef_"
   ]
  },
  {
   "cell_type": "code",
   "execution_count": 17,
   "metadata": {},
   "outputs": [
    {
     "data": {
      "text/plain": [
       "0.00316040597083645"
      ]
     },
     "execution_count": 17,
     "metadata": {},
     "output_type": "execute_result"
    }
   ],
   "source": [
    "est.score_"
   ]
  },
  {
   "cell_type": "code",
   "execution_count": 18,
   "metadata": {},
   "outputs": [
    {
     "data": {
      "text/plain": [
       "array([1.28171346, 0.03749846, 0.10120681])"
      ]
     },
     "execution_count": 18,
     "metadata": {},
     "output_type": "execute_result"
    }
   ],
   "source": [
    "est.models_nuisance[0]._model_y.coef_"
   ]
  },
  {
   "cell_type": "markdown",
   "metadata": {},
   "source": [
    "# Simple DML with the _RLearner"
   ]
  },
  {
   "cell_type": "code",
   "execution_count": 19,
   "metadata": {},
   "outputs": [
    {
     "data": {
      "text/plain": [
       "<econml._rlearner._RLearner at 0x19e39236be0>"
      ]
     },
     "execution_count": 19,
     "metadata": {},
     "output_type": "execute_result"
    }
   ],
   "source": [
    "import numpy as np\n",
    "from sklearn.linear_model import LinearRegression\n",
    "from econml._rlearner import _RLearner\n",
    "from sklearn.base import clone\n",
    "class ModelFirst:\n",
    "    def __init__(self, model):\n",
    "        self._model = clone(model, safe=False)\n",
    "    def fit(self, X, W, Y, sample_weight=None):\n",
    "        self._model.fit(np.hstack([X, W]), Y)\n",
    "        return self\n",
    "    def predict(self, X, W):\n",
    "        return self._model.predict(np.hstack([X, W]))\n",
    "class ModelFinal:\n",
    "    def fit(self, X, T_res, Y_res, sample_weight=None, sample_var=None):\n",
    "        self.model = LinearRegression(fit_intercept=False).fit(X * T_res.reshape(-1, 1), Y_res)\n",
    "        return self\n",
    "    def predict(self, X):\n",
    "        return self.model.predict(X)\n",
    "np.random.seed(123)\n",
    "X = np.random.normal(size=(1000, 3))\n",
    "y = X[:, 0] + X[:, 1] + np.random.normal(0, 0.01, size=(1000,))\n",
    "est = _RLearner(ModelFirst(LinearRegression()),\n",
    "                ModelFirst(LinearRegression()),\n",
    "                ModelFinal(),\n",
    "                n_splits=2, discrete_treatment=False, random_state=None)\n",
    "est.fit(y, X[:, 0], X=np.ones((X.shape[0], 1)), W=X[:, 1:])"
   ]
  },
  {
   "cell_type": "code",
   "execution_count": 20,
   "metadata": {},
   "outputs": [
    {
     "data": {
      "text/plain": [
       "array([0.99963147])"
      ]
     },
     "execution_count": 20,
     "metadata": {},
     "output_type": "execute_result"
    }
   ],
   "source": [
    "est.const_marginal_effect(np.ones((1,1)))"
   ]
  },
  {
   "cell_type": "code",
   "execution_count": 21,
   "metadata": {},
   "outputs": [
    {
     "data": {
      "text/plain": [
       "array([9.99631472])"
      ]
     },
     "execution_count": 21,
     "metadata": {},
     "output_type": "execute_result"
    }
   ],
   "source": [
    "est.effect(np.ones((1,1)), T0=0, T1=10)"
   ]
  },
  {
   "cell_type": "code",
   "execution_count": 22,
   "metadata": {},
   "outputs": [
    {
     "data": {
      "text/plain": [
       "9.736380060274927e-05"
      ]
     },
     "execution_count": 22,
     "metadata": {},
     "output_type": "execute_result"
    }
   ],
   "source": [
    "est.score(y, X[:, 0], X=np.ones((X.shape[0], 1)), W=X[:, 1:])"
   ]
  },
  {
   "cell_type": "code",
   "execution_count": 23,
   "metadata": {},
   "outputs": [
    {
     "data": {
      "text/plain": [
       "LinearRegression(copy_X=True, fit_intercept=False, n_jobs=None,\n",
       "         normalize=False)"
      ]
     },
     "execution_count": 23,
     "metadata": {},
     "output_type": "execute_result"
    }
   ],
   "source": [
    "est.model_final.model"
   ]
  },
  {
   "cell_type": "code",
   "execution_count": 24,
   "metadata": {},
   "outputs": [
    {
     "data": {
      "text/plain": [
       "array([0.99963147])"
      ]
     },
     "execution_count": 24,
     "metadata": {},
     "output_type": "execute_result"
    }
   ],
   "source": [
    "est.model_final.model.coef_"
   ]
  },
  {
   "cell_type": "code",
   "execution_count": 25,
   "metadata": {},
   "outputs": [
    {
     "data": {
      "text/plain": [
       "9.826232040878261e-05"
      ]
     },
     "execution_count": 25,
     "metadata": {},
     "output_type": "execute_result"
    }
   ],
   "source": [
    "est.score_"
   ]
  },
  {
   "cell_type": "code",
   "execution_count": 26,
   "metadata": {},
   "outputs": [
    {
     "data": {
      "text/plain": [
       "[LinearRegression(copy_X=True, fit_intercept=True, n_jobs=None,\n",
       "          normalize=False),\n",
       " LinearRegression(copy_X=True, fit_intercept=True, n_jobs=None,\n",
       "          normalize=False)]"
      ]
     },
     "execution_count": 26,
     "metadata": {},
     "output_type": "execute_result"
    }
   ],
   "source": [
    "[mdl._model for mdl in est.models_y]"
   ]
  },
  {
   "cell_type": "code",
   "execution_count": 27,
   "metadata": {},
   "outputs": [
    {
     "data": {
      "text/plain": [
       "[LinearRegression(copy_X=True, fit_intercept=True, n_jobs=None,\n",
       "          normalize=False),\n",
       " LinearRegression(copy_X=True, fit_intercept=True, n_jobs=None,\n",
       "          normalize=False)]"
      ]
     },
     "execution_count": 27,
     "metadata": {},
     "output_type": "execute_result"
    }
   ],
   "source": [
    "[mdl._model for mdl in est.models_t]"
   ]
  },
  {
   "cell_type": "markdown",
   "metadata": {},
   "source": [
    "# Checking All Good with LinearDMLCateEstimator"
   ]
  },
  {
   "cell_type": "code",
   "execution_count": 28,
   "metadata": {},
   "outputs": [
    {
     "data": {
      "text/plain": [
       "<econml.dml.LinearDMLCateEstimator at 0x19e3920b588>"
      ]
     },
     "execution_count": 28,
     "metadata": {},
     "output_type": "execute_result"
    }
   ],
   "source": [
    "from econml.dml import LinearDMLCateEstimator\n",
    "\n",
    "np.random.seed(123)\n",
    "X = np.random.normal(size=(1000, 3))\n",
    "y = X[:, 0] + X[:, 1] + np.random.normal(0, 0.01, size=(1000,))\n",
    "est = LinearDMLCateEstimator(model_y=LinearRegression(),\n",
    "                             model_t=LinearRegression())\n",
    "est.fit(y, X[:, 0], W=X[:, 1:], inference='statsmodels')"
   ]
  },
  {
   "cell_type": "code",
   "execution_count": 29,
   "metadata": {},
   "outputs": [
    {
     "data": {
      "text/plain": [
       "array([0.99943203])"
      ]
     },
     "execution_count": 29,
     "metadata": {},
     "output_type": "execute_result"
    }
   ],
   "source": [
    "est.effect()"
   ]
  },
  {
   "cell_type": "code",
   "execution_count": 30,
   "metadata": {},
   "outputs": [
    {
     "data": {
      "text/plain": [
       "(array([0.9959591]), array([1.00290496]))"
      ]
     },
     "execution_count": 30,
     "metadata": {},
     "output_type": "execute_result"
    }
   ],
   "source": [
    "est.effect_interval()"
   ]
  },
  {
   "cell_type": "code",
   "execution_count": 31,
   "metadata": {},
   "outputs": [
    {
     "data": {
      "text/plain": [
       "[LinearRegression(copy_X=True, fit_intercept=True, n_jobs=None,\n",
       "          normalize=False),\n",
       " LinearRegression(copy_X=True, fit_intercept=True, n_jobs=None,\n",
       "          normalize=False)]"
      ]
     },
     "execution_count": 31,
     "metadata": {},
     "output_type": "execute_result"
    }
   ],
   "source": [
    "est.models_y"
   ]
  },
  {
   "cell_type": "code",
   "execution_count": 32,
   "metadata": {},
   "outputs": [
    {
     "data": {
      "text/plain": [
       "[LinearRegression(copy_X=True, fit_intercept=True, n_jobs=None,\n",
       "          normalize=False),\n",
       " LinearRegression(copy_X=True, fit_intercept=True, n_jobs=None,\n",
       "          normalize=False)]"
      ]
     },
     "execution_count": 32,
     "metadata": {},
     "output_type": "execute_result"
    }
   ],
   "source": [
    "est.models_t"
   ]
  },
  {
   "cell_type": "code",
   "execution_count": 35,
   "metadata": {},
   "outputs": [
    {
     "data": {
      "text/plain": [
       "array([0.99943203])"
      ]
     },
     "execution_count": 35,
     "metadata": {},
     "output_type": "execute_result"
    }
   ],
   "source": [
    "est.coef_"
   ]
  },
  {
   "cell_type": "code",
   "execution_count": 39,
   "metadata": {},
   "outputs": [
    {
     "data": {
      "text/plain": [
       "(array([0.9959591]), array([1.00290496]))"
      ]
     },
     "execution_count": 39,
     "metadata": {},
     "output_type": "execute_result"
    }
   ],
   "source": [
    "est.coef__interval()"
   ]
  },
  {
   "cell_type": "code",
   "execution_count": 40,
   "metadata": {},
   "outputs": [
    {
     "data": {
      "text/plain": [
       "<econml.utilities.StatsModelsLinearRegression at 0x19e39224748>"
      ]
     },
     "execution_count": 40,
     "metadata": {},
     "output_type": "execute_result"
    }
   ],
   "source": [
    "est.model_final"
   ]
  },
  {
   "cell_type": "code",
   "execution_count": 41,
   "metadata": {},
   "outputs": [
    {
     "data": {
      "text/plain": [
       "array([0.00211139])"
      ]
     },
     "execution_count": 41,
     "metadata": {},
     "output_type": "execute_result"
    }
   ],
   "source": [
    "est.model_final._param_stderr"
   ]
  },
  {
   "cell_type": "markdown",
   "metadata": {},
   "source": [
    "# DR Learner Based on _OrthoLearner"
   ]
  },
  {
   "cell_type": "code",
   "execution_count": 42,
   "metadata": {},
   "outputs": [
    {
     "data": {
      "text/plain": [
       "<econml._ortho_learner._OrthoLearner at 0x19e3b5840b8>"
      ]
     },
     "execution_count": 42,
     "metadata": {},
     "output_type": "execute_result"
    }
   ],
   "source": [
    "import numpy as np\n",
    "from sklearn.linear_model import LinearRegression\n",
    "from econml._ortho_learner import _OrthoLearner\n",
    "class ModelNuisance:\n",
    "    def __init__(self, model_t, model_y):\n",
    "        self._model_t = model_t\n",
    "        self._model_y = model_y\n",
    "\n",
    "    def fit(self, Y, T, X=None, W=None):\n",
    "        self._model_t.fit(np.hstack([X, W]), np.matmul(T, np.arange(1, T.shape[1]+1)))\n",
    "        self._model_y.fit(np.hstack([T, X, W]), Y)\n",
    "        return self\n",
    "\n",
    "    def predict(self, Y, T, X=None, W=None):\n",
    "        propensities = self._model_t.predict_proba(np.hstack([X, W]))\n",
    "        Y_pred = np.zeros((T.shape[0], T.shape[1] + 1))\n",
    "        T_counter = np.zeros(T.shape)\n",
    "        Y_pred[:, 0] = self._model_y.predict(np.hstack([T_counter, X, W]))\n",
    "        Y_pred[:, 0] += (Y - Y_pred[:, 0]) * np.all(T==0, axis=1) / propensities[:, 0]\n",
    "        for t in np.arange(T.shape[1]):\n",
    "            T_counter = np.zeros(T.shape)\n",
    "            T_counter[:, t] = 1\n",
    "            Y_pred[:, t + 1] = self._model_y.predict(np.hstack([T_counter, X, W]))\n",
    "            Y_pred[:, t + 1] += (Y - Y_pred[:, t + 1]) * (T[:, t] == 1) / propensities[:, t + 1]\n",
    "        return Y_pred\n",
    "\n",
    "class ModelFinal:\n",
    "\n",
    "    def __init__(self):\n",
    "        return\n",
    "\n",
    "    def fit(self, Y, T, X=None, W=None, nuisances=None):\n",
    "        Y_pred, = nuisances\n",
    "        self.models_cate = [LinearRegression().fit(X, Y_pred[:, t] - Y_pred[:, 0])\n",
    "                            for t in np.arange(1, Y_pred.shape[1])]\n",
    "        return self\n",
    "\n",
    "    def predict(self, X=None):\n",
    "        # theta needs to be of dimension (1, d_t) if T is (n, d_t)\n",
    "        return np.array([mdl.predict(X) for mdl in self.models_cate]).T\n",
    "\n",
    "np.random.seed(123)\n",
    "X = np.random.normal(size=(1000, 3))\n",
    "import scipy.special\n",
    "from sklearn.linear_model import LogisticRegression\n",
    "T = np.random.binomial(1, scipy.special.expit(X[:, 0]))\n",
    "sigma = 0.01\n",
    "y = (1 + .5*X[:, 0]) * T + X[:, 0] + np.random.normal(0, sigma, size=(1000,))\n",
    "est = _OrthoLearner(ModelNuisance(LogisticRegression(solver='lbfgs'), LinearRegression()), ModelFinal(),\n",
    "                    n_splits=2, discrete_treatment=True, random_state=None)\n",
    "est.fit(y, T, X=X[:, [0]], W=X[:, 1:])"
   ]
  },
  {
   "cell_type": "code",
   "execution_count": 43,
   "metadata": {},
   "outputs": [
    {
     "data": {
      "text/plain": [
       "array([[ 0.43111746],\n",
       "       [ 0.21377249],\n",
       "       [-0.26176354],\n",
       "       [ 0.54421168],\n",
       "       [ 1.76258919],\n",
       "       [ 0.76761463],\n",
       "       [ 1.51079693],\n",
       "       [ 1.76224943],\n",
       "       [ 0.34418752],\n",
       "       [ 0.2538734 ]])"
      ]
     },
     "execution_count": 43,
     "metadata": {},
     "output_type": "execute_result"
    }
   ],
   "source": [
    "est.const_marginal_effect(X[:10, [0]])"
   ]
  },
  {
   "cell_type": "code",
   "execution_count": 44,
   "metadata": {},
   "outputs": [
    {
     "data": {
      "text/plain": [
       "[array([[ 1.07859458, -0.09378512, -0.16819498]]),\n",
       " array([[ 0.87520635, -0.07950399,  0.06037872]])]"
      ]
     },
     "execution_count": 44,
     "metadata": {},
     "output_type": "execute_result"
    }
   ],
   "source": [
    "[mdl._model_t.coef_ for mdl in est.models_nuisance]"
   ]
  },
  {
   "cell_type": "code",
   "execution_count": 45,
   "metadata": {},
   "outputs": [
    {
     "data": {
      "text/plain": [
       "[array([ 0.99703455,  1.25799456, -0.00554411,  0.00216083]),\n",
       " array([ 1.04547656e+00,  1.21020962e+00,  7.94069500e-04, -9.68240609e-03])]"
      ]
     },
     "execution_count": 45,
     "metadata": {},
     "output_type": "execute_result"
    }
   ],
   "source": [
    "[mdl._model_y.coef_ for mdl in est.models_nuisance]"
   ]
  },
  {
   "cell_type": "code",
   "execution_count": 46,
   "metadata": {},
   "outputs": [
    {
     "data": {
      "text/plain": [
       "array([0.51667104])"
      ]
     },
     "execution_count": 46,
     "metadata": {},
     "output_type": "execute_result"
    }
   ],
   "source": [
    "est.model_final.models_cate[0].coef_"
   ]
  },
  {
   "cell_type": "code",
   "execution_count": 47,
   "metadata": {},
   "outputs": [
    {
     "data": {
      "text/plain": [
       "0.9920313527587242"
      ]
     },
     "execution_count": 47,
     "metadata": {},
     "output_type": "execute_result"
    }
   ],
   "source": [
    "est.model_final.models_cate[0].intercept_"
   ]
  },
  {
   "cell_type": "code",
   "execution_count": 114,
   "metadata": {},
   "outputs": [
    {
     "data": {
      "text/plain": [
       "<econml.drlearner.DRLearner at 0x19e3bd3c668>"
      ]
     },
     "execution_count": 114,
     "metadata": {},
     "output_type": "execute_result"
    }
   ],
   "source": [
    "import numpy as np\n",
    "from sklearn.linear_model import LinearRegression, LassoCV\n",
    "from econml.drlearner import DRLearner\n",
    "import scipy.special\n",
    "from sklearn.linear_model import LogisticRegression\n",
    "from sklearn.ensemble import GradientBoostingClassifier, GradientBoostingRegressor, RandomForestRegressor\n",
    "from sklearn.preprocessing import PolynomialFeatures\n",
    "from econml.utilities import StatsModelsLinearRegression\n",
    "\n",
    "np.random.seed(123)\n",
    "X = np.random.uniform(-1, 1, size=(1000, 3))\n",
    "T = np.random.binomial(2, scipy.special.expit(X[:, 0]))\n",
    "sigma = 0.01\n",
    "y = (1 + .5*X[:, 0]) * T + X[:, 0] + np.random.normal(0, sigma, size=(1000,))\n",
    "est = DRLearner(model_propensity=LogisticRegression(solver='lbfgs', multi_class='auto'),\n",
    "                model_regression=GradientBoostingRegressor(),\n",
    "                model_final=StatsModelsLinearRegression(),\n",
    "                featurizer=None,\n",
    "                multitask_model_final=False)\n",
    "est.fit(y, T, X=X, W=X)"
   ]
  },
  {
   "cell_type": "code",
   "execution_count": 115,
   "metadata": {},
   "outputs": [
    {
     "data": {
      "text/plain": [
       "array([1.1822157 , 1.04007715, 1.45625656])"
      ]
     },
     "execution_count": 115,
     "metadata": {},
     "output_type": "execute_result"
    }
   ],
   "source": [
    "est.effect(X[:3], T0=0, T1=1)"
   ]
  },
  {
   "cell_type": "code",
   "execution_count": 116,
   "metadata": {},
   "outputs": [
    {
     "data": {
      "text/plain": [
       "array([[1.19646919, 2.39293837],\n",
       "       [1.05131477, 2.10262954],\n",
       "       [1.4807642 , 2.9615284 ]])"
      ]
     },
     "execution_count": 116,
     "metadata": {},
     "output_type": "execute_result"
    }
   ],
   "source": [
    "np.hstack([1 + .5*X[:3, [0]], 2*(1 + .5*X[:3, [0]])])"
   ]
  },
  {
   "cell_type": "code",
   "execution_count": 117,
   "metadata": {},
   "outputs": [
    {
     "data": {
      "text/plain": [
       "array([[1.1822157 , 2.37734235],\n",
       "       [1.04007715, 2.10080704],\n",
       "       [1.45625656, 2.92916254]])"
      ]
     },
     "execution_count": 117,
     "metadata": {},
     "output_type": "execute_result"
    }
   ],
   "source": [
    "est.const_marginal_effect(X[:3])"
   ]
  },
  {
   "cell_type": "code",
   "execution_count": 118,
   "metadata": {},
   "outputs": [
    {
     "data": {
      "text/plain": [
       "array([[1.1822157 , 2.37734235],\n",
       "       [1.04007715, 2.10080704],\n",
       "       [1.45625656, 2.92916254]])"
      ]
     },
     "execution_count": 118,
     "metadata": {},
     "output_type": "execute_result"
    }
   ],
   "source": [
    "est.marginal_effect(1, X[:3])"
   ]
  },
  {
   "cell_type": "code",
   "execution_count": 119,
   "metadata": {},
   "outputs": [
    {
     "data": {
      "text/plain": [
       "array([[ 0.39293837, -0.42772133, -0.54629709],\n",
       "       [ 0.10262954,  0.43893794, -0.15378708],\n",
       "       [ 0.9615284 ,  0.36965948, -0.0381362 ]])"
      ]
     },
     "execution_count": 119,
     "metadata": {},
     "output_type": "execute_result"
    }
   ],
   "source": [
    "X[:3]"
   ]
  },
  {
   "cell_type": "code",
   "execution_count": 120,
   "metadata": {},
   "outputs": [
    {
     "data": {
      "image/png": "[encoded data removed]",
      "text/plain": [
       "<Figure size 432x288 with 1 Axes>"
      ]
     },
     "metadata": {
      "needs_background": "light"
     },
     "output_type": "display_data"
    }
   ],
   "source": [
    "import matplotlib.pyplot as plt\n",
    "plt.scatter(X[:, 0], est.effect(X, T0=0, T1=2))\n",
    "plt.plot(X[np.argsort(X[:, 0]), 0], 2*(1 + .5 * X[np.argsort(X[:, 0]), 0]))\n",
    "plt.show()"
   ]
  },
  {
   "cell_type": "code",
   "execution_count": 121,
   "metadata": {},
   "outputs": [
    {
     "data": {
      "text/plain": [
       "[array([3.45573897e-01, 3.21178507e-05, 3.08428112e-05, 3.58341961e-01,\n",
       "        2.43631009e-05, 3.06469831e-05, 7.36212833e-02, 2.22344889e-01]),\n",
       " array([4.46383838e-01, 1.49116561e-05, 4.20320308e-05, 2.56714069e-01,\n",
       "        1.95528781e-05, 5.42082732e-05, 6.68325493e-02, 2.29938839e-01])]"
      ]
     },
     "execution_count": 121,
     "metadata": {},
     "output_type": "execute_result"
    }
   ],
   "source": [
    "[mdl.feature_importances_ for mdl in est.models_regression]"
   ]
  },
  {
   "cell_type": "code",
   "execution_count": 122,
   "metadata": {},
   "outputs": [
    {
     "data": {
      "text/plain": [
       "[array([[-0.49272048,  0.0145733 ,  0.16088469, -0.49272048,  0.0145733 ,\n",
       "          0.16088469],\n",
       "        [-0.14935627, -0.00605934,  0.04036645, -0.14935627, -0.00605934,\n",
       "          0.04036645],\n",
       "        [ 0.64207675, -0.00851396, -0.20125114,  0.64207675, -0.00851396,\n",
       "         -0.20125114]]),\n",
       " array([[-0.50834433,  0.10651235,  0.08677571, -0.50834433,  0.10651235,\n",
       "          0.08677571],\n",
       "        [ 0.02445202,  0.02195648, -0.10241936,  0.02445202,  0.02195648,\n",
       "         -0.10241936],\n",
       "        [ 0.48389231, -0.12846882,  0.01564365,  0.48389231, -0.12846882,\n",
       "          0.01564365]])]"
      ]
     },
     "execution_count": 122,
     "metadata": {},
     "output_type": "execute_result"
    }
   ],
   "source": [
    "[mdl.coef_ for mdl in est.models_propensity]"
   ]
  },
  {
   "cell_type": "code",
   "execution_count": 123,
   "metadata": {},
   "outputs": [
    {
     "data": {
      "text/plain": [
       "array([ 0.96136796, -0.00580304,  0.01933087])"
      ]
     },
     "execution_count": 123,
     "metadata": {},
     "output_type": "execute_result"
    }
   ],
   "source": [
    "est.model_cate(T=2).coef_"
   ]
  },
  {
   "cell_type": "code",
   "execution_count": 124,
   "metadata": {},
   "outputs": [
    {
     "data": {
      "text/plain": [
       "['age', 'gender', 'race']"
      ]
     },
     "execution_count": 124,
     "metadata": {},
     "output_type": "execute_result"
    }
   ],
   "source": [
    "est.cate_feature_names(['age', 'gender', 'race'])"
   ]
  },
  {
   "cell_type": "code",
   "execution_count": 125,
   "metadata": {},
   "outputs": [
    {
     "data": {
      "text/plain": [
       "2.0076622997218885"
      ]
     },
     "execution_count": 125,
     "metadata": {},
     "output_type": "execute_result"
    }
   ],
   "source": [
    "est.model_cate(T=2).intercept_"
   ]
  },
  {
   "cell_type": "code",
   "execution_count": 126,
   "metadata": {},
   "outputs": [
    {
     "data": {
      "text/plain": [
       "array([ 0.48337304, -0.00475761,  0.00589065])"
      ]
     },
     "execution_count": 126,
     "metadata": {},
     "output_type": "execute_result"
    }
   ],
   "source": [
    "est.model_cate(T=1).coef_"
   ]
  },
  {
   "cell_type": "code",
   "execution_count": 127,
   "metadata": {},
   "outputs": [
    {
     "data": {
      "text/plain": [
       "0.9934630032585429"
      ]
     },
     "execution_count": 127,
     "metadata": {},
     "output_type": "execute_result"
    }
   ],
   "source": [
    "est.model_cate(T=1).intercept_"
   ]
  },
  {
   "cell_type": "code",
   "execution_count": 128,
   "metadata": {},
   "outputs": [
    {
     "data": {
      "text/plain": [
       "0.04512261740711864"
      ]
     },
     "execution_count": 128,
     "metadata": {},
     "output_type": "execute_result"
    }
   ],
   "source": [
    "est.score_"
   ]
  },
  {
   "cell_type": "code",
   "execution_count": 130,
   "metadata": {},
   "outputs": [
    {
     "data": {
      "text/plain": [
       "0.01764000613532899"
      ]
     },
     "execution_count": 130,
     "metadata": {},
     "output_type": "execute_result"
    }
   ],
   "source": [
    "est.score(y, T, X=X, W=X)"
   ]
  },
  {
   "cell_type": "code",
   "execution_count": 98,
   "metadata": {},
   "outputs": [
    {
     "data": {
      "text/plain": [
       "<econml.drlearner.LinearDRLearner at 0x19e3bd3a0b8>"
      ]
     },
     "execution_count": 98,
     "metadata": {},
     "output_type": "execute_result"
    }
   ],
   "source": [
    "import numpy as np\n",
    "import scipy.special\n",
    "from econml.drlearner import DRLearner, LinearDRLearner\n",
    "from sklearn.preprocessing import PolynomialFeatures\n",
    "\n",
    "np.random.seed(123)\n",
    "X = np.random.normal(size=(1000, 3))\n",
    "T = np.random.binomial(2, scipy.special.expit(X[:, 0]))\n",
    "y = (1 + .5*X[:, 0]) * T + X[:, 0] + np.random.normal(size=(1000,))\n",
    "est = LinearDRLearner(featurizer=PolynomialFeatures(degree=2, include_bias=False))\n",
    "est.fit(y, T, X=None, W=X, inference='statsmodels')"
   ]
  },
  {
   "cell_type": "code",
   "execution_count": 99,
   "metadata": {},
   "outputs": [],
   "source": [
    "from econml.utilities import StatsModelsLinearRegression"
   ]
  },
  {
   "cell_type": "code",
   "execution_count": 100,
   "metadata": {},
   "outputs": [
    {
     "data": {
      "text/plain": [
       "(array([0.67722687]), array([1.0525938]))"
      ]
     },
     "execution_count": 100,
     "metadata": {},
     "output_type": "execute_result"
    }
   ],
   "source": [
    "est.effect_interval()"
   ]
  },
  {
   "cell_type": "code",
   "execution_count": 101,
   "metadata": {},
   "outputs": [
    {
     "data": {
      "text/plain": [
       "0.8649103357239153"
      ]
     },
     "execution_count": 101,
     "metadata": {},
     "output_type": "execute_result"
    }
   ],
   "source": [
    "est.intercept_(T=1)"
   ]
  },
  {
   "cell_type": "code",
   "execution_count": 102,
   "metadata": {},
   "outputs": [
    {
     "data": {
      "text/plain": [
       "array([], dtype=float64)"
      ]
     },
     "execution_count": 102,
     "metadata": {},
     "output_type": "execute_result"
    }
   ],
   "source": [
    "est.model_cate(T=1).coef_"
   ]
  },
  {
   "cell_type": "code",
   "execution_count": 103,
   "metadata": {},
   "outputs": [],
   "source": [
    "low, up = est.const_marginal_effect_interval()"
   ]
  },
  {
   "cell_type": "code",
   "execution_count": 104,
   "metadata": {},
   "outputs": [],
   "source": [
    "point = est.const_marginal_effect()"
   ]
  },
  {
   "cell_type": "code",
   "execution_count": 105,
   "metadata": {},
   "outputs": [
    {
     "name": "stdout",
     "output_type": "stream",
     "text": [
      "X=[-1.0856306   0.99734545  0.2829785 ]\n",
      "0.6772268715192845 0.8649103357239153 1.052593799928546\n",
      "0.4571846983497194\n",
      "1.6932440708855916 1.9226135780335254 2.151983085181459\n",
      "0.9143693966994388\n"
     ]
    }
   ],
   "source": [
    "for x, l, p, u in zip(X, low, point, up):\n",
    "    print(\"X={}\".format(x))\n",
    "    for it, (ll, pp, uu) in enumerate(zip(l, p, u)):\n",
    "        print(ll, pp, uu)\n",
    "        print((1 + .5*x[0])*(it+1))"
   ]
  },
  {
   "cell_type": "code",
   "execution_count": 106,
   "metadata": {},
   "outputs": [
    {
     "data": {
      "text/plain": [
       "(array([0.67722687, 1.69324407, 0.67722687]),\n",
       " array([1.0525938 , 2.15198309, 1.0525938 ]))"
      ]
     },
     "execution_count": 106,
     "metadata": {},
     "output_type": "execute_result"
    }
   ],
   "source": [
    "est.effect_interval(T0=np.zeros(3), T1=np.array([1, 2, 1]))"
   ]
  },
  {
   "cell_type": "code",
   "execution_count": 107,
   "metadata": {},
   "outputs": [
    {
     "data": {
      "text/plain": [
       "(array([], dtype=float64), array([], dtype=float64))"
      ]
     },
     "execution_count": 107,
     "metadata": {},
     "output_type": "execute_result"
    }
   ],
   "source": [
    "est.coef__interval(T=2)"
   ]
  },
  {
   "cell_type": "code",
   "execution_count": 108,
   "metadata": {},
   "outputs": [
    {
     "data": {
      "text/plain": [
       "(1.6932440708855916, 2.151983085181459)"
      ]
     },
     "execution_count": 108,
     "metadata": {},
     "output_type": "execute_result"
    }
   ],
   "source": [
    "est.intercept__interval(T=2)"
   ]
  },
  {
   "cell_type": "code",
   "execution_count": 109,
   "metadata": {},
   "outputs": [
    {
     "data": {
      "text/plain": [
       "(array([0.67722687]), array([1.0525938]))"
      ]
     },
     "execution_count": 109,
     "metadata": {},
     "output_type": "execute_result"
    }
   ],
   "source": [
    "est.effect_interval()"
   ]
  },
  {
   "cell_type": "code",
   "execution_count": 110,
   "metadata": {},
   "outputs": [
    {
     "data": {
      "text/plain": [
       "(array([[0.67722687, 1.69324407]]), array([[1.0525938 , 2.15198309]]))"
      ]
     },
     "execution_count": 110,
     "metadata": {},
     "output_type": "execute_result"
    }
   ],
   "source": [
    "est.const_marginal_effect_interval()"
   ]
  },
  {
   "cell_type": "code",
   "execution_count": 111,
   "metadata": {},
   "outputs": [
    {
     "data": {
      "text/plain": [
       "array([[0.86491034, 1.92261358]])"
      ]
     },
     "execution_count": 111,
     "metadata": {},
     "output_type": "execute_result"
    }
   ],
   "source": [
    "est.const_marginal_effect()"
   ]
  },
  {
   "cell_type": "code",
   "execution_count": 112,
   "metadata": {},
   "outputs": [
    {
     "name": "stdout",
     "output_type": "stream",
     "text": [
      "(array([[0.67722687, 1.69324407]]), array([[1.0525938 , 2.15198309]]))\n"
     ]
    },
    {
     "data": {
      "text/plain": [
       "(array([[0.67722687, 1.69324407]]), array([[1.0525938 , 2.15198309]]))"
      ]
     },
     "execution_count": 112,
     "metadata": {},
     "output_type": "execute_result"
    }
   ],
   "source": [
    "est.marginal_effect_interval(2)"
   ]
  },
  {
   "cell_type": "code",
   "execution_count": null,
   "metadata": {},
   "outputs": [],
   "source": []
  }
 ],
 "metadata": {
  "kernelspec": {
   "display_name": "Python 3",
   "language": "python",
   "name": "python3"
  },
  "language_info": {
   "codemirror_mode": {
    "name": "ipython",
    "version": 3
   },
   "file_extension": ".py",
   "mimetype": "text/x-python",
   "name": "python",
   "nbconvert_exporter": "python",
   "pygments_lexer": "ipython3",
   "version": "3.7.1"
  }
 },
 "nbformat": 4,
 "nbformat_minor": 2
}
