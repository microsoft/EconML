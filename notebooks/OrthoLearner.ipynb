{
 "cells": [
  {
   "cell_type": "code",
   "execution_count": 1,
   "metadata": {},
   "outputs": [],
   "source": [
    "%load_ext autoreload\n",
    "%autoreload 2"
   ]
  },
  {
   "cell_type": "markdown",
   "metadata": {},
   "source": [
    "# Testing _crossfit Function"
   ]
  },
  {
   "cell_type": "code",
   "execution_count": 2,
   "metadata": {},
   "outputs": [
    {
     "name": "stderr",
     "output_type": "stream",
     "text": [
      "C:\\ProgramData\\Anaconda3\\lib\\site-packages\\numba\\errors.py:105: UserWarning: Insufficiently recent colorama version found. Numba requires colorama >= 0.3.9\n",
      "  warnings.warn(msg)\n"
     ]
    },
    {
     "name": "stdout",
     "output_type": "stream",
     "text": [
      "(array([-1.1057289 , -1.53756637, -2.4518278 , ...,  1.10628792,\n",
      "       -1.82966233, -1.78227335]),)\n",
      "[<__main__.Wrapper object at 0x0000015FD48EAD68>, <__main__.Wrapper object at 0x0000015FCF4B04A8>]\n"
     ]
    },
    {
     "data": {
      "text/plain": [
       "array([   0,    1,    2, ..., 4997, 4998, 4999])"
      ]
     },
     "execution_count": 2,
     "metadata": {},
     "output_type": "execute_result"
    }
   ],
   "source": [
    "import numpy as np\n",
    "from sklearn.model_selection import KFold\n",
    "from sklearn.linear_model import Lasso\n",
    "from econml._ortho_learner import _crossfit\n",
    "\n",
    "class Wrapper:\n",
    "    def __init__(self, model):\n",
    "        self._model = model\n",
    "    def fit(self, X, y, W=None):\n",
    "        self._model.fit(X, y)\n",
    "        return self\n",
    "    def predict(self, X, y, W=None):\n",
    "        return self._model.predict(X)\n",
    "np.random.seed(123)\n",
    "X = np.random.normal(size=(5000, 3))\n",
    "y = X[:, 0] + np.random.normal(size=(5000,))\n",
    "folds = list(KFold(2).split(X, y))\n",
    "model = Lasso(alpha=0.01)\n",
    "nuisance, model_list, fitted_inds = _crossfit(Wrapper(model),\n",
    "                                 folds,\n",
    "                                 X, y, W=y, Z=None)\n",
    "print(nuisance)\n",
    "print(model_list)\n",
    "fitted_inds"
   ]
  },
  {
   "cell_type": "markdown",
   "metadata": {},
   "source": [
    "# Simple DML with the _OrthoLearner"
   ]
  },
  {
   "cell_type": "code",
   "execution_count": 3,
   "metadata": {},
   "outputs": [
    {
     "data": {
      "text/plain": [
       "<econml._ortho_learner._OrthoLearner at 0x15fd49fc780>"
      ]
     },
     "execution_count": 3,
     "metadata": {},
     "output_type": "execute_result"
    }
   ],
   "source": [
    "import numpy as np\n",
    "from sklearn.linear_model import LinearRegression\n",
    "from econml._ortho_learner import _OrthoLearner\n",
    "class ModelNuisance:\n",
    "    def __init__(self, model_t, model_y):\n",
    "        self._model_t = model_t\n",
    "        self._model_y = model_y\n",
    "    def fit(self, Y, T, W=None):\n",
    "        self._model_t.fit(W, T)\n",
    "        self._model_y.fit(W, Y)\n",
    "        return self\n",
    "    def predict(self, Y, T, W=None):\n",
    "        return Y - self._model_y.predict(W), T - self._model_t.predict(W)\n",
    "class ModelFinal:\n",
    "    def __init__(self):\n",
    "        return\n",
    "    def fit(self, Y, T, W=None, nuisances=None):\n",
    "        Y_res, T_res = nuisances\n",
    "        self.model = LinearRegression(fit_intercept=False).fit(T_res.reshape(-1, 1), Y_res)\n",
    "        return self\n",
    "    def predict(self, X=None):\n",
    "        return self.model.coef_[0]\n",
    "    def score(self, Y, T, W=None, nuisances=None):\n",
    "        Y_res, T_res = nuisances\n",
    "        return np.mean((Y_res - self.model.predict(T_res.reshape(-1, 1)))**2)\n",
    "np.random.seed(123)\n",
    "X = np.random.normal(size=(100, 3))\n",
    "y = X[:, 0] + X[:, 1] + np.random.normal(0, 0.1, size=(100,))\n",
    "est = _OrthoLearner(ModelNuisance(LinearRegression(), LinearRegression()),\n",
    "                    ModelFinal(),\n",
    "                    n_splits=2, discrete_treatment=False, random_state=None)\n",
    "est.fit(y, X[:, 0], W=X[:, 1:])"
   ]
  },
  {
   "cell_type": "code",
   "execution_count": 4,
   "metadata": {},
   "outputs": [
    {
     "data": {
      "text/plain": [
       "1.0236499258047584"
      ]
     },
     "execution_count": 4,
     "metadata": {},
     "output_type": "execute_result"
    }
   ],
   "source": [
    "est.const_marginal_effect()"
   ]
  },
  {
   "cell_type": "code",
   "execution_count": 5,
   "metadata": {},
   "outputs": [
    {
     "data": {
      "text/plain": [
       "array([1.02364993])"
      ]
     },
     "execution_count": 5,
     "metadata": {},
     "output_type": "execute_result"
    }
   ],
   "source": [
    "est.effect(T0=0, T1=1)"
   ]
  },
  {
   "cell_type": "code",
   "execution_count": 6,
   "metadata": {},
   "outputs": [
    {
     "data": {
      "text/plain": [
       "0.007279954240981791"
      ]
     },
     "execution_count": 6,
     "metadata": {},
     "output_type": "execute_result"
    }
   ],
   "source": [
    "est.score(y, X[:, 0], W=X[:, 1:])"
   ]
  },
  {
   "cell_type": "code",
   "execution_count": 7,
   "metadata": {},
   "outputs": [
    {
     "data": {
      "text/plain": [
       "LinearRegression(copy_X=True, fit_intercept=False, n_jobs=None,\n",
       "         normalize=False)"
      ]
     },
     "execution_count": 7,
     "metadata": {},
     "output_type": "execute_result"
    }
   ],
   "source": [
    "est.model_final.model"
   ]
  },
  {
   "cell_type": "code",
   "execution_count": 8,
   "metadata": {},
   "outputs": [
    {
     "data": {
      "text/plain": [
       "array([1.02364993])"
      ]
     },
     "execution_count": 8,
     "metadata": {},
     "output_type": "execute_result"
    }
   ],
   "source": [
    "est.model_final.model.coef_"
   ]
  },
  {
   "cell_type": "code",
   "execution_count": 9,
   "metadata": {},
   "outputs": [
    {
     "data": {
      "text/plain": [
       "0.007568302109999704"
      ]
     },
     "execution_count": 9,
     "metadata": {},
     "output_type": "execute_result"
    }
   ],
   "source": [
    "est.score_"
   ]
  },
  {
   "cell_type": "markdown",
   "metadata": {},
   "source": [
    "# Simple DML with Discrete Treatments with the _OrthoLearner"
   ]
  },
  {
   "cell_type": "code",
   "execution_count": 10,
   "metadata": {},
   "outputs": [
    {
     "data": {
      "text/plain": [
       "<econml._ortho_learner._OrthoLearner at 0x15fd49f3748>"
      ]
     },
     "execution_count": 10,
     "metadata": {},
     "output_type": "execute_result"
    }
   ],
   "source": [
    "class ModelNuisance:\n",
    "    def __init__(self, model_t, model_y):\n",
    "        self._model_t = model_t\n",
    "        self._model_y = model_y\n",
    "\n",
    "    def fit(self, Y, T, W=None):\n",
    "        self._model_t.fit(W, np.matmul(T, np.arange(1, T.shape[1]+1)))\n",
    "        self._model_y.fit(W, Y)\n",
    "        return self\n",
    "\n",
    "    def predict(self, Y, T, W=None):\n",
    "        return Y - self._model_y.predict(W), T - self._model_t.predict_proba(W)[:, 1:]\n",
    "\n",
    "class ModelFinal:\n",
    "\n",
    "    def __init__(self):\n",
    "        return\n",
    "\n",
    "    def fit(self, Y, T, W=None, nuisances=None):\n",
    "        Y_res, T_res = nuisances\n",
    "        self.model = LinearRegression(fit_intercept=False).fit(T_res.reshape(-1, 1), Y_res)\n",
    "        return self\n",
    "\n",
    "    def predict(self):\n",
    "        # theta needs to be of dimension (1, d_t) if T is (n, d_t)\n",
    "        return np.array([[self.model.coef_[0]]])\n",
    "\n",
    "    def score(self, Y, T, W=None, nuisances=None):\n",
    "        Y_res, T_res = nuisances\n",
    "        return np.mean((Y_res - self.model.predict(T_res.reshape(-1, 1)))**2)\n",
    "\n",
    "np.random.seed(123)\n",
    "X = np.random.normal(size=(100, 3))\n",
    "import scipy.special\n",
    "from sklearn.linear_model import LogisticRegression\n",
    "T = np.random.binomial(1, scipy.special.expit(X[:, 0]))\n",
    "sigma = 0.01\n",
    "y = T + X[:, 0] + np.random.normal(0, sigma, size=(100,))\n",
    "est = _OrthoLearner(ModelNuisance(LogisticRegression(solver='lbfgs'), LinearRegression()), ModelFinal(),\n",
    "                    n_splits=2, discrete_treatment=True, random_state=None)\n",
    "est.fit(y, T, W=X)"
   ]
  },
  {
   "cell_type": "code",
   "execution_count": 11,
   "metadata": {},
   "outputs": [
    {
     "data": {
      "text/plain": [
       "array([[1.00123159]])"
      ]
     },
     "execution_count": 11,
     "metadata": {},
     "output_type": "execute_result"
    }
   ],
   "source": [
    "est.const_marginal_effect()"
   ]
  },
  {
   "cell_type": "code",
   "execution_count": 12,
   "metadata": {},
   "outputs": [
    {
     "data": {
      "text/plain": [
       "array([1.00123159])"
      ]
     },
     "execution_count": 12,
     "metadata": {},
     "output_type": "execute_result"
    }
   ],
   "source": [
    "est.effect()"
   ]
  },
  {
   "cell_type": "code",
   "execution_count": 13,
   "metadata": {},
   "outputs": [
    {
     "data": {
      "text/plain": [
       "0.0025695883321466286"
      ]
     },
     "execution_count": 13,
     "metadata": {},
     "output_type": "execute_result"
    }
   ],
   "source": [
    "est.score(y, T, W=X)"
   ]
  },
  {
   "cell_type": "code",
   "execution_count": 14,
   "metadata": {},
   "outputs": [
    {
     "data": {
      "text/plain": [
       "1.0012315874866915"
      ]
     },
     "execution_count": 14,
     "metadata": {},
     "output_type": "execute_result"
    }
   ],
   "source": [
    "est.model_final.model.coef_[0]"
   ]
  },
  {
   "cell_type": "code",
   "execution_count": 15,
   "metadata": {},
   "outputs": [
    {
     "data": {
      "text/plain": [
       "LinearRegression(copy_X=True, fit_intercept=False, n_jobs=None,\n",
       "         normalize=False)"
      ]
     },
     "execution_count": 15,
     "metadata": {},
     "output_type": "execute_result"
    }
   ],
   "source": [
    "est.model_final.model"
   ]
  },
  {
   "cell_type": "code",
   "execution_count": 16,
   "metadata": {},
   "outputs": [
    {
     "data": {
      "text/plain": [
       "array([1.00123159])"
      ]
     },
     "execution_count": 16,
     "metadata": {},
     "output_type": "execute_result"
    }
   ],
   "source": [
    "est.model_final.model.coef_"
   ]
  },
  {
   "cell_type": "code",
   "execution_count": 17,
   "metadata": {},
   "outputs": [
    {
     "data": {
      "text/plain": [
       "0.0031604059708364414"
      ]
     },
     "execution_count": 17,
     "metadata": {},
     "output_type": "execute_result"
    }
   ],
   "source": [
    "est.score_"
   ]
  },
  {
   "cell_type": "code",
   "execution_count": 18,
   "metadata": {},
   "outputs": [
    {
     "data": {
      "text/plain": [
       "array([1.28171346, 0.03749846, 0.10120681])"
      ]
     },
     "execution_count": 18,
     "metadata": {},
     "output_type": "execute_result"
    }
   ],
   "source": [
    "est.models_nuisance[0]._model_y.coef_"
   ]
  },
  {
   "cell_type": "markdown",
   "metadata": {},
   "source": [
    "# Simple DML with the _RLearner"
   ]
  },
  {
   "cell_type": "code",
   "execution_count": 19,
   "metadata": {},
   "outputs": [
    {
     "data": {
      "text/plain": [
       "<econml._rlearner._RLearner at 0x15fd4a045c0>"
      ]
     },
     "execution_count": 19,
     "metadata": {},
     "output_type": "execute_result"
    }
   ],
   "source": [
    "import numpy as np\n",
    "from sklearn.linear_model import LinearRegression\n",
    "from econml._rlearner import _RLearner\n",
    "from sklearn.base import clone\n",
    "class ModelFirst:\n",
    "    def __init__(self, model):\n",
    "        self._model = clone(model, safe=False)\n",
    "    def fit(self, X, W, Y, sample_weight=None):\n",
    "        self._model.fit(np.hstack([X, W]), Y)\n",
    "        return self\n",
    "    def predict(self, X, W):\n",
    "        return self._model.predict(np.hstack([X, W]))\n",
    "class ModelFinal:\n",
    "    def fit(self, X, T_res, Y_res, sample_weight=None, sample_var=None):\n",
    "        self.model = LinearRegression(fit_intercept=False).fit(X * T_res.reshape(-1, 1), Y_res)\n",
    "        return self\n",
    "    def predict(self, X):\n",
    "        return self.model.predict(X)\n",
    "np.random.seed(123)\n",
    "X = np.random.normal(size=(1000, 3))\n",
    "y = X[:, 0] + X[:, 1] + np.random.normal(0, 0.01, size=(1000,))\n",
    "est = _RLearner(ModelFirst(LinearRegression()),\n",
    "                ModelFirst(LinearRegression()),\n",
    "                ModelFinal(),\n",
    "                n_splits=2, discrete_treatment=False, random_state=None)\n",
    "est.fit(y, X[:, 0], X=np.ones((X.shape[0], 1)), W=X[:, 1:])"
   ]
  },
  {
   "cell_type": "code",
   "execution_count": 20,
   "metadata": {},
   "outputs": [
    {
     "data": {
      "text/plain": [
       "array([0.99963147])"
      ]
     },
     "execution_count": 20,
     "metadata": {},
     "output_type": "execute_result"
    }
   ],
   "source": [
    "est.const_marginal_effect(np.ones((1,1)))"
   ]
  },
  {
   "cell_type": "code",
   "execution_count": 21,
   "metadata": {},
   "outputs": [
    {
     "data": {
      "text/plain": [
       "array([9.99631472])"
      ]
     },
     "execution_count": 21,
     "metadata": {},
     "output_type": "execute_result"
    }
   ],
   "source": [
    "est.effect(np.ones((1,1)), T0=0, T1=10)"
   ]
  },
  {
   "cell_type": "code",
   "execution_count": 22,
   "metadata": {},
   "outputs": [
    {
     "data": {
      "text/plain": [
       "9.736380060274919e-05"
      ]
     },
     "execution_count": 22,
     "metadata": {},
     "output_type": "execute_result"
    }
   ],
   "source": [
    "est.score(y, X[:, 0], X=np.ones((X.shape[0], 1)), W=X[:, 1:])"
   ]
  },
  {
   "cell_type": "code",
   "execution_count": 23,
   "metadata": {},
   "outputs": [
    {
     "data": {
      "text/plain": [
       "LinearRegression(copy_X=True, fit_intercept=False, n_jobs=None,\n",
       "         normalize=False)"
      ]
     },
     "execution_count": 23,
     "metadata": {},
     "output_type": "execute_result"
    }
   ],
   "source": [
    "est.model_final.model"
   ]
  },
  {
   "cell_type": "code",
   "execution_count": 24,
   "metadata": {},
   "outputs": [
    {
     "data": {
      "text/plain": [
       "array([0.99963147])"
      ]
     },
     "execution_count": 24,
     "metadata": {},
     "output_type": "execute_result"
    }
   ],
   "source": [
    "est.model_final.model.coef_"
   ]
  },
  {
   "cell_type": "code",
   "execution_count": 25,
   "metadata": {},
   "outputs": [
    {
     "data": {
      "text/plain": [
       "9.826232040878185e-05"
      ]
     },
     "execution_count": 25,
     "metadata": {},
     "output_type": "execute_result"
    }
   ],
   "source": [
    "est.score_"
   ]
  },
  {
   "cell_type": "code",
   "execution_count": 26,
   "metadata": {},
   "outputs": [
    {
     "data": {
      "text/plain": [
       "[LinearRegression(copy_X=True, fit_intercept=True, n_jobs=None,\n",
       "          normalize=False),\n",
       " LinearRegression(copy_X=True, fit_intercept=True, n_jobs=None,\n",
       "          normalize=False)]"
      ]
     },
     "execution_count": 26,
     "metadata": {},
     "output_type": "execute_result"
    }
   ],
   "source": [
    "[mdl._model for mdl in est.models_y]"
   ]
  },
  {
   "cell_type": "code",
   "execution_count": 27,
   "metadata": {},
   "outputs": [
    {
     "data": {
      "text/plain": [
       "[LinearRegression(copy_X=True, fit_intercept=True, n_jobs=None,\n",
       "          normalize=False),\n",
       " LinearRegression(copy_X=True, fit_intercept=True, n_jobs=None,\n",
       "          normalize=False)]"
      ]
     },
     "execution_count": 27,
     "metadata": {},
     "output_type": "execute_result"
    }
   ],
   "source": [
    "[mdl._model for mdl in est.models_t]"
   ]
  },
  {
   "cell_type": "markdown",
   "metadata": {},
   "source": [
    "# Checking All Good with LinearDMLCateEstimator"
   ]
  },
  {
   "cell_type": "code",
   "execution_count": 28,
   "metadata": {},
   "outputs": [
    {
     "data": {
      "text/plain": [
       "<econml.dml.LinearDMLCateEstimator at 0x15fd49fc160>"
      ]
     },
     "execution_count": 28,
     "metadata": {},
     "output_type": "execute_result"
    }
   ],
   "source": [
    "from econml.dml import LinearDMLCateEstimator\n",
    "\n",
    "np.random.seed(123)\n",
    "X = np.random.normal(size=(1000, 3))\n",
    "y = X[:, 0] + X[:, 1] + np.random.normal(0, 0.01, size=(1000,))\n",
    "est = LinearDMLCateEstimator(model_y=LinearRegression(),\n",
    "                             model_t=LinearRegression())\n",
    "est.fit(y, X[:, 0], W=X[:, 1:], inference='statsmodels')"
   ]
  },
  {
   "cell_type": "code",
   "execution_count": 29,
   "metadata": {},
   "outputs": [
    {
     "data": {
      "text/plain": [
       "array([1.00033637])"
      ]
     },
     "execution_count": 29,
     "metadata": {},
     "output_type": "execute_result"
    }
   ],
   "source": [
    "est.effect()"
   ]
  },
  {
   "cell_type": "code",
   "execution_count": 30,
   "metadata": {},
   "outputs": [
    {
     "data": {
      "text/plain": [
       "(array([0.99499205]), array([1.00568068]))"
      ]
     },
     "execution_count": 30,
     "metadata": {},
     "output_type": "execute_result"
    }
   ],
   "source": [
    "est.effect_interval()"
   ]
  },
  {
   "cell_type": "code",
   "execution_count": 31,
   "metadata": {},
   "outputs": [
    {
     "data": {
      "text/plain": [
       "[LinearRegression(copy_X=True, fit_intercept=True, n_jobs=None,\n",
       "          normalize=False),\n",
       " LinearRegression(copy_X=True, fit_intercept=True, n_jobs=None,\n",
       "          normalize=False)]"
      ]
     },
     "execution_count": 31,
     "metadata": {},
     "output_type": "execute_result"
    }
   ],
   "source": [
    "est.models_y"
   ]
  },
  {
   "cell_type": "code",
   "execution_count": 32,
   "metadata": {},
   "outputs": [
    {
     "data": {
      "text/plain": [
       "[LinearRegression(copy_X=True, fit_intercept=True, n_jobs=None,\n",
       "          normalize=False),\n",
       " LinearRegression(copy_X=True, fit_intercept=True, n_jobs=None,\n",
       "          normalize=False)]"
      ]
     },
     "execution_count": 32,
     "metadata": {},
     "output_type": "execute_result"
    }
   ],
   "source": [
    "est.models_t"
   ]
  },
  {
   "cell_type": "code",
   "execution_count": 33,
   "metadata": {},
   "outputs": [
    {
     "data": {
      "text/plain": [
       "array([1.00033637])"
      ]
     },
     "execution_count": 33,
     "metadata": {},
     "output_type": "execute_result"
    }
   ],
   "source": [
    "est.coef_"
   ]
  },
  {
   "cell_type": "code",
   "execution_count": 34,
   "metadata": {},
   "outputs": [
    {
     "data": {
      "text/plain": [
       "(array([0.99499205]), array([1.00568068]))"
      ]
     },
     "execution_count": 34,
     "metadata": {},
     "output_type": "execute_result"
    }
   ],
   "source": [
    "est.coef__interval()"
   ]
  },
  {
   "cell_type": "code",
   "execution_count": 35,
   "metadata": {},
   "outputs": [
    {
     "data": {
      "text/plain": [
       "<econml.utilities.StatsModelsLinearRegression at 0x15fd4a166d8>"
      ]
     },
     "execution_count": 35,
     "metadata": {},
     "output_type": "execute_result"
    }
   ],
   "source": [
    "est.model_final"
   ]
  },
  {
   "cell_type": "code",
   "execution_count": 36,
   "metadata": {},
   "outputs": [
    {
     "data": {
      "text/plain": [
       "array([0.00324911])"
      ]
     },
     "execution_count": 36,
     "metadata": {},
     "output_type": "execute_result"
    }
   ],
   "source": [
    "est.model_final._param_stderr"
   ]
  },
  {
   "cell_type": "markdown",
   "metadata": {},
   "source": [
    "# DR Learner Based on _OrthoLearner"
   ]
  },
  {
   "cell_type": "code",
   "execution_count": 44,
   "metadata": {},
   "outputs": [
    {
     "data": {
      "text/plain": [
       "<econml._ortho_learner._OrthoLearner at 0x15fd4c79c18>"
      ]
     },
     "execution_count": 44,
     "metadata": {},
     "output_type": "execute_result"
    }
   ],
   "source": [
    "import numpy as np\n",
    "from sklearn.linear_model import LinearRegression\n",
    "from econml._ortho_learner import _OrthoLearner\n",
    "class ModelNuisance:\n",
    "    def __init__(self, model_t, model_y):\n",
    "        self._model_t = model_t\n",
    "        self._model_y = model_y\n",
    "\n",
    "    def fit(self, Y, T, X=None, W=None):\n",
    "        self._model_t.fit(np.hstack([X, W]), np.matmul(T, np.arange(1, T.shape[1]+1)))\n",
    "        self._model_y.fit(np.hstack([T, X, W]), Y)\n",
    "        return self\n",
    "\n",
    "    def predict(self, Y, T, X=None, W=None):\n",
    "        propensities = self._model_t.predict_proba(np.hstack([X, W]))\n",
    "        Y_pred = np.zeros((T.shape[0], T.shape[1] + 1))\n",
    "        T_counter = np.zeros(T.shape)\n",
    "        Y_pred[:, 0] = self._model_y.predict(np.hstack([T_counter, X, W]))\n",
    "        Y_pred[:, 0] += (Y - Y_pred[:, 0]) * np.all(T==0, axis=1) / propensities[:, 0]\n",
    "        for t in np.arange(T.shape[1]):\n",
    "            T_counter = np.zeros(T.shape)\n",
    "            T_counter[:, t] = 1\n",
    "            Y_pred[:, t + 1] = self._model_y.predict(np.hstack([T_counter, X, W]))\n",
    "            Y_pred[:, t + 1] += (Y - Y_pred[:, t + 1]) * (T[:, t] == 1) / propensities[:, t + 1]\n",
    "        return Y_pred\n",
    "\n",
    "class ModelFinal:\n",
    "\n",
    "    def __init__(self):\n",
    "        return\n",
    "\n",
    "    def fit(self, Y, T, X=None, W=None, nuisances=None):\n",
    "        Y_pred, = nuisances\n",
    "        self.models_cate = [LinearRegression().fit(X, Y_pred[:, t] - Y_pred[:, 0])\n",
    "                            for t in np.arange(1, Y_pred.shape[1])]\n",
    "        return self\n",
    "\n",
    "    def predict(self, X=None):\n",
    "        # theta needs to be of dimension (1, d_t) if T is (n, d_t)\n",
    "        return np.array([mdl.predict(X) for mdl in self.models_cate]).T\n",
    "\n",
    "np.random.seed(123)\n",
    "X = np.random.normal(size=(1000, 3))\n",
    "import scipy.special\n",
    "from sklearn.linear_model import LogisticRegression\n",
    "T = np.random.binomial(1, scipy.special.expit(X[:, 0]))\n",
    "sigma = 0.01\n",
    "y = (1 + .5*X[:, 0]) * T + X[:, 0] + np.random.normal(0, sigma, size=(1000,))\n",
    "est = _OrthoLearner(ModelNuisance(LogisticRegression(solver='lbfgs'), LinearRegression()), ModelFinal(),\n",
    "                    n_splits=2, discrete_treatment=True, random_state=None)\n",
    "est.fit(y, T, X=X[:, [0]], W=X[:, 1:])"
   ]
  },
  {
   "cell_type": "code",
   "execution_count": 45,
   "metadata": {},
   "outputs": [
    {
     "data": {
      "text/plain": [
       "array([[ 0.43111746],\n",
       "       [ 0.21377249],\n",
       "       [-0.26176354],\n",
       "       [ 0.54421168],\n",
       "       [ 1.76258919],\n",
       "       [ 0.76761463],\n",
       "       [ 1.51079693],\n",
       "       [ 1.76224943],\n",
       "       [ 0.34418752],\n",
       "       [ 0.2538734 ]])"
      ]
     },
     "execution_count": 45,
     "metadata": {},
     "output_type": "execute_result"
    }
   ],
   "source": [
    "est.const_marginal_effect(X[:10, [0]])"
   ]
  },
  {
   "cell_type": "code",
   "execution_count": 46,
   "metadata": {},
   "outputs": [
    {
     "data": {
      "text/plain": [
       "[array([[ 1.07859458, -0.09378512, -0.16819498]]),\n",
       " array([[ 0.87520635, -0.07950399,  0.06037872]])]"
      ]
     },
     "execution_count": 46,
     "metadata": {},
     "output_type": "execute_result"
    }
   ],
   "source": [
    "[mdl._model_t.coef_ for mdl in est.models_nuisance]"
   ]
  },
  {
   "cell_type": "code",
   "execution_count": 47,
   "metadata": {},
   "outputs": [
    {
     "data": {
      "text/plain": [
       "[array([ 0.99703455,  1.25799456, -0.00554411,  0.00216083]),\n",
       " array([ 1.04547656e+00,  1.21020962e+00,  7.94069500e-04, -9.68240609e-03])]"
      ]
     },
     "execution_count": 47,
     "metadata": {},
     "output_type": "execute_result"
    }
   ],
   "source": [
    "[mdl._model_y.coef_ for mdl in est.models_nuisance]"
   ]
  },
  {
   "cell_type": "code",
   "execution_count": 48,
   "metadata": {},
   "outputs": [
    {
     "data": {
      "text/plain": [
       "array([0.51667104])"
      ]
     },
     "execution_count": 48,
     "metadata": {},
     "output_type": "execute_result"
    }
   ],
   "source": [
    "est.model_final.models_cate[0].coef_"
   ]
  },
  {
   "cell_type": "code",
   "execution_count": 49,
   "metadata": {},
   "outputs": [
    {
     "data": {
      "text/plain": [
       "0.9920313527587242"
      ]
     },
     "execution_count": 49,
     "metadata": {},
     "output_type": "execute_result"
    }
   ],
   "source": [
    "est.model_final.models_cate[0].intercept_"
   ]
  },
  {
   "cell_type": "code",
   "execution_count": 2,
   "metadata": {},
   "outputs": [
    {
     "data": {
      "text/plain": [
       "<econml.drlearner.DRLearner at 0x16ac03bf748>"
      ]
     },
     "execution_count": 2,
     "metadata": {},
     "output_type": "execute_result"
    }
   ],
   "source": [
    "import numpy as np\n",
    "from sklearn.linear_model import LinearRegression\n",
    "from econml.drlearner import DRLearner\n",
    "import scipy.special\n",
    "from sklearn.linear_model import LogisticRegression\n",
    "\n",
    "np.random.seed(123)\n",
    "X = np.random.normal(size=(1000, 3))\n",
    "T = np.random.binomial(2, scipy.special.expit(X[:, 0]))\n",
    "sigma = 0.001\n",
    "y = (1 + .5*X[:, 0]) * T + X[:, 0] + np.random.normal(0, sigma, size=(1000,))\n",
    "est = DRLearner()\n",
    "est.fit(y, T, X=X, W=None)"
   ]
  },
  {
   "cell_type": "code",
   "execution_count": 3,
   "metadata": {},
   "outputs": [
    {
     "data": {
      "text/plain": [
       "array([0.52446994, 0.37952909])"
      ]
     },
     "execution_count": 3,
     "metadata": {},
     "output_type": "execute_result"
    }
   ],
   "source": [
    "est.effect(X[:2], T0=0, T1=1)"
   ]
  },
  {
   "cell_type": "code",
   "execution_count": 4,
   "metadata": {},
   "outputs": [
    {
     "data": {
      "text/plain": [
       "array([[0.52446994, 0.8672687 ],\n",
       "       [0.37952909, 0.27316111]])"
      ]
     },
     "execution_count": 4,
     "metadata": {},
     "output_type": "execute_result"
    }
   ],
   "source": [
    "est.const_marginal_effect(X[:2])"
   ]
  },
  {
   "cell_type": "code",
   "execution_count": 5,
   "metadata": {},
   "outputs": [
    {
     "data": {
      "text/plain": [
       "[array([ 1.43597301e+00,  3.34210655e-04, -7.10298447e-03,  6.70792219e-01,\n",
       "         1.98425625e+00]),\n",
       " array([ 1.49463372e+00, -2.46327311e-03,  2.00974603e-03,  6.82820433e-01,\n",
       "         2.03497798e+00])]"
      ]
     },
     "execution_count": 5,
     "metadata": {},
     "output_type": "execute_result"
    }
   ],
   "source": [
    "[mdl.coef_ for mdl in est.models_regression]"
   ]
  },
  {
   "cell_type": "code",
   "execution_count": 6,
   "metadata": {},
   "outputs": [
    {
     "data": {
      "text/plain": [
       "[array([[-1.03943214,  0.09104269,  0.112561  ],\n",
       "        [ 0.08914442,  0.03477572, -0.09003806],\n",
       "        [ 0.95028772, -0.12581841, -0.02252295]]),\n",
       " array([[-0.96593071,  0.09075624, -0.11942558],\n",
       "        [ 0.04603771, -0.03461148, -0.07898284],\n",
       "        [ 0.919893  , -0.05614476,  0.19840842]])]"
      ]
     },
     "execution_count": 6,
     "metadata": {},
     "output_type": "execute_result"
    }
   ],
   "source": [
    "[mdl.coef_ for mdl in est.models_propensity]"
   ]
  },
  {
   "cell_type": "code",
   "execution_count": 7,
   "metadata": {},
   "outputs": [
    {
     "data": {
      "text/plain": [
       "array([ 1.93280373,  1.06295052,  0.08980031, -0.00397677])"
      ]
     },
     "execution_count": 7,
     "metadata": {},
     "output_type": "execute_result"
    }
   ],
   "source": [
    "est.model_cate(T=2).coef_"
   ]
  },
  {
   "cell_type": "code",
   "execution_count": 8,
   "metadata": {},
   "outputs": [
    {
     "data": {
      "text/plain": [
       "['1', 'x0', 'x1', 'x2']"
      ]
     },
     "execution_count": 8,
     "metadata": {},
     "output_type": "execute_result"
    }
   ],
   "source": [
    "est.cate_feature_names"
   ]
  },
  {
   "cell_type": "code",
   "execution_count": 9,
   "metadata": {},
   "outputs": [
    {
     "data": {
      "text/plain": [
       "0.0"
      ]
     },
     "execution_count": 9,
     "metadata": {},
     "output_type": "execute_result"
    }
   ],
   "source": [
    "est.model_cate(T=2).intercept_"
   ]
  },
  {
   "cell_type": "code",
   "execution_count": 10,
   "metadata": {},
   "outputs": [
    {
     "data": {
      "text/plain": [
       "array([0.99869218, 0.46046774, 0.01178362, 0.04920265])"
      ]
     },
     "execution_count": 10,
     "metadata": {},
     "output_type": "execute_result"
    }
   ],
   "source": [
    "est.model_cate(T=1).coef_"
   ]
  },
  {
   "cell_type": "code",
   "execution_count": 11,
   "metadata": {},
   "outputs": [
    {
     "data": {
      "text/plain": [
       "0.0"
      ]
     },
     "execution_count": 11,
     "metadata": {},
     "output_type": "execute_result"
    }
   ],
   "source": [
    "est.model_cate(T=1).intercept_"
   ]
  },
  {
   "cell_type": "code",
   "execution_count": 12,
   "metadata": {},
   "outputs": [
    {
     "data": {
      "text/plain": [
       "9.29702483700037"
      ]
     },
     "execution_count": 12,
     "metadata": {},
     "output_type": "execute_result"
    }
   ],
   "source": [
    "est.score_"
   ]
  },
  {
   "cell_type": "code",
   "execution_count": 13,
   "metadata": {},
   "outputs": [
    {
     "data": {
      "text/plain": [
       "7.776002714350081"
      ]
     },
     "execution_count": 13,
     "metadata": {},
     "output_type": "execute_result"
    }
   ],
   "source": [
    "est.score(y, T, X=X)"
   ]
  },
  {
   "cell_type": "code",
   "execution_count": 14,
   "metadata": {},
   "outputs": [
    {
     "name": "stderr",
     "output_type": "stream",
     "text": [
      "C:\\ProgramData\\Anaconda3\\lib\\site-packages\\sklearn\\linear_model\\logistic.py:460: FutureWarning: Default multi_class will be changed to 'auto' in 0.22. Specify the multi_class option to silence this warning.\n",
      "  \"this warning.\", FutureWarning)\n",
      "C:\\ProgramData\\Anaconda3\\lib\\site-packages\\sklearn\\linear_model\\logistic.py:460: FutureWarning: Default multi_class will be changed to 'auto' in 0.22. Specify the multi_class option to silence this warning.\n",
      "  \"this warning.\", FutureWarning)\n"
     ]
    },
    {
     "data": {
      "text/plain": [
       "<econml.drlearner.LinearDRLearner at 0x16ac083e978>"
      ]
     },
     "execution_count": 14,
     "metadata": {},
     "output_type": "execute_result"
    }
   ],
   "source": [
    "import numpy as np\n",
    "from sklearn.linear_model import LinearRegression\n",
    "from econml.drlearner import DRLearner, LinearDRLearner\n",
    "\n",
    "np.random.seed(123)\n",
    "X = np.random.normal(size=(1000, 3))\n",
    "import scipy.special\n",
    "from sklearn.linear_model import LogisticRegression\n",
    "T = np.random.binomial(2, scipy.special.expit(X[:, 0]))\n",
    "sigma = 0.01\n",
    "y = (1 + .5*X[:, 0]) * T + X[:, 0] + np.random.normal(0, sigma, size=(1000,))\n",
    "est = LinearDRLearner(LogisticRegression(solver='lbfgs'), LinearRegression())\n",
    "est.fit(y, T, X=X, W=None, inference='statsmodels')"
   ]
  },
  {
   "cell_type": "code",
   "execution_count": 15,
   "metadata": {},
   "outputs": [],
   "source": [
    "from econml.utilities import StatsModelsLinearRegression"
   ]
  },
  {
   "cell_type": "code",
   "execution_count": 16,
   "metadata": {},
   "outputs": [
    {
     "data": {
      "text/plain": [
       "(array([ 0.4087843 ,  0.16615335, -0.32221422]),\n",
       " array([0.59866562, 0.5106094 , 0.14135485]))"
      ]
     },
     "execution_count": 16,
     "metadata": {},
     "output_type": "execute_result"
    }
   ],
   "source": [
    "est.effect_interval(X[:3])"
   ]
  },
  {
   "cell_type": "code",
   "execution_count": 17,
   "metadata": {},
   "outputs": [],
   "source": [
    "low, up = est.const_marginal_effect_interval(X[:3])"
   ]
  },
  {
   "cell_type": "code",
   "execution_count": 18,
   "metadata": {},
   "outputs": [],
   "source": [
    "point = est.const_marginal_effect(X[:3])"
   ]
  },
  {
   "cell_type": "code",
   "execution_count": 19,
   "metadata": {},
   "outputs": [
    {
     "name": "stdout",
     "output_type": "stream",
     "text": [
      "X=[-1.0856306   0.99734545  0.2829785 ]\n",
      "0.4087843003398282 0.5037249622393646 0.5986656241389009\n",
      "0.4571846983497194\n",
      "0.6267599463600815 1.012628073862441 1.3984962013648001\n",
      "0.9143693966994388\n",
      "X=[-1.50629471 -0.57860025  1.65143654]\n",
      "0.1661533536426545 0.33838137530437185 0.5106093969660891\n",
      "0.246852643040954\n",
      "-0.07764920507354223 0.5123144081449562 1.1022780213634544\n",
      "0.493705286081908\n",
      "X=[-2.42667924 -0.42891263  1.26593626]\n",
      "-0.32221422472280065 -0.09042968751747016 0.14135484968786025\n",
      "-0.21333962169653709\n",
      "-1.1461891997437945 -0.3757694761362078 0.39465024747137845\n",
      "-0.42667924339307417\n"
     ]
    }
   ],
   "source": [
    "for x, l, p, u in zip(X, low, point, up):\n",
    "    print(\"X={}\".format(x))\n",
    "    for it, (ll, pp, uu) in enumerate(zip(l, p, u)):\n",
    "        print(ll, pp, uu)\n",
    "        print((1 + .5*x[0])*(it+1))"
   ]
  },
  {
   "cell_type": "code",
   "execution_count": 20,
   "metadata": {},
   "outputs": [
    {
     "data": {
      "text/plain": [
       "(array([ 1.82303692,  0.71414488, -0.04264683, -0.1179687 ]),\n",
       " array([2.14002152, 1.22322968, 0.1967088 , 0.15973097]))"
      ]
     },
     "execution_count": 20,
     "metadata": {},
     "output_type": "execute_result"
    }
   ],
   "source": [
    "est.coef__interval(T=2)"
   ]
  },
  {
   "cell_type": "code",
   "execution_count": null,
   "metadata": {
    "collapsed": true
   },
   "outputs": [],
   "source": []
  }
 ],
 "metadata": {
  "kernelspec": {
   "display_name": "Python 3",
   "language": "python",
   "name": "python3"
  },
  "language_info": {
   "codemirror_mode": {
    "name": "ipython",
    "version": 3
   },
   "file_extension": ".py",
   "mimetype": "text/x-python",
   "name": "python",
   "nbconvert_exporter": "python",
   "pygments_lexer": "ipython3",
   "version": "3.7.1"
  }
 },
 "nbformat": 4,
 "nbformat_minor": 2
}
