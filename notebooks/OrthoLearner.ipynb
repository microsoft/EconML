{
 "cells": [
  {
   "cell_type": "code",
   "execution_count": 1,
   "metadata": {},
   "outputs": [],
   "source": [
    "%load_ext autoreload\n",
    "%autoreload 2\n",
    "from econml._ortho_learner import _crossfit"
   ]
  },
  {
   "cell_type": "code",
   "execution_count": 14,
   "metadata": {},
   "outputs": [
    {
     "name": "stdout",
     "output_type": "stream",
     "text": [
      "(array([-1.1057289 , -1.53756637, -2.4518278 , ...,  1.10628792,\n",
      "       -1.82966233, -1.78227335]),)\n",
      "[<__main__.Wrapper object at 0x1273b70f0>, <__main__.Wrapper object at 0x1273b77b8>]\n"
     ]
    },
    {
     "data": {
      "text/plain": [
       "array([   0,    1,    2, ..., 4997, 4998, 4999])"
      ]
     },
     "execution_count": 14,
     "metadata": {},
     "output_type": "execute_result"
    }
   ],
   "source": [
    "import numpy as np\n",
    "from sklearn.model_selection import KFold\n",
    "from sklearn.linear_model import Lasso\n",
    "class Wrapper:\n",
    "    def __init__(self, model):\n",
    "        self._model = model\n",
    "    def fit(self, X, y, W=None):\n",
    "        self._model.fit(X, y)\n",
    "        return self\n",
    "    def predict(self, X, y, W=None):\n",
    "        return self._model.predict(X)\n",
    "np.random.seed(123)\n",
    "X = np.random.normal(size=(5000, 3))\n",
    "y = X[:, 0] + np.random.normal(size=(5000,))\n",
    "folds = list(KFold(2).split(X, y))\n",
    "model = Lasso(alpha=0.01)\n",
    "nuisance, model_list, fitted_inds = _crossfit(Wrapper(model),\n",
    "                                 folds,\n",
    "                                 X, y, W=y, Z=None)\n",
    "print(nuisance)\n",
    "print(model_list)\n",
    "fitted_inds"
   ]
  },
  {
   "cell_type": "code",
   "execution_count": 15,
   "metadata": {},
   "outputs": [
    {
     "name": "stdout",
     "output_type": "stream",
     "text": [
      "[[ 0.731492    0.27402924 -2.20337664]]\n",
      "[1.00000239]\n",
      "(array([0.99461543]), array([1.00538936]))\n",
      "[ 1.00035091 -0.00127181]\n",
      "(array([ 0.99514528, -0.00641798]), array([1.00555653, 0.00387436]))\n",
      "[1.00000239]\n"
     ]
    }
   ],
   "source": [
    "from econml.dml import LinearDMLCateEstimator\n",
    "from sklearn.preprocessing import PolynomialFeatures\n",
    "from sklearn.linear_model import LinearRegression, LassoCV, Lasso\n",
    "import numpy as np\n",
    "X = np.random.normal(size=(100000, 3))\n",
    "y = X[:, 0] + np.random.normal(size=(100000,))\n",
    "est = LinearDMLCateEstimator(model_y=LinearRegression(), model_t=LinearRegression())\n",
    "est.fit(y, X[:, 0], X[:, [1]], X[:, 2:], inference='statsmodels')\n",
    "print(X[:1])\n",
    "print(est.effect(X[:1, [1]]))\n",
    "print(est.effect_interval(X[:1, [1]]))\n",
    "print(est.coef_)\n",
    "print(est.coef__interval())\n",
    "print(est.const_marginal_effect(X[:1, [1]]))"
   ]
  },
  {
   "cell_type": "code",
   "execution_count": 17,
   "metadata": {},
   "outputs": [
    {
     "name": "stdout",
     "output_type": "stream",
     "text": [
      "[[ 0.0379858   0.52725655 -0.92624606 -0.0813923  -3.68794624  0.58108286\n",
      "  -0.25362371 -1.84854315  0.28964067  0.24566678]]\n",
      "[[0.99416019 0.99416019]]\n",
      "[[0.99416019 0.         0.         0.         0.         0.\n",
      "  0.         0.        ]\n",
      " [0.99416019 0.         0.         0.         0.         0.\n",
      "  0.         0.        ]]\n",
      "[[0.99416019 0.99416019]]\n"
     ]
    }
   ],
   "source": [
    "from econml.dml import SparseLinearDMLCateEstimator\n",
    "from sklearn.preprocessing import PolynomialFeatures\n",
    "from sklearn.linear_model import LinearRegression, LassoCV, Lasso, MultiTaskLassoCV\n",
    "import numpy as np\n",
    "X = np.random.normal(size=(5000, 10))\n",
    "y = X[:, 0] + np.random.normal(size=(5000,))\n",
    "est = SparseLinearDMLCateEstimator(model_y=MultiTaskLassoCV(cv=3), model_t=LassoCV(cv=3),\n",
    "                                   model_final=MultiTaskLassoCV(cv=3, fit_intercept=False))\n",
    "dx = 8\n",
    "est.fit(np.hstack([y.reshape(-1,1), y.reshape(-1,1)]), X[:, 0], X[:, 1:dx], X[:, dx:])\n",
    "print(X[:1])\n",
    "print(est.effect(X[:1, 1:dx]))\n",
    "print(est.model_final.coef_)\n",
    "print(est.const_marginal_effect(X[:1, 1:dx]))"
   ]
  },
  {
   "cell_type": "code",
   "execution_count": null,
   "metadata": {
    "collapsed": true
   },
   "outputs": [],
   "source": []
  }
 ],
 "metadata": {
  "kernelspec": {
   "display_name": "Python 3",
   "language": "python",
   "name": "python3"
  },
  "language_info": {
   "codemirror_mode": {
    "name": "ipython",
    "version": 3
   },
   "file_extension": ".py",
   "mimetype": "text/x-python",
   "name": "python",
   "nbconvert_exporter": "python",
   "pygments_lexer": "ipython3",
   "version": "3.6.1"
  }
 },
 "nbformat": 4,
 "nbformat_minor": 2
}
