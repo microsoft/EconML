{
 "cells": [
  {
   "cell_type": "code",
   "execution_count": 1,
   "metadata": {},
   "outputs": [],
   "source": [
    "%load_ext autoreload\n",
    "%autoreload 2\n",
    "from econml._ortho_learner import _crossfit"
   ]
  },
  {
   "cell_type": "code",
   "execution_count": 3,
   "metadata": {},
   "outputs": [
    {
     "name": "stdout",
     "output_type": "stream",
     "text": [
      "(array([-1.1057289 , -1.53756637, -2.4518278 , ...,  1.10628792,\n",
      "       -1.82966233, -1.78227335]),)\n",
      "[<__main__.Wrapper object at 0x12fd9d438>, <__main__.Wrapper object at 0x118e252b0>]\n"
     ]
    },
    {
     "data": {
      "text/plain": [
       "array([   0,    1,    2, ..., 4997, 4998, 4999])"
      ]
     },
     "execution_count": 3,
     "metadata": {},
     "output_type": "execute_result"
    }
   ],
   "source": [
    "import numpy as np\n",
    "from sklearn.model_selection import KFold\n",
    "from sklearn.linear_model import Lasso\n",
    "class Wrapper:\n",
    "    def __init__(self, model):\n",
    "        self._model = model\n",
    "    def fit(self, X, y, W=None):\n",
    "        self._model.fit(X, y)\n",
    "        return self\n",
    "    def predict(self, X, y, W=None):\n",
    "        return self._model.predict(X)\n",
    "np.random.seed(123)\n",
    "X = np.random.normal(size=(5000, 3))\n",
    "y = X[:, 0] + np.random.normal(size=(5000,))\n",
    "folds = list(KFold(2).split(X, y))\n",
    "model = Lasso(alpha=0.01)\n",
    "nuisance, model_list, fitted_inds = _crossfit(Wrapper(model),\n",
    "                                 folds,\n",
    "                                 X, y, W=y, Z=None)\n",
    "print(nuisance)\n",
    "print(model_list)\n",
    "fitted_inds"
   ]
  },
  {
   "cell_type": "code",
   "execution_count": 13,
   "metadata": {},
   "outputs": [
    {
     "data": {
      "text/plain": [
       "array([1.23440172])"
      ]
     },
     "execution_count": 13,
     "metadata": {},
     "output_type": "execute_result"
    }
   ],
   "source": [
    "import numpy as np\n",
    "from sklearn.linear_model import LinearRegression\n",
    "from econml._ortho_learner import _OrthoLearner\n",
    "class ModelNuisance:\n",
    "    def __init__(self, model_t, model_y):\n",
    "        self._model_t = model_t\n",
    "        self._model_y = model_y\n",
    "    def fit(self, Y, T, W=None):\n",
    "        self._model_t.fit(W, T)\n",
    "        self._model_y.fit(W, Y)\n",
    "        return self\n",
    "    def predict(self, Y, T, W=None):\n",
    "        return Y - self._model_y.predict(W), T - self._model_t.predict(W)\n",
    "class ModelFinal:\n",
    "    def __init__(self):\n",
    "        return\n",
    "    def fit(self, Y, T, W=None, nuisances=None):\n",
    "        Y_res, T_res = nuisances\n",
    "        self.model = LinearRegression().fit(T_res.reshape(-1, 1), Y_res)\n",
    "        return self\n",
    "    def predict(self, X=None):\n",
    "        return self.model.coef_[0]\n",
    "    def score(self, Y, T, W=None, nuisances=None):\n",
    "        Y_res, T_res = nuisances\n",
    "        return np.mean(Y_res - self.model.coef_[0]*T_res)**2\n",
    "np.random.seed(123)\n",
    "X = np.random.normal(size=(100, 3))\n",
    "y = X[:, 0] + X[:, 1] + np.random.normal(size=(100,))\n",
    "est = _OrthoLearner(ModelNuisance(LinearRegression(), LinearRegression()), ModelFinal(),\n",
    "                    n_splits=2, discrete_treatment=False, random_state=None)\n",
    "est.fit(y, X[:, 0], W=X[:, 1:])\n",
    "est.effect()"
   ]
  },
  {
   "cell_type": "code",
   "execution_count": 14,
   "metadata": {},
   "outputs": [
    {
     "data": {
      "text/plain": [
       "0.0003880489502537651"
      ]
     },
     "execution_count": 14,
     "metadata": {},
     "output_type": "execute_result"
    }
   ],
   "source": [
    "est.score(y, X[:, 0], W=X[:, 1:])"
   ]
  },
  {
   "cell_type": "code",
   "execution_count": 15,
   "metadata": {},
   "outputs": [
    {
     "name": "stdout",
     "output_type": "stream",
     "text": [
      "[[ 1.0613513   0.0760928  -0.53482069]]\n",
      "[0.99780349]\n",
      "(array([0.99255731]), array([1.00304966]))\n",
      "[ 0.99804439 -0.00316585]\n",
      "(array([ 0.99281255, -0.00838755]), array([1.00327622, 0.00205585]))\n",
      "[0.99780349]\n"
     ]
    }
   ],
   "source": [
    "from econml.dml import LinearDMLCateEstimator\n",
    "from sklearn.preprocessing import PolynomialFeatures\n",
    "from sklearn.linear_model import LinearRegression, LassoCV, Lasso\n",
    "import numpy as np\n",
    "X = np.random.normal(size=(100000, 3))\n",
    "y = X[:, 0] + np.random.normal(size=(100000,))\n",
    "est = LinearDMLCateEstimator(model_y=LinearRegression(), model_t=LinearRegression())\n",
    "est.fit(y, X[:, 0], X[:, [1]], X[:, 2:], inference='statsmodels')\n",
    "print(X[:1])\n",
    "print(est.effect(X[:1, [1]]))\n",
    "print(est.effect_interval(X[:1, [1]]))\n",
    "print(est.coef_)\n",
    "print(est.coef__interval())\n",
    "print(est.const_marginal_effect(X[:1, [1]]))"
   ]
  },
  {
   "cell_type": "code",
   "execution_count": 16,
   "metadata": {},
   "outputs": [
    {
     "name": "stdout",
     "output_type": "stream",
     "text": [
      "[[-0.88666276  0.14006212  0.72897065  1.41017893  0.31083606  0.32659312\n",
      "   0.53522834  1.21111218 -0.74004013 -0.6584672 ]]\n",
      "[[0.99937549 0.99937549]]\n",
      "[[9.99291159e-01 0.00000000e+00 0.00000000e+00 0.00000000e+00\n",
      "  2.71306507e-04 0.00000000e+00 0.00000000e+00 0.00000000e+00]\n",
      " [9.99291159e-01 0.00000000e+00 0.00000000e+00 0.00000000e+00\n",
      "  2.71306507e-04 0.00000000e+00 0.00000000e+00 0.00000000e+00]]\n",
      "[[0.99937549 0.99937549]]\n"
     ]
    }
   ],
   "source": [
    "from econml.dml import SparseLinearDMLCateEstimator\n",
    "from sklearn.preprocessing import PolynomialFeatures\n",
    "from sklearn.linear_model import LinearRegression, LassoCV, Lasso, MultiTaskLassoCV\n",
    "import numpy as np\n",
    "X = np.random.normal(size=(5000, 10))\n",
    "y = X[:, 0] + np.random.normal(size=(5000,))\n",
    "est = SparseLinearDMLCateEstimator(model_y=MultiTaskLassoCV(cv=3), model_t=LassoCV(cv=3),\n",
    "                                   model_final=MultiTaskLassoCV(cv=3, fit_intercept=False))\n",
    "dx = 8\n",
    "est.fit(np.hstack([y.reshape(-1,1), y.reshape(-1,1)]), X[:, 0], X[:, 1:dx], X[:, dx:])\n",
    "print(X[:1])\n",
    "print(est.effect(X[:1, 1:dx]))\n",
    "print(est.model_final.coef_)\n",
    "print(est.const_marginal_effect(X[:1, 1:dx]))"
   ]
  },
  {
   "cell_type": "code",
   "execution_count": null,
   "metadata": {
    "collapsed": true
   },
   "outputs": [],
   "source": []
  }
 ],
 "metadata": {
  "kernelspec": {
   "display_name": "Python 3",
   "language": "python",
   "name": "python3"
  },
  "language_info": {
   "codemirror_mode": {
    "name": "ipython",
    "version": 3
   },
   "file_extension": ".py",
   "mimetype": "text/x-python",
   "name": "python",
   "nbconvert_exporter": "python",
   "pygments_lexer": "ipython3",
   "version": "3.6.1"
  }
 },
 "nbformat": 4,
 "nbformat_minor": 2
}
