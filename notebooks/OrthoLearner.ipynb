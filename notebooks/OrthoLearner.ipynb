{
 "cells": [
  {
   "cell_type": "code",
   "execution_count": 2,
   "metadata": {},
   "outputs": [
    {
     "name": "stdout",
     "output_type": "stream",
     "text": [
      "The autoreload extension is already loaded. To reload it, use:\n",
      "  %reload_ext autoreload\n"
     ]
    }
   ],
   "source": [
    "%load_ext autoreload\n",
    "%autoreload 2\n",
    "from econml._ortho_learner import _crossfit"
   ]
  },
  {
   "cell_type": "code",
   "execution_count": 3,
   "metadata": {},
   "outputs": [
    {
     "name": "stdout",
     "output_type": "stream",
     "text": [
      "(array([-1.1057289 , -1.53756637, -2.4518278 , ...,  1.10628792,\n",
      "       -1.82966233, -1.78227335]),)\n",
      "[<__main__.Wrapper object at 0x1297feef0>, <__main__.Wrapper object at 0x112869c50>]\n"
     ]
    },
    {
     "data": {
      "text/plain": [
       "array([   0,    1,    2, ..., 4997, 4998, 4999])"
      ]
     },
     "execution_count": 3,
     "metadata": {},
     "output_type": "execute_result"
    }
   ],
   "source": [
    "import numpy as np\n",
    "from sklearn.model_selection import KFold\n",
    "from sklearn.linear_model import Lasso\n",
    "class Wrapper:\n",
    "    def __init__(self, model):\n",
    "        self._model = model\n",
    "    def fit(self, X, y, W=None):\n",
    "        self._model.fit(X, y)\n",
    "        return self\n",
    "    def predict(self, X, y, W=None):\n",
    "        return self._model.predict(X)\n",
    "np.random.seed(123)\n",
    "X = np.random.normal(size=(5000, 3))\n",
    "y = X[:, 0] + np.random.normal(size=(5000,))\n",
    "folds = list(KFold(2).split(X, y))\n",
    "model = Lasso(alpha=0.01)\n",
    "nuisance, model_list, fitted_inds = _crossfit(Wrapper(model),\n",
    "                                 folds,\n",
    "                                 X, y, W=y, Z=None)\n",
    "print(nuisance)\n",
    "print(model_list)\n",
    "fitted_inds"
   ]
  },
  {
   "cell_type": "code",
   "execution_count": 71,
   "metadata": {},
   "outputs": [
    {
     "data": {
      "text/plain": [
       "<econml._ortho_learner._OrthoLearner at 0x12d8b6be0>"
      ]
     },
     "execution_count": 71,
     "metadata": {},
     "output_type": "execute_result"
    }
   ],
   "source": [
    "import numpy as np\n",
    "from sklearn.linear_model import LinearRegression\n",
    "from econml._ortho_learner import _OrthoLearner\n",
    "class ModelNuisance:\n",
    "    def __init__(self, model_t, model_y):\n",
    "        self._model_t = model_t\n",
    "        self._model_y = model_y\n",
    "    def fit(self, Y, T, W=None):\n",
    "        self._model_t.fit(W, T)\n",
    "        self._model_y.fit(W, Y)\n",
    "        return self\n",
    "    def predict(self, Y, T, W=None):\n",
    "        return Y - self._model_y.predict(W), T - self._model_t.predict(W)\n",
    "class ModelFinal:\n",
    "    def __init__(self):\n",
    "        return\n",
    "    def fit(self, Y, T, W=None, nuisances=None):\n",
    "        Y_res, T_res = nuisances\n",
    "        self.model = LinearRegression(fit_intercept=False).fit(T_res.reshape(-1, 1), Y_res)\n",
    "        return self\n",
    "    def predict(self, X=None):\n",
    "        return self.model.coef_[0]\n",
    "    def score(self, Y, T, W=None, nuisances=None):\n",
    "        Y_res, T_res = nuisances\n",
    "        return np.mean((Y_res - self.model.predict(T_res.reshape(-1, 1)))**2)\n",
    "np.random.seed(123)\n",
    "X = np.random.normal(size=(100, 3))\n",
    "y = X[:, 0] + X[:, 1] + np.random.normal(0, 0.1, size=(100,))\n",
    "est = _OrthoLearner(ModelNuisance(LinearRegression(), LinearRegression()),\n",
    "                    ModelFinal(),\n",
    "                    n_splits=2, discrete_treatment=False, random_state=None)\n",
    "est.fit(y, X[:, 0], W=X[:, 1:])"
   ]
  },
  {
   "cell_type": "code",
   "execution_count": 72,
   "metadata": {},
   "outputs": [
    {
     "data": {
      "text/plain": [
       "1.0236499258047582"
      ]
     },
     "execution_count": 72,
     "metadata": {},
     "output_type": "execute_result"
    }
   ],
   "source": [
    "est.const_marginal_effect()"
   ]
  },
  {
   "cell_type": "code",
   "execution_count": 73,
   "metadata": {},
   "outputs": [
    {
     "data": {
      "text/plain": [
       "array([1.02364993])"
      ]
     },
     "execution_count": 73,
     "metadata": {},
     "output_type": "execute_result"
    }
   ],
   "source": [
    "est.effect(T0=0, T1=1)"
   ]
  },
  {
   "cell_type": "code",
   "execution_count": 74,
   "metadata": {},
   "outputs": [
    {
     "data": {
      "text/plain": [
       "0.00727995424098179"
      ]
     },
     "execution_count": 74,
     "metadata": {},
     "output_type": "execute_result"
    }
   ],
   "source": [
    "est.score(y, X[:, 0], W=X[:, 1:])"
   ]
  },
  {
   "cell_type": "code",
   "execution_count": 75,
   "metadata": {},
   "outputs": [
    {
     "data": {
      "text/plain": [
       "LinearRegression(copy_X=True, fit_intercept=False, n_jobs=None,\n",
       "         normalize=False)"
      ]
     },
     "execution_count": 75,
     "metadata": {},
     "output_type": "execute_result"
    }
   ],
   "source": [
    "est.model_final.model"
   ]
  },
  {
   "cell_type": "code",
   "execution_count": 76,
   "metadata": {},
   "outputs": [
    {
     "data": {
      "text/plain": [
       "array([1.02364993])"
      ]
     },
     "execution_count": 76,
     "metadata": {},
     "output_type": "execute_result"
    }
   ],
   "source": [
    "est.model_final.model.coef_"
   ]
  },
  {
   "cell_type": "code",
   "execution_count": 77,
   "metadata": {},
   "outputs": [
    {
     "data": {
      "text/plain": [
       "0.007568302109999707"
      ]
     },
     "execution_count": 77,
     "metadata": {},
     "output_type": "execute_result"
    }
   ],
   "source": [
    "est.score_"
   ]
  },
  {
   "cell_type": "code",
   "execution_count": 11,
   "metadata": {},
   "outputs": [
    {
     "data": {
      "text/plain": [
       "<econml._ortho_learner._OrthoLearner at 0x12981d048>"
      ]
     },
     "execution_count": 11,
     "metadata": {},
     "output_type": "execute_result"
    }
   ],
   "source": [
    "class ModelNuisance:\n",
    "    def __init__(self, model_t, model_y):\n",
    "        self._model_t = model_t\n",
    "        self._model_y = model_y\n",
    "\n",
    "    def fit(self, Y, T, W=None):\n",
    "        self._model_t.fit(W, np.matmul(T, np.arange(1, T.shape[1]+1)))\n",
    "        self._model_y.fit(W, Y)\n",
    "        return self\n",
    "\n",
    "    def predict(self, Y, T, W=None):\n",
    "        return Y - self._model_y.predict(W), T - self._model_t.predict_proba(W)[:, 1:]\n",
    "\n",
    "class ModelFinal:\n",
    "\n",
    "    def __init__(self):\n",
    "        return\n",
    "\n",
    "    def fit(self, Y, T, W=None, nuisances=None):\n",
    "        Y_res, T_res = nuisances\n",
    "        self.model = LinearRegression(fit_intercept=False).fit(T_res.reshape(-1, 1), Y_res)\n",
    "        return self\n",
    "\n",
    "    def predict(self):\n",
    "        # theta needs to be of dimension (1, d_t) if T is (n, d_t)\n",
    "        return np.array([[self.model.coef_[0]]])\n",
    "\n",
    "    def score(self, Y, T, W=None, nuisances=None):\n",
    "        Y_res, T_res = nuisances\n",
    "        return np.mean((Y_res - self.model.predict(T_res.reshape(-1, 1)))**2)\n",
    "\n",
    "np.random.seed(123)\n",
    "X = np.random.normal(size=(100, 3))\n",
    "import scipy.special\n",
    "from sklearn.linear_model import LogisticRegression\n",
    "T = np.random.binomial(1, scipy.special.expit(X[:, 0]))\n",
    "sigma = 0.01\n",
    "y = T + X[:, 0] + np.random.normal(0, sigma, size=(100,))\n",
    "est = _OrthoLearner(ModelNuisance(LogisticRegression(solver='lbfgs'), LinearRegression()), ModelFinal(),\n",
    "                    n_splits=2, discrete_treatment=True, random_state=None)\n",
    "est.fit(y, T, W=X)"
   ]
  },
  {
   "cell_type": "code",
   "execution_count": 12,
   "metadata": {},
   "outputs": [
    {
     "data": {
      "text/plain": [
       "array([[1.00123159]])"
      ]
     },
     "execution_count": 12,
     "metadata": {},
     "output_type": "execute_result"
    }
   ],
   "source": [
    "est.const_marginal_effect()"
   ]
  },
  {
   "cell_type": "code",
   "execution_count": 13,
   "metadata": {},
   "outputs": [
    {
     "data": {
      "text/plain": [
       "array([1.00123159])"
      ]
     },
     "execution_count": 13,
     "metadata": {},
     "output_type": "execute_result"
    }
   ],
   "source": [
    "est.effect()"
   ]
  },
  {
   "cell_type": "code",
   "execution_count": 14,
   "metadata": {},
   "outputs": [
    {
     "data": {
      "text/plain": [
       "0.002569588332146612"
      ]
     },
     "execution_count": 14,
     "metadata": {},
     "output_type": "execute_result"
    }
   ],
   "source": [
    "est.score(y, T, W=X)"
   ]
  },
  {
   "cell_type": "code",
   "execution_count": 15,
   "metadata": {},
   "outputs": [
    {
     "data": {
      "text/plain": [
       "1.0012315874866917"
      ]
     },
     "execution_count": 15,
     "metadata": {},
     "output_type": "execute_result"
    }
   ],
   "source": [
    "est.model_final.model.coef_[0]"
   ]
  },
  {
   "cell_type": "code",
   "execution_count": 16,
   "metadata": {},
   "outputs": [
    {
     "data": {
      "text/plain": [
       "LinearRegression(copy_X=True, fit_intercept=False, n_jobs=None,\n",
       "         normalize=False)"
      ]
     },
     "execution_count": 16,
     "metadata": {},
     "output_type": "execute_result"
    }
   ],
   "source": [
    "est.model_final.model"
   ]
  },
  {
   "cell_type": "code",
   "execution_count": 17,
   "metadata": {},
   "outputs": [
    {
     "data": {
      "text/plain": [
       "array([1.00123159])"
      ]
     },
     "execution_count": 17,
     "metadata": {},
     "output_type": "execute_result"
    }
   ],
   "source": [
    "est.model_final.model.coef_"
   ]
  },
  {
   "cell_type": "code",
   "execution_count": 18,
   "metadata": {},
   "outputs": [
    {
     "data": {
      "text/plain": [
       "0.0031604059708364245"
      ]
     },
     "execution_count": 18,
     "metadata": {},
     "output_type": "execute_result"
    }
   ],
   "source": [
    "est.score_"
   ]
  },
  {
   "cell_type": "code",
   "execution_count": 30,
   "metadata": {},
   "outputs": [
    {
     "data": {
      "text/plain": [
       "array([1.28171346, 0.03749846, 0.10120681])"
      ]
     },
     "execution_count": 30,
     "metadata": {},
     "output_type": "execute_result"
    }
   ],
   "source": [
    "est.models_nuisance[0]._model_y.coef_"
   ]
  },
  {
   "cell_type": "code",
   "execution_count": 31,
   "metadata": {},
   "outputs": [
    {
     "name": "stdout",
     "output_type": "stream",
     "text": [
      "[[1.64721067 1.68104532 0.07458696]]\n",
      "[1.00979079]\n",
      "(array([0.99962896]), array([1.01995263]))\n",
      "[1.00096897 0.00524782]\n",
      "(array([9.95750740e-01, 5.09187652e-05]), array([1.0061872 , 0.01044472]))\n",
      "[1.00979079]\n"
     ]
    }
   ],
   "source": [
    "from econml.dml import LinearDMLCateEstimator\n",
    "from sklearn.preprocessing import PolynomialFeatures\n",
    "from sklearn.linear_model import LinearRegression, LassoCV, Lasso\n",
    "import numpy as np\n",
    "X = np.random.normal(size=(100000, 3))\n",
    "y = X[:, 0] + np.random.normal(size=(100000,))\n",
    "est = LinearDMLCateEstimator(model_y=LinearRegression(), model_t=LinearRegression())\n",
    "est.fit(y, X[:, 0], X[:, [1]], X[:, 2:], inference='statsmodels')\n",
    "print(X[:1])\n",
    "print(est.effect(X[:1, [1]]))\n",
    "print(est.effect_interval(X[:1, [1]]))\n",
    "print(est.coef_)\n",
    "print(est.coef__interval())\n",
    "print(est.const_marginal_effect(X[:1, [1]]))"
   ]
  },
  {
   "cell_type": "code",
   "execution_count": 32,
   "metadata": {},
   "outputs": [
    {
     "name": "stdout",
     "output_type": "stream",
     "text": [
      "[[ 0.89256841  0.27329632  1.20577242 -1.19175328  0.15390398 -0.23511674\n",
      "  -0.55378668 -2.64852199  0.73121095 -0.73312251]]\n",
      "[[0.99664838 0.99664838]]\n",
      "[[ 0.99040771  0.00504131  0.         -0.0034206  -0.01300061 -0.01033077\n",
      "  -0.01303745  0.00259075]\n",
      " [ 0.99040771  0.00504131  0.         -0.0034206  -0.01300061 -0.01033077\n",
      "  -0.01303745  0.00259075]]\n",
      "[[0.99664838 0.99664838]]\n"
     ]
    }
   ],
   "source": [
    "from econml.dml import SparseLinearDMLCateEstimator\n",
    "from sklearn.preprocessing import PolynomialFeatures\n",
    "from sklearn.linear_model import LinearRegression, LassoCV, Lasso, MultiTaskLassoCV\n",
    "import numpy as np\n",
    "X = np.random.normal(size=(5000, 10))\n",
    "y = X[:, 0] + np.random.normal(size=(5000,))\n",
    "est = SparseLinearDMLCateEstimator(model_y=MultiTaskLassoCV(cv=3), model_t=LassoCV(cv=3),\n",
    "                                   model_final=MultiTaskLassoCV(cv=3, fit_intercept=False))\n",
    "dx = 8\n",
    "est.fit(np.hstack([y.reshape(-1,1), y.reshape(-1,1)]), X[:, 0], X[:, 1:dx], X[:, dx:])\n",
    "print(X[:1])\n",
    "print(est.effect(X[:1, 1:dx]))\n",
    "print(est.model_final.coef_)\n",
    "print(est.const_marginal_effect(X[:1, 1:dx]))"
   ]
  },
  {
   "cell_type": "code",
   "execution_count": 101,
   "metadata": {},
   "outputs": [
    {
     "data": {
      "text/plain": [
       "<econml._rlearner._RLearner at 0x12db09dd8>"
      ]
     },
     "execution_count": 101,
     "metadata": {},
     "output_type": "execute_result"
    }
   ],
   "source": [
    "import numpy as np\n",
    "from sklearn.linear_model import LinearRegression\n",
    "from econml._rlearner import _RLearner\n",
    "from sklearn.base import clone\n",
    "class ModelFirst:\n",
    "    def __init__(self, model):\n",
    "        self._model = clone(model, safe=False)\n",
    "    def fit(self, X, W, Y, sample_weight=None):\n",
    "        self._model.fit(np.hstack([X, W]), Y)\n",
    "        return self\n",
    "    def predict(self, X, W):\n",
    "        return self._model.predict(np.hstack([X, W]))\n",
    "class ModelFinal:\n",
    "    def fit(self, X, T_res, Y_res, sample_weight=None, sample_var=None):\n",
    "        self.model = LinearRegression(fit_intercept=False).fit(X * T_res.reshape(-1, 1), Y_res)\n",
    "        return self\n",
    "    def predict(self, X):\n",
    "        return self.model.predict(X)\n",
    "np.random.seed(123)\n",
    "X = np.random.normal(size=(1000, 3))\n",
    "y = X[:, 0] + X[:, 1] + np.random.normal(0, 0.01, size=(1000,))\n",
    "est = _RLearner(ModelFirst(LinearRegression()),\n",
    "                ModelFirst(LinearRegression()),\n",
    "                ModelFinal(),\n",
    "                n_splits=2, discrete_treatment=False, random_state=None)\n",
    "est.fit(y, X[:, 0], X=np.ones((X.shape[0], 1)), W=X[:, 1:])"
   ]
  },
  {
   "cell_type": "code",
   "execution_count": 102,
   "metadata": {},
   "outputs": [
    {
     "data": {
      "text/plain": [
       "array([0.99963147])"
      ]
     },
     "execution_count": 102,
     "metadata": {},
     "output_type": "execute_result"
    }
   ],
   "source": [
    "est.const_marginal_effect(np.ones((1,1)))"
   ]
  },
  {
   "cell_type": "code",
   "execution_count": 110,
   "metadata": {},
   "outputs": [
    {
     "data": {
      "text/plain": [
       "array([9.99631472])"
      ]
     },
     "execution_count": 110,
     "metadata": {},
     "output_type": "execute_result"
    }
   ],
   "source": [
    "est.effect(np.ones((1,1)), T0=0, T1=10)"
   ]
  },
  {
   "cell_type": "code",
   "execution_count": 111,
   "metadata": {},
   "outputs": [
    {
     "data": {
      "text/plain": [
       "9.736380060274913e-05"
      ]
     },
     "execution_count": 111,
     "metadata": {},
     "output_type": "execute_result"
    }
   ],
   "source": [
    "est.score(y, X[:, 0], X=np.ones((X.shape[0], 1)), W=X[:, 1:])"
   ]
  },
  {
   "cell_type": "code",
   "execution_count": 105,
   "metadata": {},
   "outputs": [
    {
     "data": {
      "text/plain": [
       "LinearRegression(copy_X=True, fit_intercept=False, n_jobs=None,\n",
       "         normalize=False)"
      ]
     },
     "execution_count": 105,
     "metadata": {},
     "output_type": "execute_result"
    }
   ],
   "source": [
    "est.model_final.model"
   ]
  },
  {
   "cell_type": "code",
   "execution_count": 106,
   "metadata": {},
   "outputs": [
    {
     "data": {
      "text/plain": [
       "array([0.99963147])"
      ]
     },
     "execution_count": 106,
     "metadata": {},
     "output_type": "execute_result"
    }
   ],
   "source": [
    "est.model_final.model.coef_"
   ]
  },
  {
   "cell_type": "code",
   "execution_count": 107,
   "metadata": {},
   "outputs": [
    {
     "data": {
      "text/plain": [
       "9.826232040878233e-05"
      ]
     },
     "execution_count": 107,
     "metadata": {},
     "output_type": "execute_result"
    }
   ],
   "source": [
    "est.score_"
   ]
  },
  {
   "cell_type": "code",
   "execution_count": 108,
   "metadata": {},
   "outputs": [
    {
     "data": {
      "text/plain": [
       "[LinearRegression(copy_X=True, fit_intercept=True, n_jobs=None,\n",
       "          normalize=False),\n",
       " LinearRegression(copy_X=True, fit_intercept=True, n_jobs=None,\n",
       "          normalize=False)]"
      ]
     },
     "execution_count": 108,
     "metadata": {},
     "output_type": "execute_result"
    }
   ],
   "source": [
    "[mdl._model for mdl in est.models_y]"
   ]
  },
  {
   "cell_type": "code",
   "execution_count": 109,
   "metadata": {},
   "outputs": [
    {
     "data": {
      "text/plain": [
       "[LinearRegression(copy_X=True, fit_intercept=True, n_jobs=None,\n",
       "          normalize=False),\n",
       " LinearRegression(copy_X=True, fit_intercept=True, n_jobs=None,\n",
       "          normalize=False)]"
      ]
     },
     "execution_count": 109,
     "metadata": {},
     "output_type": "execute_result"
    }
   ],
   "source": [
    "[mdl._model for mdl in est.models_t]"
   ]
  },
  {
   "cell_type": "code",
   "execution_count": 114,
   "metadata": {},
   "outputs": [
    {
     "data": {
      "text/plain": [
       "<econml.dml.LinearDMLCateEstimator at 0x12db2a208>"
      ]
     },
     "execution_count": 114,
     "metadata": {},
     "output_type": "execute_result"
    }
   ],
   "source": [
    "from econml.dml import LinearDMLCateEstimator\n",
    "\n",
    "np.random.seed(123)\n",
    "X = np.random.normal(size=(1000, 3))\n",
    "y = X[:, 0] + X[:, 1] + np.random.normal(0, 0.01, size=(1000,))\n",
    "est = LinearDMLCateEstimator(model_y=LinearRegression(),\n",
    "                             model_t=LinearRegression())\n",
    "est.fit(y, X[:, 0], W=X[:, 1:], inference='statsmodels')"
   ]
  },
  {
   "cell_type": "code",
   "execution_count": 115,
   "metadata": {},
   "outputs": [
    {
     "data": {
      "text/plain": [
       "array([1.00089549])"
      ]
     },
     "execution_count": 115,
     "metadata": {},
     "output_type": "execute_result"
    }
   ],
   "source": [
    "est.effect()"
   ]
  },
  {
   "cell_type": "code",
   "execution_count": 116,
   "metadata": {},
   "outputs": [
    {
     "data": {
      "text/plain": [
       "(array([0.99404817]), array([1.0077428]))"
      ]
     },
     "execution_count": 116,
     "metadata": {},
     "output_type": "execute_result"
    }
   ],
   "source": [
    "est.effect_interval()"
   ]
  },
  {
   "cell_type": "code",
   "execution_count": 117,
   "metadata": {},
   "outputs": [
    {
     "data": {
      "text/plain": [
       "[LinearRegression(copy_X=True, fit_intercept=True, n_jobs=None,\n",
       "          normalize=False),\n",
       " LinearRegression(copy_X=True, fit_intercept=True, n_jobs=None,\n",
       "          normalize=False)]"
      ]
     },
     "execution_count": 117,
     "metadata": {},
     "output_type": "execute_result"
    }
   ],
   "source": [
    "est.models_y"
   ]
  },
  {
   "cell_type": "code",
   "execution_count": 118,
   "metadata": {},
   "outputs": [
    {
     "data": {
      "text/plain": [
       "[LinearRegression(copy_X=True, fit_intercept=True, n_jobs=None,\n",
       "          normalize=False),\n",
       " LinearRegression(copy_X=True, fit_intercept=True, n_jobs=None,\n",
       "          normalize=False)]"
      ]
     },
     "execution_count": 118,
     "metadata": {},
     "output_type": "execute_result"
    }
   ],
   "source": [
    "est.models_t"
   ]
  },
  {
   "cell_type": "code",
   "execution_count": 119,
   "metadata": {},
   "outputs": [
    {
     "data": {
      "text/plain": [
       "array([1.00089549])"
      ]
     },
     "execution_count": 119,
     "metadata": {},
     "output_type": "execute_result"
    }
   ],
   "source": [
    "est.coef_"
   ]
  },
  {
   "cell_type": "code",
   "execution_count": 121,
   "metadata": {},
   "outputs": [
    {
     "data": {
      "text/plain": [
       "(array([0.99404817]), array([1.0077428]))"
      ]
     },
     "execution_count": 121,
     "metadata": {},
     "output_type": "execute_result"
    }
   ],
   "source": [
    "est.coef__interval()"
   ]
  },
  {
   "cell_type": "code",
   "execution_count": 127,
   "metadata": {},
   "outputs": [
    {
     "data": {
      "text/plain": [
       "array([0.00416287])"
      ]
     },
     "execution_count": 127,
     "metadata": {},
     "output_type": "execute_result"
    }
   ],
   "source": [
    "est.model_final._param_stderr"
   ]
  },
  {
   "cell_type": "code",
   "execution_count": null,
   "metadata": {
    "collapsed": true
   },
   "outputs": [],
   "source": []
  }
 ],
 "metadata": {
  "kernelspec": {
   "display_name": "Python 3",
   "language": "python",
   "name": "python3"
  },
  "language_info": {
   "codemirror_mode": {
    "name": "ipython",
    "version": 3
   },
   "file_extension": ".py",
   "mimetype": "text/x-python",
   "name": "python",
   "nbconvert_exporter": "python",
   "pygments_lexer": "ipython3",
   "version": "3.6.1"
  }
 },
 "nbformat": 4,
 "nbformat_minor": 2
}
