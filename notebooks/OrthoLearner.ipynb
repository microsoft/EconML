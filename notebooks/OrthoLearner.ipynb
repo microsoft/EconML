{
 "cells": [
  {
   "cell_type": "code",
   "execution_count": 1,
   "metadata": {
    "collapsed": true
   },
   "outputs": [],
   "source": [
    "%load_ext autoreload\n",
    "%autoreload 2"
   ]
  },
  {
   "cell_type": "markdown",
   "metadata": {},
   "source": [
    "# Testing _crossfit Function"
   ]
  },
  {
   "cell_type": "code",
   "execution_count": 2,
   "metadata": {},
   "outputs": [
    {
     "name": "stdout",
     "output_type": "stream",
     "text": [
      "(array([-1.1057289 , -1.53756637, -2.4518278 , ...,  1.10628792,\n",
      "       -1.82966233, -1.78227335]),)\n",
      "[<__main__.Wrapper object at 0x131e67358>, <__main__.Wrapper object at 0x11b0aa518>]\n"
     ]
    },
    {
     "data": {
      "text/plain": [
       "array([   0,    1,    2, ..., 4997, 4998, 4999])"
      ]
     },
     "execution_count": 2,
     "metadata": {},
     "output_type": "execute_result"
    }
   ],
   "source": [
    "import numpy as np\n",
    "from sklearn.model_selection import KFold\n",
    "from sklearn.linear_model import Lasso\n",
    "from econml._ortho_learner import _crossfit\n",
    "\n",
    "class Wrapper:\n",
    "    def __init__(self, model):\n",
    "        self._model = model\n",
    "    def fit(self, X, y, W=None):\n",
    "        self._model.fit(X, y)\n",
    "        return self\n",
    "    def predict(self, X, y, W=None):\n",
    "        return self._model.predict(X)\n",
    "np.random.seed(123)\n",
    "X = np.random.normal(size=(5000, 3))\n",
    "y = X[:, 0] + np.random.normal(size=(5000,))\n",
    "folds = list(KFold(2).split(X, y))\n",
    "model = Lasso(alpha=0.01)\n",
    "nuisance, model_list, fitted_inds = _crossfit(Wrapper(model),\n",
    "                                 folds,\n",
    "                                 X, y, W=y, Z=None)\n",
    "print(nuisance)\n",
    "print(model_list)\n",
    "fitted_inds"
   ]
  },
  {
   "cell_type": "markdown",
   "metadata": {},
   "source": [
    "# Simple DML with the _OrthoLearner"
   ]
  },
  {
   "cell_type": "code",
   "execution_count": 3,
   "metadata": {},
   "outputs": [
    {
     "data": {
      "text/plain": [
       "<econml._ortho_learner._OrthoLearner at 0x131f74400>"
      ]
     },
     "execution_count": 3,
     "metadata": {},
     "output_type": "execute_result"
    }
   ],
   "source": [
    "import numpy as np\n",
    "from sklearn.linear_model import LinearRegression\n",
    "from econml._ortho_learner import _OrthoLearner\n",
    "class ModelNuisance:\n",
    "    def __init__(self, model_t, model_y):\n",
    "        self._model_t = model_t\n",
    "        self._model_y = model_y\n",
    "    def fit(self, Y, T, W=None):\n",
    "        self._model_t.fit(W, T)\n",
    "        self._model_y.fit(W, Y)\n",
    "        return self\n",
    "    def predict(self, Y, T, W=None):\n",
    "        return Y - self._model_y.predict(W), T - self._model_t.predict(W)\n",
    "class ModelFinal:\n",
    "    def __init__(self):\n",
    "        return\n",
    "    def fit(self, Y, T, W=None, nuisances=None):\n",
    "        Y_res, T_res = nuisances\n",
    "        self.model = LinearRegression(fit_intercept=False).fit(T_res.reshape(-1, 1), Y_res)\n",
    "        return self\n",
    "    def predict(self, X=None):\n",
    "        return self.model.coef_[0]\n",
    "    def score(self, Y, T, W=None, nuisances=None):\n",
    "        Y_res, T_res = nuisances\n",
    "        return np.mean((Y_res - self.model.predict(T_res.reshape(-1, 1)))**2)\n",
    "np.random.seed(123)\n",
    "X = np.random.normal(size=(100, 3))\n",
    "y = X[:, 0] + X[:, 1] + np.random.normal(0, 0.1, size=(100,))\n",
    "est = _OrthoLearner(ModelNuisance(LinearRegression(), LinearRegression()),\n",
    "                    ModelFinal(),\n",
    "                    n_splits=2, discrete_treatment=False, random_state=None)\n",
    "est.fit(y, X[:, 0], W=X[:, 1:])"
   ]
  },
  {
   "cell_type": "code",
   "execution_count": 4,
   "metadata": {},
   "outputs": [
    {
     "data": {
      "text/plain": [
       "1.0236499258047582"
      ]
     },
     "execution_count": 4,
     "metadata": {},
     "output_type": "execute_result"
    }
   ],
   "source": [
    "est.const_marginal_effect()"
   ]
  },
  {
   "cell_type": "code",
   "execution_count": 5,
   "metadata": {},
   "outputs": [
    {
     "data": {
      "text/plain": [
       "array([1.02364993])"
      ]
     },
     "execution_count": 5,
     "metadata": {},
     "output_type": "execute_result"
    }
   ],
   "source": [
    "est.effect(T0=0, T1=1)"
   ]
  },
  {
   "cell_type": "code",
   "execution_count": 6,
   "metadata": {},
   "outputs": [
    {
     "data": {
      "text/plain": [
       "0.00727995424098179"
      ]
     },
     "execution_count": 6,
     "metadata": {},
     "output_type": "execute_result"
    }
   ],
   "source": [
    "est.score(y, X[:, 0], W=X[:, 1:])"
   ]
  },
  {
   "cell_type": "code",
   "execution_count": 7,
   "metadata": {},
   "outputs": [
    {
     "data": {
      "text/plain": [
       "LinearRegression(copy_X=True, fit_intercept=False, n_jobs=None,\n",
       "         normalize=False)"
      ]
     },
     "execution_count": 7,
     "metadata": {},
     "output_type": "execute_result"
    }
   ],
   "source": [
    "est.model_final.model"
   ]
  },
  {
   "cell_type": "code",
   "execution_count": 8,
   "metadata": {},
   "outputs": [
    {
     "data": {
      "text/plain": [
       "array([1.02364993])"
      ]
     },
     "execution_count": 8,
     "metadata": {},
     "output_type": "execute_result"
    }
   ],
   "source": [
    "est.model_final.model.coef_"
   ]
  },
  {
   "cell_type": "code",
   "execution_count": 9,
   "metadata": {},
   "outputs": [
    {
     "data": {
      "text/plain": [
       "0.007568302109999707"
      ]
     },
     "execution_count": 9,
     "metadata": {},
     "output_type": "execute_result"
    }
   ],
   "source": [
    "est.score_"
   ]
  },
  {
   "cell_type": "markdown",
   "metadata": {},
   "source": [
    "# Simple DML with Discrete Treatments with the _OrthoLearner"
   ]
  },
  {
   "cell_type": "code",
   "execution_count": 10,
   "metadata": {},
   "outputs": [
    {
     "data": {
      "text/plain": [
       "<econml._ortho_learner._OrthoLearner at 0x131f704e0>"
      ]
     },
     "execution_count": 10,
     "metadata": {},
     "output_type": "execute_result"
    }
   ],
   "source": [
    "class ModelNuisance:\n",
    "    def __init__(self, model_t, model_y):\n",
    "        self._model_t = model_t\n",
    "        self._model_y = model_y\n",
    "\n",
    "    def fit(self, Y, T, W=None):\n",
    "        self._model_t.fit(W, np.matmul(T, np.arange(1, T.shape[1]+1)))\n",
    "        self._model_y.fit(W, Y)\n",
    "        return self\n",
    "\n",
    "    def predict(self, Y, T, W=None):\n",
    "        return Y - self._model_y.predict(W), T - self._model_t.predict_proba(W)[:, 1:]\n",
    "\n",
    "class ModelFinal:\n",
    "\n",
    "    def __init__(self):\n",
    "        return\n",
    "\n",
    "    def fit(self, Y, T, W=None, nuisances=None):\n",
    "        Y_res, T_res = nuisances\n",
    "        self.model = LinearRegression(fit_intercept=False).fit(T_res.reshape(-1, 1), Y_res)\n",
    "        return self\n",
    "\n",
    "    def predict(self):\n",
    "        # theta needs to be of dimension (1, d_t) if T is (n, d_t)\n",
    "        return np.array([[self.model.coef_[0]]])\n",
    "\n",
    "    def score(self, Y, T, W=None, nuisances=None):\n",
    "        Y_res, T_res = nuisances\n",
    "        return np.mean((Y_res - self.model.predict(T_res.reshape(-1, 1)))**2)\n",
    "\n",
    "np.random.seed(123)\n",
    "X = np.random.normal(size=(100, 3))\n",
    "import scipy.special\n",
    "from sklearn.linear_model import LogisticRegression\n",
    "T = np.random.binomial(1, scipy.special.expit(X[:, 0]))\n",
    "sigma = 0.01\n",
    "y = T + X[:, 0] + np.random.normal(0, sigma, size=(100,))\n",
    "est = _OrthoLearner(ModelNuisance(LogisticRegression(solver='lbfgs'), LinearRegression()), ModelFinal(),\n",
    "                    n_splits=2, discrete_treatment=True, random_state=None)\n",
    "est.fit(y, T, W=X)"
   ]
  },
  {
   "cell_type": "code",
   "execution_count": 11,
   "metadata": {},
   "outputs": [
    {
     "data": {
      "text/plain": [
       "array([[1.00123159]])"
      ]
     },
     "execution_count": 11,
     "metadata": {},
     "output_type": "execute_result"
    }
   ],
   "source": [
    "est.const_marginal_effect()"
   ]
  },
  {
   "cell_type": "code",
   "execution_count": 12,
   "metadata": {},
   "outputs": [
    {
     "data": {
      "text/plain": [
       "array([1.00123159])"
      ]
     },
     "execution_count": 12,
     "metadata": {},
     "output_type": "execute_result"
    }
   ],
   "source": [
    "est.effect()"
   ]
  },
  {
   "cell_type": "code",
   "execution_count": 13,
   "metadata": {},
   "outputs": [
    {
     "data": {
      "text/plain": [
       "0.002569588332146612"
      ]
     },
     "execution_count": 13,
     "metadata": {},
     "output_type": "execute_result"
    }
   ],
   "source": [
    "est.score(y, T, W=X)"
   ]
  },
  {
   "cell_type": "code",
   "execution_count": 14,
   "metadata": {},
   "outputs": [
    {
     "data": {
      "text/plain": [
       "1.0012315874866917"
      ]
     },
     "execution_count": 14,
     "metadata": {},
     "output_type": "execute_result"
    }
   ],
   "source": [
    "est.model_final.model.coef_[0]"
   ]
  },
  {
   "cell_type": "code",
   "execution_count": 15,
   "metadata": {},
   "outputs": [
    {
     "data": {
      "text/plain": [
       "LinearRegression(copy_X=True, fit_intercept=False, n_jobs=None,\n",
       "         normalize=False)"
      ]
     },
     "execution_count": 15,
     "metadata": {},
     "output_type": "execute_result"
    }
   ],
   "source": [
    "est.model_final.model"
   ]
  },
  {
   "cell_type": "code",
   "execution_count": 16,
   "metadata": {},
   "outputs": [
    {
     "data": {
      "text/plain": [
       "array([1.00123159])"
      ]
     },
     "execution_count": 16,
     "metadata": {},
     "output_type": "execute_result"
    }
   ],
   "source": [
    "est.model_final.model.coef_"
   ]
  },
  {
   "cell_type": "code",
   "execution_count": 17,
   "metadata": {},
   "outputs": [
    {
     "data": {
      "text/plain": [
       "0.0031604059708364245"
      ]
     },
     "execution_count": 17,
     "metadata": {},
     "output_type": "execute_result"
    }
   ],
   "source": [
    "est.score_"
   ]
  },
  {
   "cell_type": "code",
   "execution_count": 18,
   "metadata": {},
   "outputs": [
    {
     "data": {
      "text/plain": [
       "array([1.28171346, 0.03749846, 0.10120681])"
      ]
     },
     "execution_count": 18,
     "metadata": {},
     "output_type": "execute_result"
    }
   ],
   "source": [
    "est.models_nuisance[0]._model_y.coef_"
   ]
  },
  {
   "cell_type": "markdown",
   "metadata": {},
   "source": [
    "# Simple DML with the _RLearner"
   ]
  },
  {
   "cell_type": "code",
   "execution_count": 19,
   "metadata": {},
   "outputs": [
    {
     "data": {
      "text/plain": [
       "<econml._rlearner._RLearner at 0x131f90048>"
      ]
     },
     "execution_count": 19,
     "metadata": {},
     "output_type": "execute_result"
    }
   ],
   "source": [
    "import numpy as np\n",
    "from sklearn.linear_model import LinearRegression\n",
    "from econml._rlearner import _RLearner\n",
    "from sklearn.base import clone\n",
    "class ModelFirst:\n",
    "    def __init__(self, model):\n",
    "        self._model = clone(model, safe=False)\n",
    "    def fit(self, X, W, Y, sample_weight=None):\n",
    "        self._model.fit(np.hstack([X, W]), Y)\n",
    "        return self\n",
    "    def predict(self, X, W):\n",
    "        return self._model.predict(np.hstack([X, W]))\n",
    "class ModelFinal:\n",
    "    def fit(self, X, T_res, Y_res, sample_weight=None, sample_var=None):\n",
    "        self.model = LinearRegression(fit_intercept=False).fit(X * T_res.reshape(-1, 1), Y_res)\n",
    "        return self\n",
    "    def predict(self, X):\n",
    "        return self.model.predict(X)\n",
    "np.random.seed(123)\n",
    "X = np.random.normal(size=(1000, 3))\n",
    "y = X[:, 0] + X[:, 1] + np.random.normal(0, 0.01, size=(1000,))\n",
    "est = _RLearner(ModelFirst(LinearRegression()),\n",
    "                ModelFirst(LinearRegression()),\n",
    "                ModelFinal(),\n",
    "                n_splits=2, discrete_treatment=False, random_state=None)\n",
    "est.fit(y, X[:, 0], X=np.ones((X.shape[0], 1)), W=X[:, 1:])"
   ]
  },
  {
   "cell_type": "code",
   "execution_count": 20,
   "metadata": {},
   "outputs": [
    {
     "data": {
      "text/plain": [
       "array([0.99963147])"
      ]
     },
     "execution_count": 20,
     "metadata": {},
     "output_type": "execute_result"
    }
   ],
   "source": [
    "est.const_marginal_effect(np.ones((1,1)))"
   ]
  },
  {
   "cell_type": "code",
   "execution_count": 21,
   "metadata": {},
   "outputs": [
    {
     "data": {
      "text/plain": [
       "array([9.99631472])"
      ]
     },
     "execution_count": 21,
     "metadata": {},
     "output_type": "execute_result"
    }
   ],
   "source": [
    "est.effect(np.ones((1,1)), T0=0, T1=10)"
   ]
  },
  {
   "cell_type": "code",
   "execution_count": 22,
   "metadata": {},
   "outputs": [
    {
     "data": {
      "text/plain": [
       "9.736380060274913e-05"
      ]
     },
     "execution_count": 22,
     "metadata": {},
     "output_type": "execute_result"
    }
   ],
   "source": [
    "est.score(y, X[:, 0], X=np.ones((X.shape[0], 1)), W=X[:, 1:])"
   ]
  },
  {
   "cell_type": "code",
   "execution_count": 23,
   "metadata": {},
   "outputs": [
    {
     "data": {
      "text/plain": [
       "LinearRegression(copy_X=True, fit_intercept=False, n_jobs=None,\n",
       "         normalize=False)"
      ]
     },
     "execution_count": 23,
     "metadata": {},
     "output_type": "execute_result"
    }
   ],
   "source": [
    "est.model_final.model"
   ]
  },
  {
   "cell_type": "code",
   "execution_count": 24,
   "metadata": {},
   "outputs": [
    {
     "data": {
      "text/plain": [
       "array([0.99963147])"
      ]
     },
     "execution_count": 24,
     "metadata": {},
     "output_type": "execute_result"
    }
   ],
   "source": [
    "est.model_final.model.coef_"
   ]
  },
  {
   "cell_type": "code",
   "execution_count": 25,
   "metadata": {},
   "outputs": [
    {
     "data": {
      "text/plain": [
       "9.826232040878233e-05"
      ]
     },
     "execution_count": 25,
     "metadata": {},
     "output_type": "execute_result"
    }
   ],
   "source": [
    "est.score_"
   ]
  },
  {
   "cell_type": "code",
   "execution_count": 26,
   "metadata": {},
   "outputs": [
    {
     "data": {
      "text/plain": [
       "[LinearRegression(copy_X=True, fit_intercept=True, n_jobs=None,\n",
       "          normalize=False),\n",
       " LinearRegression(copy_X=True, fit_intercept=True, n_jobs=None,\n",
       "          normalize=False)]"
      ]
     },
     "execution_count": 26,
     "metadata": {},
     "output_type": "execute_result"
    }
   ],
   "source": [
    "[mdl._model for mdl in est.models_y]"
   ]
  },
  {
   "cell_type": "code",
   "execution_count": 27,
   "metadata": {},
   "outputs": [
    {
     "data": {
      "text/plain": [
       "[LinearRegression(copy_X=True, fit_intercept=True, n_jobs=None,\n",
       "          normalize=False),\n",
       " LinearRegression(copy_X=True, fit_intercept=True, n_jobs=None,\n",
       "          normalize=False)]"
      ]
     },
     "execution_count": 27,
     "metadata": {},
     "output_type": "execute_result"
    }
   ],
   "source": [
    "[mdl._model for mdl in est.models_t]"
   ]
  },
  {
   "cell_type": "markdown",
   "metadata": {},
   "source": [
    "# Checking All Good with LinearDMLCateEstimator"
   ]
  },
  {
   "cell_type": "code",
   "execution_count": 28,
   "metadata": {},
   "outputs": [
    {
     "data": {
      "text/plain": [
       "<econml.dml.LinearDMLCateEstimator at 0x131f3db70>"
      ]
     },
     "execution_count": 28,
     "metadata": {},
     "output_type": "execute_result"
    }
   ],
   "source": [
    "from econml.dml import LinearDMLCateEstimator\n",
    "\n",
    "np.random.seed(123)\n",
    "X = np.random.normal(size=(1000, 3))\n",
    "y = X[:, 0] + X[:, 1] + np.random.normal(0, 0.01, size=(1000,))\n",
    "est = LinearDMLCateEstimator(model_y=LinearRegression(),\n",
    "                             model_t=LinearRegression())\n",
    "est.fit(y, X[:, 0], W=X[:, 1:], inference='statsmodels')"
   ]
  },
  {
   "cell_type": "code",
   "execution_count": 29,
   "metadata": {},
   "outputs": [
    {
     "data": {
      "text/plain": [
       "array([1.00089549])"
      ]
     },
     "execution_count": 29,
     "metadata": {},
     "output_type": "execute_result"
    }
   ],
   "source": [
    "est.effect()"
   ]
  },
  {
   "cell_type": "code",
   "execution_count": 30,
   "metadata": {},
   "outputs": [
    {
     "data": {
      "text/plain": [
       "(array([0.99404817]), array([1.0077428]))"
      ]
     },
     "execution_count": 30,
     "metadata": {},
     "output_type": "execute_result"
    }
   ],
   "source": [
    "est.effect_interval()"
   ]
  },
  {
   "cell_type": "code",
   "execution_count": 31,
   "metadata": {},
   "outputs": [
    {
     "data": {
      "text/plain": [
       "[LinearRegression(copy_X=True, fit_intercept=True, n_jobs=None,\n",
       "          normalize=False),\n",
       " LinearRegression(copy_X=True, fit_intercept=True, n_jobs=None,\n",
       "          normalize=False)]"
      ]
     },
     "execution_count": 31,
     "metadata": {},
     "output_type": "execute_result"
    }
   ],
   "source": [
    "est.models_y"
   ]
  },
  {
   "cell_type": "code",
   "execution_count": 32,
   "metadata": {},
   "outputs": [
    {
     "data": {
      "text/plain": [
       "[LinearRegression(copy_X=True, fit_intercept=True, n_jobs=None,\n",
       "          normalize=False),\n",
       " LinearRegression(copy_X=True, fit_intercept=True, n_jobs=None,\n",
       "          normalize=False)]"
      ]
     },
     "execution_count": 32,
     "metadata": {},
     "output_type": "execute_result"
    }
   ],
   "source": [
    "est.models_t"
   ]
  },
  {
   "cell_type": "code",
   "execution_count": 33,
   "metadata": {},
   "outputs": [
    {
     "data": {
      "text/plain": [
       "array([1.00089549])"
      ]
     },
     "execution_count": 33,
     "metadata": {},
     "output_type": "execute_result"
    }
   ],
   "source": [
    "est.coef"
   ]
  },
  {
   "cell_type": "code",
   "execution_count": 35,
   "metadata": {},
   "outputs": [
    {
     "data": {
      "text/plain": [
       "(array([0.99404817]), array([1.0077428]))"
      ]
     },
     "execution_count": 35,
     "metadata": {},
     "output_type": "execute_result"
    }
   ],
   "source": [
    "est.coef_interval()"
   ]
  },
  {
   "cell_type": "code",
   "execution_count": 36,
   "metadata": {},
   "outputs": [
    {
     "data": {
      "text/plain": [
       "<econml.utilities.StatsModelsLinearRegression at 0x131f8c470>"
      ]
     },
     "execution_count": 36,
     "metadata": {},
     "output_type": "execute_result"
    }
   ],
   "source": [
    "est.model_final"
   ]
  },
  {
   "cell_type": "code",
   "execution_count": 37,
   "metadata": {},
   "outputs": [
    {
     "data": {
      "text/plain": [
       "array([0.00416287])"
      ]
     },
     "execution_count": 37,
     "metadata": {},
     "output_type": "execute_result"
    }
   ],
   "source": [
    "est.model_final._param_stderr"
   ]
  },
  {
   "cell_type": "markdown",
   "metadata": {},
   "source": [
    "# DR Learner Based on _OrthoLearner"
   ]
  },
  {
   "cell_type": "code",
   "execution_count": 38,
   "metadata": {},
   "outputs": [
    {
     "data": {
      "text/plain": [
       "<econml._ortho_learner._OrthoLearner at 0x131fb7eb8>"
      ]
     },
     "execution_count": 38,
     "metadata": {},
     "output_type": "execute_result"
    }
   ],
   "source": [
    "import numpy as np\n",
    "from sklearn.linear_model import LinearRegression\n",
    "from econml._ortho_learner import _OrthoLearner\n",
    "class ModelNuisance:\n",
    "    def __init__(self, model_t, model_y):\n",
    "        self._model_t = model_t\n",
    "        self._model_y = model_y\n",
    "\n",
    "    def fit(self, Y, T, X=None, W=None):\n",
    "        self._model_t.fit(np.hstack([X, W]), np.matmul(T, np.arange(1, T.shape[1]+1)))\n",
    "        self._model_y.fit(np.hstack([T, X, W]), Y)\n",
    "        return self\n",
    "\n",
    "    def predict(self, Y, T, X=None, W=None):\n",
    "        propensities = self._model_t.predict_proba(np.hstack([X, W]))\n",
    "        Y_pred = np.zeros((T.shape[0], T.shape[1] + 1))\n",
    "        T_counter = np.zeros(T.shape)\n",
    "        Y_pred[:, 0] = self._model_y.predict(np.hstack([T_counter, X, W]))\n",
    "        Y_pred[:, 0] += (Y - Y_pred[:, 0]) * np.all(T==0, axis=1) / propensities[:, 0]\n",
    "        for t in np.arange(T.shape[1]):\n",
    "            T_counter = np.zeros(T.shape)\n",
    "            T_counter[:, t] = 1\n",
    "            Y_pred[:, t + 1] = self._model_y.predict(np.hstack([T_counter, X, W]))\n",
    "            Y_pred[:, t + 1] += (Y - Y_pred[:, t + 1]) * (T[:, t] == 1) / propensities[:, t + 1]\n",
    "        return Y_pred\n",
    "\n",
    "class ModelFinal:\n",
    "\n",
    "    def __init__(self):\n",
    "        return\n",
    "\n",
    "    def fit(self, Y, T, X=None, W=None, nuisances=None):\n",
    "        Y_pred, = nuisances\n",
    "        self.models_cate = [LinearRegression().fit(X, Y_pred[:, t] - Y_pred[:, 0])\n",
    "                            for t in np.arange(1, Y_pred.shape[1])]\n",
    "        return self\n",
    "\n",
    "    def predict(self, X=None):\n",
    "        # theta needs to be of dimension (1, d_t) if T is (n, d_t)\n",
    "        return np.array([mdl.predict(X) for mdl in self.models_cate]).T\n",
    "\n",
    "np.random.seed(123)\n",
    "X = np.random.normal(size=(1000, 3))\n",
    "import scipy.special\n",
    "from sklearn.linear_model import LogisticRegression\n",
    "T = np.random.binomial(1, scipy.special.expit(X[:, 0]))\n",
    "sigma = 0.01\n",
    "y = (1 + .5*X[:, 0]) * T + X[:, 0] + np.random.normal(0, sigma, size=(1000,))\n",
    "est = _OrthoLearner(ModelNuisance(LogisticRegression(solver='lbfgs'), LinearRegression()), ModelFinal(),\n",
    "                    n_splits=2, discrete_treatment=True, random_state=None)\n",
    "est.fit(y, T, X=X[:, [0]], W=X[:, 1:])"
   ]
  },
  {
   "cell_type": "code",
   "execution_count": 39,
   "metadata": {},
   "outputs": [
    {
     "data": {
      "text/plain": [
       "array([[ 0.43111746],\n",
       "       [ 0.21377249],\n",
       "       [-0.26176354],\n",
       "       [ 0.54421168],\n",
       "       [ 1.76258919],\n",
       "       [ 0.76761463],\n",
       "       [ 1.51079693],\n",
       "       [ 1.76224943],\n",
       "       [ 0.34418752],\n",
       "       [ 0.2538734 ]])"
      ]
     },
     "execution_count": 39,
     "metadata": {},
     "output_type": "execute_result"
    }
   ],
   "source": [
    "est.const_marginal_effect(X[:10, [0]])"
   ]
  },
  {
   "cell_type": "code",
   "execution_count": 40,
   "metadata": {},
   "outputs": [
    {
     "data": {
      "text/plain": [
       "[array([[ 1.07859458, -0.09378512, -0.16819498]]),\n",
       " array([[ 0.87520635, -0.07950399,  0.06037872]])]"
      ]
     },
     "execution_count": 40,
     "metadata": {},
     "output_type": "execute_result"
    }
   ],
   "source": [
    "[mdl._model_t.coef_ for mdl in est.models_nuisance]"
   ]
  },
  {
   "cell_type": "code",
   "execution_count": 41,
   "metadata": {},
   "outputs": [
    {
     "data": {
      "text/plain": [
       "[array([ 0.99703455,  1.25799456, -0.00554411,  0.00216083]),\n",
       " array([ 1.04547656e+00,  1.21020962e+00,  7.94069500e-04, -9.68240609e-03])]"
      ]
     },
     "execution_count": 41,
     "metadata": {},
     "output_type": "execute_result"
    }
   ],
   "source": [
    "[mdl._model_y.coef_ for mdl in est.models_nuisance]"
   ]
  },
  {
   "cell_type": "code",
   "execution_count": 42,
   "metadata": {},
   "outputs": [
    {
     "data": {
      "text/plain": [
       "array([0.51667104])"
      ]
     },
     "execution_count": 42,
     "metadata": {},
     "output_type": "execute_result"
    }
   ],
   "source": [
    "est.model_final.models_cate[0].coef_"
   ]
  },
  {
   "cell_type": "code",
   "execution_count": 43,
   "metadata": {},
   "outputs": [
    {
     "data": {
      "text/plain": [
       "0.9920313527587243"
      ]
     },
     "execution_count": 43,
     "metadata": {},
     "output_type": "execute_result"
    }
   ],
   "source": [
    "est.model_final.models_cate[0].intercept_"
   ]
  },
  {
   "cell_type": "code",
   "execution_count": 119,
   "metadata": {},
   "outputs": [
    {
     "data": {
      "text/plain": [
       "<econml.drlearner.DRLearner at 0x13282ec50>"
      ]
     },
     "execution_count": 119,
     "metadata": {},
     "output_type": "execute_result"
    }
   ],
   "source": [
    "import numpy as np\n",
    "from sklearn.linear_model import LinearRegression, LassoCV\n",
    "from econml.drlearner import DRLearner\n",
    "import scipy.special\n",
    "from sklearn.linear_model import LogisticRegression\n",
    "from sklearn.ensemble import GradientBoostingClassifier, GradientBoostingRegressor, RandomForestRegressor\n",
    "\n",
    "np.random.seed(123)\n",
    "X = np.random.normal(size=(5000, 3))\n",
    "T = np.random.binomial(2, scipy.special.expit(X[:, 0]))\n",
    "sigma = 0.01\n",
    "y = (1 + .5*X[:, 0]) * T + X[:, 0] + np.random.normal(0, sigma, size=(5000,))\n",
    "est = DRLearner(model_propensity=GradientBoostingClassifier(),\n",
    "                model_regression=GradientBoostingRegressor(),\n",
    "                model_final=LinearRegression(),\n",
    "                featurizer=None,\n",
    "                multitask_model_final=True)\n",
    "est.fit(y, T, X=X, W=None)"
   ]
  },
  {
   "cell_type": "code",
   "execution_count": 120,
   "metadata": {},
   "outputs": [
    {
     "data": {
      "text/plain": [
       "array([ 0.48685231,  0.26881666, -0.18528073])"
      ]
     },
     "execution_count": 120,
     "metadata": {},
     "output_type": "execute_result"
    }
   ],
   "source": [
    "est.effect(X[:3], T0=0, T1=1)"
   ]
  },
  {
   "cell_type": "code",
   "execution_count": 121,
   "metadata": {},
   "outputs": [
    {
     "data": {
      "text/plain": [
       "array([[ 0.4571847 ,  0.9143694 ],\n",
       "       [ 0.24685264,  0.49370529],\n",
       "       [-0.21333962, -0.42667924]])"
      ]
     },
     "execution_count": 121,
     "metadata": {},
     "output_type": "execute_result"
    }
   ],
   "source": [
    "np.hstack([1 + .5*X[:3, [0]], 2*(1 + .5*X[:3, [0]])])"
   ]
  },
  {
   "cell_type": "code",
   "execution_count": 122,
   "metadata": {},
   "outputs": [
    {
     "data": {
      "text/plain": [
       "array([[ 0.48685231,  0.9328053 ],\n",
       "       [ 0.26881666,  0.54671514],\n",
       "       [-0.18528073, -0.36790722]])"
      ]
     },
     "execution_count": 122,
     "metadata": {},
     "output_type": "execute_result"
    }
   ],
   "source": [
    "est.const_marginal_effect(X[:3])"
   ]
  },
  {
   "cell_type": "code",
   "execution_count": 114,
   "metadata": {},
   "outputs": [
    {
     "data": {
      "text/plain": [
       "array([[ 0.41814007,  0.94925201],\n",
       "       [ 0.2166831 ,  0.54275747],\n",
       "       [-0.09854992,  0.3346042 ]])"
      ]
     },
     "execution_count": 114,
     "metadata": {},
     "output_type": "execute_result"
    }
   ],
   "source": [
    "est.marginal_effect(1, X[:3])"
   ]
  },
  {
   "cell_type": "code",
   "execution_count": 125,
   "metadata": {},
   "outputs": [
    {
     "data": {
      "text/plain": [
       "[array([8.52508412e-01, 5.37022723e-06, 2.67965021e-05, 2.43350570e-02,\n",
       "        1.23124364e-01]),\n",
       " array([8.33012311e-01, 9.69352052e-06, 1.93469050e-05, 2.91345496e-02,\n",
       "        1.37824099e-01])]"
      ]
     },
     "execution_count": 125,
     "metadata": {},
     "output_type": "execute_result"
    }
   ],
   "source": [
    "[mdl.feature_importances_ for mdl in est.models_regression]"
   ]
  },
  {
   "cell_type": "code",
   "execution_count": 116,
   "metadata": {},
   "outputs": [
    {
     "data": {
      "text/plain": [
       "[array([0.72503316, 0.13991341, 0.13505343]),\n",
       " array([0.71079621, 0.1520403 , 0.13716349])]"
      ]
     },
     "execution_count": 116,
     "metadata": {},
     "output_type": "execute_result"
    }
   ],
   "source": [
    "[mdl.feature_importances_ for mdl in est.models_propensity]"
   ]
  },
  {
   "cell_type": "code",
   "execution_count": 106,
   "metadata": {},
   "outputs": [
    {
     "data": {
      "text/plain": [
       "0"
      ]
     },
     "execution_count": 106,
     "metadata": {},
     "output_type": "execute_result"
    }
   ],
   "source": [
    "np.argsort(est.model_cate(T=2).feature_importances_)[-1]"
   ]
  },
  {
   "cell_type": "code",
   "execution_count": 118,
   "metadata": {},
   "outputs": [
    {
     "data": {
      "text/plain": [
       "array([1, 2, 0])"
      ]
     },
     "execution_count": 118,
     "metadata": {},
     "output_type": "execute_result"
    }
   ],
   "source": [
    "np.argsort(est.multitask_model_cate.feature_importances_)"
   ]
  },
  {
   "cell_type": "code",
   "execution_count": 124,
   "metadata": {},
   "outputs": [
    {
     "data": {
      "text/plain": [
       "array([[ 0.49291139,  0.01168864,  0.00565244],\n",
       "       [ 0.99018167, -0.01801674,  0.00149827]])"
      ]
     },
     "execution_count": 124,
     "metadata": {},
     "output_type": "execute_result"
    }
   ],
   "source": [
    "est.multitask_model_cate.coef_"
   ]
  },
  {
   "cell_type": "code",
   "execution_count": 52,
   "metadata": {},
   "outputs": [
    {
     "data": {
      "text/plain": [
       "array([ 0.95599289, -0.00493853, -0.00385992])"
      ]
     },
     "execution_count": 52,
     "metadata": {},
     "output_type": "execute_result"
    }
   ],
   "source": [
    "est.model_cate(T=2).coef_"
   ]
  },
  {
   "cell_type": "code",
   "execution_count": 93,
   "metadata": {},
   "outputs": [
    {
     "data": {
      "text/plain": [
       "['age', 'gender', 'race']"
      ]
     },
     "execution_count": 93,
     "metadata": {},
     "output_type": "execute_result"
    }
   ],
   "source": [
    "est.cate_feature_names(['age', 'gender', 'race'])"
   ]
  },
  {
   "cell_type": "code",
   "execution_count": 54,
   "metadata": {},
   "outputs": [
    {
     "data": {
      "text/plain": [
       "2.005059340332276"
      ]
     },
     "execution_count": 54,
     "metadata": {},
     "output_type": "execute_result"
    }
   ],
   "source": [
    "est.model_cate(T=2).intercept_"
   ]
  },
  {
   "cell_type": "code",
   "execution_count": 55,
   "metadata": {},
   "outputs": [
    {
     "data": {
      "text/plain": [
       "array([ 0.48543176, -0.00244637, -0.00256117])"
      ]
     },
     "execution_count": 55,
     "metadata": {},
     "output_type": "execute_result"
    }
   ],
   "source": [
    "est.model_cate(T=1).coef_"
   ]
  },
  {
   "cell_type": "code",
   "execution_count": 56,
   "metadata": {},
   "outputs": [
    {
     "data": {
      "text/plain": [
       "0.9933224585432593"
      ]
     },
     "execution_count": 56,
     "metadata": {},
     "output_type": "execute_result"
    }
   ],
   "source": [
    "est.model_cate(T=1).intercept_"
   ]
  },
  {
   "cell_type": "code",
   "execution_count": 57,
   "metadata": {},
   "outputs": [
    {
     "data": {
      "text/plain": [
       "0.2592019899370822"
      ]
     },
     "execution_count": 57,
     "metadata": {},
     "output_type": "execute_result"
    }
   ],
   "source": [
    "est.score_"
   ]
  },
  {
   "cell_type": "code",
   "execution_count": 58,
   "metadata": {},
   "outputs": [
    {
     "data": {
      "text/plain": [
       "0.14028681088385964"
      ]
     },
     "execution_count": 58,
     "metadata": {},
     "output_type": "execute_result"
    }
   ],
   "source": [
    "est.score(y, T, X=X, W=None)"
   ]
  },
  {
   "cell_type": "code",
   "execution_count": 59,
   "metadata": {},
   "outputs": [
    {
     "data": {
      "text/plain": [
       "<econml.drlearner.LinearDRLearner at 0x134aa8518>"
      ]
     },
     "execution_count": 59,
     "metadata": {},
     "output_type": "execute_result"
    }
   ],
   "source": [
    "import numpy as np\n",
    "import scipy.special\n",
    "from econml.drlearner import DRLearner, LinearDRLearner\n",
    "\n",
    "np.random.seed(123)\n",
    "X = np.random.normal(size=(1000, 3))\n",
    "T = np.random.binomial(2, scipy.special.expit(X[:, 0]))\n",
    "y = (1 + .5*X[:, 0]) * T + X[:, 0] + np.random.normal(size=(1000,))\n",
    "est = LinearDRLearner()\n",
    "est.fit(y, T, X=None, W=X, inference='statsmodels')"
   ]
  },
  {
   "cell_type": "code",
   "execution_count": 60,
   "metadata": {
    "collapsed": true
   },
   "outputs": [],
   "source": [
    "from econml.utilities import StatsModelsLinearRegression"
   ]
  },
  {
   "cell_type": "code",
   "execution_count": 61,
   "metadata": {},
   "outputs": [
    {
     "data": {
      "text/plain": [
       "array([0.86491034])"
      ]
     },
     "execution_count": 61,
     "metadata": {},
     "output_type": "execute_result"
    }
   ],
   "source": [
    "est.effect()"
   ]
  },
  {
   "cell_type": "code",
   "execution_count": 64,
   "metadata": {},
   "outputs": [
    {
     "data": {
      "text/plain": [
       "array([], dtype=float64)"
      ]
     },
     "execution_count": 64,
     "metadata": {},
     "output_type": "execute_result"
    }
   ],
   "source": [
    "est.coef(T=1)"
   ]
  },
  {
   "cell_type": "code",
   "execution_count": 65,
   "metadata": {},
   "outputs": [
    {
     "data": {
      "text/plain": [
       "array([], dtype=float64)"
      ]
     },
     "execution_count": 65,
     "metadata": {},
     "output_type": "execute_result"
    }
   ],
   "source": [
    "est.model_cate(T=1).coef_"
   ]
  },
  {
   "cell_type": "code",
   "execution_count": 66,
   "metadata": {
    "collapsed": true
   },
   "outputs": [],
   "source": [
    "low, up = est.const_marginal_effect_interval()"
   ]
  },
  {
   "cell_type": "code",
   "execution_count": 67,
   "metadata": {
    "collapsed": true
   },
   "outputs": [],
   "source": [
    "point = est.const_marginal_effect()"
   ]
  },
  {
   "cell_type": "code",
   "execution_count": 68,
   "metadata": {},
   "outputs": [
    {
     "name": "stdout",
     "output_type": "stream",
     "text": [
      "X=[-1.0856306   0.99734545  0.2829785 ]\n",
      "0.6772268715192846 0.8649103357239154 1.0525937999285462\n",
      "0.4571846983497194\n",
      "1.6932440708855907 1.9226135780335245 2.1519830851814583\n",
      "0.9143693966994388\n"
     ]
    }
   ],
   "source": [
    "for x, l, p, u in zip(X, low, point, up):\n",
    "    print(\"X={}\".format(x))\n",
    "    for it, (ll, pp, uu) in enumerate(zip(l, p, u)):\n",
    "        print(ll, pp, uu)\n",
    "        print((1 + .5*x[0])*(it+1))"
   ]
  },
  {
   "cell_type": "code",
   "execution_count": 69,
   "metadata": {},
   "outputs": [
    {
     "data": {
      "text/plain": [
       "(array([0.67722687, 1.69324407, 0.67722687]),\n",
       " array([1.0525938 , 2.15198309, 1.0525938 ]))"
      ]
     },
     "execution_count": 69,
     "metadata": {},
     "output_type": "execute_result"
    }
   ],
   "source": [
    "est.effect_interval(T0=np.zeros(3), T1=np.array([1, 2, 1]))"
   ]
  },
  {
   "cell_type": "code",
   "execution_count": 70,
   "metadata": {},
   "outputs": [
    {
     "data": {
      "text/plain": [
       "(array([], dtype=float64), array([], dtype=float64))"
      ]
     },
     "execution_count": 70,
     "metadata": {},
     "output_type": "execute_result"
    }
   ],
   "source": [
    "est.coef_interval(T=2)"
   ]
  },
  {
   "cell_type": "code",
   "execution_count": 72,
   "metadata": {},
   "outputs": [
    {
     "data": {
      "text/plain": [
       "(1.6932440708855907, 2.1519830851814583)"
      ]
     },
     "execution_count": 72,
     "metadata": {},
     "output_type": "execute_result"
    }
   ],
   "source": [
    "est.intercept_interval(T=2)"
   ]
  },
  {
   "cell_type": "code",
   "execution_count": 73,
   "metadata": {},
   "outputs": [
    {
     "data": {
      "text/plain": [
       "['age', 'gender', 'race']"
      ]
     },
     "execution_count": 73,
     "metadata": {},
     "output_type": "execute_result"
    }
   ],
   "source": [
    "est.cate_feature_names(['age', 'gender', 'race'])"
   ]
  },
  {
   "cell_type": "code",
   "execution_count": 74,
   "metadata": {},
   "outputs": [
    {
     "data": {
      "text/plain": [
       "(array([0.67722687]), array([1.0525938]))"
      ]
     },
     "execution_count": 74,
     "metadata": {},
     "output_type": "execute_result"
    }
   ],
   "source": [
    "est.effect_interval()"
   ]
  },
  {
   "cell_type": "code",
   "execution_count": null,
   "metadata": {
    "collapsed": true
   },
   "outputs": [],
   "source": []
  }
 ],
 "metadata": {
  "kernelspec": {
   "display_name": "Python 3",
   "language": "python",
   "name": "python3"
  },
  "language_info": {
   "codemirror_mode": {
    "name": "ipython",
    "version": 3
   },
   "file_extension": ".py",
   "mimetype": "text/x-python",
   "name": "python",
   "nbconvert_exporter": "python",
   "pygments_lexer": "ipython3",
   "version": "3.6.1"
  }
 },
 "nbformat": 4,
 "nbformat_minor": 2
}
