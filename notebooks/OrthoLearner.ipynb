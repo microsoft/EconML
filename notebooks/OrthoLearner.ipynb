{
 "cells": [
  {
   "cell_type": "code",
   "execution_count": 1,
   "metadata": {
    "collapsed": true
   },
   "outputs": [],
   "source": [
    "%load_ext autoreload\n",
    "%autoreload 2\n",
    "from econml._ortho_learner import _crossfit"
   ]
  },
  {
   "cell_type": "code",
   "execution_count": 7,
   "metadata": {},
   "outputs": [
    {
     "name": "stdout",
     "output_type": "stream",
     "text": [
      "[[ 1.30061979  1.91105845 -0.46179321]]\n",
      "[1.00171855]\n",
      "(array([0.99046797]), array([1.01296913]))\n",
      "[0.99920984 0.00131274]\n",
      "(array([ 0.99401435, -0.00390604]), array([1.00440533, 0.00653151]))\n",
      "[1.00171855]\n"
     ]
    }
   ],
   "source": [
    "from econml.dml import LinearDMLCateEstimator\n",
    "from sklearn.preprocessing import PolynomialFeatures\n",
    "from sklearn.linear_model import LinearRegression, LassoCV, Lasso\n",
    "import numpy as np\n",
    "X = np.random.normal(size=(100000, 3))\n",
    "y = X[:, 0] + np.random.normal(size=(100000,))\n",
    "est = LinearDMLCateEstimator(model_y=LinearRegression(), model_t=LinearRegression())\n",
    "est.fit(y, X[:, 0], X[:, [1]], X[:, 2:], inference='statsmodels')\n",
    "print(X[:1])\n",
    "print(est.effect(X[:1, [1]]))\n",
    "print(est.effect_interval(X[:1, [1]]))\n",
    "print(est.coef_)\n",
    "print(est.coef__interval())\n",
    "print(est.const_marginal_effect(X[:1, [1]]))"
   ]
  },
  {
   "cell_type": "code",
   "execution_count": 26,
   "metadata": {},
   "outputs": [
    {
     "name": "stdout",
     "output_type": "stream",
     "text": [
      "[[ 1.31195309  0.60137619 -0.54273135  0.13270353 -0.37173155 -0.91041002\n",
      "   0.69958168 -0.73883975 -0.76040264  0.984971  ]]\n",
      "[[0.94534005 0.94534005]]\n",
      "[[ 0.94377282  0.         -0.00288768  0.          0.          0.\n",
      "   0.          0.        ]\n",
      " [ 0.94377282  0.         -0.00288768  0.          0.          0.\n",
      "   0.          0.        ]]\n",
      "[[0.94534005 0.94534005]]\n"
     ]
    },
    {
     "name": "stderr",
     "output_type": "stream",
     "text": [
      "/Users/vasilis/Documents/EconML/econml/dml.py:160: UserWarning: The final model has a nonzero intercept for at least one outcome; it will be subtracted, but consider fitting a model without an intercept if possible.\n",
      "  UserWarning)\n"
     ]
    }
   ],
   "source": [
    "from econml.dml import SparseLinearDMLCateEstimator\n",
    "from sklearn.preprocessing import PolynomialFeatures\n",
    "from sklearn.linear_model import LinearRegression, LassoCV, Lasso, MultiTaskLassoCV\n",
    "import numpy as np\n",
    "X = np.random.normal(size=(1000, 10))\n",
    "y = X[:, 0] + np.random.normal(size=(1000,))\n",
    "est = SparseLinearDMLCateEstimator(model_y=MultiTaskLassoCV(cv=3), model_t=LassoCV(cv=3),\n",
    "                                   model_final=MultiTaskLassoCV(cv=3))\n",
    "dx = 8\n",
    "est.fit(np.hstack([y.reshape(-1,1), y.reshape(-1,1)]), X[:, 0], X[:, 1:dx], X[:, dx:])\n",
    "print(X[:1])\n",
    "print(est.effect(X[:1, 1:dx]))\n",
    "print(est.model_final.coef_)\n",
    "print(est.const_marginal_effect(X[:1, 1:dx]))"
   ]
  },
  {
   "cell_type": "code",
   "execution_count": null,
   "metadata": {
    "collapsed": true
   },
   "outputs": [],
   "source": []
  }
 ],
 "metadata": {
  "kernelspec": {
   "display_name": "Python 3",
   "language": "python",
   "name": "python3"
  },
  "language_info": {
   "codemirror_mode": {
    "name": "ipython",
    "version": 3
   },
   "file_extension": ".py",
   "mimetype": "text/x-python",
   "name": "python",
   "nbconvert_exporter": "python",
   "pygments_lexer": "ipython3",
   "version": "3.6.1"
  }
 },
 "nbformat": 4,
 "nbformat_minor": 2
}
